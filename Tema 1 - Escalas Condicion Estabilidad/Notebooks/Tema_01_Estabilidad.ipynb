{
 "cells": [
  {
   "cell_type": "code",
   "execution_count": 43,
   "id": "26b8416e",
   "metadata": {},
   "outputs": [
    {
     "name": "stdout",
     "output_type": "stream",
     "text": [
      "iteración \t valor\n",
      "-------------------------\n",
      "1\t\t3.8888888888888884\n",
      "2\t\t-3.74074074074074\n",
      "3\t\t21.8395061728395\n",
      "4\t\t-45.32921810699587\n",
      "5\t\t155.07681755829896\n",
      "6\t\t-403.195701874714\n"
     ]
    }
   ],
   "source": [
    "x = [1, 1/3]\n",
    "\n",
    "print('iteración \\t valor')\n",
    "print('-'*25)\n",
    "\n",
    "for i in range(1, 7):\n",
    "    y = (13/3) * x[-2] - (4/3) * x[-1]\n",
    "    x.append(y)\n",
    "    print(i, x[-1], sep='\\t\\t')"
   ]
  },
  {
   "cell_type": "code",
   "execution_count": 44,
   "id": "0201e2a0",
   "metadata": {},
   "outputs": [
    {
     "data": {
      "text/plain": [
       "[1,\n",
       " 0.3333333333333333,\n",
       " 3.8888888888888884,\n",
       " -3.74074074074074,\n",
       " 21.8395061728395,\n",
       " -45.32921810699587,\n",
       " 155.07681755829896,\n",
       " -403.195701874714]"
      ]
     },
     "execution_count": 44,
     "metadata": {},
     "output_type": "execute_result"
    }
   ],
   "source": [
    "x"
   ]
  },
  {
   "cell_type": "code",
   "execution_count": 35,
   "id": "96683cb3",
   "metadata": {},
   "outputs": [
    {
     "data": {
      "text/plain": [
       "0.3333333333333333"
      ]
     },
     "execution_count": 35,
     "metadata": {},
     "output_type": "execute_result"
    }
   ],
   "source": [
    "x[-2]"
   ]
  },
  {
   "cell_type": "code",
   "execution_count": 36,
   "id": "d7ebf902",
   "metadata": {},
   "outputs": [
    {
     "data": {
      "text/plain": [
       "3.8888888888888884"
      ]
     },
     "execution_count": 36,
     "metadata": {},
     "output_type": "execute_result"
    }
   ],
   "source": [
    "x[-1]"
   ]
  },
  {
   "cell_type": "code",
   "execution_count": 37,
   "id": "fdade84f",
   "metadata": {},
   "outputs": [
    {
     "data": {
      "text/plain": [
       "-3.74074074074074"
      ]
     },
     "execution_count": 37,
     "metadata": {},
     "output_type": "execute_result"
    }
   ],
   "source": [
    "(13/3)*0.3333333333333333 - (4/3)*3.8888888888888884"
   ]
  },
  {
   "cell_type": "code",
   "execution_count": 40,
   "id": "ce506cb4",
   "metadata": {},
   "outputs": [
    {
     "data": {
      "text/plain": [
       "21.8395061728395"
      ]
     },
     "execution_count": 40,
     "metadata": {},
     "output_type": "execute_result"
    }
   ],
   "source": [
    "(13/3)*3.8888888888888884 - (4/3)*-3.74074074074074"
   ]
  },
  {
   "cell_type": "code",
   "execution_count": 45,
   "id": "b77973ab",
   "metadata": {},
   "outputs": [],
   "source": [
    "%matplotlib inline"
   ]
  },
  {
   "cell_type": "code",
   "execution_count": 60,
   "id": "5bfd1645",
   "metadata": {},
   "outputs": [
    {
     "data": {
      "image/png": "[encoded data removed]",
      "text/plain": [
       "<Figure size 432x288 with 1 Axes>"
      ]
     },
     "metadata": {
      "needs_background": "light"
     },
     "output_type": "display_data"
    }
   ],
   "source": [
    "import matplotlib.pyplot as plt\n",
    "import numpy as np\n",
    "\n",
    "def funcion(n, x):\n",
    "    return (x**n) * np.exp(x)\n",
    "\n",
    "x = np.linspace(0, 1, 100)\n",
    "\n",
    "n = [1, 2, 4, 8]\n",
    "\n",
    "for i in n:\n",
    "    plt.plot(x, funcion(i, x), label='n = {0:}'.format(i))\n",
    "\n",
    "plt.title('Gráfica de la función')\n",
    "plt.xlabel('x')\n",
    "plt.ylabel('f(x)')\n",
    "plt.legend(loc='best')\n",
    "plt.axis([0, 1, 0, 2.8])\n",
    "plt.show()"
   ]
  },
  {
   "cell_type": "code",
   "execution_count": 61,
   "id": "f352cf40",
   "metadata": {},
   "outputs": [
    {
     "name": "stdout",
     "output_type": "stream",
     "text": [
      "iteración \t valor\n",
      "-------------------------\n",
      "1\t\t-0.7182818284590451\n",
      "2\t\t4.87312731383618\n",
      "3\t\t-16.774227426885677\n",
      "4\t\t86.58941896288742\n",
      "5\t\t-516.8182319488656\n",
      "6\t\t3620.445905470518\n"
     ]
    }
   ],
   "source": [
    "x = [np.exp(1) - 1]\n",
    "\n",
    "print('iteración \\t valor')\n",
    "print('-'*25)\n",
    "\n",
    "for i in range(1, 7):\n",
    "    y = np.exp(1) - (i + 1) * x[-1]\n",
    "    x.append(y)\n",
    "    print(i, x[-1], sep='\\t\\t')"
   ]
  },
  {
   "cell_type": "code",
   "execution_count": 63,
   "id": "271b98ad",
   "metadata": {},
   "outputs": [
    {
     "data": {
      "text/plain": [
       "1.718281828459045"
      ]
     },
     "execution_count": 63,
     "metadata": {},
     "output_type": "execute_result"
    }
   ],
   "source": [
    "np.exp(1)-1"
   ]
  },
  {
   "cell_type": "code",
   "execution_count": 66,
   "id": "e9ab01aa",
   "metadata": {},
   "outputs": [
    {
     "data": {
      "text/plain": [
       "-16.774227426885677"
      ]
     },
     "execution_count": 66,
     "metadata": {},
     "output_type": "execute_result"
    }
   ],
   "source": [
    "np.exp(1) -(3 + 1)*(4.87312731383618)"
   ]
  },
  {
   "cell_type": "code",
   "execution_count": 1,
   "id": "dcc657bf",
   "metadata": {},
   "outputs": [
    {
     "name": "stdout",
     "output_type": "stream",
     "text": [
      "9223372036854775807\n"
     ]
    }
   ],
   "source": [
    "import sys\n",
    "\n",
    "i = sys.maxsize\n",
    "print(i)"
   ]
  },
  {
   "cell_type": "code",
   "execution_count": 4,
   "id": "5c3171c1",
   "metadata": {},
   "outputs": [],
   "source": [
    "f = sys.float_info.max"
   ]
  },
  {
   "cell_type": "code",
   "execution_count": 5,
   "id": "8e4f8849",
   "metadata": {},
   "outputs": [
    {
     "data": {
      "text/plain": [
       "1.7976931348623157e+308"
      ]
     },
     "execution_count": 5,
     "metadata": {},
     "output_type": "execute_result"
    }
   ],
   "source": [
    "f"
   ]
  },
  {
   "cell_type": "code",
   "execution_count": 6,
   "id": "b6cc67ff",
   "metadata": {},
   "outputs": [],
   "source": [
    "eps = sys.float_info.epsilon"
   ]
  },
  {
   "cell_type": "code",
   "execution_count": 7,
   "id": "72eb02c2",
   "metadata": {},
   "outputs": [
    {
     "data": {
      "text/plain": [
       "2.220446049250313e-16"
      ]
     },
     "execution_count": 7,
     "metadata": {},
     "output_type": "execute_result"
    }
   ],
   "source": [
    "eps"
   ]
  },
  {
   "cell_type": "code",
   "execution_count": 8,
   "id": "1f0f792f",
   "metadata": {},
   "outputs": [
    {
     "name": "stdout",
     "output_type": "stream",
     "text": [
      "1.1102230246251565e-16\n"
     ]
    }
   ],
   "source": [
    "t = 1.0\n",
    "\n",
    "while 1+t != 1:\n",
    "    eps0 = t\n",
    "    t = t/2\n",
    "\n",
    "print(t)"
   ]
  },
  {
   "cell_type": "code",
   "execution_count": 15,
   "id": "de234332",
   "metadata": {},
   "outputs": [
    {
     "name": "stdout",
     "output_type": "stream",
     "text": [
      "2.2250738585072014e-308\n"
     ]
    }
   ],
   "source": [
    "m = sys.float_info.min\n",
    "print(m)"
   ]
  },
  {
   "cell_type": "code",
   "execution_count": 17,
   "id": "decd35b3",
   "metadata": {},
   "outputs": [
    {
     "name": "stdout",
     "output_type": "stream",
     "text": [
      "308\n"
     ]
    }
   ],
   "source": [
    "max10 = sys.float_info.max_10_exp\n",
    "print(max10)"
   ]
  },
  {
   "cell_type": "code",
   "execution_count": 18,
   "id": "738b8945",
   "metadata": {},
   "outputs": [
    {
     "data": {
      "text/plain": [
       "1.0"
      ]
     },
     "execution_count": 18,
     "metadata": {},
     "output_type": "execute_result"
    }
   ],
   "source": [
    "1.1 - 0.1"
   ]
  },
  {
   "cell_type": "code",
   "execution_count": 19,
   "id": "905fe9b9",
   "metadata": {},
   "outputs": [
    {
     "data": {
      "text/plain": [
       "1.0"
      ]
     },
     "execution_count": 19,
     "metadata": {},
     "output_type": "execute_result"
    }
   ],
   "source": [
    "1.1-0.1"
   ]
  },
  {
   "cell_type": "code",
   "execution_count": null,
   "id": "bf2d847f",
   "metadata": {},
   "outputs": [],
   "source": []
  }
 ],
 "metadata": {
  "kernelspec": {
   "display_name": "Python 3",
   "language": "python",
   "name": "python3"
  },
  "language_info": {
   "codemirror_mode": {
    "name": "ipython",
    "version": 3
   },
   "file_extension": ".py",
   "mimetype": "text/x-python",
   "name": "python",
   "nbconvert_exporter": "python",
   "pygments_lexer": "ipython3",
   "version": "3.8.5"
  },
  "toc": {
   "base_numbering": 1,
   "nav_menu": {},
   "number_sections": true,
   "sideBar": true,
   "skip_h1_title": false,
   "title_cell": "Table of Contents",
   "title_sidebar": "Contents",
   "toc_cell": false,
   "toc_position": {},
   "toc_section_display": true,
   "toc_window_display": false
  }
 },
 "nbformat": 4,
 "nbformat_minor": 5
}
