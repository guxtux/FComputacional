{
 "cells": [
  {
   "cell_type": "code",
   "execution_count": null,
   "id": "26b8416e",
   "metadata": {},
   "outputs": [],
   "source": [
    "x = [1, 1/3]\n",
    "\n",
    "print('iteración \\t valor')\n",
    "print('-'*25)\n",
    "\n",
    "for i in range(2, 7):\n",
    "    y = (13/3) * x[-1] - (4/3) * x[-2]\n",
    "    x.append(y)\n",
    "    print(i, x[-1], sep='\\t\\t')"
   ]
  },
  {
   "cell_type": "code",
   "execution_count": null,
   "id": "0201e2a0",
   "metadata": {},
   "outputs": [],
   "source": [
    "x"
   ]
  },
  {
   "cell_type": "code",
   "execution_count": null,
   "id": "96683cb3",
   "metadata": {},
   "outputs": [],
   "source": [
    "x[-2]"
   ]
  },
  {
   "cell_type": "code",
   "execution_count": null,
   "id": "d7ebf902",
   "metadata": {},
   "outputs": [],
   "source": [
    "x[-1]"
   ]
  },
  {
   "cell_type": "code",
   "execution_count": null,
   "id": "fdade84f",
   "metadata": {},
   "outputs": [],
   "source": [
    "(13/3)*0.3333333333333333 - (4/3)*3.8888888888888884"
   ]
  },
  {
   "cell_type": "code",
   "execution_count": null,
   "id": "ce506cb4",
   "metadata": {},
   "outputs": [],
   "source": [
    "(13/3)*3.8888888888888884 - (4/3)*-3.74074074074074"
   ]
  },
  {
   "cell_type": "code",
   "execution_count": null,
   "id": "b77973ab",
   "metadata": {},
   "outputs": [],
   "source": [
    "%matplotlib inline"
   ]
  },
  {
   "cell_type": "code",
   "execution_count": null,
   "id": "5bfd1645",
   "metadata": {},
   "outputs": [],
   "source": [
    "import matplotlib.pyplot as plt\n",
    "import numpy as np\n",
    "\n",
    "def funcion(n, x):\n",
    "    return (x**n) * np.exp(x)\n",
    "\n",
    "x = np.linspace(0, 1, 100)\n",
    "\n",
    "n = [1, 2, 4, 8]\n",
    "\n",
    "for i in n:\n",
    "    plt.plot(x, funcion(i, x), label='n = {0:}'.format(i))\n",
    "\n",
    "plt.title('Gráfica de la función')\n",
    "plt.xlabel('x')\n",
    "plt.ylabel('f(x)')\n",
    "plt.legend(loc='best')\n",
    "plt.axis([0, 1, 0, 2.8])\n",
    "plt.show()"
   ]
  },
  {
   "cell_type": "code",
   "execution_count": null,
   "id": "f352cf40",
   "metadata": {},
   "outputs": [],
   "source": [
    "x = [np.exp(1) - 1]\n",
    "\n",
    "print('iteración \\t valor')\n",
    "print('-'*25)\n",
    "\n",
    "for i in range(1, 7):\n",
    "    y = np.exp(1) - (i + 1) * x[-1]\n",
    "    x.append(y)\n",
    "    print(i, x[-1], sep='\\t\\t')"
   ]
  },
  {
   "cell_type": "code",
   "execution_count": null,
   "id": "271b98ad",
   "metadata": {},
   "outputs": [],
   "source": [
    "np.exp(1)-1"
   ]
  },
  {
   "cell_type": "code",
   "execution_count": null,
   "id": "e9ab01aa",
   "metadata": {},
   "outputs": [],
   "source": [
    "np.exp(1) -(3 + 1)*(4.87312731383618)"
   ]
  },
  {
   "cell_type": "code",
   "execution_count": null,
   "id": "dcc657bf",
   "metadata": {},
   "outputs": [],
   "source": [
    "import sys\n",
    "\n",
    "i = sys.maxsize\n",
    "print(i)"
   ]
  },
  {
   "cell_type": "code",
   "execution_count": null,
   "id": "5c3171c1",
   "metadata": {},
   "outputs": [],
   "source": [
    "f = sys.float_info.max"
   ]
  },
  {
   "cell_type": "code",
   "execution_count": null,
   "id": "8e4f8849",
   "metadata": {},
   "outputs": [],
   "source": [
    "f"
   ]
  },
  {
   "cell_type": "code",
   "execution_count": null,
   "id": "b6cc67ff",
   "metadata": {},
   "outputs": [],
   "source": [
    "eps = sys.float_info.epsilon"
   ]
  },
  {
   "cell_type": "code",
   "execution_count": null,
   "id": "72eb02c2",
   "metadata": {},
   "outputs": [],
   "source": [
    "eps"
   ]
  },
  {
   "cell_type": "code",
   "execution_count": null,
   "id": "1f0f792f",
   "metadata": {},
   "outputs": [],
   "source": [
    "t = 1.0\n",
    "\n",
    "while 1+t != 1:\n",
    "    eps0 = t\n",
    "    t = t/2\n",
    "\n",
    "print(t)"
   ]
  },
  {
   "cell_type": "code",
   "execution_count": null,
   "id": "de234332",
   "metadata": {},
   "outputs": [],
   "source": [
    "m = sys.float_info.min\n",
    "print(m)"
   ]
  },
  {
   "cell_type": "code",
   "execution_count": null,
   "id": "decd35b3",
   "metadata": {},
   "outputs": [],
   "source": [
    "max10 = sys.float_info.max_10_exp\n",
    "print(max10)"
   ]
  },
  {
   "cell_type": "code",
   "execution_count": null,
   "id": "738b8945",
   "metadata": {},
   "outputs": [],
   "source": [
    "1.1 - 0.1"
   ]
  },
  {
   "cell_type": "code",
   "execution_count": null,
   "id": "905fe9b9",
   "metadata": {},
   "outputs": [],
   "source": [
    "1.1-0.1"
   ]
  },
  {
   "cell_type": "code",
   "execution_count": null,
   "id": "c0f4e261",
   "metadata": {},
   "outputs": [],
   "source": [
    "def error_relativo(exacto, aprox):\n",
    "    er_rel = abs((exacto - aprox)/exacto)\n",
    "    return er_rel"
   ]
  },
  {
   "cell_type": "code",
   "execution_count": null,
   "id": "bf2d847f",
   "metadata": {},
   "outputs": [],
   "source": [
    "suma = 1\n",
    "\n",
    "for i in range(1, 1000001):\n",
    "    suma += 0.0000001\n",
    "\n",
    "print('La suma es: {0:}'.format(suma))\n",
    "print()\n",
    "print('El error relativo es: {0:}'.format(error_relativo(1.1, suma)))"
   ]
  },
  {
   "cell_type": "code",
   "execution_count": null,
   "id": "24334b65",
   "metadata": {},
   "outputs": [],
   "source": [
    "print('{0:1.5e}'.format(len(range(1, 1000001))))"
   ]
  },
  {
   "cell_type": "code",
   "execution_count": null,
   "id": "ec8007d1",
   "metadata": {},
   "outputs": [],
   "source": [
    "import struct\n",
    "\n",
    "def float_to_bin(num):\n",
    "    return format(struct.unpack('!I', struct.pack('!f', num))[0], '032b')\n",
    "\n",
    "def bin_to_float(binary):\n",
    "    return struct.unpack('!f',struct.pack('!I', int(binary, 2)))[0]"
   ]
  },
  {
   "cell_type": "code",
   "execution_count": null,
   "id": "fcc22714",
   "metadata": {},
   "outputs": [],
   "source": [
    "n1 = float_to_bin(1.0)"
   ]
  },
  {
   "cell_type": "code",
   "execution_count": null,
   "id": "3b052fd2",
   "metadata": {},
   "outputs": [],
   "source": [
    "n2 = float_to_bin(0.00001)"
   ]
  },
  {
   "cell_type": "code",
   "execution_count": null,
   "id": "e3816401",
   "metadata": {},
   "outputs": [],
   "source": [
    "n3 = n1 + n2\n",
    "print(n3)"
   ]
  },
  {
   "cell_type": "code",
   "execution_count": null,
   "id": "1c3b7db4",
   "metadata": {},
   "outputs": [],
   "source": [
    "n4 = bin_to_float(00111111100000000000000000000000)\n",
    "print(n4)"
   ]
  },
  {
   "cell_type": "code",
   "execution_count": null,
   "id": "099f7025",
   "metadata": {},
   "outputs": [],
   "source": [
    "suma = 1.0\n",
    "\n",
    "for i in range(1, 1001):\n",
    "    total = 0.0\n",
    "    for j in range(1, 1001):\n",
    "        total += 0.0000001\n",
    "    \n",
    "    suma = suma + total\n",
    "\n",
    "print('La suma es: {0:}'.format(suma))\n",
    "print()\n",
    "print('El error relativo es: {0:.5e}'.format(error_relativo(1.1, suma)))"
   ]
  },
  {
   "cell_type": "code",
   "execution_count": null,
   "id": "69d38d55",
   "metadata": {},
   "outputs": [],
   "source": []
  }
 ],
 "metadata": {
  "kernelspec": {
   "display_name": "Python 3",
   "language": "python",
   "name": "python3"
  },
  "toc": {
   "base_numbering": 1,
   "nav_menu": {},
   "number_sections": true,
   "sideBar": true,
   "skip_h1_title": false,
   "title_cell": "Table of Contents",
   "title_sidebar": "Contents",
   "toc_cell": false,
   "toc_position": {},
   "toc_section_display": true,
   "toc_window_display": false
  }
 },
 "nbformat": 4,
 "nbformat_minor": 5
}
