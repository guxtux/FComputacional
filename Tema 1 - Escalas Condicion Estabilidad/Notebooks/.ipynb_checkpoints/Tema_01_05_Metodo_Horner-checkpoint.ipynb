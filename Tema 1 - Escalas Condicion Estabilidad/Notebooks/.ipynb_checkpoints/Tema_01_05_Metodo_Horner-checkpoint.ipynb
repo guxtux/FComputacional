{
 "cells": [
  {
   "cell_type": "markdown",
   "id": "6b6babab",
   "metadata": {},
   "source": [
    "# Evaluando un polinomio.\n",
    "\n",
    "## Eficiencia.\n",
    "\n",
    "En todo momento debemos evitar que todo algoritmo sea inestable. Si existieran varios métodos para evaluar una misma función, entonces conviene utilizar aquel que sea más eficiente, es decir, más rápido.\n",
    "\n",
    "Hay que aprovechar al máximo los recursos: hardware, software, algoritmos, para resolver problemas más complejos y no para resolver peor problemas simples.\n",
    "\n",
    "Por ejemplo, para calcular $x**4$ para un $x$ dado, no es buena idea calcular $x**4.0$ (exponente en punto flotante).\n",
    "\n",
    "La mejor idea consiste en economizar el cálculo en dos pasos:\n",
    "$$\n",
    "\\begin{align*}\n",
    "x^{2} &= x * x  \\\\\n",
    "x^{4} &= x^{2} * x^{2}\n",
    "\\end{align*}\n",
    "$$\n",
    "y no un producto $x^{4} = x * x * x * x$\n",
    "\n",
    "Supongamos que queremos evaluar el polinomio:\n",
    "$$\n",
    "\\begin{align*}\n",
    "P (x) = 2 + 4 \\, x - 5 \\, x^{2} + 2 \\, x^{3} - 6 \\, x^{4} + 8 \\, x^{5} + 10 \\, x^{6}\n",
    "\\end{align*}\n",
    "$$\n",
    "\n",
    "Contando con que cada potencia de exponente $k$ entero como $k-1$ productos, tendríamos que el total de productos para evaluar en forma directa es:\n",
    "$$\n",
    "\\begin{align*}\n",
    "1 + 2 + 3 + 4 + 5 + 6 = 21\n",
    "\\end{align*}\n",
    "$$\n",
    "Además de seis sumas.\n",
    "\n",
    "## Mejora para el cálculo.\n",
    "\n",
    "Una mejora en el algoritmo , es calcular primero las potencias de forma sucesiva:\n",
    "\n",
    "$$\n",
    "\\begin{align*}\n",
    "x^{2} &= x * x \\\\  \n",
    "x^{3} &= x * x^{2} \\\\  \n",
    "x^{4} &= x * x^{3} \\\\\n",
    "x^{5} &= x * x^{4} \\\\\n",
    "x^{6} &= x * x^{5}\n",
    "\\end{align*}\n",
    "$$\n",
    "De tal forma que se añade un producto por cada potencia, para un total de productos:\n",
    "$$\n",
    "\\begin{align*}\n",
    "1 + 2 + 2 + 2 + 2 + 2 = 11\n",
    "\\end{align*}\n",
    "$$\n",
    "\n",
    "Con el polinomio:\n",
    "$$\n",
    "\\begin{align*}\n",
    "P (x)= 2 + 4 \\, x - 5 \\, x^{2} + 2 \\, x^{3} - 6 \\, x^{4} + 8 \\, x^{5} + 10 \\, x^{6}\n",
    "\\end{align*}\n",
    "$$\n",
    "podemos *mejorar* el algoritmo de la siguiente manera:\n",
    "$$\n",
    "\\begin{align*}\n",
    "P(x) = 2 + x \\left\\lbrace 4 + x \\left( -5 + x \\left[ 2 + x \\left(-6 +x \\left\\lbrace 8+x*10 \\right\\rbrace \\right) \\right] \\right) \\right\\rbrace\n",
    "\\end{align*}\n",
    "$$\n",
    "\n",
    "Para evaluar un polinomio de grado $n$ en el que ninguno de los coeficientes es cero, se necesitan:\n",
    "\n",
    "| Productos                 | Metodo  |\n",
    "|---------------------------|---------|\n",
    "| $\\dfrac{n \\, (n + 1)}{2}$ | Primer  |\n",
    "| $2 n - 1$                 | Segundo |\n",
    "| n                         | Tercero |\n",
    "\n",
    "Antes de escribir una línea de código, hay que revisar la manera en que podemos optimizar la solución del problema.\n",
    "\n",
    "\n",
    "## Algoritmo de Horner.\n",
    "\n",
    "Dado el polinomio:\n",
    "$$\n",
    "\\begin{align*}\n",
    "P (x) = a_{0} + a_{1} \\, x + \\ldots + a_{n} \\, x^{n} \\hspace{1cm} a_{n} \\neq 0\n",
    "\\end{align*}\n",
    "$$\n",
    "\n",
    "La evaluación de $P (x)$ para cierto valor de $x = z$ se puede realizar en $n$ pasos mediante:\n",
    "$$\n",
    "\\begin{align*}\n",
    "b_{n} &= a_{n} \\\\\n",
    "b_{n-1} &= a_{n-1} + z * b_{n} \\\\\n",
    "b_{n-2} &= a_{n-2} + z * b_{n-1} \\\\\n",
    "\\vdots \\\\\n",
    "b_{0} &= a_{0} + z * b_{1}\n",
    "\\end{align*}\n",
    "$$\n",
    "\n",
    "Los pasos en pseudocógigo son:\n",
    "1. $b_{n} = a_{n}$\n",
    "2. repetir mientras $n > 0$\n",
    "3. $n = n - 1$\n",
    "4. $b = a_{n} + z * b$\n",
    "5. volver al paso 2\n",
    "6. $p (z) = b$"
   ]
  },
  {
   "cell_type": "markdown",
   "id": "9f575d0a",
   "metadata": {},
   "source": [
    "## Ejercicio con el método de Horner.\n",
    "\n",
    "Implementa en python el método de Horner y evalúa el polinomio $P (x)$:\n",
    "$$\n",
    "\\begin{align*}\n",
    "P (x) = 2 + 4 \\, x - 5 \\, x^{2} + 2 \\, x^{3} - 6 \\, x^{4} + 8 \\, x^{5} + 10 \\, x^{6}\n",
    "\\end{align*}\n",
    "$$\n",
    "En los siguiente puntos y completa la siguiente tabla:\n",
    "\n",
    "| x     | P(x) |\n",
    "|-------|------|\n",
    "| -1.5  |      |\n",
    "| -0.65 |      |\n",
    "| 0.1   |      |\n",
    "| 1.4   |      |\n",
    "| 2.87  |      |"
   ]
  },
  {
   "cell_type": "markdown",
   "id": "f3197427",
   "metadata": {},
   "source": [
    "## Extendiendo la respuesta al problema.\n",
    "\n",
    "1. ¿Cómo resolver el problema usando una función?\n",
    "2. ¿Mostrando una tabla con formato de salida?\n",
    "3. ¿Una gráfica que muestre $P (x)$ y un conjunto de datos evaluados?\n",
    "4. ¿Evaluar el error relativo?\n",
    "\n",
    "Ya contamos con las herramientas necesarias para extender la respuesta al problema, en nuestro código podemos agregar funciones, ajustar formatos de salida en los resultados, graficar el polinomio y los puntos (o un conjunto diferente de puntos), y obtener el error relativo. Basta con que le dediquemos un poco más de tiempo.\n",
    "\n",
    "## Pasos a resolver.\n",
    "\n",
    "1. Conviene definir una función que resuelva la evaluación del método de Horner.\n",
    "2. Para obtener el error relativo, se debe de evaluar el polinomio y considerar que los valores obtenidos, son los valores exactos.\n",
    "3. Comparamos los resultados mediante una gráfica que represente los dos resultados de la evaluación."
   ]
  },
  {
   "cell_type": "markdown",
   "id": "3afc1927",
   "metadata": {},
   "source": [
    "## Evaluando el polinomio $P (x)$.\n",
    "En un primer momento pensaremos implementar una función en python que nos evalúe directamente los puntos de la lista, algo del tipo:\n",
    "\n",
    "<div><code>\n",
    "def eval_polinomio(x):\n",
    "    valor = 2 + 4 * x - 5 * x**2 + 2 * x**3 - 6 * x**4 + 8 * x**5 + 10 * x**6\n",
    "    return valor\n",
    "</code></div>\n",
    "\n",
    "El resultado que nos devuelve la función cumple lo necesario, bastaría indicar los puntos $x$ en los que queremos evaluar el polinomio:\n",
    "\n",
    "<div><code>\n",
    "x0 = [-1.5, -0.65, 0.1, 1.4, 2.87]\n",
    "</code></div>"
   ]
  },
  {
   "cell_type": "code",
   "execution_count": 28,
   "id": "0c00a886",
   "metadata": {},
   "outputs": [
    {
     "name": "stdout",
     "output_type": "stream",
     "text": [
      "x0 \t Evaluacion\n",
      "--------------------\n",
      "-1.5  \t 0.781250\n",
      "-0.65  \t -4.506831\n",
      "0.1  \t 2.351490\n",
      "1.4  \t 98.559680\n",
      "2.87  \t 6758.702451\n"
     ]
    }
   ],
   "source": [
    "def eval_polinomio(x):\n",
    "    valor = 2 + 4 * x - 5 * x**2 + 2 * x**3 - 6 * x**4 + 8 * x**5 + 10 * x**6\n",
    "    return valor\n",
    "\n",
    "x0 = [-1.5, -0.65, 0.1, 1.4, 2.87]\n",
    "\n",
    "print('x0 \\t Evaluacion')\n",
    "print('-'*20)\n",
    "\n",
    "for i in x0:\n",
    "    resultado = eval_polinomio(i)\n",
    "    print('{0:}  \\t {1:.6f}'.format(i, resultado))"
   ]
  },
  {
   "cell_type": "markdown",
   "id": "18fc84d1",
   "metadata": {},
   "source": [
    "Veamos la manera en simplificar con python las tareas de definir un polinomio $P (x)$ y evaluar varios puntos $x_{0}$:\n",
    "\n",
    "Usaremos la librería NumPy y un módulo para trabajar con *polinomios*.\n",
    "\n",
    "\n",
    "## NumPy.\n",
    "\n",
    "\n",
    "*NumPy* es la librería fundamental para la computación científica en Python.\n",
    "\n",
    "Es una biblioteca de python que proporciona un objeto de matriz multidimensional: **narray**, así como varios objetos derivados (como vectores y matrices).\n",
    "\n",
    "Así como una variedad de rutinas para operaciones rápidas en matrices, que incluyen manipulación matemática, lógica, de formas, clasificación, selección, E/S., transformadas discretas de Fourier, álgebra lineal básica, operaciones estadísticas básicas, simulación aleatoria y mucho más.\n",
    "\n",
    "\n",
    "Ocuparemos de numpy el módulo polynomial:\n",
    "\n",
    "<div><code> numpy.polynomial.polynomial </code></div>\n",
    "\n",
    "Con la siguiente función construimos el polinomio:\n",
    "\n",
    "<div><code> Polynomial(coef) </code></div>\n",
    "\n",
    "donde *coef* es un arreglo de los coeficientes, deben de indicarse de manera creciente: $([1, 2, 3])$ devuelve:\n",
    "$ 1 + 2 \\, x + 3 \\, x**2$."
   ]
  },
  {
   "cell_type": "code",
   "execution_count": 29,
   "id": "517d2ae3",
   "metadata": {},
   "outputs": [
    {
     "name": "stdout",
     "output_type": "stream",
     "text": [
      "2.0 + 4.0·x¹ - 5.0·x² + 2.0·x³ - 6.0·x⁴ + 8.0·x⁵ + 10.0·x⁶\n"
     ]
    }
   ],
   "source": [
    "coef = [2, 4, -5, 2, -6, 8, 10]\n",
    "\n",
    "p = np.polynomial.polynomial.Polynomial(coef)\n",
    "\n",
    "print(p)"
   ]
  },
  {
   "cell_type": "markdown",
   "id": "d5b1d809",
   "metadata": {},
   "source": [
    "Una vez definido el polinomio, podemos evaluar un punto en el mismo, indicando como argumento:"
   ]
  },
  {
   "cell_type": "code",
   "execution_count": 30,
   "id": "5a2a60f9",
   "metadata": {},
   "outputs": [
    {
     "name": "stdout",
     "output_type": "stream",
     "text": [
      "15.0\n"
     ]
    }
   ],
   "source": [
    "print(p(1))"
   ]
  },
  {
   "cell_type": "markdown",
   "id": "c624eafd",
   "metadata": {},
   "source": [
    "Esto nos evalúa un punto, ¿podremos evaluar más puntos en un solo paso?"
   ]
  },
  {
   "cell_type": "markdown",
   "id": "2d7458b5",
   "metadata": {},
   "source": [
    "## Evaluando varios puntos al mismo tiempo.\n",
    "\n",
    "Para evaluar en un polinomio varios puntos, es necesario cambiar la función,  ahora usarmos <code>polyval</code>.\n",
    "\n",
    "\n",
    "<div><code>\n",
    "polyval(lista_puntos, coef)\n",
    "</code></div>\n",
    "\n",
    "donde:\n",
    "1. *lista_puntos* es el arreglo con los puntos en donde queremos evaluar el polinomio.\n",
    "2. *coef* son los coeficientes del polinomio."
   ]
  },
  {
   "cell_type": "code",
   "execution_count": 31,
   "id": "1b6bbe75",
   "metadata": {},
   "outputs": [
    {
     "name": "stdout",
     "output_type": "stream",
     "text": [
      "[ 7.81250000e-01 -4.50683109e+00  2.35149000e+00  9.85596800e+01\n",
      "  6.75870245e+03]\n"
     ]
    }
   ],
   "source": [
    "x0 = [-1.5, -0.65, 0.1, 1.4, 2.87]\n",
    "\n",
    "valores = np.polynomial.polynomial.polyval(x0, coef)\n",
    "print(valores)"
   ]
  },
  {
   "cell_type": "markdown",
   "id": "5f7acc96",
   "metadata": {},
   "source": [
    "Tenemos de regreso un objeto **array** con cada valor evaluado en el polinomio.\n",
    "\n",
    "Entonces la tabla con los valores evaluados en el polinomio es:\n",
    "\n",
    "| x     | P(x)       |\n",
    "|-------|------------|\n",
    "| -1.5  | 0.78125    |\n",
    "| -0.65 | -4.50683   |\n",
    "| 0.1   | 2.35149    |\n",
    "| 1.4   | 98.55968   |\n",
    "| 2.87  | 6758.70245 |"
   ]
  },
  {
   "cell_type": "markdown",
   "id": "1fbe2671",
   "metadata": {},
   "source": [
    "## El método de Horner en python.\n",
    "\n",
    "El sigiuente paso es implementar el método de Horner dentro de una función:"
   ]
  },
  {
   "cell_type": "code",
   "execution_count": 32,
   "id": "597bc5a1",
   "metadata": {},
   "outputs": [],
   "source": [
    "def funcion_Horner(x):\n",
    "    # Anota tu codigo aqui.\n",
    "    pass"
   ]
  },
  {
   "cell_type": "markdown",
   "id": "75312331",
   "metadata": {},
   "source": [
    "Se necesita estimar el error relativo entre el cálculo con la función <code>eval</code> y el método de Horner:"
   ]
  },
  {
   "cell_type": "code",
   "execution_count": 33,
   "id": "1607ccc5",
   "metadata": {},
   "outputs": [],
   "source": [
    "def error_relativo(arg1, arg2):\n",
    "    # Anota tu codigo aqui.\n",
    "    pass"
   ]
  },
  {
   "cell_type": "markdown",
   "id": "60af7f81",
   "metadata": {},
   "source": [
    "Por último, nos resta agregar una rutina de graficación:"
   ]
  },
  {
   "cell_type": "code",
   "execution_count": 34,
   "id": "af90fd64",
   "metadata": {},
   "outputs": [],
   "source": [
    "%matplotlib inline\n",
    "\n",
    "import matplotlib.pyplot as plt\n",
    "\n",
    "# plt.plot(x1, funcion_eval, label=u'Evaluación Polinomio')\n",
    "# plt.plot(x0, funcion_horner, 'or', label='Método de Horner')"
   ]
  },
  {
   "attachments": {
    "Plot_Metodo_Horner_01.png": {
     "image/png": "[encoded data removed]"
    }
   },
   "cell_type": "markdown",
   "id": "dcb344ba",
   "metadata": {},
   "source": [
    "Como nos interesa comparar los valores de $P (x)$ evaluando con la función <code>eval</code> y con el método de Horner, presentamos una gráfica como la siguiente:\n",
    "\n",
    "![Grafica con el metodo de Horner](attachment:Plot_Metodo_Horner_01.png)"
   ]
  }
 ],
 "metadata": {
  "kernelspec": {
   "display_name": "Python 3",
   "language": "python",
   "name": "python3"
  },
  "language_info": {
   "codemirror_mode": {
    "name": "ipython",
    "version": 3
   },
   "file_extension": ".py",
   "mimetype": "text/x-python",
   "name": "python",
   "nbconvert_exporter": "python",
   "pygments_lexer": "ipython3",
   "version": "3.8.5"
  },
  "toc": {
   "base_numbering": 1,
   "nav_menu": {},
   "number_sections": true,
   "sideBar": true,
   "skip_h1_title": false,
   "title_cell": "Table of Contents",
   "title_sidebar": "Contents",
   "toc_cell": false,
   "toc_position": {},
   "toc_section_display": true,
   "toc_window_display": false
  }
 },
 "nbformat": 4,
 "nbformat_minor": 5
}
