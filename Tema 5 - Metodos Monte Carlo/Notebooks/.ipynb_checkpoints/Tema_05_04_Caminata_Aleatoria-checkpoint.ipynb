{
 "cells": [
  {
   "cell_type": "code",
   "execution_count": 4,
   "id": "ec40c53f",
   "metadata": {},
   "outputs": [
    {
     "name": "stdout",
     "output_type": "stream",
     "text": [
      "2\n",
      "(2, 2)\n"
     ]
    }
   ],
   "source": [
    "import numpy as np\n",
    "\n",
    "a = np.array([[1,2], [3,4]])\n",
    "\n",
    "print(a.ndim)\n",
    "print(a.shape)"
   ]
  },
  {
   "cell_type": "code",
   "execution_count": 5,
   "id": "28fb2062",
   "metadata": {},
   "outputs": [
    {
     "data": {
      "text/plain": [
       "2.5"
      ]
     },
     "execution_count": 5,
     "metadata": {},
     "output_type": "execute_result"
    }
   ],
   "source": [
    "np.mean(a)"
   ]
  },
  {
   "cell_type": "code",
   "execution_count": 6,
   "id": "a6b3c44c",
   "metadata": {},
   "outputs": [
    {
     "data": {
      "text/plain": [
       "array([2., 3.])"
      ]
     },
     "execution_count": 6,
     "metadata": {},
     "output_type": "execute_result"
    }
   ],
   "source": [
    "np.mean(a, axis=0)"
   ]
  },
  {
   "cell_type": "code",
   "execution_count": 7,
   "id": "ad85c1d5",
   "metadata": {},
   "outputs": [
    {
     "data": {
      "text/plain": [
       "array([1.5, 3.5])"
      ]
     },
     "execution_count": 7,
     "metadata": {},
     "output_type": "execute_result"
    }
   ],
   "source": [
    "np.mean(a, axis=1)"
   ]
  },
  {
   "cell_type": "code",
   "execution_count": 10,
   "id": "3203231c",
   "metadata": {},
   "outputs": [],
   "source": [
    "from turtle import *\n",
    "color('red', 'yellow')\n",
    "begin_fill()\n",
    "while True:\n",
    "    forward(200)\n",
    "    left(170)\n",
    "    if abs(pos()) < 1:\n",
    "        break\n",
    "end_fill()\n",
    "done()"
   ]
  },
  {
   "cell_type": "code",
   "execution_count": 1,
   "id": "ef312cbb",
   "metadata": {},
   "outputs": [],
   "source": [
    "import turtle\n",
    "from random import randint\n",
    "from colorsys import hsv_to_rgb\n",
    "\n",
    "#longitud del paso\n",
    "paso = 30\n",
    "\n",
    "#numero de pasos\n",
    "npasos = 2000\n",
    "\n",
    "#cambia el valor de matiz de color\n",
    "hinc = 1.0/npasos\n",
    "\n",
    "#ancho de la linea\n",
    "turtle.width(2)\n",
    "\n",
    "#frontera para la caminata\n",
    "(w, h) = turtle.screensize()\n",
    "\n",
    "#velocidad al dibujar\n",
    "turtle.speed('fastest')\n",
    "\n",
    "#establece el color del modelo (1:255)\n",
    "turtle.colormode(1.0)\n",
    "\n",
    "#pone el fondo de color negro\n",
    "turtle.bgcolor('black')\n",
    "\n",
    "#define el matiz\n",
    "hue = 0.0\n",
    "\n",
    "for i in range(npasos):\n",
    "    #proporciona el valor del angulo del paso\n",
    "    turtle.setheading(randint(0,359))\n",
    "    \n",
    "    #cambia el color RGB del lapiz\n",
    "    turtle.color(hsv_to_rgb(hue, 1.0, 1.0))\n",
    "    \n",
    "    #cambia el color\n",
    "    hue += hinc\n",
    "    \n",
    "    #hace un paso hacia adelante\n",
    "    turtle.forward(paso)\n",
    "    \n",
    "    #calcula la posicion de la tortuga\n",
    "    (x,y) = turtle.pos()\n",
    "    \n",
    "    #revisa si esta dentro del cuadro\n",
    "    if abs(x) > w or abs(y) > h:\n",
    "        #si esta por fuera, se regresa\n",
    "        turtle.backward(paso)\n",
    "        \n",
    "turtle.done()"
   ]
  },
  {
   "cell_type": "code",
   "execution_count": null,
   "id": "10715d2e",
   "metadata": {},
   "outputs": [],
   "source": []
  }
 ],
 "metadata": {
  "hide_input": false,
  "kernelspec": {
   "display_name": "Python 3 (ipykernel)",
   "language": "python",
   "name": "python3"
  },
  "language_info": {
   "codemirror_mode": {
    "name": "ipython",
    "version": 3
   },
   "file_extension": ".py",
   "mimetype": "text/x-python",
   "name": "python",
   "nbconvert_exporter": "python",
   "pygments_lexer": "ipython3",
   "version": "3.9.12"
  },
  "toc": {
   "base_numbering": 1,
   "nav_menu": {},
   "number_sections": true,
   "sideBar": true,
   "skip_h1_title": false,
   "title_cell": "Table of Contents",
   "title_sidebar": "Contents",
   "toc_cell": false,
   "toc_position": {},
   "toc_section_display": true,
   "toc_window_display": false
  }
 },
 "nbformat": 4,
 "nbformat_minor": 5
}
