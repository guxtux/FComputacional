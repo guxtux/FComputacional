{
 "cells": [
  {
   "cell_type": "markdown",
   "id": "eadef05c",
   "metadata": {},
   "source": [
    "ALGUNOS procesos en física son aleatorios, como la desintegración radiactiva, por ejemplo. Se cree que es fundamentalmente imposible predecir cuándo se desintegrará un átomo radiactivo en particular. La mecánica cuántica nos dice la probabilidad de decaimiento por unidad de tiempo, pero el momento exacto de decaimiento es aleatorio y no se puede calcular.\n",
    "También hay muchos otros procesos físicos que no son verdaderamente aleatorios, pero que podemos tratar como aleatorios a todos los efectos. Por ejemplo, el movimiento browniano, el movimiento aparentemente aleatorio de una partícula en el aire cuando es golpeada por las moléculas de gas que la rodean, en realidad no es aleatorio: si supiéramos la posición y velocidad exactas de cada molécula de gas, entonces, al menos en principio. , podríamos predecir el movimiento browniano.\n",
    "Sin embargo, si no conocemos esas cosas, entonces el movimiento browniano nos parece aleatorio, y podemos modelar bien la física asumiendo que lo es.\n",
    "En este capítulo veremos métodos computacionales para estudiar procesos físicos aleatorios, tanto los verdaderamente aleatorios como los aparentemente aleatorios. Para imitar la aleatoriedad, nuestros propios programas de computadora necesitarán tener un elemento de aleatoriedad en ellos y para eso necesitamos números aleatorios.\n",
    "GENERADORES DE NÚMEROS ALEATORIOS Considere la siguiente ecuación\n",
    "x' = (ax + c)módem, (10.1)\n",
    "donde a, c y m son constantes enteras y x es una variable entera. Dado un valor para x, esta ecuación toma ese valor y lo convierte en un nuevo valor entero x'. Ahora supongamos que tomamos ese nuevo valor y lo volvemos a insertar en el lado derecho de la ecuación nuevamente y obtenemos otro valor, y así sucesivamente, generando una secuencia de números enteros. Aquí hay un programa en Python para hacer exactamente eso, comenzando desde el valor x = 1:"
   ]
  },
  {
   "cell_type": "code",
   "execution_count": 1,
   "id": "05fe85cd",
   "metadata": {},
   "outputs": [
    {
     "data": {
      "image/png": "[encoded data removed]",
      "text/plain": [
       "<Figure size 432x288 with 1 Axes>"
      ]
     },
     "metadata": {
      "needs_background": "light"
     },
     "output_type": "display_data"
    }
   ],
   "source": [
    "%matplotlib inline\n",
    "import matplotlib.pyplot as plt\n",
    "\n",
    "N = 100\n",
    "a = 1664525\n",
    "c = 101904223\n",
    "m = 4294967296\n",
    "x = 1\n",
    "resultados = []\n",
    "\n",
    "for i in range(N):\n",
    "    x = (a *x + c) % m\n",
    "    resultados.append(x)\n",
    "\n",
    "plt.plot(resultados,'+')\n",
    "plt.show()"
   ]
  },
  {
   "cell_type": "code",
   "execution_count": null,
   "id": "96d7e97d",
   "metadata": {},
   "outputs": [],
   "source": []
  }
 ],
 "metadata": {
  "hide_input": false,
  "kernelspec": {
   "display_name": "Python 3 (ipykernel)",
   "language": "python",
   "name": "python3"
  },
  "language_info": {
   "codemirror_mode": {
    "name": "ipython",
    "version": 3
   },
   "file_extension": ".py",
   "mimetype": "text/x-python",
   "name": "python",
   "nbconvert_exporter": "python",
   "pygments_lexer": "ipython3",
   "version": "3.9.12"
  },
  "toc": {
   "base_numbering": 1,
   "nav_menu": {},
   "number_sections": true,
   "sideBar": true,
   "skip_h1_title": false,
   "title_cell": "Table of Contents",
   "title_sidebar": "Contents",
   "toc_cell": false,
   "toc_position": {},
   "toc_section_display": true,
   "toc_window_display": false
  }
 },
 "nbformat": 4,
 "nbformat_minor": 5
}
