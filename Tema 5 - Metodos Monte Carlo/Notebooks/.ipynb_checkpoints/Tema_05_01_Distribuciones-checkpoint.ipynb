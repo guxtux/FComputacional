{
 "cells": [
  {
   "cell_type": "markdown",
   "id": "74da4463",
   "metadata": {},
   "source": [
    "# Tipos de distribuciones.\n",
    "\n",
    "Una distribución estadística, también conocida como distribución de probabilidad o función de probabilidad, describe cómo se distribuyen los valores para un campo. En otras palabras, la distribución estadística muestra qué valores son comunes y poco comunes.\n",
    "\n",
    "Hay muchos tipos de distribuciones estadísticas: binomial, uniforme normal o Gaussiana, de Bernoulli, exponencial, Poisson, Chi cuadrada, entre otras.\n",
    "\n",
    "Utilizamos una distribución estadística para determinar la probabilidad de que sea un valor particular."
   ]
  },
  {
   "cell_type": "markdown",
   "id": "54991ea5",
   "metadata": {},
   "source": [
    "## Distribución binomial.\n",
    "\n",
    "La función de probabilidad para la distribución binomial es:\n",
    "$$\n",
    "P (N) = \\binom{n}{N} \\, p^{N} \\, (1 - p)^{n-N}\n",
    "$$\n",
    "\n",
    "\n",
    "donde $n$ es el número de intentos, $p$ es la probabilidad de éxito y $N$ es el número de eventos exitosos."
   ]
  },
  {
   "cell_type": "code",
   "execution_count": 1,
   "id": "a5950b86",
   "metadata": {},
   "outputs": [
    {
     "data": {
      "image/png": "[encoded data removed]",
      "text/plain": [
       "<Figure size 432x288 with 1 Axes>"
      ]
     },
     "metadata": {
      "needs_background": "light"
     },
     "output_type": "display_data"
    }
   ],
   "source": [
    "%matplotlib inline\n",
    "\n",
    "from scipy.stats import binom\n",
    "import matplotlib.pyplot as plt\n",
    "\n",
    "n = 100\n",
    "p = 0.3\n",
    "\n",
    "r_valores = list(range(n+1))\n",
    "\n",
    "dist = [binom.pmf(r, n, p) for r in r_valores]\n",
    "\n",
    "plt.bar(r_valores, dist)\n",
    "plt.show()"
   ]
  },
  {
   "cell_type": "markdown",
   "id": "7ca3f76a",
   "metadata": {},
   "source": [
    "## Distribución uniforme.\n",
    "\n",
    "La función de probabilidad de la distribución uniforme es:\n",
    "\n",
    "$$\n",
    "p (x) = \\dfrac{1}{b - a}\n",
    "$$\n",
    "\n",
    "para cualquier punto en el intervalo $[a, b)$ y vale cero, fuera del mismo.\n"
   ]
  },
  {
   "cell_type": "code",
   "execution_count": 2,
   "id": "79a49cb2",
   "metadata": {},
   "outputs": [
    {
     "data": {
      "image/png": "[encoded data removed]",
      "text/plain": [
       "<Figure size 432x288 with 1 Axes>"
      ]
     },
     "metadata": {
      "needs_background": "light"
     },
     "output_type": "display_data"
    }
   ],
   "source": [
    "import numpy as np\n",
    "\n",
    "s = np.random.uniform(-1, 0, 1000)\n",
    "\n",
    "conteo, columnas, ignored = plt.hist(s, 15, density=True)\n",
    "plt.plot(columnas, np.ones_like(columnas), linewidth=2, color='r')\n",
    "plt.show()"
   ]
  },
  {
   "cell_type": "markdown",
   "id": "1eb3d7f0",
   "metadata": {},
   "source": [
    "## Distribución Gaussiana.\n",
    "\n",
    "La función de densidad de probabilidad de la distribución normal, derivada por primera vez por De Moivre y 200 años más tarde por Gauss y Laplace de forma independiente, a menudo se denomina **curva de campana** debido a su forma característica.\n",
    "\n",
    "Las distribuciones normales ocurren a menudo en la naturaleza. Por ejemplo, describe la distribución común de muestras influenciadas por una gran cantidad de pequeñas perturbaciones aleatorias, cada una con su propia distribución única. Otro ejemplo interesante es la distribución de variables antropométricas en una población: estatura, talla, peso, etc. que marcadamente definen una distribución normal.\n",
    "\n",
    "La función de probabilidad para la distribución Gaussiana es:\n",
    "\n",
    "$$\n",
    "p (x) = \\dfrac{1}{\\sqrt{2 \\pi \\sigma^{2}}} \\, \\exp\\left( \\dfrac{(x - \\mu)^{2}}{2 \\sigma^{2}} \\right)\n",
    "$$\n",
    "\n",
    "donde $\\mu$ es la media y $\\sigma$ es la desviación estándar. El cuadrado de la desviación estándar $\\sigma^{2}$ es la variancia."
   ]
  },
  {
   "cell_type": "code",
   "execution_count": 3,
   "id": "80a37465",
   "metadata": {},
   "outputs": [
    {
     "data": {
      "image/png": "[encoded data removed]",
      "text/plain": [
       "<Figure size 432x288 with 1 Axes>"
      ]
     },
     "metadata": {
      "needs_background": "light"
     },
     "output_type": "display_data"
    }
   ],
   "source": [
    "def curvaNormal(x, mu, sigma):\n",
    "    valor = 1/(sigma * np.sqrt(2 * np.pi)) * np.exp( - (bins - mu)**2 / (2 * sigma**2)) \n",
    "    \n",
    "    return valor\n",
    "    \n",
    "\n",
    "mu, sigma = 0, 0.1 # media y desviación estándar\n",
    "\n",
    "s = np.random.normal(mu, sigma, 1000)\n",
    "\n",
    "count, bins, ignored = plt.hist(s, 30, density=True)\n",
    "plt.plot(bins, curvaNormal(bins, mu, sigma), linewidth=2, color='r')\n",
    "plt.show()"
   ]
  },
  {
   "cell_type": "code",
   "execution_count": null,
   "id": "f6bae5de",
   "metadata": {},
   "outputs": [],
   "source": []
  }
 ],
 "metadata": {
  "hide_input": false,
  "kernelspec": {
   "display_name": "Python 3 (ipykernel)",
   "language": "python",
   "name": "python3"
  },
  "language_info": {
   "codemirror_mode": {
    "name": "ipython",
    "version": 3
   },
   "file_extension": ".py",
   "mimetype": "text/x-python",
   "name": "python",
   "nbconvert_exporter": "python",
   "pygments_lexer": "ipython3",
   "version": "3.9.12"
  },
  "toc": {
   "base_numbering": 1,
   "nav_menu": {},
   "number_sections": true,
   "sideBar": true,
   "skip_h1_title": false,
   "title_cell": "Table of Contents",
   "title_sidebar": "Contents",
   "toc_cell": false,
   "toc_position": {},
   "toc_section_display": true,
   "toc_window_display": false
  }
 },
 "nbformat": 4,
 "nbformat_minor": 5
}
