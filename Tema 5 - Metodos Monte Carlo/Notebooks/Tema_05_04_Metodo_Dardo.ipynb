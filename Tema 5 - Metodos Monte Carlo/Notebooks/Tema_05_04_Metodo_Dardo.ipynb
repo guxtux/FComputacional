{
 "cells": [
  {
   "cell_type": "code",
   "execution_count": null,
   "id": "47f44144",
   "metadata": {},
   "outputs": [],
   "source": [
    "from  import intareaMC, intareavecMC, int3areaMC\n",
    "import time\n",
    "\n",
    "def f(x):\n",
    "    return 2 + 3 * x\n",
    "\n",
    "\n",
    "\n",
    "a = 1; b = 2; n = 1000000; N = 10000; fmax = f(b)\n",
    "\n",
    "t0 = time.process_time()\n",
    "\n",
    "valor1 = intareaMC(f, a, b, n, fmax)\n",
    "print('Integral = {0:}'.format())\n",
    "print('Error: {0:1.5e}'.format())\n",
    "\n",
    "t1 = time.process_time()\n",
    "\n",
    "print('Tiempo en bucle: {0} segundos'.format())\n",
    "\n",
    "valor2 = intareavecMC(f, a, b, n, fmax)\n",
    "print('\\nIntegral = {0:}'.format())\n",
    "print('Error: {0:1.5e}'.format())\n",
    "\n",
    "t2 = time.process_time()\n",
    "print('Tiempo en vectorizada: {0} segundos'.format()\n",
    "\n",
    "print ('\\nFracción bucle/vectorizada: {0:}'.format((t1 - t0)/(t2 - t1)))\n",
    "\n",
    "k, I = int3areaMC(f, a, b, n, fmax, N)\n",
    "\n",
    "print('\\nIntegral = {0:}'.format()\n",
    "print('Error: {0:1.5e}'.format()"
   ]
  },
  {
   "cell_type": "code",
   "execution_count": null,
   "id": "9224c6ba",
   "metadata": {},
   "outputs": [],
   "source": []
  }
 ],
 "metadata": {
  "hide_input": false,
  "kernelspec": {
   "display_name": "Python 3 (ipykernel)",
   "language": "python",
   "name": "python3"
  },
  "language_info": {
   "codemirror_mode": {
    "name": "ipython",
    "version": 3
   },
   "file_extension": ".py",
   "mimetype": "text/x-python",
   "name": "python",
   "nbconvert_exporter": "python",
   "pygments_lexer": "ipython3",
   "version": "3.9.12"
  },
  "toc": {
   "base_numbering": 1,
   "nav_menu": {},
   "number_sections": true,
   "sideBar": true,
   "skip_h1_title": false,
   "title_cell": "Table of Contents",
   "title_sidebar": "Contents",
   "toc_cell": false,
   "toc_position": {},
   "toc_section_display": true,
   "toc_window_display": false
  }
 },
 "nbformat": 4,
 "nbformat_minor": 5
}
