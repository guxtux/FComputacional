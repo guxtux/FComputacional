{
 "cells": [
  {
   "cell_type": "markdown",
   "id": "8bff0313",
   "metadata": {},
   "source": [
    "# Secuencias aleatorias.\n",
    "\n",
    "Usaremos el método de congruencia lineal para generar números aleatorios."
   ]
  },
  {
   "cell_type": "code",
   "execution_count": null,
   "id": "14ba512d",
   "metadata": {},
   "outputs": [],
   "source": [
    "import matplotlib.pyplot as plt\n",
    "\n",
    "x = []\n",
    "\n",
    "a, semilla, c, m, n = \n",
    "for i in range (1, n):\n",
    "   nuevasemilla = (a * semilla + c) % m\n",
    "   semilla = nuevasemilla\n",
    "   x.append( nuevasemilla)\n",
    "\n",
    "y = []\n",
    "\n",
    "a, semilla, c, m, n = \n",
    "\n",
    "for i in range (1, n):\n",
    "   nuevasemilla = (a * semilla + c) % m\n",
    "   semilla = nuevasemilla\n",
    "   y.append( nuevasemilla)"
   ]
  },
  {
   "cell_type": "code",
   "execution_count": null,
   "id": "2b06741c",
   "metadata": {},
   "outputs": [],
   "source": [
    "plt.plot(x, '+r')\n",
    "plt.show()"
   ]
  },
  {
   "cell_type": "code",
   "execution_count": null,
   "id": "18960a7a",
   "metadata": {},
   "outputs": [],
   "source": [
    "plt.plot(y, '+b')\n",
    "\n",
    "plt.show()"
   ]
  },
  {
   "cell_type": "markdown",
   "id": "83beebc0",
   "metadata": {},
   "source": [
    "# Usando la librería <code>random</code>.\n",
    "\n",
    "Para generar un conjunto def $500$ números aleatorios, ahora utilizaremos la librería <code>random</code> en donde ocuparemos como semilla:\n",
    "1. El valor del reloj del sistema, no le anotamos argumento a la función <code>seed</code>.\n",
    "2. Un valor arbitrario $500$.\n",
    "3. Otro valor arbitrario $2018$.\n",
    "\n",
    "Se grafican las listas con los valores."
   ]
  },
  {
   "cell_type": "code",
   "execution_count": null,
   "id": "cb7fa22e",
   "metadata": {},
   "outputs": [],
   "source": [
    "import random\n",
    "\n",
    "def arreglonumeros(muestra=500, semilla=None):\n",
    "    x = []\n",
    "    random.seed(semilla)\n",
    "    \n",
    "    for i in range(muestra):\n",
    "        nuevoValor = random.random()\n",
    "        x.append(nuevoValor)\n",
    "    \n",
    "    return x\n",
    "\n",
    "x1 = arreglonumeros()\n",
    "x2 = arreglonumeros(semilla=500)\n",
    "x3 = arreglonumeros(semilla=2018)\n",
    "\n",
    "plt.figure(figsize=(8,5)) \n",
    "plt.plot(x1,'b+', label='seed = reloj sistema')\n",
    "plt.plot(x2,'r+', label='seed = 500')\n",
    "plt.plot(x3,'y+', label='seed = 2018')\n",
    "plt.legend(loc='best')\n",
    "plt.title('Secuencia de numeros aleatorios')\n",
    "plt.xlabel('x')\n",
    "plt.ylabel('y')\n",
    "plt.show()"
   ]
  },
  {
   "cell_type": "code",
   "execution_count": null,
   "id": "839b850e",
   "metadata": {},
   "outputs": [],
   "source": []
  }
 ],
 "metadata": {
  "hide_input": false,
  "kernelspec": {
   "display_name": "Python 3 (ipykernel)",
   "language": "python",
   "name": "python3"
  },
  "language_info": {
   "codemirror_mode": {
    "name": "ipython",
    "version": 3
   },
   "file_extension": ".py",
   "mimetype": "text/x-python",
   "name": "python",
   "nbconvert_exporter": "python",
   "pygments_lexer": "ipython3",
   "version": "3.9.12"
  },
  "toc": {
   "base_numbering": 1,
   "nav_menu": {},
   "number_sections": true,
   "sideBar": true,
   "skip_h1_title": false,
   "title_cell": "Table of Contents",
   "title_sidebar": "Contents",
   "toc_cell": false,
   "toc_position": {},
   "toc_section_display": true,
   "toc_window_display": false
  }
 },
 "nbformat": 4,
 "nbformat_minor": 5
}
