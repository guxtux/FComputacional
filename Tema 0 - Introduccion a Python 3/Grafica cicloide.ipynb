{
 "cells": [
  {
   "cell_type": "code",
   "execution_count": 1,
   "id": "546411de",
   "metadata": {},
   "outputs": [],
   "source": [
    "%matplotlib inline"
   ]
  },
  {
   "cell_type": "code",
   "execution_count": 4,
   "id": "851500a5",
   "metadata": {},
   "outputs": [
    {
     "data": {
      "image/png": "[encoded data removed]",
      "text/plain": [
       "<Figure size 432x288 with 1 Axes>"
      ]
     },
     "metadata": {
      "needs_background": "light"
     },
     "output_type": "display_data"
    },
    {
     "data": {
      "text/plain": [
       "<Figure size 432x288 with 0 Axes>"
      ]
     },
     "metadata": {},
     "output_type": "display_data"
    }
   ],
   "source": [
    "import matplotlib as mpl\n",
    "import matplotlib.pyplot as plt\n",
    "from math import sqrt, cos, sin\n",
    "import numpy as np\n",
    "\n",
    "mpl.rcParams['text.usetex'] = True\n",
    "\n",
    "\n",
    "def cycloid(r):\n",
    "  x = [] #create the list of x coordinates\n",
    "  y = [] #create the list of y coordinats\n",
    "  for theta in np.linspace(0, 2*np.pi, 1000): #loop over a list of theta, which ranges from -2π to 2π\n",
    "    x.append(r*(theta - sin(theta))) #add the corresponding expression of x to the x list\n",
    "    y.append(r*(1 - cos(theta))) #same for y\n",
    "  plt.title('Gráfica de la cicloide')\n",
    "  plt.xlim([0, 2*np.pi*r])\n",
    "  plt.plot(x, y, color='r')  #plot using matplotlib.piplot\n",
    "  tick_pos = [0, np.pi, 2*np.pi, 3*np.pi, 4*np.pi, 5*np.pi, 6*np.pi]\n",
    "  labels = ['0', '$\\pi$', '$2 \\pi$', '$3 \\pi$', '$4 \\pi$', '$5 \\pi$', '$6 \\pi$']\n",
    "  plt.xticks(tick_pos, labels)\n",
    "  plt.grid(True)\n",
    "  plt.show()  #show the plot\n",
    "  plt.savefig('Grafica_Cicloide.eps', format='eps')\n",
    "\n",
    "cycloid(3) #call the function"
   ]
  },
  {
   "cell_type": "code",
   "execution_count": null,
   "id": "65c40aa6",
   "metadata": {},
   "outputs": [],
   "source": []
  }
 ],
 "metadata": {
  "kernelspec": {
   "display_name": "Python 3 (ipykernel)",
   "language": "python",
   "name": "python3"
  },
  "language_info": {
   "codemirror_mode": {
    "name": "ipython",
    "version": 3
   },
   "file_extension": ".py",
   "mimetype": "text/x-python",
   "name": "python",
   "nbconvert_exporter": "python",
   "pygments_lexer": "ipython3",
   "version": "3.8.5"
  }
 },
 "nbformat": 4,
 "nbformat_minor": 5
}
