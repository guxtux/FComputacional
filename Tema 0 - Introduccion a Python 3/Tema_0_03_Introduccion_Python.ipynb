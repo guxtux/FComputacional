{
 "cells": [
  {
   "cell_type": "markdown",
   "id": "8d588bff",
   "metadata": {},
   "source": [
    "# Funciones\n",
    "\n",
    "Una función es un fragmento aislado de código, que tiene un **nombre**, con un parámetro, o más parámetros o ninguno y devuelve un valor.\n",
    "\n",
    "En general, una función hará algo por nosotros ocupando para ello los parámetros de entrada que le indiquemos, normalmente devolverá un resultado.\n",
    "\n",
    "No estamos limitados a usar las *funciones intrínsecas* en la biblioteca estándar o las proporcionadas por terceros. ¡También podemos escribir nuestras propias funciones!\n",
    "\n",
    "Hay buenas razones por las que las funciones son un componente clave en la programación:\n",
    "1. Encapsulación: envolver una parte de código útil en una función para que pueda usarse sin conocimiento de los detalles.\n",
    "2. Generalización: hacer que una parte de código sea útil en diversas circunstancias a través de parámetros.\n",
    "3. Manejo: Dividir un programa complejo en partes fáciles de manejar.\n",
    "4. Mantenimiento: uso de nombres significativos para hacer que el programa sea más legible y comprensible.\n",
    "5. Reutilización: una buena función puede ser útil en múltiples programas.\n",
    "6. Recursión!"
   ]
  },
  {
   "cell_type": "markdown",
   "id": "d6fe0175",
   "metadata": {},
   "source": [
    "## Funciones incluidas.\n",
    "\n",
    "Sin requerir la llamada a un módulo o librería, hay funciones de python que se pueden ocupar en todo momento.\n",
    "\n",
    "Más adelante veremos que en python se incluyen librerías matemáticas que nos serán de utilidad, por lo que ocuparlas también requiere de un uso particular."
   ]
  },
  {
   "cell_type": "markdown",
   "id": "6776508a",
   "metadata": {},
   "source": [
    "En el siguiente ejemplo se revisan algunas funciones disponibles en python, para conocer más sobre las mismas, recuerda que puedes ocupar la documentación oficial."
   ]
  },
  {
   "cell_type": "code",
   "execution_count": 1,
   "id": "3a9c1193",
   "metadata": {},
   "outputs": [
    {
     "name": "stdout",
     "output_type": "stream",
     "text": [
      "3\n",
      "\n",
      "0b1000\n",
      "\n",
      "5\n",
      "\n",
      "100\n",
      "\n",
      "25\n"
     ]
    }
   ],
   "source": [
    "print(abs(-3))\n",
    "print()\n",
    "print(bin(8))\n",
    "print()\n",
    "print(len('Pumas'))\n",
    "print()\n",
    "print(max([1, 3.1416, 100, 1E2]))\n",
    "print()\n",
    "print(pow(5,2))"
   ]
  },
  {
   "cell_type": "markdown",
   "id": "c58cd895",
   "metadata": {},
   "source": [
    "## Funciones creadas por el usuario.\n",
    "\n",
    "Para facilitarnos la solución de problemas, será neceario crear nuestras propias funciones, por lo que hay que seguir una serie de reglas importantes para ello.\n",
    "\n",
    "La palabra reservada **def** se usa para definir funciones. \n",
    "\n",
    "Debe seguirle el nombre de la función y la lista de parámetros formales entre paréntesis. Las sentencias que forman el cuerpo de la función empiezan en la línea siguiente, y deben estar con sangría.\n",
    "\n",
    "La estructura de una función en python es la siguiente:\n",
    "```\n",
    "def nombre_funcion(parametro1, ...):\n",
    "    conjunto de instrucciones\n",
    "    return valores_devueltos\n",
    "```\n",
    "\n",
    "Un parámetro puede ser cualquier objeto de python, incluyendo una función. Los parámetros pueden darse por defecto, por lo que en la función son opcionales. \n",
    "\n",
    "Una función no necesariamente devuelve algún valor, ya que por ejemplo, se puede crear una función para dar formato a una cadena.\n",
    "\n",
    "Si queremos devolver un valor al código principal, se utiliza la instrucción **return**."
   ]
  },
  {
   "cell_type": "code",
   "execution_count": 4,
   "id": "5a76e5f1",
   "metadata": {},
   "outputs": [
    {
     "name": "stdout",
     "output_type": "stream",
     "text": [
      "[1, 4, 9, 16]\n"
     ]
    }
   ],
   "source": [
    "def cuadrados(a):\n",
    "    for i in range(len(a)):\n",
    "        a[i] = a[i]**2\n",
    "    return a\n",
    "\n",
    "a = [1, 2, 3, 4]\n",
    "\n",
    "solucion = cuadrados(a)\n",
    "\n",
    "print(solucion)"
   ]
  },
  {
   "cell_type": "markdown",
   "id": "35c74f94",
   "metadata": {},
   "source": [
    "Ejercicio: Cálculo de la serie de Fibonacci.\n",
    "\n",
    "La sucesión fue descrita por Fibonacci como la solución a un problema de la cría de conejos: \n",
    "\n",
    "*Cierto hombre tenía una pareja de conejos juntos en un lugar cerrado y uno desea saber cuántos son creados a partir de este par en un año, .cuando es su naturaleza parir otro par en un simple mes, y en el segundo mes los nacidos parir también.*\n",
    "\n",
    "\n",
    "¿Cómo le hacemos?"
   ]
  },
  {
   "cell_type": "code",
   "execution_count": 5,
   "id": "beaaa83e",
   "metadata": {},
   "outputs": [
    {
     "name": "stdout",
     "output_type": "stream",
     "text": [
      "1\n",
      "1\n",
      "2\n",
      "3\n",
      "5\n",
      "8\n",
      "13\n",
      "21\n",
      "34\n",
      "55\n",
      "89\n",
      "144\n",
      "233\n",
      "377\n",
      "610\n",
      "987\n",
      "1597\n",
      "2584\n"
     ]
    }
   ],
   "source": [
    "def fib(n):\n",
    "    a, b = 0, 1\n",
    "    while b < n:\n",
    "        print (b)\n",
    "        a, b = b, a + b\n",
    "    return b\n",
    "\n",
    "f = fib(2000)\n",
    "print(f)"
   ]
  },
  {
   "cell_type": "markdown",
   "id": "6b476adf",
   "metadata": {},
   "source": [
    "## Paso de argumentos.\n",
    "\n",
    "Para que una función sea en verdad útil (y reutilizable), es necesario que podamos pasarle entradas. \n",
    "\n",
    "Los nombres de las entradas (o argumentos) que requiere una función se declaran a continuación del nombre en **def** (siempre entre paréntesis)"
   ]
  },
  {
   "cell_type": "code",
   "execution_count": 6,
   "id": "908b8e1a",
   "metadata": {},
   "outputs": [
    {
     "name": "stdout",
     "output_type": "stream",
     "text": [
      "8\n",
      "\n",
      "49.0\n",
      "\n",
      "Hola  Mundo!\n"
     ]
    }
   ],
   "source": [
    "def funcion_suma(x, y):\n",
    "    return x + y\n",
    "\n",
    "print(funcion_suma(5, 3))\n",
    "print()\n",
    "print(funcion_suma(7, 42.0))\n",
    "print()\n",
    "print(funcion_suma(\"Hola \", \" Mundo!\"))"
   ]
  },
  {
   "cell_type": "markdown",
   "id": "1891ddb1",
   "metadata": {},
   "source": [
    "**Nota:** \n",
    "1. Nunca se mencionan los tipos de datos de $x$ e $y$, ni el tipo de datos que devuelve funcion\\_suma.\n",
    "2. Los argumentos y el valor devuelto son, tal como las variables, simples etiquetas a zonas de memoria."
   ]
  },
  {
   "cell_type": "markdown",
   "id": "89f6a594",
   "metadata": {},
   "source": [
    "## Paso de argumento con nombre.\n",
    "\n",
    "Si la función que definimos tiene muchos argumentos, es fácil olvidar el orden en que fueron declarados.\n",
    "\n",
    "Como un argumento no lleva asociado un tipo, python no tiene manera de saber que los argumentos están cambiados.\n",
    "\n",
    "Para evitar este tipo de errores, hay una manera de llamar a una función pasando los argumentos en cualquier orden arbitrario: *los argumentos se pasan usando el nombre usado en la declaración*."
   ]
  },
  {
   "cell_type": "code",
   "execution_count": 7,
   "id": "db70a43f",
   "metadata": {},
   "outputs": [
    {
     "name": "stdout",
     "output_type": "stream",
     "text": [
      "a = 1, b = 2, c = 3\n",
      "\n",
      "a = 2, b = 3, c = 1\n"
     ]
    }
   ],
   "source": [
    "def prueba(a, b, c):\n",
    "    print(\"a = {0:}, b = {1:}, c = {2:}\".format(a, b, c))\n",
    "\n",
    "prueba(1, 2, 3)\n",
    "print()\n",
    "prueba(b=3, a=2, c=1)"
   ]
  },
  {
   "cell_type": "markdown",
   "id": "0d1935b3",
   "metadata": {},
   "source": [
    "## Argumentos con valores por omisión.\n",
    "\n",
    "Para hacer que algunos argumentos sean opcionales, se les asignan valores por omisión al declararlos.\n",
    "\n",
    "En el siguiente ejemplo se muestra el caso cuando se define la función con dos argumentos y se indica solo uno."
   ]
  },
  {
   "cell_type": "code",
   "execution_count": 9,
   "id": "9b087eca",
   "metadata": {},
   "outputs": [
    {
     "name": "stdout",
     "output_type": "stream",
     "text": [
      "0.99498743710662\n",
      "\n",
      "0.9994442900376633\n"
     ]
    }
   ],
   "source": [
    "from math import sqrt\n",
    "\n",
    "# argumento v es requerido , c es opcional\n",
    "# c toma el valor 3.0e8 por omision\n",
    "\n",
    "def tau_cero(v, c = 3.0e+8):\n",
    "    return sqrt(1.0 - (v/c)**2)\n",
    "\n",
    "print(tau_cero(0.1 , 1.0))\n",
    "print()\n",
    "print(tau_cero(1.e+7)) # usa c = 3.0e+8"
   ]
  },
  {
   "cell_type": "markdown",
   "id": "2d5e7cb7",
   "metadata": {},
   "source": [
    "## Regresando varios valores.\n",
    "\n",
    "Para hacer que una función devuelva más de un valor, en lenguajes como Fortran, C o C++, lo que se hace es definir argumentos de entrada y argumentos de salida.\n",
    "\n",
    "Para devolver múltiples valores en python, lo usual es devolver los valores *empaquetados* en una tupla."
   ]
  },
  {
   "cell_type": "markdown",
   "id": "8ae986ac",
   "metadata": {},
   "source": [
    "En el siguiente ejemplo se revisa este caso, checa la referencia para presentar el formato de la cadena y valor numérico de la variable argumento."
   ]
  },
  {
   "cell_type": "code",
   "execution_count": 10,
   "id": "9f9bb8ce",
   "metadata": {},
   "outputs": [
    {
     "name": "stdout",
     "output_type": "stream",
     "text": [
      "El modulo es: 5.0\n",
      "El argumento es: 0.9273\n"
     ]
    }
   ],
   "source": [
    "from math import atan2, sqrt\n",
    "\n",
    "def modulo_argumento(x, y):\n",
    "    norm = sqrt(x**2 + y**2)\n",
    "    arg = atan2(y, x)\n",
    "    return (norm, arg)\n",
    "    \n",
    "n, a = modulo_argumento(3.0, 4.0)\n",
    "print(\"El modulo es: {0:}\".format(n))\n",
    "print(\"El argumento es: {0:.4f}\".format(a))"
   ]
  },
  {
   "cell_type": "markdown",
   "id": "8f4a2fcf",
   "metadata": {},
   "source": [
    "## Número variable de argumentos.\n",
    "\n",
    "Hasta el momento hemos revisado que una función con un número determinado de parámetros, debe de llamarse con ese número de parámetros.\n",
    "\n",
    "Si nos hace falta alguno, o escribimos un argumento demás, nos marcará un error.\n",
    "\n",
    "¿Cómo le hacemos para que una función acepte un número no prefijado de argumentos?"
   ]
  },
  {
   "cell_type": "markdown",
   "id": "69e06195",
   "metadata": {},
   "source": [
    "Es posible pasar una lista o tupla, pero python ofrece una mejor solución:"
   ]
  },
  {
   "cell_type": "code",
   "execution_count": 11,
   "id": "e9762676",
   "metadata": {},
   "outputs": [
    {
     "name": "stdout",
     "output_type": "stream",
     "text": [
      "0.19739555984988078\n",
      "0.19739555984988075\n",
      "-2.9441970937399127\n"
     ]
    }
   ],
   "source": [
    "import math\n",
    "\n",
    "def miatan(*args):\n",
    "# args es una tupla de argumentos\n",
    "    if len(args) == 1:\n",
    "        return math.atan(args[0])\n",
    "    else :\n",
    "        return math.atan2(args[0],args[1])\n",
    "\n",
    "print(miatan (0.2)) # 0.19739\n",
    "print(miatan (2.0, 10.0)) # 0.19739\n",
    "print(miatan (-2.0, -10.0)) # -2.94419"
   ]
  },
  {
   "cell_type": "markdown",
   "id": "29ee00f0",
   "metadata": {},
   "source": [
    "## Funciones lambda.\n",
    "\n",
    "\n",
    "python admite una interesante sintaxis que permite definir funciones mínimas, de una línea, sobre la marcha. \n",
    "\n",
    "Se trata de las denominadas funciones **lambda**, que pueden utilizarse en cualquier lugar donde se necesite una función."
   ]
  },
  {
   "cell_type": "code",
   "execution_count": 12,
   "id": "a640a670",
   "metadata": {},
   "outputs": [
    {
     "name": "stdout",
     "output_type": "stream",
     "text": [
      "9\n",
      "9\n"
     ]
    }
   ],
   "source": [
    "cuadrado = lambda x: x**2\n",
    "print(cuadrado(3))\n",
    "#Devuelve 9\n",
    "\n",
    "print((lambda x: x**2)(3))\n",
    "#se usa lambda dentro del print"
   ]
  },
  {
   "cell_type": "markdown",
   "id": "c4f40841",
   "metadata": {},
   "source": [
    "Nótese que:\n",
    "\n",
    "1. La lista de argumentos no está entre paréntesis.\n",
    "2. Falta la palabra reservada \\azulfuerte{return} (está implícita, ya que la función entera debe ser una única expresión).\n",
    "3. La función no tiene nombre, pero puede ser llamada mediante la variable a que se ha asignado."
   ]
  },
  {
   "cell_type": "markdown",
   "id": "47530661",
   "metadata": {},
   "source": [
    "# Módulos.\n",
    "\n",
    "Es una buena práctica de programación que almacenemos las funciones en módulos.\n",
    "\n",
    "Un módulo es un archivo de python en donde se dejan las funciones que hemos construido, el nombre del módulo es el nombre del archivo.\n",
    "\n",
    "Cuando creamos un módulo, todas las funciones están disponibles para cualquiera de los programas que estemos generando.\n",
    "\n",
    "Basta con identificar la ruta del archivo y hacer la referencia dentro de nuestro programa.\n",
    "\n",
    "Un módulo se carga al programa con la instrucción:\n",
    "$$ \\mbox{from nombre_modulo import *} $$\n",
    "\n",
    "python incluye un número grande de módulos que contienen funciones y métodos para varias tareas. "
   ]
  },
  {
   "cell_type": "markdown",
   "id": "76764bc2",
   "metadata": {},
   "source": [
    "## El módulo math.\n",
    "\n",
    "Muchas funciones matemáticas no se pueden llamar directo del intérprete, anteriormente se revisaron algunas de las funciones incluidas, \\pause para ocupar un conjunto de funciones matemáticas, ocupamos el módulo **math**.\n",
    "\n",
    "Hay tres diferentes maneras en las que se puede llamar y utilizar las funciones de un módulo.\n",
    "\n",
    "1. from math import *\n",
    "\n",
    "De esta manera, se importan todas las funciones definidas en el módulo **math**, siendo quizá un gasto innecesario de recursos, pero también generar conflictos con definiciones cargadas de otros módulos.\n",
    "\n",
    "2. from math import func1, func2,..."
   ]
  },
  {
   "cell_type": "code",
   "execution_count": 13,
   "id": "0a6406a2",
   "metadata": {},
   "outputs": [
    {
     "name": "stdout",
     "output_type": "stream",
     "text": [
      "-0.7351666863853142\n"
     ]
    }
   ],
   "source": [
    "from math import log, sin\n",
    "\n",
    "print(log(sin(0.5)))"
   ]
  },
  {
   "cell_type": "markdown",
   "id": "cc269daa",
   "metadata": {},
   "source": [
    "3. El tercer método es el más usado en programación, dejando disponible el módulo:\n",
    "$$ \\mbox{import math}$$\n",
    "\n",
    "\n",
    "Las funciones en el módulo se pueden usar con el nombre del módulo como prefijo:"
   ]
  },
  {
   "cell_type": "code",
   "execution_count": 14,
   "id": "85970d6e",
   "metadata": {},
   "outputs": [
    {
     "name": "stdout",
     "output_type": "stream",
     "text": [
      "-0.7351666863853142\n"
     ]
    }
   ],
   "source": [
    "import math\n",
    "\n",
    "print(math.log(math.sin(0.5)))"
   ]
  },
  {
   "cell_type": "markdown",
   "id": "cb5e811b",
   "metadata": {},
   "source": [
    "Consideraciones.\n",
    "\n",
    "Hay que tomar en cuenta que: habrá funciones que existen dentro del módulo **math**, pero también con el mismo nombre las encontraremos en otros módulos: **numpy** y **scipy**.\n",
    "\n",
    "Por ello se recomienda el uso de *alias* que nos permitan identificar el módulo origen de la función."
   ]
  },
  {
   "cell_type": "markdown",
   "id": "36129462",
   "metadata": {},
   "source": [
    "Podemos ver el contenido de funciones de un módulo con la instrucción:"
   ]
  },
  {
   "cell_type": "code",
   "execution_count": 15,
   "id": "c0da6ffa",
   "metadata": {},
   "outputs": [
    {
     "data": {
      "text/plain": [
       "['__doc__',\n",
       " '__file__',\n",
       " '__loader__',\n",
       " '__name__',\n",
       " '__package__',\n",
       " '__spec__',\n",
       " 'acos',\n",
       " 'acosh',\n",
       " 'asin',\n",
       " 'asinh',\n",
       " 'atan',\n",
       " 'atan2',\n",
       " 'atanh',\n",
       " 'ceil',\n",
       " 'comb',\n",
       " 'copysign',\n",
       " 'cos',\n",
       " 'cosh',\n",
       " 'degrees',\n",
       " 'dist',\n",
       " 'e',\n",
       " 'erf',\n",
       " 'erfc',\n",
       " 'exp',\n",
       " 'expm1',\n",
       " 'fabs',\n",
       " 'factorial',\n",
       " 'floor',\n",
       " 'fmod',\n",
       " 'frexp',\n",
       " 'fsum',\n",
       " 'gamma',\n",
       " 'gcd',\n",
       " 'hypot',\n",
       " 'inf',\n",
       " 'isclose',\n",
       " 'isfinite',\n",
       " 'isinf',\n",
       " 'isnan',\n",
       " 'isqrt',\n",
       " 'ldexp',\n",
       " 'lgamma',\n",
       " 'log',\n",
       " 'log10',\n",
       " 'log1p',\n",
       " 'log2',\n",
       " 'modf',\n",
       " 'nan',\n",
       " 'perm',\n",
       " 'pi',\n",
       " 'pow',\n",
       " 'prod',\n",
       " 'radians',\n",
       " 'remainder',\n",
       " 'sin',\n",
       " 'sinh',\n",
       " 'sqrt',\n",
       " 'tan',\n",
       " 'tanh',\n",
       " 'tau',\n",
       " 'trunc']"
      ]
     },
     "execution_count": 15,
     "metadata": {},
     "output_type": "execute_result"
    }
   ],
   "source": [
    "import math\n",
    "\n",
    "dir(math)"
   ]
  },
  {
   "cell_type": "markdown",
   "id": "2cfadd8e",
   "metadata": {},
   "source": [
    "# Graficación con python.\n",
    "\n",
    "Una buena parte del trabajo que tendremos que hacer como físicos es utilizar un conjunto de datos que por si solos, no van a darnos información sobre un modelo o un fenómeno, por ello, será necesario usar gráficas.\n",
    "\n",
    "## matplolib.\n",
    "\n",
    "En python se incluye un módulo de graficación bastante versátil para generar gráficas y exportarlas a diferentes tipos de archivos. La librería se llama **matplotlib**.\n",
    "\n",
    "Esta librería una colección de funciones de estilo de mando, de tal manera que **matplotlib** funciona a la manera de *MATLAB*.\n",
    "\n",
    "Cada instrucción **pyplot** aplica un cambio a una figura: por ejemplo, crear una figura, crear un área de trazado en una figura, dibujar algunas líneas en un área de trazado, decorar con etiquetas, etc."
   ]
  },
  {
   "cell_type": "code",
   "execution_count": 18,
   "id": "033cba9b",
   "metadata": {},
   "outputs": [
    {
     "data": {
      "image/png": "[encoded data removed]",
      "text/plain": [
       "<Figure size 432x288 with 1 Axes>"
      ]
     },
     "metadata": {
      "needs_background": "light"
     },
     "output_type": "display_data"
    }
   ],
   "source": [
    "# En Jupyter es necesario incluir un \"comando mágico\" para visualizar las gráficas.\n",
    "# En el entorno de pyhton no se requiere este comando.\n",
    "\n",
    "%matplotlib inline\n",
    "\n",
    "import matplotlib.pyplot as plt\n",
    "\n",
    "plt.plot([1, 2, 3, 4])\n",
    "plt.ylabel('Algunos numeros')\n",
    "plt.show()"
   ]
  },
  {
   "cell_type": "markdown",
   "id": "01ef5041",
   "metadata": {},
   "source": [
    "Te estarás preguntando: ¿por qué tenemos en el eje $x$ el rango $0-3$ y en el eje $y$ el rango  $1-4$?.\n",
    "\n",
    "Si proporcionamos una única lista o matriz en el comando **plot**, **matplotlib** asume que es una secuencia de valores de $y$, por lo que genera automáticamente los valores de $x$ para nosotros.\n",
    "\n",
    "Como los índices en python comienzan en $0$, el vector $x$ por defecto tiene la misma longitud que $y$, pero inicia con $0$.\n",
    "\n",
    "De ahí que los datos en el eje $x$ son: $[0, 1, 2, 3]$."
   ]
  },
  {
   "cell_type": "code",
   "execution_count": 19,
   "id": "94287e70",
   "metadata": {},
   "outputs": [
    {
     "data": {
      "image/png": "[encoded data removed]",
      "text/plain": [
       "<Figure size 432x288 with 1 Axes>"
      ]
     },
     "metadata": {
      "needs_background": "light"
     },
     "output_type": "display_data"
    }
   ],
   "source": [
    "import matplotlib.pyplot as plt\n",
    "\n",
    "plt.plot([1, 2, 3, 4], [1, 4, 9, 16], 'ro')\n",
    "plt.axis([0, 6, 0, 20])\n",
    "plt.show()"
   ]
  },
  {
   "cell_type": "markdown",
   "id": "3164da6a",
   "metadata": {},
   "source": [
    "Nótese que se grafican solo los puntos, no hay una línea que los conecte.\n",
    "\n",
    "La unión de los puntos a veces ayuda para entender la visualización, pero no debemos de asumir que el comportamiento de los datos siempre debe de ser una línea que una los puntos.\n",
    "\n",
    "Por cada par $x$, $y$ de argumentos, existe un tercer argumento opcional: que es la cadena de formato que indica el *color* y el *tipo de línea*, en el ejemplo *'ro' = red o (círculo)*.\n",
    "\n",
    "Las letras y los símbolos de la cadena de formato se concatenanen una cadena de color y estilo de línea. La cadena de formato por defecto es **'b-'**, que es una línea de color azul.\n",
    "\n",
    "\n",
    "Tipos de líneas.\n",
    "\n",
    "|  '-' | línea sólida                    |\n",
    "|:----:|---------------------------------|\n",
    "| '--' | línea cortada                   |\n",
    "| '-.' | línea-punto                     |\n",
    "| ':'  | línea de puntos                 |\n",
    "| '.'  | marca de punto                  |\n",
    "| ','  | marca de pixel                  |\n",
    "| 'o'  | marca de círculo                |\n",
    "| 'v'  | marca de triándulo hacia abajo  |\n",
    "| '^'  | marca de triángulo hacia arriba |"
   ]
  },
  {
   "cell_type": "markdown",
   "id": "829f19f8",
   "metadata": {},
   "source": [
    "Tabla para los colores.\n",
    "\n",
    "| carácter | color    |\n",
    "|----------|----------|\n",
    "| 'b'      | azul     |\n",
    "| 'g'      | verde    |\n",
    "| 'r'      | rojo     |\n",
    "| 'c'      | cyan     |\n",
    "| 'm'      | magenta  |\n",
    "| 'y'      | amarillo |\n",
    "| 'k'      | negro    |\n",
    "| 'w'      | blanco   |"
   ]
  },
  {
   "cell_type": "markdown",
   "id": "2353bb32",
   "metadata": {},
   "source": [
    "Extendiendo el alcance de las gráficas.\n",
    "\n",
    "**matplotlib** se limita a trabajar con listas, por lo que sería bastante acotado para el procesamiento y análisis numérico.\n",
    "\n",
    "Por lo general, se utilizan los arreglos del módulo **numpy**, de hecho, todas las secuencias se convierten en matrices internamente."
   ]
  },
  {
   "cell_type": "markdown",
   "id": "a539f399",
   "metadata": {},
   "source": [
    "El siguiente ejemplo ilustra un trazado de líneas con varios estilos diferentes en una sola instucción utilizando un arreglo."
   ]
  },
  {
   "cell_type": "code",
   "execution_count": 20,
   "id": "b183be1a",
   "metadata": {},
   "outputs": [
    {
     "data": {
      "image/png": "[encoded data removed]",
      "text/plain": [
       "<Figure size 432x288 with 1 Axes>"
      ]
     },
     "metadata": {
      "needs_background": "light"
     },
     "output_type": "display_data"
    }
   ],
   "source": [
    "import numpy as np\n",
    "import matplotlib.pyplot as plt\n",
    "\n",
    "t = np.arange(0., 5., 0.2)\n",
    "plt.plot(t, t, 'r--', t, t**2, 'bs', t, t**3, 'g^')\n",
    "plt.show()"
   ]
  },
  {
   "cell_type": "markdown",
   "id": "aefc7fab",
   "metadata": {},
   "source": [
    "## Trabajando con múltiples gráficas.\n",
    "\n",
    "En ocasiones vamos a necesitar mostrar dos (o más gráficas) para un mismo problema: por ejemplo graficar el cambio de distancia y la velocidad de un móvil, ambas variables en gráficas separadas.\n",
    "\n",
    "Esta tarea se resuelve de manera sencilla como veremos en el siguiente ejemplo."
   ]
  },
  {
   "cell_type": "code",
   "execution_count": 21,
   "id": "6793c74c",
   "metadata": {},
   "outputs": [
    {
     "data": {
      "text/plain": [
       "[<matplotlib.lines.Line2D at 0x7f7bbeb883a0>]"
      ]
     },
     "execution_count": 21,
     "metadata": {},
     "output_type": "execute_result"
    },
    {
     "data": {
      "image/png": "[encoded data removed]",
      "text/plain": [
       "<Figure size 432x288 with 2 Axes>"
      ]
     },
     "metadata": {
      "needs_background": "light"
     },
     "output_type": "display_data"
    }
   ],
   "source": [
    "import numpy as np\n",
    "import matplotlib.pyplot as plt\n",
    "\n",
    "def f(t):\n",
    "    return np.exp(-t) * np.cos(2*np.pi*t)\n",
    "\n",
    "t1 = np.arange(0.0, 5.0, 0.1)\n",
    "t2 = np.arange(0.0, 5.0, 0.02)\n",
    "\n",
    "plt.figure(1)\n",
    "plt.subplot(211)\n",
    "plt.plot(t1, f(t1), 'bo', t2, f(t2), 'k')\n",
    "\n",
    "plt.subplot(212)\n",
    "plt.plot(t2, np.cos(2 * np.pi * t2), 'r--')"
   ]
  },
  {
   "cell_type": "markdown",
   "id": "49cdba15",
   "metadata": {},
   "source": [
    "El comando **figure( )** aquí es opcional, ya **figure(1)** se crea de forma predeterminada, así mismo **subplot(111)** se crea de forma predeterminada si no se especifica manualmente un eje.\n",
    "\n",
    "El comando **subplot( )** especifica *numrows, numcols, fignum* donde *fignum* varía en rango de $1$ a numrows * numcols.\n",
    "\n",
    "Las comas en el comando *subplot( )* son opcionales si *numrows * numcols* $<10$. Por tanto *subplot(211)* es idéntica a la instrucción *subplot(2,1,1)*.\n",
    "\n",
    "**Más recursos para graficar con python**.\n",
    "\n",
    "Lo que hemos visto es una revisión muy básica y general de cómo generar una gráfica con python, hay todavía una enorme cantidad de información sobre **matplotlib**, encontrarás en la página oficial de la librería bastante [documentación](https://matplotlib.org/stable/), ejemplos y elementos para extender completamente esta herramienta.\n",
    "\n",
    "Se les proporcionará una guía breve de graficación, con la intención de que revisen casos prácticos aplicados a la física. Para cada gráfica que usemos más adelante en el curso, tendrán oportunidad de agregar más elementos que ustedes consideren."
   ]
  }
 ],
 "metadata": {
  "kernelspec": {
   "display_name": "Python 3",
   "language": "python",
   "name": "python3"
  },
  "language_info": {
   "codemirror_mode": {
    "name": "ipython",
    "version": 3
   },
   "file_extension": ".py",
   "mimetype": "text/x-python",
   "name": "python",
   "nbconvert_exporter": "python",
   "pygments_lexer": "ipython3",
   "version": "3.8.5"
  },
  "toc": {
   "base_numbering": 1,
   "nav_menu": {},
   "number_sections": true,
   "sideBar": true,
   "skip_h1_title": false,
   "title_cell": "Table of Contents",
   "title_sidebar": "Contents",
   "toc_cell": false,
   "toc_position": {},
   "toc_section_display": true,
   "toc_window_display": false
  }
 },
 "nbformat": 4,
 "nbformat_minor": 5
}
