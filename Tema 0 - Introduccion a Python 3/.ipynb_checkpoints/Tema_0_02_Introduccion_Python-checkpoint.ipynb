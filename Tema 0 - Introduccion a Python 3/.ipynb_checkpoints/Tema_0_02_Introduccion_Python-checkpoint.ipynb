{
 "cells": [
  {
   "cell_type": "markdown",
   "id": "260b1981",
   "metadata": {},
   "source": [
    "# Colecciones.\n",
    "\n",
    "Hemos revisado algunos tipos de datos básicos en python: números, booleanos y cadenas de texto.\n",
    "\n",
    "Ahora presentaremos los tipos de colecciones que se manejan en este lenguaje:\n",
    "\n",
    "1. Listas.\n",
    "2. Tuplas.\n",
    "3. Diccionarios.\n"
   ]
  },
  {
   "cell_type": "markdown",
   "id": "51983a95",
   "metadata": {},
   "source": [
    "## Listas.\n",
    "\n",
    "Las listas son el tipo de dato más versátil de los datos compuestos de python.\n",
    "\n",
    "Una lista contiene elementos separados por comas y entre corchetes $[ \\quad ]$.\n",
    "\n",
    "En cierta medida, las listas son similares a los arreglos (arrays) o vectores.\n",
    "\n",
    "Un punto importante de las listas: es que **todos los elementos pertenecientes a una lista pueden ser de tipo de datos diferent**."
   ]
  },
  {
   "cell_type": "markdown",
   "id": "e6de6392",
   "metadata": {},
   "source": [
    "Para introducir una lista, abrimos corchetes y separamos mediante comas los elementos de la misma:"
   ]
  },
  {
   "cell_type": "code",
   "execution_count": 1,
   "id": "1f359a30",
   "metadata": {},
   "outputs": [],
   "source": [
    "lista1 = ['abcd', 786, 2.23, 'salmon', 70.2]\n",
    "\n",
    "lista2 = [ 123, 'pizza']"
   ]
  },
  {
   "cell_type": "code",
   "execution_count": 2,
   "id": "d1633c86",
   "metadata": {},
   "outputs": [
    {
     "name": "stdout",
     "output_type": "stream",
     "text": [
      "['abcd', 786, 2.23, 'salmon', 70.2]\n",
      "\n",
      "[123, 'pizza']\n"
     ]
    }
   ],
   "source": [
    "print(lista1)\n",
    "print()\n",
    "print(lista2)"
   ]
  },
  {
   "cell_type": "markdown",
   "id": "c68ef3b8",
   "metadata": {},
   "source": [
    "Los valores almacenados en una lista se recuperan usando la misma técnica de *slicing* que vimos con las cadenas: $[ \\: ]$ y $[:]$, donde los índices van desde  $0$ hasta el   $n - 1$."
   ]
  },
  {
   "cell_type": "code",
   "execution_count": 3,
   "id": "6bf90579",
   "metadata": {},
   "outputs": [
    {
     "name": "stdout",
     "output_type": "stream",
     "text": [
      "[2.23, 'salmon', 70.2]\n",
      "\n",
      "70.2\n",
      "\n",
      "[2.23, 'salmon']\n"
     ]
    }
   ],
   "source": [
    "print(lista1[2:])\n",
    "print()\n",
    "print(lista1[-1])\n",
    "print()\n",
    "print(lista1[2:4])"
   ]
  },
  {
   "cell_type": "markdown",
   "id": "459504d1",
   "metadata": {},
   "source": [
    "También se ocupan las operaciones de *concatenación* ($+$) y repetición en las listas ($*$):"
   ]
  },
  {
   "cell_type": "code",
   "execution_count": 4,
   "id": "5f843ec2",
   "metadata": {},
   "outputs": [
    {
     "name": "stdout",
     "output_type": "stream",
     "text": [
      "['abcd', 786, 2.23, 'salmon', 70.2, 123, 'pizza']\n",
      "\n",
      "[123, 'pizza', 123, 'pizza']\n"
     ]
    }
   ],
   "source": [
    "print(lista1 + lista2)\n",
    "print()\n",
    "print(lista2*2)"
   ]
  },
  {
   "cell_type": "markdown",
   "id": "27022608",
   "metadata": {},
   "source": [
    "Toma en cuenta que el resultado permanece en la memoria de la computadora hasta que se cierre el programa, no se está asignando a una variable."
   ]
  },
  {
   "cell_type": "markdown",
   "id": "2c03f3a9",
   "metadata": {},
   "source": [
    "Las listas en python son los únicos objetos en los que podemos agregar nuevos elementos (son **mutables**), para ello hay que utilizar la función *append*:"
   ]
  },
  {
   "cell_type": "code",
   "execution_count": 6,
   "id": "66483ce6",
   "metadata": {},
   "outputs": [
    {
     "name": "stdout",
     "output_type": "stream",
     "text": [
      "['abcd', 786, 2.23, 'salmon', 70.2, 654.321]\n"
     ]
    }
   ],
   "source": [
    "lista1.append(654.321)\n",
    "print(lista1)"
   ]
  },
  {
   "cell_type": "markdown",
   "id": "5d1f60f5",
   "metadata": {},
   "source": [
    "El nuevo elemento ocupa el último lugar dentro de la lista."
   ]
  },
  {
   "cell_type": "markdown",
   "id": "4a1c096e",
   "metadata": {},
   "source": [
    "Con una lista en python se puede reemplazar el contenido específico de un elemento, haciendo referencia al índice en particular:"
   ]
  },
  {
   "cell_type": "code",
   "execution_count": 7,
   "id": "ad4d0adc",
   "metadata": {},
   "outputs": [
    {
     "name": "stdout",
     "output_type": "stream",
     "text": [
      "[123, 'pizza']\n",
      "\n",
      "[123, 'coordenada']\n"
     ]
    }
   ],
   "source": [
    "print(lista2)\n",
    "\n",
    "lista2[1] = 'coordenada'\n",
    "\n",
    "print()\n",
    "print(lista2)"
   ]
  },
  {
   "cell_type": "markdown",
   "id": "866ffaa9",
   "metadata": {},
   "source": [
    "Las listas son un tipo de objeto en python que permite que dentro de la misma, pueda contener a su vez, otra lista:"
   ]
  },
  {
   "cell_type": "code",
   "execution_count": 9,
   "id": "f4654845",
   "metadata": {},
   "outputs": [
    {
     "name": "stdout",
     "output_type": "stream",
     "text": [
      "['abcd', 786, 2.23, 'salmon', 70.2, 654.321]\n",
      "\n",
      "['abcd', 786, 2.23, 'salmon', 70.2, 654.321, [123, 'coordenada']]\n"
     ]
    }
   ],
   "source": [
    "print(lista1)\n",
    "lista1.append(lista2)\n",
    "print()\n",
    "print(lista1)"
   ]
  },
  {
   "cell_type": "markdown",
   "id": "cc93d189",
   "metadata": {},
   "source": [
    "## Tuplas\n",
    "\n",
    "Una tupla es otro tipo de datos de secuencia que es similar a la lista.\n",
    "\n",
    "Una tupla consiste en un grupo de valores separados por comas, identificamos a una tupla por que ésta usa paréntesis $( \\quad )$.\n",
    "\n",
    "Las principales características de las tuplas son:\n",
    "1. Los elementos de las tuplas no pueden modificarse (son \\textbf{inmutables}).\n",
    "2. No es posible agregar nuevos elementos a un tupla.\n",
    "3. No podemos modificar el contenido de los elementos de la tupla.\n",
    "4. Identificamos lo que una tupla contiene mediante el manejo de índices: usando el \\emph{slicing}.\n",
    "\n",
    "Las tuplas pueden ser consideradas como listas de sólo lectura."
   ]
  },
  {
   "cell_type": "code",
   "execution_count": 10,
   "id": "11a920c0",
   "metadata": {},
   "outputs": [
    {
     "name": "stdout",
     "output_type": "stream",
     "text": [
      "('abcd', 786, 2.23, 'arena', 70.2)\n",
      "\n",
      "(3.14, 'playa')\n",
      "\n",
      "<class 'tuple'>\n"
     ]
    }
   ],
   "source": [
    "tupla1 = ('abcd', 786, 2.23, 'arena', 70.2)\n",
    "tupla2 = (3.14, 'playa')\n",
    "\n",
    "print(tupla1)\n",
    "print()\n",
    "print(tupla2)\n",
    "print()\n",
    "print(type(tupla1))"
   ]
  },
  {
   "cell_type": "markdown",
   "id": "8e8f8a71",
   "metadata": {},
   "source": [
    "Podemos seleccionar los elementos de la tupla mediante el uso de índices de contenido:"
   ]
  },
  {
   "cell_type": "code",
   "execution_count": 12,
   "id": "a7ff13f1",
   "metadata": {},
   "outputs": [
    {
     "name": "stdout",
     "output_type": "stream",
     "text": [
      "abcd\n",
      "\n",
      "70.2\n"
     ]
    }
   ],
   "source": [
    "print(tupla1[0])\n",
    "print()\n",
    "print(tupla1[-1])"
   ]
  },
  {
   "cell_type": "markdown",
   "id": "aea09a2e",
   "metadata": {},
   "source": [
    "Podemos seleccionar los elementos de la tupla mediante el uso de *slicing*:"
   ]
  },
  {
   "cell_type": "code",
   "execution_count": 14,
   "id": "68cf50b6",
   "metadata": {},
   "outputs": [
    {
     "name": "stdout",
     "output_type": "stream",
     "text": [
      "(786, 2.23)\n",
      "\n",
      "(2.23, 'arena', 70.2)\n"
     ]
    }
   ],
   "source": [
    "print(tupla1[1:3])\n",
    "print()\n",
    "print(tupla1[2:5])"
   ]
  },
  {
   "cell_type": "markdown",
   "id": "c6d8040e",
   "metadata": {},
   "source": [
    "**¿Por qué no tenemos un error al indicar un índice que no corresponde a la tupla?**"
   ]
  },
  {
   "cell_type": "markdown",
   "id": "3d558809",
   "metadata": {},
   "source": [
    "Si queremos modificar el contenido de una tupla, obtendremos un mensaje de error:"
   ]
  },
  {
   "cell_type": "code",
   "execution_count": 15,
   "id": "5d66787d",
   "metadata": {},
   "outputs": [
    {
     "ename": "TypeError",
     "evalue": "'tuple' object does not support item assignment",
     "output_type": "error",
     "traceback": [
      "\u001b[0;31m---------------------------------------------------------------------------\u001b[0m",
      "\u001b[0;31mTypeError\u001b[0m                                 Traceback (most recent call last)",
      "\u001b[0;32m<ipython-input-15-ee43c9447ca2>\u001b[0m in \u001b[0;36m<module>\u001b[0;34m\u001b[0m\n\u001b[0;32m----> 1\u001b[0;31m \u001b[0mtupla1\u001b[0m\u001b[0;34m[\u001b[0m\u001b[0;36m2\u001b[0m\u001b[0;34m]\u001b[0m \u001b[0;34m=\u001b[0m \u001b[0;34m'hola'\u001b[0m\u001b[0;34m\u001b[0m\u001b[0;34m\u001b[0m\u001b[0m\n\u001b[0m",
      "\u001b[0;31mTypeError\u001b[0m: 'tuple' object does not support item assignment"
     ]
    }
   ],
   "source": [
    "tupla1[2] = 'hola'"
   ]
  },
  {
   "cell_type": "markdown",
   "id": "969ba425",
   "metadata": {},
   "source": [
    "Si queremos agregar un elemento a la tupla, obtendremos un mensaje de error:"
   ]
  },
  {
   "cell_type": "code",
   "execution_count": 16,
   "id": "85f0392d",
   "metadata": {},
   "outputs": [
    {
     "ename": "AttributeError",
     "evalue": "'tuple' object has no attribute 'append'",
     "output_type": "error",
     "traceback": [
      "\u001b[0;31m---------------------------------------------------------------------------\u001b[0m",
      "\u001b[0;31mAttributeError\u001b[0m                            Traceback (most recent call last)",
      "\u001b[0;32m<ipython-input-16-96c194998a55>\u001b[0m in \u001b[0;36m<module>\u001b[0;34m\u001b[0m\n\u001b[0;32m----> 1\u001b[0;31m \u001b[0mtupla1\u001b[0m\u001b[0;34m.\u001b[0m\u001b[0mappend\u001b[0m\u001b[0;34m(\u001b[0m\u001b[0;36m100.56\u001b[0m\u001b[0;34m)\u001b[0m\u001b[0;34m\u001b[0m\u001b[0;34m\u001b[0m\u001b[0m\n\u001b[0m",
      "\u001b[0;31mAttributeError\u001b[0m: 'tuple' object has no attribute 'append'"
     ]
    }
   ],
   "source": [
    "tupla1.append(100.56)"
   ]
  },
  {
   "cell_type": "markdown",
   "id": "c5060e24",
   "metadata": {},
   "source": [
    "## Diccionarios.\n",
    "\n",
    "Los diccionarios de python son de tipo tabla-hash.\n",
    "\n",
    "Funcionan como matrices asociativas y consisten en pares *llave - valor*.\n",
    "\n",
    "La *llave* del diccionario puede ser casi de cualquier tipo de dato, pero suelen ser comúnmente números o cadenas.\n",
    "\n",
    "Los *valores*, por otra parte, pueden ser cualquier tipo de objeto arbitrario de python.\n",
    "\n",
    "Para crear un diccionario se debe de iniciar con las llaves $\\{ \\quad \\}$, el siguiente valor corresponde a la llave seguida de dos puntos y a continuación, el valor:\n",
    "\n",
    "$$ \\mbox{mi_dict } = \\{ \\mbox{'valor1'} : \\mbox{'llave1'}, \\mbox{'valor2'} : \\mbox{'llave2'} , \\ldots \\} $$"
   ]
  },
  {
   "cell_type": "markdown",
   "id": "6adb6a90",
   "metadata": {},
   "source": [
    "La siguiente instrucción se escribe en una sola línea:"
   ]
  },
  {
   "cell_type": "code",
   "execution_count": 18,
   "id": "773fecfd",
   "metadata": {},
   "outputs": [
    {
     "name": "stdout",
     "output_type": "stream",
     "text": [
      "{1: 'Eistein', 2: 'Bohr', 3: 'Pauli', 4: 'Schrodinger', 5: 'Hawking'}\n"
     ]
    }
   ],
   "source": [
    "fisicos = {1 : \"Eistein\", 2 : \"Bohr\", 3 : \"Pauli\", 4 : \"Schrodinger\", 5 : \"Hawking\"}\n",
    "\n",
    "print(fisicos)"
   ]
  },
  {
   "cell_type": "markdown",
   "id": "5df0501c",
   "metadata": {},
   "source": [
    "### Recuperando los elementos de un diccionario.\n",
    "\n",
    "Hay un conjunto de funciones que nos permiten recuperar tanto las llaves como los valores de un diccionario:"
   ]
  },
  {
   "cell_type": "code",
   "execution_count": 20,
   "id": "cdacaa8d",
   "metadata": {},
   "outputs": [
    {
     "data": {
      "text/plain": [
       "dict_keys([1, 2, 3, 4, 5])"
      ]
     },
     "execution_count": 20,
     "metadata": {},
     "output_type": "execute_result"
    }
   ],
   "source": [
    "fisicos.keys()"
   ]
  },
  {
   "cell_type": "code",
   "execution_count": 21,
   "id": "05edc3f2",
   "metadata": {},
   "outputs": [
    {
     "data": {
      "text/plain": [
       "dict_values(['Eistein', 'Bohr', 'Pauli', 'Schrodinger', 'Hawking'])"
      ]
     },
     "execution_count": 21,
     "metadata": {},
     "output_type": "execute_result"
    }
   ],
   "source": [
    "fisicos.values()"
   ]
  },
  {
   "cell_type": "markdown",
   "id": "7294b709",
   "metadata": {},
   "source": [
    "### Agregando un nuevo elemento al diccionario.\n",
    "\n",
    "Es posible agregar un nuevo elemento al diccionario con la siguiente función:"
   ]
  },
  {
   "cell_type": "code",
   "execution_count": 22,
   "id": "a2b8a5dd",
   "metadata": {},
   "outputs": [
    {
     "name": "stdout",
     "output_type": "stream",
     "text": [
      "{1: 'Eistein', 2: 'Bohr', 3: 'Pauli', 4: 'Schrodinger', 5: 'Hawking'}\n",
      "\n",
      "{1: 'Eistein', 2: 'Bohr', 3: 'Pauli', 4: 'Schrodinger', 5: 'Hawking', 6: 'Dirac'}\n"
     ]
    }
   ],
   "source": [
    "print(fisicos)\n",
    "\n",
    "fisicos.update({6:'Dirac'})\n",
    "print()\n",
    "print(fisicos)"
   ]
  },
  {
   "cell_type": "markdown",
   "id": "7dfab7d3",
   "metadata": {},
   "source": [
    "Recordemos que este cambio solo queda en memoria, ya que no se ha asignado a una variable."
   ]
  },
  {
   "cell_type": "code",
   "execution_count": null,
   "id": "5345979b",
   "metadata": {},
   "outputs": [],
   "source": []
  }
 ],
 "metadata": {
  "kernelspec": {
   "display_name": "Python 3",
   "language": "python",
   "name": "python3"
  },
  "language_info": {
   "codemirror_mode": {
    "name": "ipython",
    "version": 3
   },
   "file_extension": ".py",
   "mimetype": "text/x-python",
   "name": "python",
   "nbconvert_exporter": "python",
   "pygments_lexer": "ipython3",
   "version": "3.8.5"
  },
  "toc": {
   "base_numbering": 1,
   "nav_menu": {},
   "number_sections": true,
   "sideBar": true,
   "skip_h1_title": false,
   "title_cell": "Table of Contents",
   "title_sidebar": "Contents",
   "toc_cell": false,
   "toc_position": {},
   "toc_section_display": true,
   "toc_window_display": false
  }
 },
 "nbformat": 4,
 "nbformat_minor": 5
}
