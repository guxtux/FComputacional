{
 "cells": [
  {
   "cell_type": "markdown",
   "id": "253583b2",
   "metadata": {},
   "source": [
    "# Colecciones.\n",
    "\n",
    "Hemos revisado algunos tipos de datos básicos en python: números, booleanos y cadenas de texto.\n",
    "\n",
    "Ahora presentaremos los tipos de colecciones que se manejan en este lenguaje:\n",
    "\n",
    "1. Listas.\n",
    "2. Tuplas.\n",
    "3. Diccionarios.\n"
   ]
  },
  {
   "cell_type": "markdown",
   "id": "4cb832fd",
   "metadata": {},
   "source": [
    "## Listas.\n",
    "\n",
    "Las listas son el tipo de dato más versátil de los datos compuestos de python.\n",
    "\n",
    "Una lista contiene elementos separados por comas y entre corchetes $[ \\quad ]$.\n",
    "\n",
    "En cierta medida, las listas son similares a los arreglos (arrays) o vectores.\n",
    "\n",
    "Un punto importante de las listas: es que **todos los elementos pertenecientes a una lista pueden ser de tipo de datos diferent**."
   ]
  },
  {
   "cell_type": "markdown",
   "id": "8a162872",
   "metadata": {},
   "source": [
    "### Escribiendo una lista.\n",
    "\n",
    "Para introducir una lista, abrimos corchetes y separamos mediante comas los elementos de la misma:"
   ]
  },
  {
   "cell_type": "code",
   "execution_count": 1,
   "id": "14b9b1de",
   "metadata": {},
   "outputs": [],
   "source": [
    "lista1 = ['abcd', 786, 2.23, 'salmon', 70.2]\n",
    "\n",
    "lista2 = [ 123, 'pizza']"
   ]
  },
  {
   "cell_type": "code",
   "execution_count": 2,
   "id": "8c5f63ee",
   "metadata": {},
   "outputs": [
    {
     "name": "stdout",
     "output_type": "stream",
     "text": [
      "['abcd', 786, 2.23, 'salmon', 70.2]\n",
      "\n",
      "[123, 'pizza']\n"
     ]
    }
   ],
   "source": [
    "print(lista1)\n",
    "print()\n",
    "print(lista2)"
   ]
  },
  {
   "cell_type": "markdown",
   "id": "9f90513a",
   "metadata": {},
   "source": [
    "### Recuperando los elementos de la lista.\n",
    "\n",
    "Los valores almacenados en una lista se recuperan usando la misma técnica de *slicing* que vimos con las cadenas: $[ \\: ]$ y $[:]$, donde los índices van desde  $0$ hasta el   $n - 1$."
   ]
  },
  {
   "cell_type": "code",
   "execution_count": 3,
   "id": "d6d57583",
   "metadata": {},
   "outputs": [
    {
     "name": "stdout",
     "output_type": "stream",
     "text": [
      "[2.23, 'salmon', 70.2]\n",
      "\n",
      "70.2\n",
      "\n",
      "[2.23, 'salmon']\n"
     ]
    }
   ],
   "source": [
    "print(lista1[2:])\n",
    "print()\n",
    "print(lista1[-1])\n",
    "print()\n",
    "print(lista1[2:4])"
   ]
  },
  {
   "cell_type": "markdown",
   "id": "5aff7a1d",
   "metadata": {},
   "source": [
    "### Operaciones con las listas.\n",
    "\n",
    "También se ocupan las operaciones de *concatenación* ($+$) y repetición en las listas ($*$):"
   ]
  },
  {
   "cell_type": "code",
   "execution_count": 4,
   "id": "8494ca9d",
   "metadata": {},
   "outputs": [
    {
     "name": "stdout",
     "output_type": "stream",
     "text": [
      "['abcd', 786, 2.23, 'salmon', 70.2, 123, 'pizza']\n",
      "\n",
      "[123, 'pizza', 123, 'pizza']\n"
     ]
    }
   ],
   "source": [
    "print(lista1 + lista2)\n",
    "print()\n",
    "print(lista2*2)"
   ]
  },
  {
   "cell_type": "markdown",
   "id": "40db6f9d",
   "metadata": {},
   "source": [
    "Toma en cuenta que el resultado permanece en la memoria de la computadora hasta que se cierre el programa, no se está asignando a una variable."
   ]
  },
  {
   "cell_type": "markdown",
   "id": "8e48bf80",
   "metadata": {},
   "source": [
    "### Agregando un nuevo elemento a la lista.\n",
    "\n",
    "Las listas en python son los únicos objetos en los que podemos agregar nuevos elementos (son **mutables**), para ello hay que utilizar la función *append*:"
   ]
  },
  {
   "cell_type": "code",
   "execution_count": 6,
   "id": "2e6b14a8",
   "metadata": {},
   "outputs": [
    {
     "name": "stdout",
     "output_type": "stream",
     "text": [
      "['abcd', 786, 2.23, 'salmon', 70.2, 654.321]\n"
     ]
    }
   ],
   "source": [
    "lista1.append(654.321)\n",
    "print(lista1)"
   ]
  },
  {
   "cell_type": "markdown",
   "id": "e7da202a",
   "metadata": {},
   "source": [
    "El nuevo elemento ocupa el último lugar dentro de la lista."
   ]
  },
  {
   "cell_type": "markdown",
   "id": "05cf5983",
   "metadata": {},
   "source": [
    "Con una lista en python se puede reemplazar el contenido específico de un elemento, haciendo referencia al índice en particular:"
   ]
  },
  {
   "cell_type": "code",
   "execution_count": 7,
   "id": "fe907f4b",
   "metadata": {},
   "outputs": [
    {
     "name": "stdout",
     "output_type": "stream",
     "text": [
      "[123, 'pizza']\n",
      "\n",
      "[123, 'coordenada']\n"
     ]
    }
   ],
   "source": [
    "print(lista2)\n",
    "\n",
    "lista2[1] = 'coordenada'\n",
    "\n",
    "print()\n",
    "print(lista2)"
   ]
  },
  {
   "cell_type": "markdown",
   "id": "2ff69185",
   "metadata": {},
   "source": [
    "Las listas son un tipo de objeto en python que permite que dentro de la misma, pueda contener a su vez, otra lista:"
   ]
  },
  {
   "cell_type": "code",
   "execution_count": 9,
   "id": "f9f16791",
   "metadata": {},
   "outputs": [
    {
     "name": "stdout",
     "output_type": "stream",
     "text": [
      "['abcd', 786, 2.23, 'salmon', 70.2, 654.321]\n",
      "\n",
      "['abcd', 786, 2.23, 'salmon', 70.2, 654.321, [123, 'coordenada']]\n"
     ]
    }
   ],
   "source": [
    "print(lista1)\n",
    "lista1.append(lista2)\n",
    "print()\n",
    "print(lista1)"
   ]
  },
  {
   "cell_type": "markdown",
   "id": "a6691aa9",
   "metadata": {},
   "source": [
    "## Tuplas\n",
    "\n",
    "Una tupla es otro tipo de datos de secuencia que es similar a la lista.\n",
    "\n",
    "Una tupla consiste en un grupo de valores separados por comas, identificamos a una tupla por que ésta usa paréntesis $( \\quad )$.\n",
    "\n",
    "Las principales características de las tuplas son:\n",
    "1. Los elementos de las tuplas no pueden modificarse (son \\textbf{inmutables}).\n",
    "2. No es posible agregar nuevos elementos a un tupla.\n",
    "3. No podemos modificar el contenido de los elementos de la tupla.\n",
    "4. Identificamos lo que una tupla contiene mediante el manejo de índices: usando el \\emph{slicing}.\n",
    "\n",
    "Las tuplas pueden ser consideradas como listas de sólo lectura."
   ]
  },
  {
   "cell_type": "markdown",
   "id": "b8d686ea",
   "metadata": {},
   "source": [
    "### Escribiendo una tupla.\n",
    "\n",
    "Escribimos una tupla asignando a una variable su contenido, abrimos paréntesis y anotamos los elementos de la tupla:"
   ]
  },
  {
   "cell_type": "code",
   "execution_count": 23,
   "id": "c83015c5",
   "metadata": {},
   "outputs": [
    {
     "name": "stdout",
     "output_type": "stream",
     "text": [
      "('abcd', 786, 2.23, 'arena', 70.2)\n",
      "\n",
      "(3.14, 'playa')\n",
      "\n",
      "<class 'tuple'>\n"
     ]
    }
   ],
   "source": [
    "tupla1 = ('abcd', 786, 2.23, 'arena', 70.2)\n",
    "tupla2 = (3.14, 'playa')\n",
    "\n",
    "print(tupla1)\n",
    "print()\n",
    "print(tupla2)\n",
    "print()\n",
    "print(type(tupla1))"
   ]
  },
  {
   "cell_type": "markdown",
   "id": "f3ea8e8a",
   "metadata": {},
   "source": [
    "### Recuperando los elementos de una tupla.\n",
    "\n",
    "Podemos seleccionar los elementos de la tupla mediante el uso de índices de contenido:"
   ]
  },
  {
   "cell_type": "code",
   "execution_count": 12,
   "id": "61c8054a",
   "metadata": {},
   "outputs": [
    {
     "name": "stdout",
     "output_type": "stream",
     "text": [
      "abcd\n",
      "\n",
      "70.2\n"
     ]
    }
   ],
   "source": [
    "print(tupla1[0])\n",
    "print()\n",
    "print(tupla1[-1])"
   ]
  },
  {
   "cell_type": "markdown",
   "id": "9ad00b38",
   "metadata": {},
   "source": [
    "Podemos seleccionar los elementos de la tupla mediante el uso de *slicing*:"
   ]
  },
  {
   "cell_type": "code",
   "execution_count": 14,
   "id": "25107899",
   "metadata": {},
   "outputs": [
    {
     "name": "stdout",
     "output_type": "stream",
     "text": [
      "(786, 2.23)\n",
      "\n",
      "(2.23, 'arena', 70.2)\n"
     ]
    }
   ],
   "source": [
    "print(tupla1[1:3])\n",
    "print()\n",
    "print(tupla1[2:5])"
   ]
  },
  {
   "cell_type": "markdown",
   "id": "825d7c44",
   "metadata": {},
   "source": [
    "**¿Por qué no tenemos un error al indicar un índice que no corresponde a la tupla?**"
   ]
  },
  {
   "cell_type": "markdown",
   "id": "80f3cc7e",
   "metadata": {},
   "source": [
    "### Errores en el manejo de una tupla.\n",
    "\n",
    "Si queremos modificar el contenido de una tupla, obtendremos un mensaje de error:"
   ]
  },
  {
   "cell_type": "code",
   "execution_count": 15,
   "id": "11f6b568",
   "metadata": {},
   "outputs": [
    {
     "ename": "TypeError",
     "evalue": "'tuple' object does not support item assignment",
     "output_type": "error",
     "traceback": [
      "\u001b[0;31m---------------------------------------------------------------------------\u001b[0m",
      "\u001b[0;31mTypeError\u001b[0m                                 Traceback (most recent call last)",
      "\u001b[0;32m<ipython-input-15-ee43c9447ca2>\u001b[0m in \u001b[0;36m<module>\u001b[0;34m\u001b[0m\n\u001b[0;32m----> 1\u001b[0;31m \u001b[0mtupla1\u001b[0m\u001b[0;34m[\u001b[0m\u001b[0;36m2\u001b[0m\u001b[0;34m]\u001b[0m \u001b[0;34m=\u001b[0m \u001b[0;34m'hola'\u001b[0m\u001b[0;34m\u001b[0m\u001b[0;34m\u001b[0m\u001b[0m\n\u001b[0m",
      "\u001b[0;31mTypeError\u001b[0m: 'tuple' object does not support item assignment"
     ]
    }
   ],
   "source": [
    "tupla1[2] = 'hola'"
   ]
  },
  {
   "cell_type": "markdown",
   "id": "4a06c995",
   "metadata": {},
   "source": [
    "Si queremos agregar un elemento a la tupla, obtendremos un mensaje de error:"
   ]
  },
  {
   "cell_type": "code",
   "execution_count": 16,
   "id": "d84165d1",
   "metadata": {},
   "outputs": [
    {
     "ename": "AttributeError",
     "evalue": "'tuple' object has no attribute 'append'",
     "output_type": "error",
     "traceback": [
      "\u001b[0;31m---------------------------------------------------------------------------\u001b[0m",
      "\u001b[0;31mAttributeError\u001b[0m                            Traceback (most recent call last)",
      "\u001b[0;32m<ipython-input-16-96c194998a55>\u001b[0m in \u001b[0;36m<module>\u001b[0;34m\u001b[0m\n\u001b[0;32m----> 1\u001b[0;31m \u001b[0mtupla1\u001b[0m\u001b[0;34m.\u001b[0m\u001b[0mappend\u001b[0m\u001b[0;34m(\u001b[0m\u001b[0;36m100.56\u001b[0m\u001b[0;34m)\u001b[0m\u001b[0;34m\u001b[0m\u001b[0;34m\u001b[0m\u001b[0m\n\u001b[0m",
      "\u001b[0;31mAttributeError\u001b[0m: 'tuple' object has no attribute 'append'"
     ]
    }
   ],
   "source": [
    "tupla1.append(100.56)"
   ]
  },
  {
   "cell_type": "markdown",
   "id": "722d8e07",
   "metadata": {},
   "source": [
    "## Diccionarios.\n",
    "\n",
    "Los diccionarios de python son de tipo tabla-hash.\n",
    "\n",
    "Funcionan como matrices asociativas y consisten en pares *llave - valor*.\n",
    "\n",
    "La *llave* del diccionario puede ser casi de cualquier tipo de dato, pero suelen ser comúnmente números o cadenas.\n",
    "\n",
    "Los *valores*, por otra parte, pueden ser cualquier tipo de objeto arbitrario de python.\n",
    "\n",
    "Para crear un diccionario se debe de iniciar con las llaves $\\{ \\quad \\}$, el siguiente valor corresponde a la llave seguida de dos puntos y a continuación, el valor:\n",
    "\n",
    "$$ \\mbox{mi_dict } = \\{ \\mbox{'valor1'} : \\mbox{'llave1'}, \\mbox{'valor2'} : \\mbox{'llave2'} , \\ldots \\} $$"
   ]
  },
  {
   "cell_type": "markdown",
   "id": "af51673a",
   "metadata": {},
   "source": [
    "### Escribiendo un diccionario.\n",
    "\n",
    "La siguiente instrucción se escribe en una sola línea:"
   ]
  },
  {
   "cell_type": "code",
   "execution_count": 18,
   "id": "91e88705",
   "metadata": {},
   "outputs": [
    {
     "name": "stdout",
     "output_type": "stream",
     "text": [
      "{1: 'Eistein', 2: 'Bohr', 3: 'Pauli', 4: 'Schrodinger', 5: 'Hawking'}\n"
     ]
    }
   ],
   "source": [
    "fisicos = {1 : \"Eistein\", 2 : \"Bohr\", 3 : \"Pauli\", 4 : \"Schrodinger\", 5 : \"Hawking\"}\n",
    "\n",
    "print(fisicos)"
   ]
  },
  {
   "cell_type": "markdown",
   "id": "896875e6",
   "metadata": {},
   "source": [
    "### Recuperando los elementos de un diccionario.\n",
    "\n",
    "Hay un conjunto de funciones que nos permiten recuperar tanto las llaves como los valores de un diccionario:"
   ]
  },
  {
   "cell_type": "code",
   "execution_count": 20,
   "id": "b0251472",
   "metadata": {},
   "outputs": [
    {
     "data": {
      "text/plain": [
       "dict_keys([1, 2, 3, 4, 5])"
      ]
     },
     "execution_count": 20,
     "metadata": {},
     "output_type": "execute_result"
    }
   ],
   "source": [
    "fisicos.keys()"
   ]
  },
  {
   "cell_type": "code",
   "execution_count": 21,
   "id": "a2984cc0",
   "metadata": {},
   "outputs": [
    {
     "data": {
      "text/plain": [
       "dict_values(['Eistein', 'Bohr', 'Pauli', 'Schrodinger', 'Hawking'])"
      ]
     },
     "execution_count": 21,
     "metadata": {},
     "output_type": "execute_result"
    }
   ],
   "source": [
    "fisicos.values()"
   ]
  },
  {
   "cell_type": "markdown",
   "id": "680c20d5",
   "metadata": {},
   "source": [
    "### Agregando un nuevo elemento al diccionario.\n",
    "\n",
    "Es posible agregar un nuevo elemento al diccionario con la siguiente función:"
   ]
  },
  {
   "cell_type": "code",
   "execution_count": 22,
   "id": "4815edb8",
   "metadata": {},
   "outputs": [
    {
     "name": "stdout",
     "output_type": "stream",
     "text": [
      "{1: 'Eistein', 2: 'Bohr', 3: 'Pauli', 4: 'Schrodinger', 5: 'Hawking'}\n",
      "\n",
      "{1: 'Eistein', 2: 'Bohr', 3: 'Pauli', 4: 'Schrodinger', 5: 'Hawking', 6: 'Dirac'}\n"
     ]
    }
   ],
   "source": [
    "print(fisicos)\n",
    "\n",
    "fisicos.update({6:'Dirac'})\n",
    "print()\n",
    "print(fisicos)"
   ]
  },
  {
   "cell_type": "markdown",
   "id": "1cd93f76",
   "metadata": {},
   "source": [
    "Recordemos que este cambio solo queda en memoria, ya que no se ha asignado a una variable."
   ]
  },
  {
   "cell_type": "markdown",
   "id": "e6241637",
   "metadata": {},
   "source": [
    "# Identificadores en python\n",
    "\n",
    "\n",
    "Los identificadores son nombres que hacen referencia a los objetos que componen un programa: **constantes**, **variables**, **funciones**, **módulos**, **clases** etc.\n",
    "\n",
    "\n",
    "Se recomienda seguir las reglas para construir identificadores:\n",
    "1. El primer carácter debe ser una letra o el carácter de subrayado (guión bajo)\n",
    "2. El primer carácter puede ir seguido de un número variable de dígitos numéricos, letras o carácteres de subrayado.\n",
    "3. No pueden utilizarse espacios en blanco, ni símbolos de puntuación.\n",
    "4. En python se distingue de las mayúsculas y minúsculas.\n",
    "\n",
    "Existe un estándar para la escritura del código en \\python, revisa en la siguiente liga, el manejo de los nombres de los identificadores en: [Referencia para nombres de objetos en python](shorturl.at/fOUV7), del estándar PEP-8.\n",
    "\n",
    "No pueden utilizarse las palabras reservadas de python para ningún tipo de identificador, ya que son palabras reservadas para la ejecución de comandos, funciones, tareas, etc. propias de python (de igual manera que son reservadas en otros lenguajes de programación o del mismo sistema operativo), entre las más comunes tenemos:\n",
    "\n",
    "| del   | for      | is     | raise  | assert |\n",
    "|-------|----------|--------|--------|--------|\n",
    "| elif  | global   | else   | or     | yield  |\n",
    "| from  | lambda   | return | break  | system |\n",
    "| not   | try      | class  | except | if     |\n",
    "| while | continue | exec   | import | pass   |\n",
    "| def   | finally  | in     | print  | del    |\n"
   ]
  },
  {
   "cell_type": "markdown",
   "id": "10521013",
   "metadata": {},
   "source": [
    "# Estructuras de control\n",
    "\n",
    "En cualquier lenguaje de programación se incluye una serie de estructuras de control para ampliar el control, la lógica y ejecución de un programa.\n",
    "\n",
    "En python, manejaremos las más comunes, que son relativamente sencillas de usar, cuidado siempre la sintaxis respectiva.\n",
    "\n",
    "Revisaremos las siguientes estructuras:\n",
    "1. Condicionales.\n",
    "2. Bucles (iterativas).\n"
   ]
  },
  {
   "cell_type": "markdown",
   "id": "3a489135",
   "metadata": {},
   "source": [
    "## Condicionales\n",
    "\n",
    "Una estructura condicional inicialmente evalúa si una o más condiciones cumplen con un valor True.\n",
    "\n",
    "Si la condición (o condiciones) se cumplen, entonces pasa a un bloque de instrucciones que se van a ejecutar.\n",
    "\n",
    "En caso de que el valor de la condición (o condiciones) no se cumpla, es decir, tienen un valor <font color=\" color:red\">False</font>, no se pasa al bloque con las instrucciones contenidas, entonces se ejecuta la siguiente línea de código fuera del condicional.\n",
    "\n",
    "\n",
    "El condicional **if** requiere de una expresión inicial que va a evaluar, como ya se mencionó, en caso de que no se cumpla el valor <font color=\"blue\">True</font>, no se ejecutan las instrucciones contenidas.\n",
    "\n",
    "```\n",
    "if expresion:\n",
    "    instruccion1\n",
    "    instruccion2\n",
    "\n",
    "siguiente línea código\n",
    "```\n",
    "\n",
    "\n",
    "El siguiente ejemplo es un condicional **if**:"
   ]
  },
  {
   "cell_type": "code",
   "execution_count": 3,
   "id": "726d10d8",
   "metadata": {},
   "outputs": [
    {
     "name": "stdout",
     "output_type": "stream",
     "text": [
      "La distancia es menor a un kilómetro\n",
      "\n",
      "La velocidad es:  1.6666666666666667\n"
     ]
    }
   ],
   "source": [
    "distancia = 100\n",
    "tiempo = 60\n",
    "\n",
    "if distancia < 1000:\n",
    "    print('La distancia es menor a un kilómetro.')\n",
    "    print()\n",
    "    print('La velocidad es: ', distancia/tiempo)\n",
    "\n",
    "# Ya no estamos en el condicional"
   ]
  },
  {
   "cell_type": "markdown",
   "id": "1b497c71",
   "metadata": {},
   "source": [
    "### El condicional if-else.\n",
    "\n",
    "Cuando tenemos un condicional con **if**} y la expresión que se evalúa tiene un valor <font color=\" color:red\">False</font>, sabemos que saldrá del bloque condicional.\n",
    "\n",
    "Pero si queremos que se ejecute otro bloque de instrucciones a pesar de que al inicio la expresión evaluada sea <font color=\" color:red\">False</font>, \\pause recurrimos a la instrucción <font color=\" color:blue\">else:</font>, por lo que se ejecutan las instrucciones contenidas dentro de este bloque.\n",
    "```\n",
    "if expresion1:\n",
    "    instruccion1\n",
    "    instruccion2\n",
    "else:\n",
    "    instruccion-else-1\n",
    "    instruccion-else-2\n",
    "\n",
    "siguiente línea código\n",
    "```"
   ]
  },
  {
   "cell_type": "code",
   "execution_count": 5,
   "id": "1c60755b",
   "metadata": {},
   "outputs": [
    {
     "name": "stdout",
     "output_type": "stream",
     "text": [
      "La distancia es mayor a un kilómetro.\n",
      "La velocidad es:  25.0\n"
     ]
    }
   ],
   "source": [
    "distancia = 1500\n",
    "tiempo = 60\n",
    "\n",
    "if distancia < 1000:\n",
    "    print('La distancia es menor a un kilómetro.')\n",
    "else:\n",
    "    print('La distancia es mayor a un kilómetro.')\n",
    "    print('La velocidad es: ', distancia/tiempo)"
   ]
  },
  {
   "cell_type": "markdown",
   "id": "ad231fc0",
   "metadata": {},
   "source": [
    "### El condicional if-elif:\n",
    "\n",
    "El condicional **if** evalúa al inicio solo una expresión (o expresiones), en ocasiones se puede incluir la evaluación de una segunda expresión distinta mediante:\n",
    "```\n",
    "if expresion1:\n",
    "    instruccion1\n",
    "    instruccion2\n",
    "elif expresion2:\n",
    "    otra-instruccion1\n",
    "    otra-instruccion2\n",
    "\n",
    "siguiente línea código\n",
    "```\n",
    "\n",
    "La *expresion1* no se cumple, por lo que se pasa a la siguiente línea.\n",
    "\n",
    "Si *expresion2*} <font color=\"blue\">True</font>, entonces se ejecutan las instrucciones contenidas en ese bloque."
   ]
  },
  {
   "cell_type": "code",
   "execution_count": 7,
   "id": "a5a313d3",
   "metadata": {},
   "outputs": [
    {
     "name": "stdout",
     "output_type": "stream",
     "text": [
      "La distancia es menor a dos kilómetros\n"
     ]
    }
   ],
   "source": [
    "distancia = 1500\n",
    "\n",
    "if distancia <= 1000:\n",
    "    print('La distancia es menor a un kilómetro')\n",
    "elif distancia <= 2000:\n",
    "    print('La distancia es menor a dos kilómetros')"
   ]
  },
  {
   "cell_type": "markdown",
   "id": "e940c8d2",
   "metadata": {},
   "source": [
    "### El condicional if-elif-else:\n",
    "\n",
    "Podemos ocupar en condicional **if-elif:** en donde se evalúan dos expresiones, en caso de que ambas sean \\font color=\"red\">False</font>, se ejecuta el código contenido en **else:**\n",
    "```\n",
    "if expresion1:\n",
    "    instruccion1\n",
    "    instruccion2\n",
    "elif expresion2:\n",
    "    instruccion-elif-1\n",
    "    instruccion-elif-2\n",
    "else:\n",
    "    instruccion-else-1\n",
    "    instruccion-else-2\n",
    "\n",
    "siguiente línea código\n",
    "```"
   ]
  },
  {
   "cell_type": "code",
   "execution_count": 8,
   "id": "94f652b7",
   "metadata": {},
   "outputs": [
    {
     "name": "stdout",
     "output_type": "stream",
     "text": [
      "Introduce el valor de a8\n",
      "a es positivo\n"
     ]
    }
   ],
   "source": [
    "a = int(input('Introduce el valor de a'))\n",
    "if a > 0:\n",
    "    print (\"a es positivo\")\n",
    "    a = a + 1\n",
    "elif a == 0: \n",
    "    print (\"a es 0\")\n",
    "else:\n",
    "    print (\"a es negativo\")"
   ]
  },
  {
   "cell_type": "markdown",
   "id": "41b0dc21",
   "metadata": {},
   "source": [
    "En el ejemplo anterior la función **input**, permite el ingreso de datos por parte del usuario.\n",
    "\n",
    "Todo aquel valor que se introduce, se toma como una *cadena*, por ello se utiliza la función **int ( )** para convertirla a un tipo de dato entero."
   ]
  },
  {
   "cell_type": "markdown",
   "id": "9d015a71",
   "metadata": {},
   "source": [
    "# Bucles (loops)\n",
    "\n",
    "Un bucle es una sentencia que ejecuta un mismo conjunto de instrucciones, de manera repetida mientras se satisface una condición.\n",
    "\n",
    "Se evalúa inicialmente una condición, en caso de que su valor sea <font color=\"blue\">True</font> se ejecutan las instrucciones contenidas, la repetición termina al cambiar el valor de la condición.\n",
    "\n",
    "En python se tienen dos estructuras iterativas:\n",
    "1. for-in\n",
    "2. while"
   ]
  },
  {
   "cell_type": "markdown",
   "id": "b2205e2c",
   "metadata": {},
   "source": [
    "## Sentencia for ... in\n",
    "\n",
    "Es una forma genérica de iterar sobre una secuencia.\n",
    "\n",
    "Podemos usar como secuencia: *listas* como *tuplas* o generar una, para ejecutar el bucle un número determinado de veces."
   ]
  },
  {
   "cell_type": "code",
   "execution_count": 9,
   "id": "405713df",
   "metadata": {},
   "outputs": [
    {
     "name": "stdout",
     "output_type": "stream",
     "text": [
      "alfa\n",
      "beta\n",
      "gama\n",
      "delta\n"
     ]
    }
   ],
   "source": [
    "# Usaremos un objeto alfabeto y el ciclo \\funcionazul{for-in}:\n",
    "\n",
    "alfabeto = [\"alfa\", \"beta\", \"gama\", \"delta\"]\n",
    "\n",
    "for letra in alfabeto:\n",
    "    print(letra)"
   ]
  },
  {
   "cell_type": "markdown",
   "id": "99f2a3f2",
   "metadata": {},
   "source": [
    "En este ejemplo la instrucción *print* se ejecutará tantas veces como elementos haya en la lista *alfabeto*, en cada iteración la variable *letra* tomará el valor de cada uno de los elementos de la lista."
   ]
  },
  {
   "cell_type": "markdown",
   "id": "38896d7a",
   "metadata": {},
   "source": [
    "¿Cómo le hacemos para iterar sobre una serie de números naturales consecutivos? ¿Por ejemplo del $1$ al $20$?.\n",
    "\n",
    "Para ello usaremos la función **range( )**. Esta función genera una lista con una progresión aritmética de números naturales.\n",
    "\n",
    "1. Si le pasamos un único parámetro se generará una lista que va desde $0$ hasta $n-1$.\n",
    "$$\\mbox{range}(10)$$\n",
    "2.  Si le damos dos argumentos: **range(inicio, fin)**, generará una lista desde el valor *inicio* hasta *fin - 1*.\n",
    "$$\\mbox{range}(1, 10)$$\n",
    "3. Si le damos tres argumentos: **range(inicio, fin, paso)**, usará el *paso* como incremento para generar los elementos de la lista.\n",
    "$$\\mbox{range}(1, 20, 3)$$"
   ]
  },
  {
   "cell_type": "code",
   "execution_count": 10,
   "id": "9b7204a2",
   "metadata": {},
   "outputs": [
    {
     "name": "stdout",
     "output_type": "stream",
     "text": [
      "[0, 1, 2, 3, 4, 5, 6, 7, 8, 9]\n",
      "\n",
      "[1, 2, 3, 4, 5, 6, 7, 8, 9]\n",
      "\n",
      "[1, 4, 7, 10, 13, 16, 19]\n"
     ]
    }
   ],
   "source": [
    "print(list(range(10)))\n",
    "print()\n",
    "print(list(range(1, 10)))\n",
    "print()\n",
    "print(list(range(1, 20, 3)))"
   ]
  },
  {
   "cell_type": "markdown",
   "id": "5824190d",
   "metadata": {},
   "source": [
    "###  Recorriendo los elementos de una cadena.\n",
    "\n",
    "Podemos usar una cadena de caracteres como secuencia, de forma que en cada iteración se tomará un elemento de la cadena."
   ]
  },
  {
   "cell_type": "code",
   "execution_count": 11,
   "id": "183bcb42",
   "metadata": {},
   "outputs": [
    {
     "name": "stdout",
     "output_type": "stream",
     "text": [
      "A\n",
      "B\n",
      "C\n",
      "D\n"
     ]
    }
   ],
   "source": [
    "for letra in 'ABCD':\n",
    "    print(letra)"
   ]
  },
  {
   "cell_type": "markdown",
   "id": "a5f28445",
   "metadata": {},
   "source": [
    "En caso de que necesitemos iterar sobre una *lista* y a la vez recuperar el índice de cada elemento de la lista,  usaremos la función **enumerate( )** que devuelve dos valores: la *índice* y el *elemento*} de la lista."
   ]
  },
  {
   "cell_type": "code",
   "execution_count": 12,
   "id": "b05d5253",
   "metadata": {},
   "outputs": [
    {
     "name": "stdout",
     "output_type": "stream",
     "text": [
      "0 recta\n",
      "1 círculo\n",
      "2 cono\n",
      "3 plano\n",
      "4 esfera\n"
     ]
    }
   ],
   "source": [
    "figura = [\"recta\", \"círculo\", \"cono\", \"plano\", \"esfera\"]\n",
    "for indice, elemento in enumerate(figura):\n",
    "    print (indice, elemento)"
   ]
  },
  {
   "cell_type": "markdown",
   "id": "6ae59418",
   "metadata": {},
   "source": [
    "## Sentencia while\n",
    "\n",
    "Ese bucle repite un conjunto de instrucciones mientras se cumpla una determinada condición que se evalúa al principio de cada ejecución.\n",
    "```\n",
    "while expresion:\n",
    "    instruccion1\n",
    "    instruccion2\n",
    "    ...\n",
    "\n",
    "siguiente línea código\n",
    "```"
   ]
  },
  {
   "cell_type": "code",
   "execution_count": 12,
   "id": "a8fe2568",
   "metadata": {},
   "outputs": [
    {
     "name": "stdout",
     "output_type": "stream",
     "text": [
      "30\n",
      "31\n",
      "32\n",
      "33\n",
      "34\n",
      "35\n",
      "36\n",
      "37\n",
      "38\n",
      "39\n",
      "40\n",
      "41\n",
      "42\n"
     ]
    }
   ],
   "source": [
    "angulo = 30\n",
    "\n",
    "while angulo <= 42:\n",
    "    print(angulo)\n",
    "    angulo = angulo + 1"
   ]
  },
  {
   "cell_type": "markdown",
   "id": "9f2ea2a7",
   "metadata": {},
   "source": [
    "Es evidente que las instrucciones dentro del bucle **while** tendrán que hacer algo que cambie el valor de la condición, para que termine la sentencia.\n",
    "\n",
    "En caso contrario tendremos un <font color=\"red\">bucle infinito</font> y el programa nunca terminará su ejecución.\n",
    "\n",
    "Una de las características del bucle *while* es que no está fijado previamente el número de veces que se ejecutan las instrucciones del bucle.\n",
    "\n",
    "Se ejecutarán todas las que sean necesarias mientras se cumpla la condición.\n",
    "\n",
    "Como hemos mencionado, la sentencia *while* va a iterar mientras se cumpla una condición.\n",
    "\n",
    "Pero vamos a encontrar que en ocasiones, necesitamos *salir* del bucle sin que tengamos que esperar a que la condición cambie.\n",
    "\n",
    "Hay dos palabras reservadas que se usan dentro de un bucle *while*:\n",
    "\n",
    "1. continue.\n",
    "2. break."
   ]
  },
  {
   "cell_type": "markdown",
   "id": "aabf54f0",
   "metadata": {},
   "source": [
    "### Forzar la salida con continue.\n",
    "\n",
    "Con **continue** pasamos de nuevo al principio del bucle, aunque no se haya terminado de ejecutar el ciclo."
   ]
  },
  {
   "cell_type": "code",
   "execution_count": 14,
   "id": "41a1b496",
   "metadata": {},
   "outputs": [
    {
     "name": "stdout",
     "output_type": "stream",
     "text": [
      "Felicidades!! Tienes 19 años\n",
      "Felicidades!! Tienes 21 años\n",
      "Felicidades!! Tienes 23 años\n",
      "Felicidades!! Tienes 25 años\n"
     ]
    }
   ],
   "source": [
    "edad = 18\n",
    "while edad < 25:\n",
    "    edad = edad + 1\n",
    "    if edad % 2 == 0:\n",
    "        continue\n",
    "    print (\"Felicidades!! Tienes {0:} años\".format(edad))"
   ]
  },
  {
   "cell_type": "markdown",
   "id": "418cf573",
   "metadata": {},
   "source": [
    "### Forzar la salida con break.\n",
    "\n",
    "Por su parte, **break** hace que salgamos del bucle **while** directamente sin necesidad de volver a evaluar la condición, aunque siga siendo cierta."
   ]
  },
  {
   "cell_type": "code",
   "execution_count": 13,
   "id": "12a1bd8d",
   "metadata": {},
   "outputs": [
    {
     "name": "stdout",
     "output_type": "stream",
     "text": [
      "> 8\n",
      "8\n",
      "> 9\n",
      "9\n",
      "> hola\n",
      "hola\n",
      "> asios\n",
      "asios\n",
      "> adios\n"
     ]
    }
   ],
   "source": [
    "while True:\n",
    "    entrada = input(\"> \")\n",
    "    if entrada == \"adios\":\n",
    "        break\n",
    "    else:\n",
    "        print (entrada)"
   ]
  },
  {
   "cell_type": "markdown",
   "id": "89f3e52a",
   "metadata": {},
   "source": [
    "# Manejo de excepciones.\n",
    "\n",
    "Cuando comenzamos a programar, nos podemos encontrar con mensajes de error al momento de ejecutar el programa, siendo las causas más comunes:\n",
    "1. Errores de dedo: escribiendo incorrectamente una instrucción, sentencia, variable o constante.\n",
    "2. Errores al momento de introducir los datos, por ejemplo, si el valor que se debe de ingresar es $123.45$, y si nosotros tecleamos $1234.5$, el resultado ya se considera un error.\n",
    "3. Errores que se muestran en tiempo de ejecución, es decir, todo está bien escrito y los datos están bien introducidos, pero hay un error debido a la lógica del programa o del método utilizado, ejemplo: división entre cero.\n",
    "\n",
    "Cuando se presenta un error en la ejecución del código, el programa se detiene. Siendo necesario corregir el error y nuevamente, ejecutar el programa."
   ]
  },
  {
   "cell_type": "markdown",
   "id": "ea7cfd19",
   "metadata": {},
   "source": [
    "En el siguiente ejemplo, obtendremos de antemano un error por intentar una operación matemática no permitida."
   ]
  },
  {
   "cell_type": "code",
   "execution_count": 15,
   "id": "1ce1d9bd",
   "metadata": {},
   "outputs": [
    {
     "ename": "ZeroDivisionError",
     "evalue": "float division by zero",
     "output_type": "error",
     "traceback": [
      "\u001b[0;31m---------------------------------------------------------------------------\u001b[0m",
      "\u001b[0;31mZeroDivisionError\u001b[0m                         Traceback (most recent call last)",
      "\u001b[0;32m<ipython-input-15-d424c91496c1>\u001b[0m in \u001b[0;36m<module>\u001b[0;34m\u001b[0m\n\u001b[0;32m----> 1\u001b[0;31m \u001b[0mc\u001b[0m \u001b[0;34m=\u001b[0m \u001b[0;36m12.0\u001b[0m\u001b[0;34m/\u001b[0m\u001b[0;36m0.0\u001b[0m\u001b[0;34m\u001b[0m\u001b[0;34m\u001b[0m\u001b[0m\n\u001b[0m",
      "\u001b[0;31mZeroDivisionError\u001b[0m: float division by zero"
     ]
    }
   ],
   "source": [
    "c = 12.0/0.0"
   ]
  },
  {
   "cell_type": "markdown",
   "id": "30a54699",
   "metadata": {},
   "source": [
    "Veamos otro ejemplo:"
   ]
  },
  {
   "cell_type": "code",
   "execution_count": 16,
   "id": "6150c920",
   "metadata": {},
   "outputs": [
    {
     "ename": "SyntaxError",
     "evalue": "invalid syntax (<ipython-input-16-9343c17d223d>, line 1)",
     "output_type": "error",
     "traceback": [
      "\u001b[0;36m  File \u001b[0;32m\"<ipython-input-16-9343c17d223d>\"\u001b[0;36m, line \u001b[0;32m1\u001b[0m\n\u001b[0;31m    while True print('Hola mundo')\u001b[0m\n\u001b[0m               ^\u001b[0m\n\u001b[0;31mSyntaxError\u001b[0m\u001b[0;31m:\u001b[0m invalid syntax\n"
     ]
    }
   ],
   "source": [
    "while True print('Hola mundo')"
   ]
  },
  {
   "cell_type": "markdown",
   "id": "4f54aa93",
   "metadata": {},
   "source": [
    "El intérprete de python indica la línea **culpable** y muestra una pequeña *marca* que apunta al lugar donde se detectó el error.\n",
    "\n",
    "Este es causado por (o al menos detectado en) el símbolo que precede a la flecha: en el ejemplo, el error se detecta en la función **print( )**, ya que faltan dos puntos **:** antes del mismo.\n",
    "\n",
    "Se muestran el nombre del archivo y el número de línea para que sepas dónde mirar en caso de que la entrada venga de un programa.    \n",
    "\n",
    "Es importante conocer los distintos tipos de error que pueden generarse en python, en la documentación oficial podremos encontrar una lista con el nombre del tipo de error y por qué se genera.\n",
    "\n",
    "Errores aritméticos.\n",
    "1. OverflowError.\n",
    "2. ZeroDivisionError.\n",
    "3. FloatingPointError.\n",
    "\n",
    "\n",
    "Errores generales.\n",
    "1. ImportError.\n",
    "2. IndexError.\n",
    "3. KeyboardInterrupt.\n",
    "4. NameError.\n",
    "5. SyntaxError.\n",
    "6. TabError.\n",
    "7. ValueError."
   ]
  },
  {
   "attachments": {
    "Manejo_Excepciones_01.png": {
     "image/png": "[encoded data removed]"
    }
   },
   "cell_type": "markdown",
   "id": "1abe2aef",
   "metadata": {},
   "source": [
    "## Creando un manejo de excepciones.\n",
    "\n",
    "En programación se conoce como **excepción** a un error que se detecta en ejecución.\n",
    "\n",
    "El manejo de excepciones es un código que las gestiona y que le permiten al usuario dar solución para que el programa continúe.\n",
    "\n",
    "En la siguiente figura se presenta la estructura del manejo de excepciones en python.\n",
    "![Estructura del manejo de excepciones](attachment:Manejo_Excepciones_01.png)"
   ]
  },
  {
   "cell_type": "markdown",
   "id": "615caddf",
   "metadata": {},
   "source": [
    "Veamos el siguiente ejemplo:"
   ]
  },
  {
   "cell_type": "code",
   "execution_count": 17,
   "id": "db493aed",
   "metadata": {},
   "outputs": [
    {
     "name": "stdout",
     "output_type": "stream",
     "text": [
      "La variable 'x' no está definida\n"
     ]
    }
   ],
   "source": [
    "try:\n",
    "    print(x)\n",
    "except NameError:\n",
    "    print('La variable \\'x\\' no está definida')\n",
    "except:\n",
    "    print('Algo salió mal')"
   ]
  },
  {
   "cell_type": "markdown",
   "id": "b0c38cd1",
   "metadata": {},
   "source": [
    "Otro ejemplo de un manejo de excepción:"
   ]
  },
  {
   "cell_type": "code",
   "execution_count": 18,
   "id": "c64945a5",
   "metadata": {},
   "outputs": [
    {
     "name": "stdout",
     "output_type": "stream",
     "text": [
      "Hola mundo!\n",
      "No hubo problemas\n"
     ]
    }
   ],
   "source": [
    "try:\n",
    "    print('Hola mundo!')\n",
    "except:\n",
    "    print('Algo salió mal')\n",
    "else:\n",
    "    print('No hubo problemas')"
   ]
  },
  {
   "cell_type": "markdown",
   "id": "2986a174",
   "metadata": {},
   "source": [
    "Un ejemplo más del un manejo de excepción:"
   ]
  },
  {
   "cell_type": "code",
   "execution_count": 19,
   "id": "a00ba612",
   "metadata": {},
   "outputs": [
    {
     "name": "stdout",
     "output_type": "stream",
     "text": [
      "Hola mundo!\n",
      "No hubo problemas\n",
      "Salimos del manejo de excepciones\n"
     ]
    }
   ],
   "source": [
    "try:\n",
    "    print('Hola mundo!')\n",
    "except:\n",
    "    print('Algo salió mal')\n",
    "else:\n",
    "    print('No hubo problemas')\n",
    "finally:\n",
    "    print('Salimos del manejo de excepciones')"
   ]
  },
  {
   "cell_type": "markdown",
   "id": "2dba4468",
   "metadata": {},
   "source": [
    "Podemos generar una excepción si se produce una condición en particular.\n",
    "\n",
    "Para *lanzar* (o generar) una excepción, usamos la palabra clave **raise**.\n",
    "\n",
    "Podemos definir el tipo de error para generar la excepción y el texto que se le mostrará al usuario."
   ]
  },
  {
   "cell_type": "code",
   "execution_count": 20,
   "id": "88b926c0",
   "metadata": {},
   "outputs": [
    {
     "ename": "TypeError",
     "evalue": "Solo se permiten enteros",
     "output_type": "error",
     "traceback": [
      "\u001b[0;31m---------------------------------------------------------------------------\u001b[0m",
      "\u001b[0;31mTypeError\u001b[0m                                 Traceback (most recent call last)",
      "\u001b[0;32m<ipython-input-20-b9c357c94c4c>\u001b[0m in \u001b[0;36m<module>\u001b[0;34m\u001b[0m\n\u001b[1;32m      2\u001b[0m \u001b[0;34m\u001b[0m\u001b[0m\n\u001b[1;32m      3\u001b[0m \u001b[0;32mif\u001b[0m \u001b[0;32mnot\u001b[0m \u001b[0mtype\u001b[0m\u001b[0;34m(\u001b[0m\u001b[0mx\u001b[0m\u001b[0;34m)\u001b[0m \u001b[0;32mis\u001b[0m \u001b[0mint\u001b[0m\u001b[0;34m:\u001b[0m\u001b[0;34m\u001b[0m\u001b[0;34m\u001b[0m\u001b[0m\n\u001b[0;32m----> 4\u001b[0;31m     \u001b[0;32mraise\u001b[0m \u001b[0mTypeError\u001b[0m\u001b[0;34m(\u001b[0m\u001b[0;34m'Solo se permiten enteros'\u001b[0m\u001b[0;34m)\u001b[0m\u001b[0;34m\u001b[0m\u001b[0;34m\u001b[0m\u001b[0m\n\u001b[0m",
      "\u001b[0;31mTypeError\u001b[0m: Solo se permiten enteros"
     ]
    }
   ],
   "source": [
    "x = 'Hola!'\n",
    "\n",
    "if not type(x) is int:\n",
    "    raise TypeError('Solo se permiten enteros')"
   ]
  },
  {
   "cell_type": "markdown",
   "id": "f33d5f74",
   "metadata": {},
   "source": [
    "Algunos tipos de error.\n",
    "\n",
    "1. ArtimethicError: Errores aritméticos.\n",
    "2. FloatingPointError: Error en una operación de punto flotante.\n",
    "3. OverflowError: Resultado demasiado grande para representarlo.\n",
    "4. ZeroDivisionError: Cuando el segundo argumento de una división o módulo es $0$.\n",
    "5. EOFError: Se intentó leer más allá del final del archivo.\n",
    "6. IOError: Error en una operación de entrada/salida."
   ]
  },
  {
   "cell_type": "code",
   "execution_count": 21,
   "id": "652f1783",
   "metadata": {},
   "outputs": [
    {
     "name": "stdout",
     "output_type": "stream",
     "text": [
      "Ingresa un numerador: 10\n"
     ]
    }
   ],
   "source": [
    "a = int(input('Ingresa un numerador: '))"
   ]
  },
  {
   "cell_type": "code",
   "execution_count": 22,
   "id": "b6b0886c",
   "metadata": {},
   "outputs": [
    {
     "name": "stdout",
     "output_type": "stream",
     "text": [
      "Ingresa un denominador: 0\n"
     ]
    }
   ],
   "source": [
    "b = int(input('Ingresa un denominador: '))"
   ]
  },
  {
   "cell_type": "code",
   "execution_count": 23,
   "id": "eec4c8a0",
   "metadata": {},
   "outputs": [
    {
     "name": "stdout",
     "output_type": "stream",
     "text": [
      "No podemos dividir entre cero\n",
      "Ingresa un denominador: 2\n"
     ]
    }
   ],
   "source": [
    "try:\n",
    "    c = a / b\n",
    "    print('El cociente es: {0:}'.format(c))\n",
    "except:\n",
    "    if b == 0:\n",
    "        print('No podemos dividir entre cero')\n",
    "        b = int(input('Ingresa un denominador: '))"
   ]
  },
  {
   "cell_type": "code",
   "execution_count": 26,
   "id": "c79d1c65",
   "metadata": {},
   "outputs": [
    {
     "name": "stdout",
     "output_type": "stream",
     "text": [
      "Hola mundo!\n",
      "No hubo problemas\n"
     ]
    }
   ],
   "source": [
    "try:\n",
    "    print('Hola mundo!')\n",
    "except:\n",
    "    print('Algo salió mal')\n",
    "else:\n",
    "    print('No hubo problemas')"
   ]
  },
  {
   "cell_type": "code",
   "execution_count": 27,
   "id": "60d5ad99",
   "metadata": {},
   "outputs": [
    {
     "name": "stdout",
     "output_type": "stream",
     "text": [
      "Hola mundo!\n",
      "No hubo problemas\n",
      "Salimos del manejo de excepciones\n"
     ]
    }
   ],
   "source": [
    "try:\n",
    "    print('Hola mundo!')\n",
    "except:\n",
    "    print('Algo salió mal')\n",
    "else:\n",
    "    print('No hubo problemas')\n",
    "finally:\n",
    "    print('Salimos del manejo de excepciones')"
   ]
  },
  {
   "cell_type": "code",
   "execution_count": 28,
   "id": "38029259",
   "metadata": {},
   "outputs": [
    {
     "ename": "Exception",
     "evalue": "No se permiten número negativos",
     "output_type": "error",
     "traceback": [
      "\u001b[0;31m---------------------------------------------------------------------------\u001b[0m",
      "\u001b[0;31mException\u001b[0m                                 Traceback (most recent call last)",
      "\u001b[0;32m<ipython-input-28-2ba61a249bd5>\u001b[0m in \u001b[0;36m<module>\u001b[0;34m\u001b[0m\n\u001b[1;32m      1\u001b[0m \u001b[0mx\u001b[0m \u001b[0;34m=\u001b[0m \u001b[0;34m-\u001b[0m\u001b[0;36m1\u001b[0m\u001b[0;34m\u001b[0m\u001b[0;34m\u001b[0m\u001b[0m\n\u001b[1;32m      2\u001b[0m \u001b[0;32mif\u001b[0m \u001b[0mx\u001b[0m \u001b[0;34m<\u001b[0m \u001b[0;36m0\u001b[0m\u001b[0;34m:\u001b[0m\u001b[0;34m\u001b[0m\u001b[0;34m\u001b[0m\u001b[0m\n\u001b[0;32m----> 3\u001b[0;31m     \u001b[0;32mraise\u001b[0m \u001b[0mException\u001b[0m\u001b[0;34m(\u001b[0m\u001b[0;34m'No se permiten número negativos'\u001b[0m\u001b[0;34m)\u001b[0m\u001b[0;34m\u001b[0m\u001b[0;34m\u001b[0m\u001b[0m\n\u001b[0m",
      "\u001b[0;31mException\u001b[0m: No se permiten número negativos"
     ]
    }
   ],
   "source": [
    "x = -1\n",
    "if x < 0:\n",
    "    raise Exception('No se permiten número negativos')"
   ]
  },
  {
   "cell_type": "code",
   "execution_count": 29,
   "id": "ad5957dd",
   "metadata": {},
   "outputs": [
    {
     "ename": "TypeError",
     "evalue": "Se requieren números enteros",
     "output_type": "error",
     "traceback": [
      "\u001b[0;31m---------------------------------------------------------------------------\u001b[0m",
      "\u001b[0;31mTypeError\u001b[0m                                 Traceback (most recent call last)",
      "\u001b[0;32m<ipython-input-29-646d6e7f99c4>\u001b[0m in \u001b[0;36m<module>\u001b[0;34m\u001b[0m\n\u001b[1;32m      1\u001b[0m \u001b[0mx\u001b[0m \u001b[0;34m=\u001b[0m \u001b[0;34m'Hola!'\u001b[0m\u001b[0;34m\u001b[0m\u001b[0;34m\u001b[0m\u001b[0m\n\u001b[1;32m      2\u001b[0m \u001b[0;32mif\u001b[0m \u001b[0;32mnot\u001b[0m \u001b[0mtype\u001b[0m\u001b[0;34m(\u001b[0m\u001b[0mx\u001b[0m\u001b[0;34m)\u001b[0m \u001b[0;32mis\u001b[0m \u001b[0mint\u001b[0m\u001b[0;34m:\u001b[0m\u001b[0;34m\u001b[0m\u001b[0;34m\u001b[0m\u001b[0m\n\u001b[0;32m----> 3\u001b[0;31m     \u001b[0;32mraise\u001b[0m \u001b[0mTypeError\u001b[0m\u001b[0;34m(\u001b[0m\u001b[0;34m'Se requieren números enteros'\u001b[0m\u001b[0;34m)\u001b[0m\u001b[0;34m\u001b[0m\u001b[0;34m\u001b[0m\u001b[0m\n\u001b[0m",
      "\u001b[0;31mTypeError\u001b[0m: Se requieren números enteros"
     ]
    }
   ],
   "source": [
    "x = 'Hola!'\n",
    "if not type(x) is int:\n",
    "    raise TypeError('Se requieren números enteros')"
   ]
  }
 ],
 "metadata": {
  "kernelspec": {
   "display_name": "Python 3",
   "language": "python",
   "name": "python3"
  },
  "language_info": {
   "codemirror_mode": {
    "name": "ipython",
    "version": 3
   },
   "file_extension": ".py",
   "mimetype": "text/x-python",
   "name": "python",
   "nbconvert_exporter": "python",
   "pygments_lexer": "ipython3",
   "version": "3.8.5"
  },
  "toc": {
   "base_numbering": 1,
   "nav_menu": {},
   "number_sections": true,
   "sideBar": true,
   "skip_h1_title": false,
   "title_cell": "Table of Contents",
   "title_sidebar": "Contents",
   "toc_cell": false,
   "toc_position": {},
   "toc_section_display": true,
   "toc_window_display": false
  }
 },
 "nbformat": 4,
 "nbformat_minor": 5
}
