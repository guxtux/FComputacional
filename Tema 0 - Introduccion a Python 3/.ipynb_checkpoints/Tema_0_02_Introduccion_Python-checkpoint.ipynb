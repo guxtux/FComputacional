{
 "cells": [
  {
   "cell_type": "markdown",
   "id": "253583b2",
   "metadata": {},
   "source": [
    "# Colecciones.\n",
    "\n",
    "Hemos revisado algunos tipos de datos básicos en python: números, booleanos y cadenas de texto.\n",
    "\n",
    "Ahora presentaremos los tipos de colecciones que se manejan en este lenguaje:\n",
    "\n",
    "1. Listas.\n",
    "2. Tuplas.\n",
    "3. Diccionarios.\n"
   ]
  },
  {
   "cell_type": "markdown",
   "id": "4cb832fd",
   "metadata": {},
   "source": [
    "## Listas.\n",
    "\n",
    "Las listas son el tipo de dato más versátil de los datos compuestos de python.\n",
    "\n",
    "Una lista contiene elementos separados por comas y entre corchetes $[ \\quad ]$.\n",
    "\n",
    "En cierta medida, las listas son similares a los arreglos (arrays) o vectores.\n",
    "\n",
    "Un punto importante de las listas: es que **todos los elementos pertenecientes a una lista pueden ser de tipo de datos diferent**."
   ]
  },
  {
   "cell_type": "markdown",
   "id": "8a162872",
   "metadata": {},
   "source": [
    "### Escribiendo una lista.\n",
    "\n",
    "Para introducir una lista, abrimos corchetes y separamos mediante comas los elementos de la misma:"
   ]
  },
  {
   "cell_type": "code",
   "execution_count": 1,
   "id": "14b9b1de",
   "metadata": {},
   "outputs": [],
   "source": [
    "lista1 = ['abcd', 786, 2.23, 'salmon', 70.2]\n",
    "\n",
    "lista2 = [ 123, 'pizza']"
   ]
  },
  {
   "cell_type": "code",
   "execution_count": 2,
   "id": "8c5f63ee",
   "metadata": {},
   "outputs": [
    {
     "name": "stdout",
     "output_type": "stream",
     "text": [
      "['abcd', 786, 2.23, 'salmon', 70.2]\n",
      "\n",
      "[123, 'pizza']\n"
     ]
    }
   ],
   "source": [
    "print(lista1)\n",
    "print()\n",
    "print(lista2)"
   ]
  },
  {
   "cell_type": "markdown",
   "id": "9f90513a",
   "metadata": {},
   "source": [
    "### Recuperando los elementos de la lista.\n",
    "\n",
    "Los valores almacenados en una lista se recuperan usando la misma técnica de *slicing* que vimos con las cadenas: $[ \\: ]$ y $[:]$, donde los índices van desde  $0$ hasta el   $n - 1$."
   ]
  },
  {
   "cell_type": "code",
   "execution_count": 3,
   "id": "d6d57583",
   "metadata": {},
   "outputs": [
    {
     "name": "stdout",
     "output_type": "stream",
     "text": [
      "[2.23, 'salmon', 70.2]\n",
      "\n",
      "70.2\n",
      "\n",
      "[2.23, 'salmon']\n"
     ]
    }
   ],
   "source": [
    "print(lista1[2:])\n",
    "print()\n",
    "print(lista1[-1])\n",
    "print()\n",
    "print(lista1[2:4])"
   ]
  },
  {
   "cell_type": "markdown",
   "id": "5aff7a1d",
   "metadata": {},
   "source": [
    "### Operaciones con las listas.\n",
    "\n",
    "También se ocupan las operaciones de *concatenación* ($+$) y repetición en las listas ($*$):"
   ]
  },
  {
   "cell_type": "code",
   "execution_count": 4,
   "id": "8494ca9d",
   "metadata": {},
   "outputs": [
    {
     "name": "stdout",
     "output_type": "stream",
     "text": [
      "['abcd', 786, 2.23, 'salmon', 70.2, 123, 'pizza']\n",
      "\n",
      "[123, 'pizza', 123, 'pizza']\n"
     ]
    }
   ],
   "source": [
    "print(lista1 + lista2)\n",
    "print()\n",
    "print(lista2*2)"
   ]
  },
  {
   "cell_type": "markdown",
   "id": "40db6f9d",
   "metadata": {},
   "source": [
    "Toma en cuenta que el resultado permanece en la memoria de la computadora hasta que se cierre el programa, no se está asignando a una variable."
   ]
  },
  {
   "cell_type": "markdown",
   "id": "8e48bf80",
   "metadata": {},
   "source": [
    "### Agregando un nuevo elemento a la lista.\n",
    "\n",
    "Las listas en python son los únicos objetos en los que podemos agregar nuevos elementos (son **mutables**), para ello hay que utilizar la función *append*:"
   ]
  },
  {
   "cell_type": "code",
   "execution_count": 6,
   "id": "2e6b14a8",
   "metadata": {},
   "outputs": [
    {
     "name": "stdout",
     "output_type": "stream",
     "text": [
      "['abcd', 786, 2.23, 'salmon', 70.2, 654.321]\n"
     ]
    }
   ],
   "source": [
    "lista1.append(654.321)\n",
    "print(lista1)"
   ]
  },
  {
   "cell_type": "markdown",
   "id": "e7da202a",
   "metadata": {},
   "source": [
    "El nuevo elemento ocupa el último lugar dentro de la lista."
   ]
  },
  {
   "cell_type": "markdown",
   "id": "05cf5983",
   "metadata": {},
   "source": [
    "Con una lista en python se puede reemplazar el contenido específico de un elemento, haciendo referencia al índice en particular:"
   ]
  },
  {
   "cell_type": "code",
   "execution_count": 7,
   "id": "fe907f4b",
   "metadata": {},
   "outputs": [
    {
     "name": "stdout",
     "output_type": "stream",
     "text": [
      "[123, 'pizza']\n",
      "\n",
      "[123, 'coordenada']\n"
     ]
    }
   ],
   "source": [
    "print(lista2)\n",
    "\n",
    "lista2[1] = 'coordenada'\n",
    "\n",
    "print()\n",
    "print(lista2)"
   ]
  },
  {
   "cell_type": "markdown",
   "id": "2ff69185",
   "metadata": {},
   "source": [
    "Las listas son un tipo de objeto en python que permite que dentro de la misma, pueda contener a su vez, otra lista:"
   ]
  },
  {
   "cell_type": "code",
   "execution_count": 9,
   "id": "f9f16791",
   "metadata": {},
   "outputs": [
    {
     "name": "stdout",
     "output_type": "stream",
     "text": [
      "['abcd', 786, 2.23, 'salmon', 70.2, 654.321]\n",
      "\n",
      "['abcd', 786, 2.23, 'salmon', 70.2, 654.321, [123, 'coordenada']]\n"
     ]
    }
   ],
   "source": [
    "print(lista1)\n",
    "lista1.append(lista2)\n",
    "print()\n",
    "print(lista1)"
   ]
  },
  {
   "cell_type": "markdown",
   "id": "a6691aa9",
   "metadata": {},
   "source": [
    "## Tuplas\n",
    "\n",
    "Una tupla es otro tipo de datos de secuencia que es similar a la lista.\n",
    "\n",
    "Una tupla consiste en un grupo de valores separados por comas, identificamos a una tupla por que ésta usa paréntesis $( \\quad )$.\n",
    "\n",
    "Las principales características de las tuplas son:\n",
    "1. Los elementos de las tuplas no pueden modificarse (son \\textbf{inmutables}).\n",
    "2. No es posible agregar nuevos elementos a un tupla.\n",
    "3. No podemos modificar el contenido de los elementos de la tupla.\n",
    "4. Identificamos lo que una tupla contiene mediante el manejo de índices: usando el \\emph{slicing}.\n",
    "\n",
    "Las tuplas pueden ser consideradas como listas de sólo lectura."
   ]
  },
  {
   "cell_type": "markdown",
   "id": "b8d686ea",
   "metadata": {},
   "source": [
    "### Escribiendo una tupla.\n",
    "\n",
    "Escribimos una tupla asignando a una variable su contenido, abrimos paréntesis y anotamos los elementos de la tupla:"
   ]
  },
  {
   "cell_type": "code",
   "execution_count": 23,
   "id": "c83015c5",
   "metadata": {},
   "outputs": [
    {
     "name": "stdout",
     "output_type": "stream",
     "text": [
      "('abcd', 786, 2.23, 'arena', 70.2)\n",
      "\n",
      "(3.14, 'playa')\n",
      "\n",
      "<class 'tuple'>\n"
     ]
    }
   ],
   "source": [
    "tupla1 = ('abcd', 786, 2.23, 'arena', 70.2)\n",
    "tupla2 = (3.14, 'playa')\n",
    "\n",
    "print(tupla1)\n",
    "print()\n",
    "print(tupla2)\n",
    "print()\n",
    "print(type(tupla1))"
   ]
  },
  {
   "cell_type": "markdown",
   "id": "f3ea8e8a",
   "metadata": {},
   "source": [
    "### Recuperando los elementos de una tupla.\n",
    "\n",
    "Podemos seleccionar los elementos de la tupla mediante el uso de índices de contenido:"
   ]
  },
  {
   "cell_type": "code",
   "execution_count": 12,
   "id": "61c8054a",
   "metadata": {},
   "outputs": [
    {
     "name": "stdout",
     "output_type": "stream",
     "text": [
      "abcd\n",
      "\n",
      "70.2\n"
     ]
    }
   ],
   "source": [
    "print(tupla1[0])\n",
    "print()\n",
    "print(tupla1[-1])"
   ]
  },
  {
   "cell_type": "markdown",
   "id": "9ad00b38",
   "metadata": {},
   "source": [
    "Podemos seleccionar los elementos de la tupla mediante el uso de *slicing*:"
   ]
  },
  {
   "cell_type": "code",
   "execution_count": 14,
   "id": "25107899",
   "metadata": {},
   "outputs": [
    {
     "name": "stdout",
     "output_type": "stream",
     "text": [
      "(786, 2.23)\n",
      "\n",
      "(2.23, 'arena', 70.2)\n"
     ]
    }
   ],
   "source": [
    "print(tupla1[1:3])\n",
    "print()\n",
    "print(tupla1[2:5])"
   ]
  },
  {
   "cell_type": "markdown",
   "id": "825d7c44",
   "metadata": {},
   "source": [
    "**¿Por qué no tenemos un error al indicar un índice que no corresponde a la tupla?**"
   ]
  },
  {
   "cell_type": "markdown",
   "id": "80f3cc7e",
   "metadata": {},
   "source": [
    "### Errores en el manejo de una tupla.\n",
    "\n",
    "Si queremos modificar el contenido de una tupla, obtendremos un mensaje de error:"
   ]
  },
  {
   "cell_type": "code",
   "execution_count": 15,
   "id": "11f6b568",
   "metadata": {},
   "outputs": [
    {
     "ename": "TypeError",
     "evalue": "'tuple' object does not support item assignment",
     "output_type": "error",
     "traceback": [
      "\u001b[0;31m---------------------------------------------------------------------------\u001b[0m",
      "\u001b[0;31mTypeError\u001b[0m                                 Traceback (most recent call last)",
      "\u001b[0;32m<ipython-input-15-ee43c9447ca2>\u001b[0m in \u001b[0;36m<module>\u001b[0;34m\u001b[0m\n\u001b[0;32m----> 1\u001b[0;31m \u001b[0mtupla1\u001b[0m\u001b[0;34m[\u001b[0m\u001b[0;36m2\u001b[0m\u001b[0;34m]\u001b[0m \u001b[0;34m=\u001b[0m \u001b[0;34m'hola'\u001b[0m\u001b[0;34m\u001b[0m\u001b[0;34m\u001b[0m\u001b[0m\n\u001b[0m",
      "\u001b[0;31mTypeError\u001b[0m: 'tuple' object does not support item assignment"
     ]
    }
   ],
   "source": [
    "tupla1[2] = 'hola'"
   ]
  },
  {
   "cell_type": "markdown",
   "id": "4a06c995",
   "metadata": {},
   "source": [
    "Si queremos agregar un elemento a la tupla, obtendremos un mensaje de error:"
   ]
  },
  {
   "cell_type": "code",
   "execution_count": 16,
   "id": "d84165d1",
   "metadata": {},
   "outputs": [
    {
     "ename": "AttributeError",
     "evalue": "'tuple' object has no attribute 'append'",
     "output_type": "error",
     "traceback": [
      "\u001b[0;31m---------------------------------------------------------------------------\u001b[0m",
      "\u001b[0;31mAttributeError\u001b[0m                            Traceback (most recent call last)",
      "\u001b[0;32m<ipython-input-16-96c194998a55>\u001b[0m in \u001b[0;36m<module>\u001b[0;34m\u001b[0m\n\u001b[0;32m----> 1\u001b[0;31m \u001b[0mtupla1\u001b[0m\u001b[0;34m.\u001b[0m\u001b[0mappend\u001b[0m\u001b[0;34m(\u001b[0m\u001b[0;36m100.56\u001b[0m\u001b[0;34m)\u001b[0m\u001b[0;34m\u001b[0m\u001b[0;34m\u001b[0m\u001b[0m\n\u001b[0m",
      "\u001b[0;31mAttributeError\u001b[0m: 'tuple' object has no attribute 'append'"
     ]
    }
   ],
   "source": [
    "tupla1.append(100.56)"
   ]
  },
  {
   "cell_type": "markdown",
   "id": "722d8e07",
   "metadata": {},
   "source": [
    "## Diccionarios.\n",
    "\n",
    "Los diccionarios de python son de tipo tabla-hash.\n",
    "\n",
    "Funcionan como matrices asociativas y consisten en pares *llave - valor*.\n",
    "\n",
    "La *llave* del diccionario puede ser casi de cualquier tipo de dato, pero suelen ser comúnmente números o cadenas.\n",
    "\n",
    "Los *valores*, por otra parte, pueden ser cualquier tipo de objeto arbitrario de python.\n",
    "\n",
    "Para crear un diccionario se debe de iniciar con las llaves $\\{ \\quad \\}$, el siguiente valor corresponde a la llave seguida de dos puntos y a continuación, el valor:\n",
    "\n",
    "$$ \\mbox{mi_dict } = \\{ \\mbox{'valor1'} : \\mbox{'llave1'}, \\mbox{'valor2'} : \\mbox{'llave2'} , \\ldots \\} $$"
   ]
  },
  {
   "cell_type": "markdown",
   "id": "af51673a",
   "metadata": {},
   "source": [
    "### Escribiendo un diccionario.\n",
    "\n",
    "La siguiente instrucción se escribe en una sola línea:"
   ]
  },
  {
   "cell_type": "code",
   "execution_count": 18,
   "id": "91e88705",
   "metadata": {},
   "outputs": [
    {
     "name": "stdout",
     "output_type": "stream",
     "text": [
      "{1: 'Eistein', 2: 'Bohr', 3: 'Pauli', 4: 'Schrodinger', 5: 'Hawking'}\n"
     ]
    }
   ],
   "source": [
    "fisicos = {1 : \"Eistein\", 2 : \"Bohr\", 3 : \"Pauli\", 4 : \"Schrodinger\", 5 : \"Hawking\"}\n",
    "\n",
    "print(fisicos)"
   ]
  },
  {
   "cell_type": "markdown",
   "id": "896875e6",
   "metadata": {},
   "source": [
    "### Recuperando los elementos de un diccionario.\n",
    "\n",
    "Hay un conjunto de funciones que nos permiten recuperar tanto las llaves como los valores de un diccionario:"
   ]
  },
  {
   "cell_type": "code",
   "execution_count": 20,
   "id": "b0251472",
   "metadata": {},
   "outputs": [
    {
     "data": {
      "text/plain": [
       "dict_keys([1, 2, 3, 4, 5])"
      ]
     },
     "execution_count": 20,
     "metadata": {},
     "output_type": "execute_result"
    }
   ],
   "source": [
    "fisicos.keys()"
   ]
  },
  {
   "cell_type": "code",
   "execution_count": 21,
   "id": "a2984cc0",
   "metadata": {},
   "outputs": [
    {
     "data": {
      "text/plain": [
       "dict_values(['Eistein', 'Bohr', 'Pauli', 'Schrodinger', 'Hawking'])"
      ]
     },
     "execution_count": 21,
     "metadata": {},
     "output_type": "execute_result"
    }
   ],
   "source": [
    "fisicos.values()"
   ]
  },
  {
   "cell_type": "markdown",
   "id": "680c20d5",
   "metadata": {},
   "source": [
    "### Agregando un nuevo elemento al diccionario.\n",
    "\n",
    "Es posible agregar un nuevo elemento al diccionario con la siguiente función:"
   ]
  },
  {
   "cell_type": "code",
   "execution_count": 22,
   "id": "4815edb8",
   "metadata": {},
   "outputs": [
    {
     "name": "stdout",
     "output_type": "stream",
     "text": [
      "{1: 'Eistein', 2: 'Bohr', 3: 'Pauli', 4: 'Schrodinger', 5: 'Hawking'}\n",
      "\n",
      "{1: 'Eistein', 2: 'Bohr', 3: 'Pauli', 4: 'Schrodinger', 5: 'Hawking', 6: 'Dirac'}\n"
     ]
    }
   ],
   "source": [
    "print(fisicos)\n",
    "\n",
    "fisicos.update({6:'Dirac'})\n",
    "print()\n",
    "print(fisicos)"
   ]
  },
  {
   "cell_type": "markdown",
   "id": "1cd93f76",
   "metadata": {},
   "source": [
    "Recordemos que este cambio solo queda en memoria, ya que no se ha asignado a una variable."
   ]
  },
  {
   "cell_type": "code",
   "execution_count": 4,
   "id": "251d44a2",
   "metadata": {},
   "outputs": [
    {
     "data": {
      "text/plain": [
       "[0, 1, 2, 3, 4]"
      ]
     },
     "execution_count": 4,
     "metadata": {},
     "output_type": "execute_result"
    }
   ],
   "source": [
    "list(range(5))\n"
   ]
  },
  {
   "cell_type": "code",
   "execution_count": 5,
   "id": "544a88cf",
   "metadata": {},
   "outputs": [
    {
     "data": {
      "text/plain": [
       "[1, 2, 3, 4, 5, 6, 7, 8, 9]"
      ]
     },
     "execution_count": 5,
     "metadata": {},
     "output_type": "execute_result"
    }
   ],
   "source": [
    "list(range(1, 10))"
   ]
  },
  {
   "cell_type": "code",
   "execution_count": 6,
   "id": "1f359c47",
   "metadata": {},
   "outputs": [
    {
     "data": {
      "text/plain": [
       "[1, 4, 7, 10, 13, 16, 19]"
      ]
     },
     "execution_count": 6,
     "metadata": {},
     "output_type": "execute_result"
    }
   ],
   "source": [
    "list(range(1, 20, 3))"
   ]
  },
  {
   "cell_type": "code",
   "execution_count": 7,
   "id": "b05d5253",
   "metadata": {},
   "outputs": [
    {
     "name": "stdout",
     "output_type": "stream",
     "text": [
      "0 recta\n",
      "1 círculo\n",
      "2 cono\n",
      "3 plano\n",
      "4 esfera\n"
     ]
    }
   ],
   "source": [
    "figura = [\"recta\", \"círculo\", \"cono\", \"plano\", \"esfera\"]\n",
    "for indice, elemento in enumerate(figura):\n",
    "    print (indice, elemento)"
   ]
  },
  {
   "cell_type": "code",
   "execution_count": 8,
   "id": "8d05fa4a",
   "metadata": {},
   "outputs": [
    {
     "name": "stdout",
     "output_type": "stream",
     "text": [
      "A\n",
      "B\n",
      "C\n",
      "D\n"
     ]
    }
   ],
   "source": [
    "for letra in 'ABCD':\n",
    "    print(letra)"
   ]
  },
  {
   "cell_type": "code",
   "execution_count": 12,
   "id": "a8fe2568",
   "metadata": {},
   "outputs": [
    {
     "name": "stdout",
     "output_type": "stream",
     "text": [
      "30\n",
      "31\n",
      "32\n",
      "33\n",
      "34\n",
      "35\n",
      "36\n",
      "37\n",
      "38\n",
      "39\n",
      "40\n",
      "41\n",
      "42\n"
     ]
    }
   ],
   "source": [
    "angulo = 30\n",
    "\n",
    "while angulo <= 42:\n",
    "    print(angulo)\n",
    "    angulo = angulo + 1"
   ]
  },
  {
   "cell_type": "code",
   "execution_count": 14,
   "id": "41a1b496",
   "metadata": {},
   "outputs": [
    {
     "name": "stdout",
     "output_type": "stream",
     "text": [
      "Felicidades!! Tienes 19 años\n",
      "Felicidades!! Tienes 21 años\n",
      "Felicidades!! Tienes 23 años\n",
      "Felicidades!! Tienes 25 años\n"
     ]
    }
   ],
   "source": [
    "edad = 18\n",
    "while edad < 25:\n",
    "    edad = edad + 1\n",
    "    if edad % 2 == 0:\n",
    "        continue\n",
    "    print (\"Felicidades!! Tienes {0:} años\".format(edad))"
   ]
  },
  {
   "cell_type": "code",
   "execution_count": 15,
   "id": "12a1bd8d",
   "metadata": {},
   "outputs": [
    {
     "name": "stdout",
     "output_type": "stream",
     "text": [
      "> Hola\n",
      "Hola\n",
      "> Verde\n",
      "Verde\n",
      "> zombie\n",
      "zombie\n",
      "> a\n",
      "a\n",
      "> 3.14156\n",
      "3.14156\n",
      "> adiós\n",
      "adiós\n",
      "> adios\n"
     ]
    }
   ],
   "source": [
    "while True:\n",
    "    entrada = input(\"> \")\n",
    "    if entrada == \"adios\":\n",
    "        break\n",
    "    else:\n",
    "        print (entrada)"
   ]
  },
  {
   "cell_type": "code",
   "execution_count": 21,
   "id": "652f1783",
   "metadata": {},
   "outputs": [
    {
     "name": "stdout",
     "output_type": "stream",
     "text": [
      "Ingresa un numerador: 10\n"
     ]
    }
   ],
   "source": [
    "a = int(input('Ingresa un numerador: '))"
   ]
  },
  {
   "cell_type": "code",
   "execution_count": 22,
   "id": "b6b0886c",
   "metadata": {},
   "outputs": [
    {
     "name": "stdout",
     "output_type": "stream",
     "text": [
      "Ingresa un denominador: 0\n"
     ]
    }
   ],
   "source": [
    "b = int(input('Ingresa un denominador: '))"
   ]
  },
  {
   "cell_type": "code",
   "execution_count": 23,
   "id": "eec4c8a0",
   "metadata": {},
   "outputs": [
    {
     "name": "stdout",
     "output_type": "stream",
     "text": [
      "No podemos dividir entre cero\n",
      "Ingresa un denominador: 2\n"
     ]
    }
   ],
   "source": [
    "try:\n",
    "    c = a / b\n",
    "    print('El cociente es: {0:}'.format(c))\n",
    "except:\n",
    "    if b == 0:\n",
    "        print('No podemos dividir entre cero')\n",
    "        b = int(input('Ingresa un denominador: '))"
   ]
  },
  {
   "cell_type": "code",
   "execution_count": 26,
   "id": "c79d1c65",
   "metadata": {},
   "outputs": [
    {
     "name": "stdout",
     "output_type": "stream",
     "text": [
      "Hola mundo!\n",
      "No hubo problemas\n"
     ]
    }
   ],
   "source": [
    "try:\n",
    "    print('Hola mundo!')\n",
    "except:\n",
    "    print('Algo salió mal')\n",
    "else:\n",
    "    print('No hubo problemas')"
   ]
  },
  {
   "cell_type": "code",
   "execution_count": 27,
   "id": "60d5ad99",
   "metadata": {},
   "outputs": [
    {
     "name": "stdout",
     "output_type": "stream",
     "text": [
      "Hola mundo!\n",
      "No hubo problemas\n",
      "Salimos del manejo de excepciones\n"
     ]
    }
   ],
   "source": [
    "try:\n",
    "    print('Hola mundo!')\n",
    "except:\n",
    "    print('Algo salió mal')\n",
    "else:\n",
    "    print('No hubo problemas')\n",
    "finally:\n",
    "    print('Salimos del manejo de excepciones')"
   ]
  },
  {
   "cell_type": "code",
   "execution_count": 28,
   "id": "38029259",
   "metadata": {},
   "outputs": [
    {
     "ename": "Exception",
     "evalue": "No se permiten número negativos",
     "output_type": "error",
     "traceback": [
      "\u001b[0;31m---------------------------------------------------------------------------\u001b[0m",
      "\u001b[0;31mException\u001b[0m                                 Traceback (most recent call last)",
      "\u001b[0;32m<ipython-input-28-2ba61a249bd5>\u001b[0m in \u001b[0;36m<module>\u001b[0;34m\u001b[0m\n\u001b[1;32m      1\u001b[0m \u001b[0mx\u001b[0m \u001b[0;34m=\u001b[0m \u001b[0;34m-\u001b[0m\u001b[0;36m1\u001b[0m\u001b[0;34m\u001b[0m\u001b[0;34m\u001b[0m\u001b[0m\n\u001b[1;32m      2\u001b[0m \u001b[0;32mif\u001b[0m \u001b[0mx\u001b[0m \u001b[0;34m<\u001b[0m \u001b[0;36m0\u001b[0m\u001b[0;34m:\u001b[0m\u001b[0;34m\u001b[0m\u001b[0;34m\u001b[0m\u001b[0m\n\u001b[0;32m----> 3\u001b[0;31m     \u001b[0;32mraise\u001b[0m \u001b[0mException\u001b[0m\u001b[0;34m(\u001b[0m\u001b[0;34m'No se permiten número negativos'\u001b[0m\u001b[0;34m)\u001b[0m\u001b[0;34m\u001b[0m\u001b[0;34m\u001b[0m\u001b[0m\n\u001b[0m",
      "\u001b[0;31mException\u001b[0m: No se permiten número negativos"
     ]
    }
   ],
   "source": [
    "x = -1\n",
    "if x < 0:\n",
    "    raise Exception('No se permiten número negativos')"
   ]
  },
  {
   "cell_type": "code",
   "execution_count": 29,
   "id": "ad5957dd",
   "metadata": {},
   "outputs": [
    {
     "ename": "TypeError",
     "evalue": "Se requieren números enteros",
     "output_type": "error",
     "traceback": [
      "\u001b[0;31m---------------------------------------------------------------------------\u001b[0m",
      "\u001b[0;31mTypeError\u001b[0m                                 Traceback (most recent call last)",
      "\u001b[0;32m<ipython-input-29-646d6e7f99c4>\u001b[0m in \u001b[0;36m<module>\u001b[0;34m\u001b[0m\n\u001b[1;32m      1\u001b[0m \u001b[0mx\u001b[0m \u001b[0;34m=\u001b[0m \u001b[0;34m'Hola!'\u001b[0m\u001b[0;34m\u001b[0m\u001b[0;34m\u001b[0m\u001b[0m\n\u001b[1;32m      2\u001b[0m \u001b[0;32mif\u001b[0m \u001b[0;32mnot\u001b[0m \u001b[0mtype\u001b[0m\u001b[0;34m(\u001b[0m\u001b[0mx\u001b[0m\u001b[0;34m)\u001b[0m \u001b[0;32mis\u001b[0m \u001b[0mint\u001b[0m\u001b[0;34m:\u001b[0m\u001b[0;34m\u001b[0m\u001b[0;34m\u001b[0m\u001b[0m\n\u001b[0;32m----> 3\u001b[0;31m     \u001b[0;32mraise\u001b[0m \u001b[0mTypeError\u001b[0m\u001b[0;34m(\u001b[0m\u001b[0;34m'Se requieren números enteros'\u001b[0m\u001b[0;34m)\u001b[0m\u001b[0;34m\u001b[0m\u001b[0;34m\u001b[0m\u001b[0m\n\u001b[0m",
      "\u001b[0;31mTypeError\u001b[0m: Se requieren números enteros"
     ]
    }
   ],
   "source": [
    "x = 'Hola!'\n",
    "if not type(x) is int:\n",
    "    raise TypeError('Se requieren números enteros')"
   ]
  },
  {
   "cell_type": "code",
   "execution_count": 32,
   "id": "3ecd0729",
   "metadata": {},
   "outputs": [
    {
     "name": "stdout",
     "output_type": "stream",
     "text": [
      "3\n",
      "\n",
      "0b1000\n",
      "\n",
      "5\n",
      "\n",
      "100\n",
      "\n",
      "25\n"
     ]
    }
   ],
   "source": [
    "print(abs(-3))\n",
    "print()\n",
    "print(bin(8))\n",
    "print()\n",
    "print(len('Pumas'))\n",
    "print()\n",
    "print(max([1, 3.1416, 100, 1E2]))\n",
    "print()\n",
    "print(pow(5,2))"
   ]
  },
  {
   "cell_type": "code",
   "execution_count": 61,
   "id": "6abe2ce4",
   "metadata": {},
   "outputs": [],
   "source": [
    "def cuadrados(a):\n",
    "    for i in range(len(a)):\n",
    "        a[i] = a[i]**2\n",
    "    return a\n",
    "\n",
    "a = [1, 2, 3, 4]\n",
    "\n",
    "solucion = cuadrados(a)"
   ]
  },
  {
   "cell_type": "code",
   "execution_count": 63,
   "id": "a0467050",
   "metadata": {},
   "outputs": [
    {
     "name": "stdout",
     "output_type": "stream",
     "text": [
      "[1, 4, 9, 16]\n"
     ]
    }
   ],
   "source": [
    "print(solucion)"
   ]
  },
  {
   "cell_type": "code",
   "execution_count": 65,
   "id": "01ce39f8",
   "metadata": {},
   "outputs": [
    {
     "name": "stdout",
     "output_type": "stream",
     "text": [
      "1\n",
      "1\n",
      "2\n",
      "3\n",
      "5\n",
      "8\n",
      "13\n",
      "21\n",
      "34\n",
      "55\n",
      "89\n",
      "144\n",
      "233\n",
      "377\n",
      "610\n",
      "987\n",
      "1597\n",
      "2584\n"
     ]
    }
   ],
   "source": [
    "def fib(n):\n",
    "    a, b = 0, 1\n",
    "    while b < n:\n",
    "        print (b)\n",
    "        a, b = b, a + b\n",
    "    return b\n",
    "\n",
    "f = fib(2000)\n",
    "print(f)"
   ]
  },
  {
   "cell_type": "code",
   "execution_count": 71,
   "id": "e26e9130",
   "metadata": {},
   "outputs": [
    {
     "name": "stdout",
     "output_type": "stream",
     "text": [
      "8\n",
      "\n",
      "49.0\n",
      "\n",
      "Hola Mundo!\n"
     ]
    }
   ],
   "source": [
    "def funcion_suma(x, y):\n",
    "    return x + y\n",
    "\n",
    "print(funcion_suma(5, 3))\n",
    "print()\n",
    "print(funcion_suma(7, 42.0))\n",
    "print()\n",
    "print(funcion_suma(\"Hola\", \" Mundo!\"))"
   ]
  },
  {
   "cell_type": "code",
   "execution_count": 74,
   "id": "56f9c925",
   "metadata": {},
   "outputs": [
    {
     "name": "stdout",
     "output_type": "stream",
     "text": [
      "a = 1, b = 2, c = 3\n",
      "a = 2, b = 3, c = 1\n"
     ]
    }
   ],
   "source": [
    "def prueba(a, b, c):\n",
    "    print(\"a = {0:}, b = {1:}, c = {2:}\".format(a, b, c))\n",
    "\n",
    "prueba(1, 2, 3)\n",
    "prueba(b=3, a=2, c=1)"
   ]
  },
  {
   "cell_type": "code",
   "execution_count": 78,
   "id": "46350403",
   "metadata": {},
   "outputs": [
    {
     "name": "stdout",
     "output_type": "stream",
     "text": [
      "0.99498743710662\n",
      "\n",
      "0.9994442900376633\n"
     ]
    }
   ],
   "source": [
    "from math import sqrt\n",
    "\n",
    "# argumento v es requerido , c es opcional\n",
    "# c toma el valor 3.0e8 por omision\n",
    "\n",
    "def tau_cero(v, c = 3.0e+8):\n",
    "    return sqrt(1.0 - (v/c)**2)\n",
    "\n",
    "print(tau_cero(0.1 , 1.0))\n",
    "print()\n",
    "print(tau_cero(1.e+7)) # usa c = 3.0e+8"
   ]
  },
  {
   "cell_type": "code",
   "execution_count": 81,
   "id": "da38c644",
   "metadata": {},
   "outputs": [
    {
     "name": "stdout",
     "output_type": "stream",
     "text": [
      "El modulo es: 5.0\n",
      "El argumento es: 0.9273\n"
     ]
    }
   ],
   "source": [
    "from math import atan2, sqrt\n",
    "\n",
    "def modulo_argumento(x, y):\n",
    "    norm = sqrt(x**2 + y**2)\n",
    "    arg = atan2(y, x)\n",
    "    return (norm, arg)\n",
    "    \n",
    "n, a = modulo_argumento(3.0, 4.0)\n",
    "\n",
    "print(\"El modulo es: {0:}\".format(n))\n",
    "print(\"El argumento es: {0:.4f}\".format(a))"
   ]
  },
  {
   "cell_type": "code",
   "execution_count": null,
   "id": "8c398b93",
   "metadata": {},
   "outputs": [],
   "source": []
  }
 ],
 "metadata": {
  "kernelspec": {
   "display_name": "Python 3",
   "language": "python",
   "name": "python3"
  },
  "language_info": {
   "codemirror_mode": {
    "name": "ipython",
    "version": 3
   },
   "file_extension": ".py",
   "mimetype": "text/x-python",
   "name": "python",
   "nbconvert_exporter": "python",
   "pygments_lexer": "ipython3",
   "version": "3.8.5"
  },
  "toc": {
   "base_numbering": 1,
   "nav_menu": {},
   "number_sections": true,
   "sideBar": true,
   "skip_h1_title": false,
   "title_cell": "Table of Contents",
   "title_sidebar": "Contents",
   "toc_cell": false,
   "toc_position": {},
   "toc_section_display": true,
   "toc_window_display": true
  }
 },
 "nbformat": 4,
 "nbformat_minor": 5
}
