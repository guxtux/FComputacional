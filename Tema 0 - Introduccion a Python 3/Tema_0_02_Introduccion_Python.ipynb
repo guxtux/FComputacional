{
 "cells": [
  {
   "cell_type": "markdown",
   "id": "253583b2",
   "metadata": {},
   "source": [
    "# Colecciones.\n",
    "\n",
    "Hemos revisado algunos tipos de datos básicos en python: números, booleanos y cadenas de texto.\n",
    "\n",
    "Ahora presentaremos los tipos de colecciones que se manejan en este lenguaje:\n",
    "\n",
    "1. Listas.\n",
    "2. Tuplas.\n",
    "3. Diccionarios.\n"
   ]
  },
  {
   "cell_type": "markdown",
   "id": "4cb832fd",
   "metadata": {},
   "source": [
    "## Listas.\n",
    "\n",
    "Las listas son el tipo de dato más versátil de los datos compuestos de python.\n",
    "\n",
    "Una lista contiene elementos separados por comas y entre corchetes $[ \\quad ]$.\n",
    "\n",
    "En cierta medida, las listas son similares a los arreglos (arrays) o vectores.\n",
    "\n",
    "Un punto importante de las listas: es que **todos los elementos pertenecientes a una lista pueden ser de tipo de datos diferent**."
   ]
  },
  {
   "cell_type": "markdown",
   "id": "8a162872",
   "metadata": {},
   "source": [
    "### Escribiendo una lista.\n",
    "\n",
    "Para introducir una lista, abrimos corchetes y separamos mediante comas los elementos de la misma:"
   ]
  },
  {
   "cell_type": "code",
   "execution_count": 1,
   "id": "14b9b1de",
   "metadata": {},
   "outputs": [],
   "source": [
    "lista1 = ['abcd', 786, 2.23, 'salmon', 70.2]\n",
    "\n",
    "lista2 = [ 123, 'pizza']"
   ]
  },
  {
   "cell_type": "code",
   "execution_count": 2,
   "id": "8c5f63ee",
   "metadata": {},
   "outputs": [
    {
     "name": "stdout",
     "output_type": "stream",
     "text": [
      "['abcd', 786, 2.23, 'salmon', 70.2]\n",
      "\n",
      "[123, 'pizza']\n"
     ]
    }
   ],
   "source": [
    "print(lista1)\n",
    "print()\n",
    "print(lista2)"
   ]
  },
  {
   "cell_type": "markdown",
   "id": "9f90513a",
   "metadata": {},
   "source": [
    "### Recuperando los elementos de la lista.\n",
    "\n",
    "Los valores almacenados en una lista se recuperan usando la misma técnica de *slicing* que vimos con las cadenas: $[ \\: ]$ y $[:]$, donde los índices van desde  $0$ hasta el   $n - 1$."
   ]
  },
  {
   "cell_type": "code",
   "execution_count": 3,
   "id": "d6d57583",
   "metadata": {},
   "outputs": [
    {
     "name": "stdout",
     "output_type": "stream",
     "text": [
      "[2.23, 'salmon', 70.2]\n",
      "\n",
      "70.2\n",
      "\n",
      "[2.23, 'salmon']\n"
     ]
    }
   ],
   "source": [
    "print(lista1[2:])\n",
    "print()\n",
    "print(lista1[-1])\n",
    "print()\n",
    "print(lista1[2:4])"
   ]
  },
  {
   "cell_type": "markdown",
   "id": "5aff7a1d",
   "metadata": {},
   "source": [
    "### Operaciones con las listas.\n",
    "\n",
    "También se ocupan las operaciones de *concatenación* ($+$) y repetición en las listas ($*$):"
   ]
  },
  {
   "cell_type": "code",
   "execution_count": 4,
   "id": "8494ca9d",
   "metadata": {},
   "outputs": [
    {
     "name": "stdout",
     "output_type": "stream",
     "text": [
      "['abcd', 786, 2.23, 'salmon', 70.2, 123, 'pizza']\n",
      "\n",
      "[123, 'pizza', 123, 'pizza']\n"
     ]
    }
   ],
   "source": [
    "print(lista1 + lista2)\n",
    "print()\n",
    "print(lista2*2)"
   ]
  },
  {
   "cell_type": "markdown",
   "id": "40db6f9d",
   "metadata": {},
   "source": [
    "Toma en cuenta que el resultado permanece en la memoria de la computadora hasta que se cierre el programa, no se está asignando a una variable."
   ]
  },
  {
   "cell_type": "markdown",
   "id": "8e48bf80",
   "metadata": {},
   "source": [
    "### Agregando un nuevo elemento a la lista.\n",
    "\n",
    "Las listas en python son los únicos objetos en los que podemos agregar nuevos elementos (son **mutables**), para ello hay que utilizar la función *append*:"
   ]
  },
  {
   "cell_type": "code",
   "execution_count": 6,
   "id": "2e6b14a8",
   "metadata": {},
   "outputs": [
    {
     "name": "stdout",
     "output_type": "stream",
     "text": [
      "['abcd', 786, 2.23, 'salmon', 70.2, 654.321]\n"
     ]
    }
   ],
   "source": [
    "lista1.append(654.321)\n",
    "print(lista1)"
   ]
  },
  {
   "cell_type": "markdown",
   "id": "e7da202a",
   "metadata": {},
   "source": [
    "El nuevo elemento ocupa el último lugar dentro de la lista."
   ]
  },
  {
   "cell_type": "markdown",
   "id": "05cf5983",
   "metadata": {},
   "source": [
    "Con una lista en python se puede reemplazar el contenido específico de un elemento, haciendo referencia al índice en particular:"
   ]
  },
  {
   "cell_type": "code",
   "execution_count": 7,
   "id": "fe907f4b",
   "metadata": {},
   "outputs": [
    {
     "name": "stdout",
     "output_type": "stream",
     "text": [
      "[123, 'pizza']\n",
      "\n",
      "[123, 'coordenada']\n"
     ]
    }
   ],
   "source": [
    "print(lista2)\n",
    "\n",
    "lista2[1] = 'coordenada'\n",
    "\n",
    "print()\n",
    "print(lista2)"
   ]
  },
  {
   "cell_type": "markdown",
   "id": "2ff69185",
   "metadata": {},
   "source": [
    "Las listas son un tipo de objeto en python que permite que dentro de la misma, pueda contener a su vez, otra lista:"
   ]
  },
  {
   "cell_type": "code",
   "execution_count": 9,
   "id": "f9f16791",
   "metadata": {},
   "outputs": [
    {
     "name": "stdout",
     "output_type": "stream",
     "text": [
      "['abcd', 786, 2.23, 'salmon', 70.2, 654.321]\n",
      "\n",
      "['abcd', 786, 2.23, 'salmon', 70.2, 654.321, [123, 'coordenada']]\n"
     ]
    }
   ],
   "source": [
    "print(lista1)\n",
    "lista1.append(lista2)\n",
    "print()\n",
    "print(lista1)"
   ]
  },
  {
   "cell_type": "markdown",
   "id": "a6691aa9",
   "metadata": {},
   "source": [
    "## Tuplas\n",
    "\n",
    "Una tupla es otro tipo de datos de secuencia que es similar a la lista.\n",
    "\n",
    "Una tupla consiste en un grupo de valores separados por comas, identificamos a una tupla por que ésta usa paréntesis $( \\quad )$.\n",
    "\n",
    "Las principales características de las tuplas son:\n",
    "1. Los elementos de las tuplas no pueden modificarse (son \\textbf{inmutables}).\n",
    "2. No es posible agregar nuevos elementos a un tupla.\n",
    "3. No podemos modificar el contenido de los elementos de la tupla.\n",
    "4. Identificamos lo que una tupla contiene mediante el manejo de índices: usando el \\emph{slicing}.\n",
    "\n",
    "Las tuplas pueden ser consideradas como listas de sólo lectura."
   ]
  },
  {
   "cell_type": "markdown",
   "id": "b8d686ea",
   "metadata": {},
   "source": [
    "### Escribiendo una tupla.\n",
    "\n",
    "Escribimos una tupla asignando a una variable su contenido, abrimos paréntesis y anotamos los elementos de la tupla:"
   ]
  },
  {
   "cell_type": "code",
   "execution_count": 23,
   "id": "c83015c5",
   "metadata": {},
   "outputs": [
    {
     "name": "stdout",
     "output_type": "stream",
     "text": [
      "('abcd', 786, 2.23, 'arena', 70.2)\n",
      "\n",
      "(3.14, 'playa')\n",
      "\n",
      "<class 'tuple'>\n"
     ]
    }
   ],
   "source": [
    "tupla1 = ('abcd', 786, 2.23, 'arena', 70.2)\n",
    "tupla2 = (3.14, 'playa')\n",
    "\n",
    "print(tupla1)\n",
    "print()\n",
    "print(tupla2)\n",
    "print()\n",
    "print(type(tupla1))"
   ]
  },
  {
   "cell_type": "markdown",
   "id": "f3ea8e8a",
   "metadata": {},
   "source": [
    "### Recuperando los elementos de una tupla.\n",
    "\n",
    "Podemos seleccionar los elementos de la tupla mediante el uso de índices de contenido:"
   ]
  },
  {
   "cell_type": "code",
   "execution_count": 12,
   "id": "61c8054a",
   "metadata": {},
   "outputs": [
    {
     "name": "stdout",
     "output_type": "stream",
     "text": [
      "abcd\n",
      "\n",
      "70.2\n"
     ]
    }
   ],
   "source": [
    "print(tupla1[0])\n",
    "print()\n",
    "print(tupla1[-1])"
   ]
  },
  {
   "cell_type": "markdown",
   "id": "9ad00b38",
   "metadata": {},
   "source": [
    "Podemos seleccionar los elementos de la tupla mediante el uso de *slicing*:"
   ]
  },
  {
   "cell_type": "code",
   "execution_count": 14,
   "id": "25107899",
   "metadata": {},
   "outputs": [
    {
     "name": "stdout",
     "output_type": "stream",
     "text": [
      "(786, 2.23)\n",
      "\n",
      "(2.23, 'arena', 70.2)\n"
     ]
    }
   ],
   "source": [
    "print(tupla1[1:3])\n",
    "print()\n",
    "print(tupla1[2:5])"
   ]
  },
  {
   "cell_type": "markdown",
   "id": "825d7c44",
   "metadata": {},
   "source": [
    "**¿Por qué no tenemos un error al indicar un índice que no corresponde a la tupla?**"
   ]
  },
  {
   "cell_type": "markdown",
   "id": "80f3cc7e",
   "metadata": {},
   "source": [
    "### Errores en el manejo de una tupla.\n",
    "\n",
    "Si queremos modificar el contenido de una tupla, obtendremos un mensaje de error:"
   ]
  },
  {
   "cell_type": "code",
   "execution_count": 15,
   "id": "11f6b568",
   "metadata": {},
   "outputs": [
    {
     "ename": "TypeError",
     "evalue": "'tuple' object does not support item assignment",
     "output_type": "error",
     "traceback": [
      "\u001b[0;31m---------------------------------------------------------------------------\u001b[0m",
      "\u001b[0;31mTypeError\u001b[0m                                 Traceback (most recent call last)",
      "\u001b[0;32m<ipython-input-15-ee43c9447ca2>\u001b[0m in \u001b[0;36m<module>\u001b[0;34m\u001b[0m\n\u001b[0;32m----> 1\u001b[0;31m \u001b[0mtupla1\u001b[0m\u001b[0;34m[\u001b[0m\u001b[0;36m2\u001b[0m\u001b[0;34m]\u001b[0m \u001b[0;34m=\u001b[0m \u001b[0;34m'hola'\u001b[0m\u001b[0;34m\u001b[0m\u001b[0;34m\u001b[0m\u001b[0m\n\u001b[0m",
      "\u001b[0;31mTypeError\u001b[0m: 'tuple' object does not support item assignment"
     ]
    }
   ],
   "source": [
    "tupla1[2] = 'hola'"
   ]
  },
  {
   "cell_type": "markdown",
   "id": "4a06c995",
   "metadata": {},
   "source": [
    "Si queremos agregar un elemento a la tupla, obtendremos un mensaje de error:"
   ]
  },
  {
   "cell_type": "code",
   "execution_count": 16,
   "id": "d84165d1",
   "metadata": {},
   "outputs": [
    {
     "ename": "AttributeError",
     "evalue": "'tuple' object has no attribute 'append'",
     "output_type": "error",
     "traceback": [
      "\u001b[0;31m---------------------------------------------------------------------------\u001b[0m",
      "\u001b[0;31mAttributeError\u001b[0m                            Traceback (most recent call last)",
      "\u001b[0;32m<ipython-input-16-96c194998a55>\u001b[0m in \u001b[0;36m<module>\u001b[0;34m\u001b[0m\n\u001b[0;32m----> 1\u001b[0;31m \u001b[0mtupla1\u001b[0m\u001b[0;34m.\u001b[0m\u001b[0mappend\u001b[0m\u001b[0;34m(\u001b[0m\u001b[0;36m100.56\u001b[0m\u001b[0;34m)\u001b[0m\u001b[0;34m\u001b[0m\u001b[0;34m\u001b[0m\u001b[0m\n\u001b[0m",
      "\u001b[0;31mAttributeError\u001b[0m: 'tuple' object has no attribute 'append'"
     ]
    }
   ],
   "source": [
    "tupla1.append(100.56)"
   ]
  },
  {
   "cell_type": "markdown",
   "id": "722d8e07",
   "metadata": {},
   "source": [
    "## Diccionarios.\n",
    "\n",
    "Los diccionarios de python son de tipo tabla-hash.\n",
    "\n",
    "Funcionan como matrices asociativas y consisten en pares *llave - valor*.\n",
    "\n",
    "La *llave* del diccionario puede ser casi de cualquier tipo de dato, pero suelen ser comúnmente números o cadenas.\n",
    "\n",
    "Los *valores*, por otra parte, pueden ser cualquier tipo de objeto arbitrario de python.\n",
    "\n",
    "Para crear un diccionario se debe de iniciar con las llaves $\\{ \\quad \\}$, el siguiente valor corresponde a la llave seguida de dos puntos y a continuación, el valor:\n",
    "\n",
    "$$ \\mbox{mi_dict } = \\{ \\mbox{'valor1'} : \\mbox{'llave1'}, \\mbox{'valor2'} : \\mbox{'llave2'} , \\ldots \\} $$"
   ]
  },
  {
   "cell_type": "markdown",
   "id": "af51673a",
   "metadata": {},
   "source": [
    "### Escribiendo un diccionario.\n",
    "\n",
    "La siguiente instrucción se escribe en una sola línea:"
   ]
  },
  {
   "cell_type": "code",
   "execution_count": 18,
   "id": "91e88705",
   "metadata": {},
   "outputs": [
    {
     "name": "stdout",
     "output_type": "stream",
     "text": [
      "{1: 'Eistein', 2: 'Bohr', 3: 'Pauli', 4: 'Schrodinger', 5: 'Hawking'}\n"
     ]
    }
   ],
   "source": [
    "fisicos = {1 : \"Eistein\", 2 : \"Bohr\", 3 : \"Pauli\", 4 : \"Schrodinger\", 5 : \"Hawking\"}\n",
    "\n",
    "print(fisicos)"
   ]
  },
  {
   "cell_type": "markdown",
   "id": "896875e6",
   "metadata": {},
   "source": [
    "### Recuperando los elementos de un diccionario.\n",
    "\n",
    "Hay un conjunto de funciones que nos permiten recuperar tanto las llaves como los valores de un diccionario:"
   ]
  },
  {
   "cell_type": "code",
   "execution_count": 20,
   "id": "b0251472",
   "metadata": {},
   "outputs": [
    {
     "data": {
      "text/plain": [
       "dict_keys([1, 2, 3, 4, 5])"
      ]
     },
     "execution_count": 20,
     "metadata": {},
     "output_type": "execute_result"
    }
   ],
   "source": [
    "fisicos.keys()"
   ]
  },
  {
   "cell_type": "code",
   "execution_count": 21,
   "id": "a2984cc0",
   "metadata": {},
   "outputs": [
    {
     "data": {
      "text/plain": [
       "dict_values(['Eistein', 'Bohr', 'Pauli', 'Schrodinger', 'Hawking'])"
      ]
     },
     "execution_count": 21,
     "metadata": {},
     "output_type": "execute_result"
    }
   ],
   "source": [
    "fisicos.values()"
   ]
  },
  {
   "cell_type": "markdown",
   "id": "680c20d5",
   "metadata": {},
   "source": [
    "### Agregando un nuevo elemento al diccionario.\n",
    "\n",
    "Es posible agregar un nuevo elemento al diccionario con la siguiente función:"
   ]
  },
  {
   "cell_type": "code",
   "execution_count": 22,
   "id": "4815edb8",
   "metadata": {},
   "outputs": [
    {
     "name": "stdout",
     "output_type": "stream",
     "text": [
      "{1: 'Eistein', 2: 'Bohr', 3: 'Pauli', 4: 'Schrodinger', 5: 'Hawking'}\n",
      "\n",
      "{1: 'Eistein', 2: 'Bohr', 3: 'Pauli', 4: 'Schrodinger', 5: 'Hawking', 6: 'Dirac'}\n"
     ]
    }
   ],
   "source": [
    "print(fisicos)\n",
    "\n",
    "fisicos.update({6:'Dirac'})\n",
    "print()\n",
    "print(fisicos)"
   ]
  },
  {
   "cell_type": "markdown",
   "id": "1cd93f76",
   "metadata": {},
   "source": [
    "Recordemos que este cambio solo queda en memoria, ya que no se ha asignado a una variable."
   ]
  },
  {
   "cell_type": "code",
   "execution_count": null,
   "id": "251d44a2",
   "metadata": {},
   "outputs": [],
   "source": []
  }
 ],
 "metadata": {
  "kernelspec": {
   "display_name": "Python 3",
   "language": "python",
   "name": "python3"
  },
  "language_info": {
   "codemirror_mode": {
    "name": "ipython",
    "version": 3
   },
   "file_extension": ".py",
   "mimetype": "text/x-python",
   "name": "python",
   "nbconvert_exporter": "python",
   "pygments_lexer": "ipython3",
   "version": "3.8.5"
  },
  "toc": {
   "base_numbering": 1,
   "nav_menu": {},
   "number_sections": true,
   "sideBar": true,
   "skip_h1_title": false,
   "title_cell": "Table of Contents",
   "title_sidebar": "Contents",
   "toc_cell": false,
   "toc_position": {},
   "toc_section_display": true,
   "toc_window_display": true
  }
 },
 "nbformat": 4,
 "nbformat_minor": 5
}
