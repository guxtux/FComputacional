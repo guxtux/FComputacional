{
 "cells": [
  {
   "cell_type": "markdown",
   "id": "c3f1a921",
   "metadata": {},
   "source": [
    "# Numpy .\n",
    "\n",
    "La librería NumPy es una librería cuyo objeto principal es la estructura multidimensional **ndarray** (conocido también como **array**, cuenta además con un conjunto amplio de herramientas para su gestión, funciones matemáticas, funciones de alto nivel del álgebra lineal y herramientas para la generación de números pseudo-aleatorios (En el Tema 5, aclararemos el concepto de números aleatorios y pseudo-aleatorios).\n",
    "\n",
    "E **ndarray**s una tabla de elementos (normalmente números) donde todos ellos son del mismo tipo, indizados por una tupla de enteros positivos. En NumPy las *dimensiones* son llamadas <font color=\"red\">ejes</font>. Al número de ejes se llama <font color=\"blue\">rango</font>.\n",
    "\n",
    "Por ejemplo, las coordenadas de un punto en el espacio 3D $[1,2,1]$ es un arreglo de rango $1$, ya que tiene sólo un eje. Ese eje tiene una longitud de $3$.\n",
    "\n",
    "Veamos el siguiente arreglo:\n",
    "$$\n",
    "\\begin{align*}\n",
    "[[1., 0., 0.], \\\\\n",
    "[0., 1., 2. ]]\n",
    "\\end{align*}\n",
    "$$\n",
    "El arreglo es de rango $2$ (por que es de dimensión $2$), la primera dimensión (o eje) tiene una longitud de $2$, la segunda dimensión tiene longitud $3$.\n",
    "\n",
    "La clase en NumPy para arreglos es **ndarray**, que también es conocido con el alias de **array**. Nótese que **numpy.array** no es el mismo elemento de la librería estándar de python *array.array*, ya que ésta sólo maneja arreglos de 1D y ofrece menos funcionalidad.\n",
    "\n",
    "\n",
    "## Atributos del ndarray.\n",
    "\n",
    "Los atributos más importantes de un objeto **ndarray** son:\n",
    "1. <code>ndarray.dim</code>: es el número de ejes en el arreglo. En el universo python, el número de dimensiones se conoce como *rango*.\n",
    "2. <code>ndarray.shape</code>: son las dimensiones del arreglo. Es una tupla de enteros que indican el tamaño del arreglo en cada dimensión. Para un arreglo (matriz) con $n$ renglones y $m$ columnas, *shape* será $(n,m)$. La longitud de la tupla *shape*, es por tanto el rango, o número de dimensiones, *ndim*.\n",
    "3. <code>ndarray.size</code>: es el total de número de elementos en el arreglo. Es igual al producto de los elementos de *shape*.\n",
    "4. <code>ndarray.dtype</code>: es un objeto que describe el tipo de elementos en el arreglo. Podemos crear un d-tipeado específico, usando los tipos estándar de python; Numpy proporciona tipos propios: <code>numpy.int32</code>, <code>numpy.int16</code> y <code>numpy.float64</code> como ejemplos.\n",
    "5. <code>ndarray.itemsize</code>: devuelve el tamaño en bytes de cada elemento del arreglo. Por ejemplo, un arreglo de elementos de tipo <code>float64</code> tiene un <code>itemsize 8</code> $(=64/8)$, mientras que uno de tipo <code>complex32</code> tiene un <code>itemsize 4</code> $(=32/8)$."
   ]
  },
  {
   "cell_type": "markdown",
   "id": "fcee6b5f",
   "metadata": {},
   "source": [
    "### Ejemplos."
   ]
  },
  {
   "cell_type": "code",
   "execution_count": 4,
   "id": "e24bdc0b",
   "metadata": {},
   "outputs": [],
   "source": [
    "from numpy import *\n",
    "\n",
    "a = arange(15).reshape(3, 5)"
   ]
  },
  {
   "cell_type": "code",
   "execution_count": 5,
   "id": "b274f267",
   "metadata": {},
   "outputs": [
    {
     "data": {
      "text/plain": [
       "array([[ 0,  1,  2,  3,  4],\n",
       "       [ 5,  6,  7,  8,  9],\n",
       "       [10, 11, 12, 13, 14]])"
      ]
     },
     "execution_count": 5,
     "metadata": {},
     "output_type": "execute_result"
    }
   ],
   "source": [
    "a"
   ]
  },
  {
   "cell_type": "code",
   "execution_count": 6,
   "id": "59ae77b5",
   "metadata": {},
   "outputs": [
    {
     "data": {
      "text/plain": [
       "(3, 5)"
      ]
     },
     "execution_count": 6,
     "metadata": {},
     "output_type": "execute_result"
    }
   ],
   "source": [
    "a.shape"
   ]
  },
  {
   "cell_type": "code",
   "execution_count": 7,
   "id": "883c0e4e",
   "metadata": {},
   "outputs": [
    {
     "data": {
      "text/plain": [
       "2"
      ]
     },
     "execution_count": 7,
     "metadata": {},
     "output_type": "execute_result"
    }
   ],
   "source": [
    "a.ndim"
   ]
  },
  {
   "cell_type": "code",
   "execution_count": 8,
   "id": "c03f5616",
   "metadata": {},
   "outputs": [
    {
     "data": {
      "text/plain": [
       "'int64'"
      ]
     },
     "execution_count": 8,
     "metadata": {},
     "output_type": "execute_result"
    }
   ],
   "source": [
    "a.dtype.name"
   ]
  },
  {
   "cell_type": "code",
   "execution_count": 10,
   "id": "40026d67",
   "metadata": {},
   "outputs": [
    {
     "data": {
      "text/plain": [
       "15"
      ]
     },
     "execution_count": 10,
     "metadata": {},
     "output_type": "execute_result"
    }
   ],
   "source": [
    "a.size"
   ]
  },
  {
   "cell_type": "code",
   "execution_count": 9,
   "id": "6fdd6d68",
   "metadata": {},
   "outputs": [
    {
     "data": {
      "text/plain": [
       "8"
      ]
     },
     "execution_count": 9,
     "metadata": {},
     "output_type": "execute_result"
    }
   ],
   "source": [
    "a.itemsize"
   ]
  },
  {
   "cell_type": "code",
   "execution_count": 11,
   "id": "9e2bfd03",
   "metadata": {},
   "outputs": [
    {
     "data": {
      "text/plain": [
       "numpy.ndarray"
      ]
     },
     "execution_count": 11,
     "metadata": {},
     "output_type": "execute_result"
    }
   ],
   "source": [
    "type(a)"
   ]
  },
  {
   "cell_type": "code",
   "execution_count": 15,
   "id": "d8d4fb8c",
   "metadata": {},
   "outputs": [],
   "source": [
    "b = array([6, 7, 8])"
   ]
  },
  {
   "cell_type": "code",
   "execution_count": 16,
   "id": "68480a79",
   "metadata": {},
   "outputs": [
    {
     "data": {
      "text/plain": [
       "array([6, 7, 8])"
      ]
     },
     "execution_count": 16,
     "metadata": {},
     "output_type": "execute_result"
    }
   ],
   "source": [
    "b"
   ]
  },
  {
   "cell_type": "code",
   "execution_count": 17,
   "id": "cdf0213c",
   "metadata": {},
   "outputs": [
    {
     "data": {
      "text/plain": [
       "numpy.ndarray"
      ]
     },
     "execution_count": 17,
     "metadata": {},
     "output_type": "execute_result"
    }
   ],
   "source": [
    "type(b)"
   ]
  },
  {
   "cell_type": "markdown",
   "id": "483b45a7",
   "metadata": {},
   "source": [
    "# Creando un arreglo.\n",
    "\n",
    "Podemos crear un arreglo de diferentes maneras. Por ejemplo, podemos crear un arreglo de una lista o tupla regular de python, usando la función <code>array</code>. El tipo de de arreglo resultante se deduce del tipo de elementos en la secuencia."
   ]
  },
  {
   "cell_type": "code",
   "execution_count": 18,
   "id": "afbfc247",
   "metadata": {},
   "outputs": [],
   "source": [
    "c = array([2, 3, 4])"
   ]
  },
  {
   "cell_type": "code",
   "execution_count": 20,
   "id": "acc21780",
   "metadata": {},
   "outputs": [
    {
     "data": {
      "text/plain": [
       "array([2, 3, 4])"
      ]
     },
     "execution_count": 20,
     "metadata": {},
     "output_type": "execute_result"
    }
   ],
   "source": [
    "c"
   ]
  },
  {
   "cell_type": "code",
   "execution_count": 21,
   "id": "92a3ac97",
   "metadata": {},
   "outputs": [
    {
     "data": {
      "text/plain": [
       "dtype('int64')"
      ]
     },
     "execution_count": 21,
     "metadata": {},
     "output_type": "execute_result"
    }
   ],
   "source": [
    "c.dtype"
   ]
  },
  {
   "cell_type": "code",
   "execution_count": 22,
   "id": "8358d0e7",
   "metadata": {},
   "outputs": [],
   "source": [
    "d = array ([1.2, 3.5, 5.1])"
   ]
  },
  {
   "cell_type": "code",
   "execution_count": 23,
   "id": "9e63cf09",
   "metadata": {},
   "outputs": [
    {
     "data": {
      "text/plain": [
       "dtype('float64')"
      ]
     },
     "execution_count": 23,
     "metadata": {},
     "output_type": "execute_result"
    }
   ],
   "source": [
    "d.dtype"
   ]
  },
  {
   "cell_type": "markdown",
   "id": "c8c5e63e",
   "metadata": {},
   "source": [
    "## Precaución,\n",
    "\n",
    "Un error que se presenta frecuentemente es llamar a la función <code>array</code> con múltiples argumentos, en lugar de proporcionar una  única lista de números.\n",
    "\n",
    "<strong><code><font color=\"red\">Mal hecho: </font></code></strong> <code>a = array (1,2,3,4)</code>\n",
    "\n",
    "<strong><code><font color=\"green\">Bien hecho: </font></code></strong> <code>a = array ([1,2,3,4])</code>\n",
    "\n",
    "A menudo, los elementos de un arreglo no se conocen desde el inicio del problema, pero su tamaño si; Numpy proporciona algunas funciones que generan arreglos con un contenido inicial, con la finalidad de minimizar el crecimiento de arreglos, que es a su vez, una tarea que gasta recursos.\n",
    "\n",
    "1. <code>zeros</code>: genera un arreglo donde todos los elementos son ceros.\n",
    "\n",
    "2. <code>ones</code>: genera un arreglo donde todos los elementos del mismo son unos.\n",
    "\n",
    "3. <code>empty</code>: genera un arreglo con valores iniciales aleatorios, por defecto, el tipo de dato es <code>float64</code>."
   ]
  },
  {
   "cell_type": "code",
   "execution_count": 24,
   "id": "e0d1254b",
   "metadata": {},
   "outputs": [
    {
     "data": {
      "text/plain": [
       "array([[0., 0., 0., 0.],\n",
       "       [0., 0., 0., 0.],\n",
       "       [0., 0., 0., 0.]])"
      ]
     },
     "execution_count": 24,
     "metadata": {},
     "output_type": "execute_result"
    }
   ],
   "source": [
    "zeros((3, 4))"
   ]
  },
  {
   "cell_type": "code",
   "execution_count": 32,
   "id": "1c50fd62",
   "metadata": {},
   "outputs": [],
   "source": [
    "a5 = ones((2, 3, 4))"
   ]
  },
  {
   "cell_type": "code",
   "execution_count": 33,
   "id": "b32b86bf",
   "metadata": {},
   "outputs": [
    {
     "data": {
      "text/plain": [
       "array([[[1., 1., 1., 1.],\n",
       "        [1., 1., 1., 1.],\n",
       "        [1., 1., 1., 1.]],\n",
       "\n",
       "       [[1., 1., 1., 1.],\n",
       "        [1., 1., 1., 1.],\n",
       "        [1., 1., 1., 1.]]])"
      ]
     },
     "execution_count": 33,
     "metadata": {},
     "output_type": "execute_result"
    }
   ],
   "source": [
    "a5"
   ]
  },
  {
   "cell_type": "code",
   "execution_count": 29,
   "id": "417fd587",
   "metadata": {},
   "outputs": [
    {
     "data": {
      "text/plain": [
       "dtype('float64')"
      ]
     },
     "execution_count": 29,
     "metadata": {},
     "output_type": "execute_result"
    }
   ],
   "source": [
    "a5.dtype"
   ]
  },
  {
   "cell_type": "code",
   "execution_count": 36,
   "id": "16db361e",
   "metadata": {},
   "outputs": [],
   "source": [
    "a6 = ones((2, 3, 4), dtype='int16')"
   ]
  },
  {
   "cell_type": "code",
   "execution_count": 37,
   "id": "9838050a",
   "metadata": {
    "scrolled": true
   },
   "outputs": [
    {
     "data": {
      "text/plain": [
       "array([[[1, 1, 1, 1],\n",
       "        [1, 1, 1, 1],\n",
       "        [1, 1, 1, 1]],\n",
       "\n",
       "       [[1, 1, 1, 1],\n",
       "        [1, 1, 1, 1],\n",
       "        [1, 1, 1, 1]]], dtype=int16)"
      ]
     },
     "execution_count": 37,
     "metadata": {},
     "output_type": "execute_result"
    }
   ],
   "source": [
    "a6"
   ]
  },
  {
   "cell_type": "code",
   "execution_count": 38,
   "id": "18df78d7",
   "metadata": {},
   "outputs": [
    {
     "data": {
      "text/plain": [
       "dtype('int16')"
      ]
     },
     "execution_count": 38,
     "metadata": {},
     "output_type": "execute_result"
    }
   ],
   "source": [
    "a6.dtype"
   ]
  },
  {
   "cell_type": "code",
   "execution_count": 47,
   "id": "67232aea",
   "metadata": {},
   "outputs": [],
   "source": [
    "a7 = empty((2, 3))"
   ]
  },
  {
   "cell_type": "code",
   "execution_count": 50,
   "id": "c1966445",
   "metadata": {},
   "outputs": [
    {
     "data": {
      "text/plain": [
       "array([[0.3, 0.6, 0.9],\n",
       "       [1.2, 1.5, 1.8]])"
      ]
     },
     "execution_count": 50,
     "metadata": {},
     "output_type": "execute_result"
    }
   ],
   "source": [
    "a7 # El resultado puede variar dependiendo del estado de la memoria"
   ]
  },
  {
   "cell_type": "code",
   "execution_count": 51,
   "id": "b2e832f9",
   "metadata": {},
   "outputs": [
    {
     "data": {
      "text/plain": [
       "dtype('float64')"
      ]
     },
     "execution_count": 51,
     "metadata": {},
     "output_type": "execute_result"
    }
   ],
   "source": [
    "a7.dtype"
   ]
  },
  {
   "cell_type": "markdown",
   "id": "3ef6e7dd",
   "metadata": {},
   "source": [
    "## La función arange.\n",
    "\n",
    "Para crear una secuencia de números, Numpy cuenta con una función  análoga a *range*, que devuelve arreglos en lugar de listas.\n",
    "\n",
    "Toma en cuenta los argumentos de la función:\n",
    "$$arange(\\text{inicio}, \\text{fin}, \\text{paso})$$\n",
    "\n",
    "Donde:\n",
    "1. *inicio*: es el valor donde comienza la secuencia.\n",
    "2. *fin*: es el valor donde termina la secuencia, pero **no** está incluido en la misma.\n",
    "3. *paso*: es un argumento opcional, indica el incremento en la secuencia.\n",
    "\n",
    "Se pueden generar secuencias con valores enteros o de punto flotante."
   ]
  },
  {
   "cell_type": "code",
   "execution_count": 41,
   "id": "146e930d",
   "metadata": {},
   "outputs": [
    {
     "data": {
      "text/plain": [
       "array([1, 2, 3, 4, 5, 6, 7, 8, 9])"
      ]
     },
     "execution_count": 41,
     "metadata": {},
     "output_type": "execute_result"
    }
   ],
   "source": [
    "arange(1, 10)"
   ]
  },
  {
   "cell_type": "code",
   "execution_count": 39,
   "id": "1d1e3821",
   "metadata": {},
   "outputs": [
    {
     "data": {
      "text/plain": [
       "array([10, 15, 20, 25])"
      ]
     },
     "execution_count": 39,
     "metadata": {},
     "output_type": "execute_result"
    }
   ],
   "source": [
    "arange(10, 30, 5)"
   ]
  },
  {
   "cell_type": "code",
   "execution_count": 40,
   "id": "c9774afa",
   "metadata": {},
   "outputs": [
    {
     "data": {
      "text/plain": [
       "array([0. , 0.3, 0.6, 0.9, 1.2, 1.5, 1.8])"
      ]
     },
     "execution_count": 40,
     "metadata": {},
     "output_type": "execute_result"
    }
   ],
   "source": [
    "arange(0, 2, 0.3)"
   ]
  },
  {
   "cell_type": "markdown",
   "id": "b7a16cc4",
   "metadata": {},
   "source": [
    "## La función linspace.\n",
    "\n",
    "Cuando se utiliza la función *arange* con argumentos de punto flotante, en general no es posible predecir el número de elementos obtenidos, debido a la precisión de punto flotante. Por tanto, es mejor usar la función **linspace**, en el argumento de la función, se indica el número de elementos que queremos, en vez de un paso."
   ]
  },
  {
   "cell_type": "code",
   "execution_count": 42,
   "id": "71a4115d",
   "metadata": {},
   "outputs": [
    {
     "data": {
      "text/plain": [
       "array([0.  , 0.25, 0.5 , 0.75, 1.  , 1.25, 1.5 , 1.75, 2.  ])"
      ]
     },
     "execution_count": 42,
     "metadata": {},
     "output_type": "execute_result"
    }
   ],
   "source": [
    "linspace(0, 2, 9)"
   ]
  },
  {
   "cell_type": "code",
   "execution_count": 43,
   "id": "5e25c1b5",
   "metadata": {},
   "outputs": [],
   "source": [
    "x = linspace(0, 2*pi, 100)\n",
    "\n",
    "f = sin(x)"
   ]
  },
  {
   "cell_type": "code",
   "execution_count": 44,
   "id": "f6bf9ac9",
   "metadata": {},
   "outputs": [
    {
     "data": {
      "text/plain": [
       "array([ 0.00000000e+00,  6.34239197e-02,  1.26592454e-01,  1.89251244e-01,\n",
       "        2.51147987e-01,  3.12033446e-01,  3.71662456e-01,  4.29794912e-01,\n",
       "        4.86196736e-01,  5.40640817e-01,  5.92907929e-01,  6.42787610e-01,\n",
       "        6.90079011e-01,  7.34591709e-01,  7.76146464e-01,  8.14575952e-01,\n",
       "        8.49725430e-01,  8.81453363e-01,  9.09631995e-01,  9.34147860e-01,\n",
       "        9.54902241e-01,  9.71811568e-01,  9.84807753e-01,  9.93838464e-01,\n",
       "        9.98867339e-01,  9.99874128e-01,  9.96854776e-01,  9.89821442e-01,\n",
       "        9.78802446e-01,  9.63842159e-01,  9.45000819e-01,  9.22354294e-01,\n",
       "        8.95993774e-01,  8.66025404e-01,  8.32569855e-01,  7.95761841e-01,\n",
       "        7.55749574e-01,  7.12694171e-01,  6.66769001e-01,  6.18158986e-01,\n",
       "        5.67059864e-01,  5.13677392e-01,  4.58226522e-01,  4.00930535e-01,\n",
       "        3.42020143e-01,  2.81732557e-01,  2.20310533e-01,  1.58001396e-01,\n",
       "        9.50560433e-02,  3.17279335e-02, -3.17279335e-02, -9.50560433e-02,\n",
       "       -1.58001396e-01, -2.20310533e-01, -2.81732557e-01, -3.42020143e-01,\n",
       "       -4.00930535e-01, -4.58226522e-01, -5.13677392e-01, -5.67059864e-01,\n",
       "       -6.18158986e-01, -6.66769001e-01, -7.12694171e-01, -7.55749574e-01,\n",
       "       -7.95761841e-01, -8.32569855e-01, -8.66025404e-01, -8.95993774e-01,\n",
       "       -9.22354294e-01, -9.45000819e-01, -9.63842159e-01, -9.78802446e-01,\n",
       "       -9.89821442e-01, -9.96854776e-01, -9.99874128e-01, -9.98867339e-01,\n",
       "       -9.93838464e-01, -9.84807753e-01, -9.71811568e-01, -9.54902241e-01,\n",
       "       -9.34147860e-01, -9.09631995e-01, -8.81453363e-01, -8.49725430e-01,\n",
       "       -8.14575952e-01, -7.76146464e-01, -7.34591709e-01, -6.90079011e-01,\n",
       "       -6.42787610e-01, -5.92907929e-01, -5.40640817e-01, -4.86196736e-01,\n",
       "       -4.29794912e-01, -3.71662456e-01, -3.12033446e-01, -2.51147987e-01,\n",
       "       -1.89251244e-01, -1.26592454e-01, -6.34239197e-02, -2.44929360e-16])"
      ]
     },
     "execution_count": 44,
     "metadata": {},
     "output_type": "execute_result"
    }
   ],
   "source": [
    "f"
   ]
  },
  {
   "cell_type": "code",
   "execution_count": 45,
   "id": "722c357d",
   "metadata": {},
   "outputs": [
    {
     "data": {
      "text/plain": [
       "100"
      ]
     },
     "execution_count": 45,
     "metadata": {},
     "output_type": "execute_result"
    }
   ],
   "source": [
    "len(f)"
   ]
  },
  {
   "cell_type": "code",
   "execution_count": 54,
   "id": "939e00c1",
   "metadata": {},
   "outputs": [],
   "source": [
    "y3 = arange(10000)"
   ]
  },
  {
   "cell_type": "code",
   "execution_count": 56,
   "id": "44a5647b",
   "metadata": {},
   "outputs": [
    {
     "data": {
      "text/plain": [
       "array([   0,    1,    2, ..., 9997, 9998, 9999])"
      ]
     },
     "execution_count": 56,
     "metadata": {},
     "output_type": "execute_result"
    }
   ],
   "source": [
    "y3 # Si el contenido del arreglo es muy extenso, se presentan solo unos cuantos elementos dejando puntos suspensivos entre los valore"
   ]
  },
  {
   "cell_type": "markdown",
   "id": "0a1e91d2",
   "metadata": {},
   "source": [
    "# Operaciones básicas.\n",
    "\n",
    "Los operaciones aritméticas en los arreglos se realizan *elemento a elemento*. Se genera un nuevo arreglo para mostrar el resultado."
   ]
  },
  {
   "cell_type": "code",
   "execution_count": 59,
   "id": "20860ebf",
   "metadata": {},
   "outputs": [],
   "source": [
    "x1 = array([20, 30, 40, 50])\n",
    "x2 = arange(4)"
   ]
  },
  {
   "cell_type": "code",
   "execution_count": 60,
   "id": "35abc92a",
   "metadata": {},
   "outputs": [
    {
     "data": {
      "text/plain": [
       "array([20, 30, 40, 50])"
      ]
     },
     "execution_count": 60,
     "metadata": {},
     "output_type": "execute_result"
    }
   ],
   "source": [
    "x1"
   ]
  },
  {
   "cell_type": "code",
   "execution_count": 61,
   "id": "f3d9924b",
   "metadata": {},
   "outputs": [
    {
     "data": {
      "text/plain": [
       "array([0, 1, 2, 3])"
      ]
     },
     "execution_count": 61,
     "metadata": {},
     "output_type": "execute_result"
    }
   ],
   "source": [
    "x2"
   ]
  },
  {
   "cell_type": "code",
   "execution_count": 64,
   "id": "701edf7e",
   "metadata": {},
   "outputs": [],
   "source": [
    "c = x1 - x2"
   ]
  },
  {
   "cell_type": "code",
   "execution_count": 65,
   "id": "0a6d92cd",
   "metadata": {},
   "outputs": [
    {
     "data": {
      "text/plain": [
       "array([20, 29, 38, 47])"
      ]
     },
     "execution_count": 65,
     "metadata": {},
     "output_type": "execute_result"
    }
   ],
   "source": [
    "c"
   ]
  },
  {
   "cell_type": "code",
   "execution_count": 66,
   "id": "c7f5785d",
   "metadata": {},
   "outputs": [
    {
     "data": {
      "text/plain": [
       "array([0, 1, 4, 9])"
      ]
     },
     "execution_count": 66,
     "metadata": {},
     "output_type": "execute_result"
    }
   ],
   "source": [
    "x2**2"
   ]
  },
  {
   "cell_type": "code",
   "execution_count": 68,
   "id": "e8ef70fb",
   "metadata": {},
   "outputs": [
    {
     "data": {
      "text/plain": [
       "array([10.        ,  5.40302306, -4.16146837, -9.89992497])"
      ]
     },
     "execution_count": 68,
     "metadata": {},
     "output_type": "execute_result"
    }
   ],
   "source": [
    "10 * cos(x2)"
   ]
  },
  {
   "cell_type": "code",
   "execution_count": 69,
   "id": "55f84fd9",
   "metadata": {},
   "outputs": [
    {
     "data": {
      "text/plain": [
       "array([ True,  True, False, False])"
      ]
     },
     "execution_count": 69,
     "metadata": {},
     "output_type": "execute_result"
    }
   ],
   "source": [
    "x1 < 35"
   ]
  },
  {
   "cell_type": "markdown",
   "id": "f363709b",
   "metadata": {},
   "source": [
    "## Operador producto.\n",
    "\n",
    "Como ya mencionamos, las operaciones artiméticas se realizan elemento a elemento, como en el caso del operador <code>*</code>. El producto entre matrices se obtiene mediante el operador <code>@</code> (en versiones de python >= 3.5) o mediante la función <code>dot</code>"
   ]
  },
  {
   "cell_type": "code",
   "execution_count": 70,
   "id": "d0c3424a",
   "metadata": {},
   "outputs": [],
   "source": [
    "A = array([[1, 1], [0, 1]])\n",
    "\n",
    "B = array([[2, 0], [3, 4]])"
   ]
  },
  {
   "cell_type": "code",
   "execution_count": 71,
   "id": "7d1ef85f",
   "metadata": {},
   "outputs": [
    {
     "data": {
      "text/plain": [
       "array([[2, 0],\n",
       "       [0, 4]])"
      ]
     },
     "execution_count": 71,
     "metadata": {},
     "output_type": "execute_result"
    }
   ],
   "source": [
    "A * B     # producto elemento por elemento"
   ]
  },
  {
   "cell_type": "code",
   "execution_count": 72,
   "id": "accd5cc7",
   "metadata": {},
   "outputs": [
    {
     "data": {
      "text/plain": [
       "array([[5, 4],\n",
       "       [3, 4]])"
      ]
     },
     "execution_count": 72,
     "metadata": {},
     "output_type": "execute_result"
    }
   ],
   "source": [
    "A @ B     # producto de matrices"
   ]
  },
  {
   "cell_type": "code",
   "execution_count": 73,
   "id": "96a4a4bc",
   "metadata": {},
   "outputs": [
    {
     "data": {
      "text/plain": [
       "array([[5, 4],\n",
       "       [3, 4]])"
      ]
     },
     "execution_count": 73,
     "metadata": {},
     "output_type": "execute_result"
    }
   ],
   "source": [
    "A.dot(B)  # producto de matrices"
   ]
  },
  {
   "cell_type": "code",
   "execution_count": null,
   "id": "27b1314b",
   "metadata": {},
   "outputs": [],
   "source": []
  }
 ],
 "metadata": {
  "kernelspec": {
   "display_name": "Python 3",
   "language": "python",
   "name": "python3"
  },
  "language_info": {
   "codemirror_mode": {
    "name": "ipython",
    "version": 3
   },
   "file_extension": ".py",
   "mimetype": "text/x-python",
   "name": "python",
   "nbconvert_exporter": "python",
   "pygments_lexer": "ipython3",
   "version": "3.8.5"
  },
  "toc": {
   "base_numbering": 1,
   "nav_menu": {},
   "number_sections": true,
   "sideBar": true,
   "skip_h1_title": false,
   "title_cell": "Table of Contents",
   "title_sidebar": "Contents",
   "toc_cell": false,
   "toc_position": {},
   "toc_section_display": true,
   "toc_window_display": false
  }
 },
 "nbformat": 4,
 "nbformat_minor": 5
}
