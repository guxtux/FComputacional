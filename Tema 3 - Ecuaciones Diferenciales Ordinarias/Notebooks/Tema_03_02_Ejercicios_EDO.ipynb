{
 "cells": [
  {
   "attachments": {
    "ejercicio_satelite.png": {
     "image/png": "[encoded data removed]"
    }
   },
   "cell_type": "markdown",
   "id": "fe2c36b4",
   "metadata": {},
   "source": [
    "#  Ejercicio.\n",
    "\n",
    "Un satélite se lanza desde una altitud $H = 772$ km sobre el nivel del mar, con una velocidad inicial $v_{0} = 6700$ $m/s$ en la dirección que se muestra.\n",
    "\n",
    "![Figura satélite](attachment:ejercicio_satelite.png)"
   ]
  },
  {
   "cell_type": "markdown",
   "id": "2f7e7196",
   "metadata": {},
   "source": [
    "El conjunto de EDO que describen el movimiento del satélite son:\n",
    "$$\n",
    "\\begin{align*}\n",
    "\\ddot{r} = r  \\dot{\\theta}^{2} - \\dfrac{G M_{t}}{r^{2}}  \\hspace{2cm} \\ddot{\\theta} = - \\dfrac{2 \\dot{r}\\dot{\\theta}}{r}\n",
    "\\end{align*}\n",
    "$$\n",
    "donde $r$ y $\\theta$ son las coordenadas polares del satélite.\n",
    "\n",
    "Las constantes involucradas en las expresiones, son:\n",
    "$$\n",
    "\\begin{eqnarray*}\n",
    "G &=& 6.672 \\times 10^{-11} \\mbox{ m}^{3} \\mbox{kg}^{-1} \\mbox{s}^{2} \\\\\n",
    "M_{t} &=& 5.9742 \\times 10^{24} \\mbox{ kg, Masa de la Tierra} \\\\\n",
    "R_{e} &=& 6378.14 \\mbox{ km, radio de la Tierra al nivel del mar} \n",
    "\\end{eqnarray*}\n",
    "$$\n",
    "\n",
    "## Problemas a resolver.\n",
    "1. Obtén el conjunto de EDO-1 y las condiciones iniciales del problema, de la forma $\\dot{\\mathbf{y}} = \\mathbf{F}(x,\\mathbf{y})$, $\\mathbf{y}(0) = \\mathbf{b}$.\n",
    "2. Integra las EDO1 en el tiempo en que se lanza el satélite y choca en su regreso a la Tierra.\n",
    "3. Calcula el lugar del impacto, con $\\theta$."
   ]
  },
  {
   "cell_type": "markdown",
   "id": "11bbfb32",
   "metadata": {},
   "source": [
    "### Inciso 1.\n",
    "\n",
    "Tenemos que\n",
    "$$\n",
    "\\begin{align*}\n",
    "G \\, M_{t} &= (6.672 \\times 10^{-11}) (5.9742 \\times 10^{24})  = 3.9860 \\times 10^{14} \\mbox{m}^{3} \\mbox{s}^{2} \\end{align*}\n",
    "$$\n",
    "\n",
    "Ocupando la notación que hemos venido desarrollando, llegamos al sistema:\n",
    "$$\n",
    "\\begin{align*}\n",
    "\\mathbf{y} = \\begin{bmatrix}\n",
    "y_{0} \\\\\n",
    "y_{1} \\\\\n",
    "y_{2} \\\\\n",
    "y_{3}\n",
    "\\end{bmatrix} =\n",
    "\\begin{bmatrix}\n",
    "r \\\\\n",
    "\\dot{r} \\\\\n",
    "\\theta \\\\\n",
    "\\dot{\\theta}\n",
    "\\end{bmatrix}\n",
    "\\end{align*}\n",
    "$$\n",
    "\n",
    "Por lo que el conjunto equivalente de EDO1, resulta ser:\n",
    "$$\n",
    "\\begin{align*}\n",
    "\\dot{\\mathbf{y}} = \\begin{bmatrix}\n",
    "\\dot{y}_{0} \\\\\n",
    "\\dot{y}_{1} \\\\\n",
    "\\dot{y}_{2} \\\\\n",
    "\\dot{y}_{3}\n",
    "\\end{bmatrix} =\n",
    "\\begin{bmatrix}\n",
    "y_{1} \\\\\n",
    "y_{0} y_{3}^{2} - 3.9860 \\times 10^{14}/y_{0}^{2} \\\\\n",
    "y_{3} \\\\\n",
    "-2 y_{1} y_{3} / y_{0}\n",
    "\\end{bmatrix}\n",
    "\\end{align*}\n",
    "$$\n",
    "\n",
    "Las condiciones iniciales para el problema resultan ser:\n",
    "\n",
    "$$\n",
    "\\begin{align*}\n",
    "r(0) &= R_{t} + H = (6378.14+772) \\times 10^{3} = 7.15014 \\times 10^{6} \\mbox{ m} \\\\\n",
    "\\dot{r}(0) &= 0 \\\\\n",
    "\\theta(0) &= 0 \\\\\n",
    "\\dot{\\theta}(0) &= \\dfrac{v_{0}}{r(0)} = \\dfrac{6700}{7.15014 \\times 10^{6}} = 0.937045 \\times 10^{-3} \\mbox{ rad/s}\n",
    "\\end{align*}\n",
    "$$\n",
    "\n",
    "Por tanto;\n",
    "$$\n",
    "\\begin{align*}\n",
    "\\mathbf{y}(0) = \n",
    "\\begin{bmatrix}\n",
    "7.15014 \\times 10^{6} \\\\\n",
    "0 \\\\\n",
    "0 \\\\\n",
    "0.937045 \\times 10^{3}\n",
    "\\end{bmatrix}\n",
    "\\end{align*}\n",
    "$$"
   ]
  },
  {
   "cell_type": "markdown",
   "id": "04b21dda",
   "metadata": {},
   "source": [
    "### Inciso 2: Integración de las EDO1.\n",
    "\n",
    "Usaremos la función <code>integrate.odeint</code> para integrar el sistema de EDO1.\n",
    "\n",
    "De lo visto en clase, se necesita la función <font color=\"blue\"> F{y, t} </font> que incluye el sistema de EDO1.\n",
    "\n",
    "El período de integración, es decir, el valor del tiempo que tarda en caer el satélite y choca con la Tierra, hay que estimarlo tentativamente."
   ]
  },
  {
   "cell_type": "code",
   "execution_count": null,
   "id": "2013e39e",
   "metadata": {},
   "outputs": [],
   "source": [
    "import numpy as np\n",
    "from prettytable import PrettyTable\n",
    "from scipy.integrate import odeint\n",
    "\n",
    "def F(y, t):\n",
    "    F = np.zeros(4)\n",
    "    F[0] = y[1]\n",
    "    F[1] = y[0] * (y[3]**2) - 3.9860e14 / (y[0]**2)\n",
    "    F[2] = y[3]\n",
    "    F[3] = -2.0 * y[1] * y[3]/y[0]\n",
    "    return F\n",
    "\n",
    "t = np.linspace(0, 1200, 100)\n",
    "y0 = np.array([7.1514e6, 0., 0., 0.937045e-3])\n",
    "y1 = odeint(F, y0, t)\n",
    "\n",
    "tabla = PrettyTable()\n",
    "tabla.field_names = ['tiempo', 'altura', 'velocidad']\n",
    "\n",
    "for i in range(len(t)):\n",
    "    tabla.add_row(['%3.5f' % t[i], '%1.6e' % y1[i][0], '%1.5e' % y1[i][1]])\n",
    "\n",
    "print(tabla)"
   ]
  },
  {
   "cell_type": "markdown",
   "id": "bfe50ed0",
   "metadata": {},
   "source": [
    "El satélite choca con la Tierra cuando $r$ es igual a $R_{t}=6.37814 \\times 10^{6}$ m. \n",
    "\n",
    "Buscamos en la tabla anterior, los valores de tiempo para los cuales ocurre el contacto del satélite con la Tierra. Para ello usamos una función de numpy, que nos devuelve el índice para el cual se satisface la expresión del valor mínimo de la diferencia entre los elementos de la lista $y1[;.0]$ y el radio de la Tierra $R_{t}$."
   ]
  },
  {
   "cell_type": "code",
   "execution_count": null,
   "id": "37ba787a",
   "metadata": {},
   "outputs": [],
   "source": [
    "Rt = 6.37814e6\n",
    "\n",
    "indice = np.argmin((np.abs(y1[:,0] - Rt)))\n",
    "\n",
    "print(t[indice], y1[indice][0])\n",
    "print(t[indice+1], y1[indice+1][0])"
   ]
  },
  {
   "cell_type": "markdown",
   "id": "540ad491",
   "metadata": {},
   "source": [
    "Vemos que el choque del satélite con la Tierra ocurre en el intervalo de tiempo: $(1030.3030, 1042.4242)$ segundos."
   ]
  },
  {
   "cell_type": "markdown",
   "id": "e64bf8dc",
   "metadata": {},
   "source": [
    "Intervalo de tiempo al choque.\n",
    "\n",
    "Un valor de $t$ más preciso, lo podemos obtener mediante una interpolación  polinomial, pero si no queremos una precisión alta, con una interpolación lineal, bastará.\n",
    "\n",
    "Consideremos que $1030.3030 + \\Delta t$ el tiempo para el impacto, por lo que escribimos:\n",
    "$$\n",
    "\\begin{align*}\n",
    "r (1030.3030 + \\Delta t) = R_{t}\n",
    "\\end{align*}\n",
    "$$\n",
    "\n",
    "Desarrollando $r$ con dos términos de la serie de Taylor, tenemos que:\n",
    "$$\n",
    "\\begin{align*} \n",
    "r(1030.3030) + \\dot{r}(1030.3030) \\Delta t &= R_{t} \\\\\n",
    "6.386228 \\times 10^{6} + (-1.385053 \\times 10^{3}) \\Delta t &= R_{t}\n",
    "\\end{align*}\n",
    "$$\n",
    "\n",
    "que al despejar el intervalo de tiempo:\n",
    "$$\n",
    "\\begin{align*}\n",
    "\\Delta t =  \\dfrac{R_{t} - 6.386228 \\times 10^{6}}{-1.385053 \\times 10^{3}} =  5.8394 \\, \\text{s}\n",
    "\\end{align*}\n",
    "$$\n",
    "\n",
    "<font color=\"red\">Por lo que el tiempo de impacto es a los $1036.1424$ segundos</code>, luego de haber sido lanzado."
   ]
  },
  {
   "cell_type": "markdown",
   "id": "d56dd7dc",
   "metadata": {},
   "source": [
    "### Inciso 3. Lugar del impacto.\n",
    "\n",
    "La coordenada $\\theta$ del impacto, la podemos calcular de una manera similar, para ello desarrollamos dos términos de la serie de Taylor\n",
    "$$\n",
    "\\begin{align*}\n",
    "\\theta(1030.3030 + \\Delta t) &= \\theta(1030.3030) + \\dot{\\theta}(1030.3030)\\Delta t \\\\\n",
    "\\theta(1036.1424) &= 1.043431 + (1.175043 \\times 10^{-3} )(5.8394) \\\\\n",
    "\\theta(1036.1424) &= 1.5029 \\mbox{ rad} = \\\\\n",
    "\\theta(1036.1424) &= 60.18^{\\circ}\n",
    "\\end{align*}\n",
    "$$"
   ]
  }
 ],
 "metadata": {
  "hide_input": false,
  "kernelspec": {
   "display_name": "Python 3 (ipykernel)",
   "language": "python",
   "name": "python3"
  },
  "language_info": {
   "codemirror_mode": {
    "name": "ipython",
    "version": 3
   },
   "file_extension": ".py",
   "mimetype": "text/x-python",
   "name": "python",
   "nbconvert_exporter": "python",
   "pygments_lexer": "ipython3",
   "version": "3.9.12"
  },
  "toc": {
   "base_numbering": 1,
   "nav_menu": {},
   "number_sections": true,
   "sideBar": true,
   "skip_h1_title": false,
   "title_cell": "Table of Contents",
   "title_sidebar": "Contents",
   "toc_cell": false,
   "toc_position": {},
   "toc_section_display": true,
   "toc_window_display": false
  }
 },
 "nbformat": 4,
 "nbformat_minor": 5
}
