{
 "cells": [
  {
   "cell_type": "markdown",
   "metadata": {},
   "source": [
    "\n",
    "# Los archivos de datos con python.\n",
    "\n",
    "Una tarea muy común y frecuente en el ámbito de la Física Computacional, será el manejo de archivos de datos para su proceso y análisis.\n",
    "\n",
    "Como una primera tarea que hay que atender en el desarrollo de prácticas de programación bajo cualquier lenguaje, es la generación de un archivo de datos con una serie de características necesarias:\n",
    "\n",
    "1. Una estructura de construcción, que permita la posterior lectura del archivo.\n",
    "2. La codificación de los caracteres que conforman los datos, este punto es crítico si además de números, se incluyen o manejan cadenas de texto (el manejo de acentos y ciertos caracteres es crítico, si no se considera este elemento)."
   ]
  },
  {
   "cell_type": "markdown",
   "metadata": {},
   "source": [
    "## Estructura del archivo.\n",
    "\n",
    "Debemos de elegir anticipadamente el tipo de archivo que vamos a generar, ya que de esta forma, al momento de definir el código, se implementará la estructura del archivo.\n",
    "\n",
    "Quien reciba el archivo para su procesamiento, análisis, etc. debe de conocer el tipo de estructura que lleva. En el posible caso de que no avisemos esta información, el usuario del archivo, deberá de hacer una revisión preliminar del archivo para identificar la estrucutura. En el caso de que nosotros seamos los usuarios de un archivo de datos y no tengamos la informción, será nuestra tarea entonces, hacer la revisión de la estructura interna del archivo.\n",
    "\n",
    "Existen diversos formatos para los archivos de texto, a continuación se describen cuatro de los más conocidos:\n",
    "\n",
    "| Tipo de archivo |  Descripción                                                                                                                                                                      |\n",
    "|:-----------------:|:----------------------------------------------------------------------------------------------------------------------------------------------------------------------------------|\n",
    "| txt             | Texto plano que representa sólo caracteres (o cadenas), excluye cualquier tipo de metadatos.                                                                                     |\n",
    "| csv             | Valores separados por coma (Comma-separated values), utiliza comas (u otro delimitador) para estructurar los datos almacenados, permitiendo guardarlos en un formato tipo tabla. |\n",
    "| HTML            | Lenguaje de marcado de hipertexto (HyperText Markup Language) almacena los datos de manera estrucutrada, se utiliza comúnmente en páginas web.                                   |\n",
    "| JSON            | Notación de objeto de JavaScript (JavaScript Object Notation) es un formato sencillo y eficiente, siendo un formato para almacenar y transferir datos.                           |"
   ]
  },
  {
   "cell_type": "markdown",
   "metadata": {},
   "source": [
    "## Archivo auxiliar README.\n",
    "\n",
    "Al momento en que compartan el archivo, se recomienda elaborar un archivo **README**, que contiene información acerca de otros archivos ya sea en un directorio o un archivo comprimido.\n",
    "\n",
    "Es una forma de documentación de software, consiste en un archivo de texto plano llamado **READ.ME**, **README.TXT**}, **README.md** (para un archivo markdown), **README.1ST** o simplemente **README**.\n",
    "\n",
    "El nombre del archivo es generalmente escrito en mayúsculas. En los sistemas Unix-like, generalmente los nombres se escriben en minúscula, y esto hace que en un listado de archivos salga primero el archivo **README**."
   ]
  },
  {
   "cell_type": "markdown",
   "metadata": {},
   "source": [
    "## Creando un archivo de datos.\n",
    "\n",
    "Con python será una tarea muy frecuente el generar un archivo de datos y compartirlo con otros usuarios.\n",
    "\n",
    "Las instrucciones para crear el archivo son sencillas de implemantar en el código, toma en cuenta lo siguiente:\n",
    "\n",
    "1. El archivo de datos se va a crear en la misma carpeta en donde se está ejecutando el archivo de python con extensión **.py**.\n",
    "2. Un archivo de datos requiere de una **''apertura''** de un espacio en memoria, para que con una instrucción, se **escriban** los datos en el archivo.\n",
    "3. Una vez que se completa la tarea de escribir los datos, hay que cerrar el espacio de memoria."
   ]
  },
  {
   "cell_type": "markdown",
   "metadata": {},
   "source": [
    "# Ejercicio para guardar un archivo de datos.\n",
    "\n",
    "El siguiente ejercicio nos mostrará la manera en la que debemos de preparar el código en pyhton para crear y guardar un archivo de datos.\n",
    "\n",
    "Usaremos la función de **numpy** para evaluar un conjunto de puntos de un polinomio, para luego enviarlos a un archivo de datos **ejemplo_datos.dat**."
   ]
  },
  {
   "cell_type": "code",
   "execution_count": 2,
   "metadata": {},
   "outputs": [
    {
     "name": "stdout",
     "output_type": "stream",
     "text": [
      "\n",
      " Se ha abierto el archivo de datos para escribir.\n",
      "\n",
      "Se ha cerrado el archivo de datos.\n"
     ]
    }
   ],
   "source": [
    "import numpy as np\n",
    "\n",
    "coeficientes1 = [1, 2, 3]\n",
    "coeficientes2 = [1, 2, -3]\n",
    "\n",
    "x = np.linspace(-10, 10)\n",
    "y1 = np.polynomial.polynomial.polyval(x, coeficientes1)\n",
    "y2 = np.polynomial.polynomial.polyval(x, coeficientes2)\n",
    "\n",
    "valores = open('datos_ejercicio.dat','w')\n",
    "print('\\n Se ha abierto el archivo de datos para escribir.')\n",
    "\n",
    "valores.write('{0:} \\t {1:} \\t {2:}\\n'.format('x', 'y1', 'y2'))\n",
    "\n",
    "for i in range(len(x)):\n",
    "    valores.write('{0:2.2f} \\t {1:1.3f} \\t {2:1.3f}\\n'.format(x[i], y1[i], y2[i]))\n",
    "    \n",
    "valores.close()\n",
    "print('\\nSe ha cerrado el archivo de datos.')"
   ]
  },
  {
   "cell_type": "markdown",
   "metadata": {},
   "source": [
    "## Revisando el código.\n",
    "\n",
    "En la línea <code>valores = open('datos_ejercicio.dat','w')</code>, se indica la función <font color=\"blue\">open</font>, que se requiere para **''abrir''** en memoria el espacio para el archivo, recibe los siguientes argumentos:\n",
    "\n",
    "1. El primer argumento es el nombre del archivo y su extensión: *datos_ejercicio.dat*, nótese que la extensión que hemos dejado, es **.dat**, se puede utilizar libremente el tipo de extensión **.txt**, **.inf**, **.text**, **.data**, etc. Lo relevante de la extensión es que el sistema operativo con el que trabajen, pueda distinguir que se trata de un archivo de datos en texto plano.\n",
    "2. El segundo argumento, se indica con la letra **'w'**, esto avisa a python que se va a realizar la instrucción **write**, lo que permitirá escribir información en el archivo.\n",
    "Como punto importante hay que señalar, que en caso de que el archivo <code>datos_ejercicio.dat</code> no exista, python creará un archivo nuevo, en caso de que ya exista, lo va a **sobreescribir**.\n",
    "\n",
    "Existen otras opciones para los archivos, hay que ser cuidadoso al momento de indicar en la línea de creación del archivo la que vayamos a utilizar:\n",
    "\n",
    "| Argumento | Descripción                                                                                                                  |\n",
    "|:-----------:|:------------------------------------------------------------------------------------------------------------------------------|\n",
    "| 'r'       | El archivo se abrirá solo para lectura.                                                                                      |\n",
    "| 'w'       | El archivo se abrirá solo para escritura. Si el archivo no existe, se creará uno nuevo, si ya existe, lo va a sobreescribir. |\n",
    "| 'a'       | Los datos que se envíen al archivo se agregarán a los que ya existen en ese archivo.                                         |\n",
    "| 'r+'      | El archivo estará abierto tanto para lectura como para escritura.                                                            |\n",
    "\n",
    "3. En la línea con\n",
    "<code>valores.write('{0:} \\t {1:} \\t {2:}\\n'.format('x', 'y1', 'y2'))</code>\n",
    "Escribimos el encabezado de cada columna.\n",
    "\n",
    "4. En el bucle\n",
    "\n",
    "<code>for i in range(len(x)):\n",
    "    valores.write('{0:2.2f} \\t {1:1.3f} \\t {2:1.3f}\\n'.format(x[i], y1[i], y2[i]))\n",
    "</code>\n",
    "\n",
    "se guardan tres variables en el archivo de datos que están separadas con un tabulador. Es importante destacar que se incluye un salto de línea al final de la cadena <code>\\n</code>, para separar por renglones.\n",
    "\n",
    "5. La instrucción <code>valores.close()</code> avisa a python que libere el espacio en memoria para el objeto de archivo.\n",
    "\n",
    "6. El archivo de datos se encuentra en la misma ruta del archivo que ejecuta el código.\n",
    "\n",
    "En el siguiente bloque de código veremos la manera en la que ahora se ''leerán'' los datos del archivo para ocuparlos en una gráfica."
   ]
  },
  {
   "cell_type": "markdown",
   "metadata": {},
   "source": [
    "# Leyendo los datos de un archivo.\n",
    "\n",
    "En la siguiente parte ocuparemos el archivo de datos que se ha creado, recuerda que éste debe de ubicarse en la misma ruta que el archivo que se ejecuta.\n",
    "\n",
    "En este caso tendremos un archivo con datos numéricos, la manera de manejar un archivo con datos de tipo cadena (o una combinación de números y cadena) se revisará en el ejemplo que continúa."
   ]
  },
  {
   "cell_type": "code",
   "execution_count": 3,
   "metadata": {},
   "outputs": [],
   "source": [
    "x_archivo = []\n",
    "y1_archivo = []\n",
    "y2_archivo = []\n",
    "\n",
    "datos = np.loadtxt('datos_ejercicio.dat', delimiter='\\t', skiprows=1)\n",
    "\n",
    "for i in range(len(datos[:,0])):\n",
    "    x_archivo.append(datos[:,0][i])\n",
    "    y1_archivo.append(datos[:,1][i])\n",
    "    y2_archivo.append(datos[:,2][i])"
   ]
  },
  {
   "cell_type": "markdown",
   "metadata": {},
   "source": [
    "## Revisando el código de lectura de datos.\n",
    "\n",
    "En el código de la celda anterior se crean tres objetos de lista para incluir en cada uno de ellos, los valores por columna del archivo de datos, a modo de tener $x$, $y1$, e $y2$.\n",
    "\n",
    "La instrucción:\n",
    "<code>datos = np.loadtxt('datos_ejercicio.dat', delimiter='\\t', skiprows=1)</code>\n",
    "\n",
    "Lo que nos devuelva la función se lo asignamos a la variable **datos**.\n",
    "\n",
    "La función <code>np.loadtxt</code> ocupa los siguientes datos:\n",
    "1. El nombre del archivo de datos y su extensión. En caso de que el archivo no se encuentre o no exista en la ruta, tendremos un error de tipo *Archivo no encontrado*.\n",
    "2. El parámetro <code>delimiter='\\t'</code>, que en este caso, indica que la separación entre los valores del archivo es mediante un tabulador; al momento de guardar los datos en un archivo, podemos usar un separador de tipo: coma, punto y coma, espacio en blanco y el tabulador, por lo que al momento de leer los datos de un archivo es necesario señalar ese tipo de separador, ésta una razón importante de incluir un archivo <code>READMDE</code> para que en caso de que nos proporcionen esos datos, tengamos la información necesaria y no tengamos que abrir el archivo y revisar lo que contiene y cómo lo contiene.\n",
    "3. El parámetro <code>skiprows=1</code> nos indica que no va a incluir en la variables *datos* el contenido del primer renglón, que es donde tenemos una cadena de texto. La función <code>np.loadtxt</code> es muy útil cuando tenemos datos de tipo numérico.\n",
    "\n",
    "En el ciclo <code>for i in range(len(x_archivo))</code>, se genera una secuencia de enteros tomando como valor de referencia, el número de elementos de <code>datos[;,0]</code>. \n",
    "\n",
    "Recordemos que con los objetos <code>np.array</code> tenemos una lista de listas, entonces nos fijamos en la columna de todas las listas contenidas pero que tienen índice <code>[0]</code>.\n",
    "\n",
    "De esta manera en cada una de las lista <code>_archivo></code> (para diferenciarlas de las otras listas que están al inicio del ejercicio) se van agregando los correspondientes valores, una vez terminado el ciclo <code>for</code>, ya tenemos tres listas que podremos ocupar para graficar con una rutina."
   ]
  },
  {
   "cell_type": "code",
   "execution_count": 6,
   "metadata": {},
   "outputs": [
    {
     "data": {
      "image/png": "[encoded data removed]",
      "text/plain": [
       "<Figure size 432x288 with 1 Axes>"
      ]
     },
     "metadata": {
      "needs_background": "light"
     },
     "output_type": "display_data"
    }
   ],
   "source": [
    "%matplotlib inline\n",
    "\n",
    "import matplotlib.pyplot as plt\n",
    "\n",
    "plt.plot(x_archivo, y1_archivo)\n",
    "plt.plot(x_archivo, y2_archivo, 'r')\n",
    "plt.title('Gráfica de los puntos del archivo de datos')\n",
    "plt.show()\n"
   ]
  },
  {
   "attachments": {
    "Tema_03_Guia_Manejo_Archivos.png": {
     "image/png": "[encoded data removed]"
    }
   },
   "cell_type": "markdown",
   "metadata": {},
   "source": [
    "# Resultado gráfico.\n",
    "\n",
    "Una vez que hemos manipulado los datos del archivo, se tiene una gráfica que podemos ''decorar'' para dejarla más atractiva a la vista.\n",
    "\n",
    "![Gráfica obtenida](attachment:Tema_03_Guia_Manejo_Archivos.png)"
   ]
  },
  {
   "cell_type": "markdown",
   "metadata": {},
   "source": [
    "# Lectura de datos tipo cadena.\n",
    "\n",
    "La lectura de datos de un archivo se puede hacer de distintas maneras con python, siendo siempre necesario crear un objeto iterable con la función <code>open</code>, en el ejercicio usaremos un archivo de texto <code>El_Zen_de_Python.txt</code> que está en la misma carpeta del Notebook."
   ]
  },
  {
   "cell_type": "code",
   "execution_count": 9,
   "metadata": {},
   "outputs": [
    {
     "name": "stdout",
     "output_type": "stream",
     "text": [
      "Beautiful is better than ugly.\n",
      "Explicit is better than implicit.\n",
      "Simple is better than complex.\n",
      "Complex is better than complicated.\n",
      "Flat is better than nested.\n",
      "Sparse is better than dense.\n",
      "Readability counts.\n",
      "Special cases aren't special enough to break the rules.\n",
      "Although practicality beats purity.\n",
      "Errors should never pass silently.\n",
      "Unless explicitly silenced.\n",
      "In the face of ambiguity, refuse the temptation to guess.\n",
      "There should be one-- and preferably only one --obvious way to do it.\n",
      "Although that way may not be obvious at first unless you're Dutch.\n",
      "Now is better than never.\n",
      "Although never is often better than *right* now.\n",
      "If the implementation is hard to explain, it's a bad idea.\n",
      "If the implementation is easy to explain, it may be a good idea.\n",
      "Namespaces are one honking great idea -- let's do more of those!\n"
     ]
    }
   ],
   "source": [
    "with open('El_Zen_de_Python.txt') as f:\n",
    "    contenido = f.read()\n",
    "    print(contenido)"
   ]
  },
  {
   "cell_type": "markdown",
   "metadata": {},
   "source": [
    "Se definió en el código anterior un objeto <code>f></code> para luego utilizar la función <code>read(tamaño)</code>, si no se especifica el *tamaño* a leer, se regresa todo el contenido del archivo en una sola cadena."
   ]
  },
  {
   "cell_type": "markdown",
   "metadata": {},
   "source": [
    "## Otras funciones de lectura.\n",
    "\n",
    "Python cuenta con otras funciones de lectura:\n",
    "\n",
    "1. <code>read()</code>: esta función lee **todo** el archivo y devuelve una cadena.\n",
    "2. <code>readlines()</code> : esta función devuelve una lista donde cada elemento es una sola línea de ese archivo.\n",
    "3. <code>readline()</code> : esta función lee líneas de ese archivo y las devuelve como una cadena."
   ]
  },
  {
   "cell_type": "code",
   "execution_count": 17,
   "metadata": {},
   "outputs": [
    {
     "name": "stdout",
     "output_type": "stream",
     "text": [
      "Beautiful is better than ugly.\n",
      "\n",
      "Explicit is better than implicit.\n",
      "\n",
      "Simple is better than complex.\n",
      "\n",
      "Complex is better than complicated.\n",
      "\n",
      "Flat is better than nested.\n",
      "\n",
      "Sparse is better than dense.\n",
      "\n",
      "Readability counts.\n",
      "\n",
      "Special cases aren't special enough to break the rules.\n",
      "\n",
      "Although practicality beats purity.\n",
      "\n",
      "Errors should never pass silently.\n",
      "\n",
      "Unless explicitly silenced.\n",
      "\n",
      "In the face of ambiguity, refuse the temptation to guess.\n",
      "\n",
      "There should be one-- and preferably only one --obvious way to do it.\n",
      "\n",
      "Although that way may not be obvious at first unless you're Dutch.\n",
      "\n",
      "Now is better than never.\n",
      "\n",
      "Although never is often better than *right* now.\n",
      "\n",
      "If the implementation is hard to explain, it's a bad idea.\n",
      "\n",
      "If the implementation is easy to explain, it may be a good idea.\n",
      "\n",
      "Namespaces are one honking great idea -- let's do more of those!\n"
     ]
    }
   ],
   "source": [
    "with open('El_Zen_de_Python.txt') as f:\n",
    "    [print(line) for line in f.readlines()]"
   ]
  },
  {
   "cell_type": "markdown",
   "metadata": {},
   "source": [
    "En el ejemplo anterior, hay un salto de línea ya que en el archivo hay un carácter de escape <code>\\n</code>.\n",
    "\n",
    "Para remover ese carácter de escape, se utiliza la función <code>strip</code>, como se revisa en la siguiente celda."
   ]
  },
  {
   "cell_type": "code",
   "execution_count": 18,
   "metadata": {},
   "outputs": [
    {
     "name": "stdout",
     "output_type": "stream",
     "text": [
      "Beautiful is better than ugly.\n",
      "Explicit is better than implicit.\n",
      "Simple is better than complex.\n",
      "Complex is better than complicated.\n",
      "Flat is better than nested.\n",
      "Sparse is better than dense.\n",
      "Readability counts.\n",
      "Special cases aren't special enough to break the rules.\n",
      "Although practicality beats purity.\n",
      "Errors should never pass silently.\n",
      "Unless explicitly silenced.\n",
      "In the face of ambiguity, refuse the temptation to guess.\n",
      "There should be one-- and preferably only one --obvious way to do it.\n",
      "Although that way may not be obvious at first unless you're Dutch.\n",
      "Now is better than never.\n",
      "Although never is often better than *right* now.\n",
      "If the implementation is hard to explain, it's a bad idea.\n",
      "If the implementation is easy to explain, it may be a good idea.\n",
      "Namespaces are one honking great idea -- let's do more of those!\n"
     ]
    }
   ],
   "source": [
    "with open('El_Zen_de_Python.txt') as f:\n",
    "    [print(linea.strip()) for linea in f.readlines()]"
   ]
  },
  {
   "cell_type": "code",
   "execution_count": 1,
   "metadata": {},
   "outputs": [
    {
     "name": "stdout",
     "output_type": "stream",
     "text": [
      "Beautiful is better than ugly.\n",
      "Explicit is better than implicit.\n",
      "Simple is better than complex.\n",
      "Complex is better than complicated.\n",
      "Flat is better than nested.\n",
      "Sparse is better than dense.\n",
      "Readability counts.\n",
      "Special cases aren't special enough to break the rules.\n",
      "Although practicality beats purity.\n",
      "Errors should never pass silently.\n",
      "Unless explicitly silenced.\n",
      "In the face of ambiguity, refuse the temptation to guess.\n",
      "There should be one-- and preferably only one --obvious way to do it.\n",
      "Although that way may not be obvious at first unless you're Dutch.\n",
      "Now is better than never.\n",
      "Although never is often better than *right* now.\n",
      "If the implementation is hard to explain, it's a bad idea.\n",
      "If the implementation is easy to explain, it may be a good idea.\n",
      "Namespaces are one honking great idea -- let's do more of those!\n"
     ]
    }
   ],
   "source": [
    "with open('El_Zen_de_Python.txt') as f:\n",
    "    while True:\n",
    "        linea = f.readline()\n",
    "        if not linea:\n",
    "            break\n",
    "        print(linea.strip())"
   ]
  },
  {
   "cell_type": "markdown",
   "metadata": {},
   "source": [
    "En los ejemplos anteriores en donde se ha utilizado la sentencia <code>with</code>, se nota que no hemos ocupado la función <code>f.close()</code> ya que precisamente con este modo, el archivo se cierra sin necesidad de indicarlo en el código, pero se aconseja utilizarlo conforme nos iniciamos en el manejo de archivos de datos."
   ]
  },
  {
   "cell_type": "markdown",
   "metadata": {},
   "source": [
    "# Manejando datos que combinan cadenas y números.\n",
    "\n",
    "En el siguiente ejemplo haremos uso de un archivo de tipo <code>.csv</code> que incluye cadenas y números. **Nota:** Este archivo no es propiamente una base de datos, es un concentrado de información que podemos utilizar para explorar.\n",
    "\n",
    "Una base de datos propiamente requiere de un **gestor de bases de datos** como SQL, SQL Server, mySQL, Heidi, etc. que con python se complementan adecuadamente y se potencia el uso de este lenguaje."
   ]
  },
  {
   "cell_type": "markdown",
   "metadata": {},
   "source": [
    "## El uso de Pandas.\n",
    "\n",
    "<code>pandas</code> es un paquete de python que nos proporciona estructuras de datos rápidas, flexibles y expresivas diseñadas para que trabajar con datos ''relacionales'' o ''etiquetados'' sea fácil e intuitivo.\n",
    "\n",
    "Su **objetivo** es ser el bloque de construcción fundamental de alto nivel para realizar análisis prácticos con python de datos del mundo real. Además, tiene **el objetivo más amplio** de convertirse en la herramienta de manipulación/análisis de datos de fuente abierta más poderosa y flexible disponible en cualquier idioma.\n",
    "\n",
    "<code>pandas</code> es adecuado para muchos tipos diferentes de datos:\n",
    "\n",
    "1. Datos tabulares con columnas de tipos heterogéneos, como en una tabla SQL o una hoja de cálculo de Excel.\n",
    "2. Datos de series de tiempo ordenados y desordenados (no necesariamente de frecuencia fija).\n",
    "3. Datos de matriz arbitraria (tipo homogéneo o heterogéneo) con etiquetas de fila y columna.\n",
    "4, Cualquier otra forma de conjuntos de datos de observación/estadísticos. No es necesario etiquetar los datos para colocarlos en una estructura de datos de <code>pandas</code>."
   ]
  },
  {
   "cell_type": "markdown",
   "metadata": {},
   "source": [
    "## Estructuras de datos de <code>pandas</code>.\n",
    "\n",
    "1. Series (unidimensional)\n",
    "2. DataFrame (bidimensional)\n",
    "\n",
    "Ambas manejan la gran mayoría de los casos de uso típicos en finanzas, estadísticas, ciencias sociales y muchas áreas de la ciencia e ingeniería. \n",
    "\n",
    "<code>pandas</code> se basa en <code>numpy</code> y está diseñado para integrarse bien en un entorno informático científico con muchas otras bibliotecas de terceros.\n",
    "\n",
    "| Dimensiones | Nombre    | Descripción                                                                                                     |\n",
    "|:-------------:|:-----------:|:-----------------------------------------------------------------------------------------------------------------|\n",
    "| 1           | Series    | Matriz de tipado homogéneo etiquetada en 1D                                                                     |\n",
    "| 2           | DataFrame | Estructura tabular de tamaño mutable etiquetada en 2D general con columna tipificada potencialmente heterogénea |"
   ]
  },
  {
   "cell_type": "markdown",
   "metadata": {},
   "source": [
    "## Algunas funciones de <code>pandas</code>.\n",
    "\n",
    "En el siguiente ejemplo haremos uso del archivo <code>Base_Datos_ejemplo.csv</code> para manejarlo y comprender su contenido, posteriormente usaremos las herramientas de <code>pandas</code> para generar nueva información."
   ]
  },
  {
   "cell_type": "code",
   "execution_count": 9,
   "metadata": {},
   "outputs": [],
   "source": [
    "import pandas as pd\n",
    "\n",
    "datos = pd.read_csv(\"Base_Datos_Ejemplo.csv\")"
   ]
  },
  {
   "cell_type": "code",
   "execution_count": 10,
   "metadata": {},
   "outputs": [
    {
     "data": {
      "text/html": [
       "<div>\n",
       "<style scoped>\n",
       "    .dataframe tbody tr th:only-of-type {\n",
       "        vertical-align: middle;\n",
       "    }\n",
       "\n",
       "    .dataframe tbody tr th {\n",
       "        vertical-align: top;\n",
       "    }\n",
       "\n",
       "    .dataframe thead th {\n",
       "        text-align: right;\n",
       "    }\n",
       "</style>\n",
       "<table border=\"1\" class=\"dataframe\">\n",
       "  <thead>\n",
       "    <tr style=\"text-align: right;\">\n",
       "      <th></th>\n",
       "      <th>First Name</th>\n",
       "      <th>Last Name</th>\n",
       "      <th>Gender</th>\n",
       "      <th>Age</th>\n",
       "      <th>Phone</th>\n",
       "      <th>Occupation</th>\n",
       "      <th>Experience (Years)</th>\n",
       "      <th>Salary</th>\n",
       "      <th>Number of Children</th>\n",
       "    </tr>\n",
       "  </thead>\n",
       "  <tbody>\n",
       "    <tr>\n",
       "      <td>0</td>\n",
       "      <td>Adelaide</td>\n",
       "      <td>Farrell</td>\n",
       "      <td>Female</td>\n",
       "      <td>30</td>\n",
       "      <td>112-7716-34</td>\n",
       "      <td>Social Worker</td>\n",
       "      <td>14</td>\n",
       "      <td>939</td>\n",
       "      <td>5</td>\n",
       "    </tr>\n",
       "    <tr>\n",
       "      <td>1</td>\n",
       "      <td>Ryan</td>\n",
       "      <td>Anderson</td>\n",
       "      <td>Male</td>\n",
       "      <td>38</td>\n",
       "      <td>722-8995-47</td>\n",
       "      <td>Veterinarian</td>\n",
       "      <td>10</td>\n",
       "      <td>1402</td>\n",
       "      <td>0</td>\n",
       "    </tr>\n",
       "    <tr>\n",
       "      <td>2</td>\n",
       "      <td>Eleanor</td>\n",
       "      <td>Ellis</td>\n",
       "      <td>Female</td>\n",
       "      <td>31</td>\n",
       "      <td>780-2366-35</td>\n",
       "      <td>Driver</td>\n",
       "      <td>1</td>\n",
       "      <td>2557</td>\n",
       "      <td>1</td>\n",
       "    </tr>\n",
       "    <tr>\n",
       "      <td>3</td>\n",
       "      <td>Sawyer</td>\n",
       "      <td>Wright</td>\n",
       "      <td>Male</td>\n",
       "      <td>34</td>\n",
       "      <td>041-0146-13</td>\n",
       "      <td>Accountant</td>\n",
       "      <td>0</td>\n",
       "      <td>8473</td>\n",
       "      <td>0</td>\n",
       "    </tr>\n",
       "    <tr>\n",
       "      <td>4</td>\n",
       "      <td>Lilianna</td>\n",
       "      <td>Murphy</td>\n",
       "      <td>Female</td>\n",
       "      <td>37</td>\n",
       "      <td>962-3019-15</td>\n",
       "      <td>Social Worker</td>\n",
       "      <td>10</td>\n",
       "      <td>5880</td>\n",
       "      <td>0</td>\n",
       "    </tr>\n",
       "    <tr>\n",
       "      <td>5</td>\n",
       "      <td>Luke</td>\n",
       "      <td>Gibson</td>\n",
       "      <td>Male</td>\n",
       "      <td>30</td>\n",
       "      <td>915-4502-69</td>\n",
       "      <td>Mathematician</td>\n",
       "      <td>15</td>\n",
       "      <td>1262</td>\n",
       "      <td>1</td>\n",
       "    </tr>\n",
       "    <tr>\n",
       "      <td>6</td>\n",
       "      <td>Victor</td>\n",
       "      <td>Thompson</td>\n",
       "      <td>Male</td>\n",
       "      <td>31</td>\n",
       "      <td>898-7673-98</td>\n",
       "      <td>Historian</td>\n",
       "      <td>9</td>\n",
       "      <td>6409</td>\n",
       "      <td>0</td>\n",
       "    </tr>\n",
       "    <tr>\n",
       "      <td>7</td>\n",
       "      <td>Carlos</td>\n",
       "      <td>Parker</td>\n",
       "      <td>Male</td>\n",
       "      <td>34</td>\n",
       "      <td>482-8887-22</td>\n",
       "      <td>Manager</td>\n",
       "      <td>4</td>\n",
       "      <td>4141</td>\n",
       "      <td>2</td>\n",
       "    </tr>\n",
       "    <tr>\n",
       "      <td>8</td>\n",
       "      <td>Eric</td>\n",
       "      <td>Scott</td>\n",
       "      <td>Male</td>\n",
       "      <td>35</td>\n",
       "      <td>412-7542-56</td>\n",
       "      <td>Journalist</td>\n",
       "      <td>14</td>\n",
       "      <td>5172</td>\n",
       "      <td>0</td>\n",
       "    </tr>\n",
       "    <tr>\n",
       "      <td>9</td>\n",
       "      <td>Edward</td>\n",
       "      <td>Craig</td>\n",
       "      <td>Male</td>\n",
       "      <td>36</td>\n",
       "      <td>709-0669-65</td>\n",
       "      <td>Engineer</td>\n",
       "      <td>6</td>\n",
       "      <td>7871</td>\n",
       "      <td>5</td>\n",
       "    </tr>\n",
       "    <tr>\n",
       "      <td>10</td>\n",
       "      <td>Brooke</td>\n",
       "      <td>Evans</td>\n",
       "      <td>Female</td>\n",
       "      <td>40</td>\n",
       "      <td>790-3001-61</td>\n",
       "      <td>Lawer</td>\n",
       "      <td>17</td>\n",
       "      <td>4434</td>\n",
       "      <td>0</td>\n",
       "    </tr>\n",
       "    <tr>\n",
       "      <td>11</td>\n",
       "      <td>Roland</td>\n",
       "      <td>Walker</td>\n",
       "      <td>Male</td>\n",
       "      <td>32</td>\n",
       "      <td>474-6021-58</td>\n",
       "      <td>Insurer</td>\n",
       "      <td>12</td>\n",
       "      <td>9770</td>\n",
       "      <td>0</td>\n",
       "    </tr>\n",
       "    <tr>\n",
       "      <td>12</td>\n",
       "      <td>Olivia</td>\n",
       "      <td>Wilson</td>\n",
       "      <td>Female</td>\n",
       "      <td>30</td>\n",
       "      <td>440-3982-68</td>\n",
       "      <td>Engineer</td>\n",
       "      <td>3</td>\n",
       "      <td>6257</td>\n",
       "      <td>4</td>\n",
       "    </tr>\n",
       "    <tr>\n",
       "      <td>13</td>\n",
       "      <td>Dominik</td>\n",
       "      <td>Crawford</td>\n",
       "      <td>Male</td>\n",
       "      <td>31</td>\n",
       "      <td>704-9147-26</td>\n",
       "      <td>Journalist</td>\n",
       "      <td>0</td>\n",
       "      <td>6651</td>\n",
       "      <td>5</td>\n",
       "    </tr>\n",
       "    <tr>\n",
       "      <td>14</td>\n",
       "      <td>Abraham</td>\n",
       "      <td>Brown</td>\n",
       "      <td>Male</td>\n",
       "      <td>33</td>\n",
       "      <td>795-3926-46</td>\n",
       "      <td>Botanist</td>\n",
       "      <td>15</td>\n",
       "      <td>9740</td>\n",
       "      <td>1</td>\n",
       "    </tr>\n",
       "    <tr>\n",
       "      <td>15</td>\n",
       "      <td>Lydia</td>\n",
       "      <td>Dixon</td>\n",
       "      <td>Female</td>\n",
       "      <td>30</td>\n",
       "      <td>890-3508-46</td>\n",
       "      <td>Hairdresser</td>\n",
       "      <td>8</td>\n",
       "      <td>9938</td>\n",
       "      <td>0</td>\n",
       "    </tr>\n",
       "    <tr>\n",
       "      <td>16</td>\n",
       "      <td>Adrianna</td>\n",
       "      <td>Mitchell</td>\n",
       "      <td>Female</td>\n",
       "      <td>40</td>\n",
       "      <td>862-5297-90</td>\n",
       "      <td>Scientist</td>\n",
       "      <td>6</td>\n",
       "      <td>2754</td>\n",
       "      <td>5</td>\n",
       "    </tr>\n",
       "    <tr>\n",
       "      <td>17</td>\n",
       "      <td>Freddie</td>\n",
       "      <td>Thomas</td>\n",
       "      <td>Male</td>\n",
       "      <td>33</td>\n",
       "      <td>465-9178-05</td>\n",
       "      <td>Chemist</td>\n",
       "      <td>8</td>\n",
       "      <td>4350</td>\n",
       "      <td>4</td>\n",
       "    </tr>\n",
       "    <tr>\n",
       "      <td>18</td>\n",
       "      <td>Charlotte</td>\n",
       "      <td>Walker</td>\n",
       "      <td>Female</td>\n",
       "      <td>32</td>\n",
       "      <td>301-1454-82</td>\n",
       "      <td>Programmer</td>\n",
       "      <td>10</td>\n",
       "      <td>7097</td>\n",
       "      <td>5</td>\n",
       "    </tr>\n",
       "    <tr>\n",
       "      <td>19</td>\n",
       "      <td>Maximilian</td>\n",
       "      <td>Parker</td>\n",
       "      <td>Male</td>\n",
       "      <td>33</td>\n",
       "      <td>531-2076-02</td>\n",
       "      <td>Electrician</td>\n",
       "      <td>0</td>\n",
       "      <td>7895</td>\n",
       "      <td>4</td>\n",
       "    </tr>\n",
       "    <tr>\n",
       "      <td>20</td>\n",
       "      <td>Vivian</td>\n",
       "      <td>Jones</td>\n",
       "      <td>Female</td>\n",
       "      <td>34</td>\n",
       "      <td>241-4330-64</td>\n",
       "      <td>Economist</td>\n",
       "      <td>3</td>\n",
       "      <td>7414</td>\n",
       "      <td>2</td>\n",
       "    </tr>\n",
       "    <tr>\n",
       "      <td>21</td>\n",
       "      <td>Amy</td>\n",
       "      <td>Brooks</td>\n",
       "      <td>Female</td>\n",
       "      <td>31</td>\n",
       "      <td>995-1300-46</td>\n",
       "      <td>Driver</td>\n",
       "      <td>15</td>\n",
       "      <td>7536</td>\n",
       "      <td>3</td>\n",
       "    </tr>\n",
       "    <tr>\n",
       "      <td>22</td>\n",
       "      <td>Jasmine</td>\n",
       "      <td>Gray</td>\n",
       "      <td>Female</td>\n",
       "      <td>34</td>\n",
       "      <td>533-1267-38</td>\n",
       "      <td>Jeweller</td>\n",
       "      <td>15</td>\n",
       "      <td>3613</td>\n",
       "      <td>0</td>\n",
       "    </tr>\n",
       "    <tr>\n",
       "      <td>23</td>\n",
       "      <td>Rosie</td>\n",
       "      <td>Cole</td>\n",
       "      <td>Female</td>\n",
       "      <td>33</td>\n",
       "      <td>867-2510-85</td>\n",
       "      <td>Dancer</td>\n",
       "      <td>5</td>\n",
       "      <td>5471</td>\n",
       "      <td>0</td>\n",
       "    </tr>\n",
       "    <tr>\n",
       "      <td>24</td>\n",
       "      <td>Natalie</td>\n",
       "      <td>Owens</td>\n",
       "      <td>Female</td>\n",
       "      <td>32</td>\n",
       "      <td>676-9941-32</td>\n",
       "      <td>Meteorologist</td>\n",
       "      <td>10</td>\n",
       "      <td>717</td>\n",
       "      <td>2</td>\n",
       "    </tr>\n",
       "    <tr>\n",
       "      <td>25</td>\n",
       "      <td>Mary</td>\n",
       "      <td>Bennett</td>\n",
       "      <td>Female</td>\n",
       "      <td>36</td>\n",
       "      <td>287-4862-77</td>\n",
       "      <td>Driver</td>\n",
       "      <td>4</td>\n",
       "      <td>7979</td>\n",
       "      <td>4</td>\n",
       "    </tr>\n",
       "    <tr>\n",
       "      <td>26</td>\n",
       "      <td>George</td>\n",
       "      <td>Higgins</td>\n",
       "      <td>Male</td>\n",
       "      <td>36</td>\n",
       "      <td>681-6354-99</td>\n",
       "      <td>Hairdresser</td>\n",
       "      <td>14</td>\n",
       "      <td>4645</td>\n",
       "      <td>2</td>\n",
       "    </tr>\n",
       "    <tr>\n",
       "      <td>27</td>\n",
       "      <td>Ted</td>\n",
       "      <td>Armstrong</td>\n",
       "      <td>Male</td>\n",
       "      <td>33</td>\n",
       "      <td>781-5845-07</td>\n",
       "      <td>Veterinarian</td>\n",
       "      <td>11</td>\n",
       "      <td>8402</td>\n",
       "      <td>5</td>\n",
       "    </tr>\n",
       "    <tr>\n",
       "      <td>28</td>\n",
       "      <td>Fenton</td>\n",
       "      <td>Andrews</td>\n",
       "      <td>Male</td>\n",
       "      <td>35</td>\n",
       "      <td>889-2349-48</td>\n",
       "      <td>Programmer</td>\n",
       "      <td>16</td>\n",
       "      <td>7432</td>\n",
       "      <td>1</td>\n",
       "    </tr>\n",
       "    <tr>\n",
       "      <td>29</td>\n",
       "      <td>Antony</td>\n",
       "      <td>Wright</td>\n",
       "      <td>Male</td>\n",
       "      <td>40</td>\n",
       "      <td>004-4470-92</td>\n",
       "      <td>Lecturer</td>\n",
       "      <td>3</td>\n",
       "      <td>4917</td>\n",
       "      <td>5</td>\n",
       "    </tr>\n",
       "  </tbody>\n",
       "</table>\n",
       "</div>"
      ],
      "text/plain": [
       "    First Name  Last Name  Gender  Age        Phone     Occupation  \\\n",
       "0     Adelaide    Farrell  Female   30  112-7716-34  Social Worker   \n",
       "1         Ryan   Anderson    Male   38  722-8995-47   Veterinarian   \n",
       "2      Eleanor      Ellis  Female   31  780-2366-35         Driver   \n",
       "3       Sawyer     Wright    Male   34  041-0146-13     Accountant   \n",
       "4     Lilianna     Murphy  Female   37  962-3019-15  Social Worker   \n",
       "5         Luke     Gibson    Male   30  915-4502-69  Mathematician   \n",
       "6       Victor   Thompson    Male   31  898-7673-98      Historian   \n",
       "7       Carlos     Parker    Male   34  482-8887-22        Manager   \n",
       "8         Eric      Scott    Male   35  412-7542-56     Journalist   \n",
       "9       Edward      Craig    Male   36  709-0669-65       Engineer   \n",
       "10      Brooke      Evans  Female   40  790-3001-61          Lawer   \n",
       "11      Roland     Walker    Male   32  474-6021-58        Insurer   \n",
       "12      Olivia     Wilson  Female   30  440-3982-68       Engineer   \n",
       "13     Dominik   Crawford    Male   31  704-9147-26     Journalist   \n",
       "14     Abraham      Brown    Male   33  795-3926-46       Botanist   \n",
       "15       Lydia      Dixon  Female   30  890-3508-46    Hairdresser   \n",
       "16    Adrianna   Mitchell  Female   40  862-5297-90      Scientist   \n",
       "17     Freddie     Thomas    Male   33  465-9178-05        Chemist   \n",
       "18   Charlotte     Walker  Female   32  301-1454-82     Programmer   \n",
       "19  Maximilian     Parker    Male   33  531-2076-02    Electrician   \n",
       "20      Vivian      Jones  Female   34  241-4330-64      Economist   \n",
       "21         Amy     Brooks  Female   31  995-1300-46         Driver   \n",
       "22     Jasmine       Gray  Female   34  533-1267-38       Jeweller   \n",
       "23       Rosie       Cole  Female   33  867-2510-85         Dancer   \n",
       "24     Natalie      Owens  Female   32  676-9941-32  Meteorologist   \n",
       "25        Mary    Bennett  Female   36  287-4862-77         Driver   \n",
       "26      George    Higgins    Male   36  681-6354-99    Hairdresser   \n",
       "27         Ted  Armstrong    Male   33  781-5845-07   Veterinarian   \n",
       "28      Fenton    Andrews    Male   35  889-2349-48     Programmer   \n",
       "29      Antony     Wright    Male   40  004-4470-92       Lecturer   \n",
       "\n",
       "    Experience (Years)  Salary  Number of Children  \n",
       "0                   14     939                   5  \n",
       "1                   10    1402                   0  \n",
       "2                    1    2557                   1  \n",
       "3                    0    8473                   0  \n",
       "4                   10    5880                   0  \n",
       "5                   15    1262                   1  \n",
       "6                    9    6409                   0  \n",
       "7                    4    4141                   2  \n",
       "8                   14    5172                   0  \n",
       "9                    6    7871                   5  \n",
       "10                  17    4434                   0  \n",
       "11                  12    9770                   0  \n",
       "12                   3    6257                   4  \n",
       "13                   0    6651                   5  \n",
       "14                  15    9740                   1  \n",
       "15                   8    9938                   0  \n",
       "16                   6    2754                   5  \n",
       "17                   8    4350                   4  \n",
       "18                  10    7097                   5  \n",
       "19                   0    7895                   4  \n",
       "20                   3    7414                   2  \n",
       "21                  15    7536                   3  \n",
       "22                  15    3613                   0  \n",
       "23                   5    5471                   0  \n",
       "24                  10     717                   2  \n",
       "25                   4    7979                   4  \n",
       "26                  14    4645                   2  \n",
       "27                  11    8402                   5  \n",
       "28                  16    7432                   1  \n",
       "29                   3    4917                   5  "
      ]
     },
     "execution_count": 10,
     "metadata": {},
     "output_type": "execute_result"
    }
   ],
   "source": [
    "datos"
   ]
  },
  {
   "cell_type": "markdown",
   "metadata": {},
   "source": [
    "Vemos que no fue necesario hacer más para que se nos muestre un encabezado para las columnas, y que se redistribuyan, todo eso lo maneja <code>pandas</code> de manera automática.\n",
    "\n",
    "Si el archivo es muy grande, es decir, tiene un número extendido de contenido, podemos mostrar solo las primeros **n** renglones:"
   ]
  },
  {
   "cell_type": "code",
   "execution_count": 11,
   "metadata": {},
   "outputs": [
    {
     "data": {
      "text/html": [
       "<div>\n",
       "<style scoped>\n",
       "    .dataframe tbody tr th:only-of-type {\n",
       "        vertical-align: middle;\n",
       "    }\n",
       "\n",
       "    .dataframe tbody tr th {\n",
       "        vertical-align: top;\n",
       "    }\n",
       "\n",
       "    .dataframe thead th {\n",
       "        text-align: right;\n",
       "    }\n",
       "</style>\n",
       "<table border=\"1\" class=\"dataframe\">\n",
       "  <thead>\n",
       "    <tr style=\"text-align: right;\">\n",
       "      <th></th>\n",
       "      <th>First Name</th>\n",
       "      <th>Last Name</th>\n",
       "      <th>Gender</th>\n",
       "      <th>Age</th>\n",
       "      <th>Phone</th>\n",
       "      <th>Occupation</th>\n",
       "      <th>Experience (Years)</th>\n",
       "      <th>Salary</th>\n",
       "      <th>Number of Children</th>\n",
       "    </tr>\n",
       "  </thead>\n",
       "  <tbody>\n",
       "    <tr>\n",
       "      <td>0</td>\n",
       "      <td>Adelaide</td>\n",
       "      <td>Farrell</td>\n",
       "      <td>Female</td>\n",
       "      <td>30</td>\n",
       "      <td>112-7716-34</td>\n",
       "      <td>Social Worker</td>\n",
       "      <td>14</td>\n",
       "      <td>939</td>\n",
       "      <td>5</td>\n",
       "    </tr>\n",
       "    <tr>\n",
       "      <td>1</td>\n",
       "      <td>Ryan</td>\n",
       "      <td>Anderson</td>\n",
       "      <td>Male</td>\n",
       "      <td>38</td>\n",
       "      <td>722-8995-47</td>\n",
       "      <td>Veterinarian</td>\n",
       "      <td>10</td>\n",
       "      <td>1402</td>\n",
       "      <td>0</td>\n",
       "    </tr>\n",
       "    <tr>\n",
       "      <td>2</td>\n",
       "      <td>Eleanor</td>\n",
       "      <td>Ellis</td>\n",
       "      <td>Female</td>\n",
       "      <td>31</td>\n",
       "      <td>780-2366-35</td>\n",
       "      <td>Driver</td>\n",
       "      <td>1</td>\n",
       "      <td>2557</td>\n",
       "      <td>1</td>\n",
       "    </tr>\n",
       "    <tr>\n",
       "      <td>3</td>\n",
       "      <td>Sawyer</td>\n",
       "      <td>Wright</td>\n",
       "      <td>Male</td>\n",
       "      <td>34</td>\n",
       "      <td>041-0146-13</td>\n",
       "      <td>Accountant</td>\n",
       "      <td>0</td>\n",
       "      <td>8473</td>\n",
       "      <td>0</td>\n",
       "    </tr>\n",
       "    <tr>\n",
       "      <td>4</td>\n",
       "      <td>Lilianna</td>\n",
       "      <td>Murphy</td>\n",
       "      <td>Female</td>\n",
       "      <td>37</td>\n",
       "      <td>962-3019-15</td>\n",
       "      <td>Social Worker</td>\n",
       "      <td>10</td>\n",
       "      <td>5880</td>\n",
       "      <td>0</td>\n",
       "    </tr>\n",
       "    <tr>\n",
       "      <td>5</td>\n",
       "      <td>Luke</td>\n",
       "      <td>Gibson</td>\n",
       "      <td>Male</td>\n",
       "      <td>30</td>\n",
       "      <td>915-4502-69</td>\n",
       "      <td>Mathematician</td>\n",
       "      <td>15</td>\n",
       "      <td>1262</td>\n",
       "      <td>1</td>\n",
       "    </tr>\n",
       "    <tr>\n",
       "      <td>6</td>\n",
       "      <td>Victor</td>\n",
       "      <td>Thompson</td>\n",
       "      <td>Male</td>\n",
       "      <td>31</td>\n",
       "      <td>898-7673-98</td>\n",
       "      <td>Historian</td>\n",
       "      <td>9</td>\n",
       "      <td>6409</td>\n",
       "      <td>0</td>\n",
       "    </tr>\n",
       "  </tbody>\n",
       "</table>\n",
       "</div>"
      ],
      "text/plain": [
       "  First Name Last Name  Gender  Age        Phone     Occupation  \\\n",
       "0   Adelaide   Farrell  Female   30  112-7716-34  Social Worker   \n",
       "1       Ryan  Anderson    Male   38  722-8995-47   Veterinarian   \n",
       "2    Eleanor     Ellis  Female   31  780-2366-35         Driver   \n",
       "3     Sawyer    Wright    Male   34  041-0146-13     Accountant   \n",
       "4   Lilianna    Murphy  Female   37  962-3019-15  Social Worker   \n",
       "5       Luke    Gibson    Male   30  915-4502-69  Mathematician   \n",
       "6     Victor  Thompson    Male   31  898-7673-98      Historian   \n",
       "\n",
       "   Experience (Years)  Salary  Number of Children  \n",
       "0                  14     939                   5  \n",
       "1                  10    1402                   0  \n",
       "2                   1    2557                   1  \n",
       "3                   0    8473                   0  \n",
       "4                  10    5880                   0  \n",
       "5                  15    1262                   1  \n",
       "6                   9    6409                   0  "
      ]
     },
     "execution_count": 11,
     "metadata": {},
     "output_type": "execute_result"
    }
   ],
   "source": [
    "datos.head(7)"
   ]
  },
  {
   "cell_type": "markdown",
   "metadata": {},
   "source": [
    "Si queremos conocer el tipo de dato que hay en cada columna del <code>DataFrame</code>, podemos usar la función <code>dtype</code>:"
   ]
  },
  {
   "cell_type": "code",
   "execution_count": 12,
   "metadata": {},
   "outputs": [
    {
     "data": {
      "text/plain": [
       "First Name            object\n",
       "Last Name             object\n",
       "Gender                object\n",
       "Age                    int64\n",
       "Phone                 object\n",
       "Occupation            object\n",
       "Experience (Years)     int64\n",
       "Salary                 int64\n",
       "Number of Children     int64\n",
       "dtype: object"
      ]
     },
     "execution_count": 12,
     "metadata": {},
     "output_type": "execute_result"
    }
   ],
   "source": [
    "datos.dtypes"
   ]
  },
  {
   "cell_type": "markdown",
   "metadata": {},
   "source": [
    "Si queremos un informe técnico del contenido del archivo, usamos la función <code>info</code> que nos devuelve lo siguiente:"
   ]
  },
  {
   "cell_type": "code",
   "execution_count": 14,
   "metadata": {
    "scrolled": true
   },
   "outputs": [
    {
     "name": "stdout",
     "output_type": "stream",
     "text": [
      "<class 'pandas.core.frame.DataFrame'>\n",
      "RangeIndex: 30 entries, 0 to 29\n",
      "Data columns (total 9 columns):\n",
      "First Name            30 non-null object\n",
      "Last Name             30 non-null object\n",
      "Gender                30 non-null object\n",
      "Age                   30 non-null int64\n",
      "Phone                 30 non-null object\n",
      "Occupation            30 non-null object\n",
      "Experience (Years)    30 non-null int64\n",
      "Salary                30 non-null int64\n",
      "Number of Children    30 non-null int64\n",
      "dtypes: int64(4), object(5)\n",
      "memory usage: 2.2+ KB\n"
     ]
    }
   ],
   "source": [
    "datos.info()"
   ]
  },
  {
   "cell_type": "markdown",
   "metadata": {},
   "source": [
    "Podemos elegir algunas columnas del DataFrame que nos genera <code>pandas</code> de la siguiente manera:"
   ]
  },
  {
   "cell_type": "code",
   "execution_count": 15,
   "metadata": {},
   "outputs": [],
   "source": [
    "edades = datos[\"Age\"]"
   ]
  },
  {
   "cell_type": "code",
   "execution_count": 20,
   "metadata": {},
   "outputs": [
    {
     "data": {
      "text/plain": [
       "0    30\n",
       "1    38\n",
       "2    31\n",
       "3    34\n",
       "4    37\n",
       "5    30\n",
       "6    31\n",
       "7    34\n",
       "8    35\n",
       "9    36\n",
       "Name: Age, dtype: int64"
      ]
     },
     "execution_count": 20,
     "metadata": {},
     "output_type": "execute_result"
    }
   ],
   "source": [
    "edades.head(10)"
   ]
  },
  {
   "cell_type": "markdown",
   "metadata": {},
   "source": [
    "Podemos seleccionar varias columnas de manera simultánea:"
   ]
  },
  {
   "cell_type": "code",
   "execution_count": 22,
   "metadata": {},
   "outputs": [],
   "source": [
    "edad_sexo = datos[[\"Age\", \"Gender\"]]"
   ]
  },
  {
   "cell_type": "code",
   "execution_count": 24,
   "metadata": {},
   "outputs": [
    {
     "data": {
      "text/html": [
       "<div>\n",
       "<style scoped>\n",
       "    .dataframe tbody tr th:only-of-type {\n",
       "        vertical-align: middle;\n",
       "    }\n",
       "\n",
       "    .dataframe tbody tr th {\n",
       "        vertical-align: top;\n",
       "    }\n",
       "\n",
       "    .dataframe thead th {\n",
       "        text-align: right;\n",
       "    }\n",
       "</style>\n",
       "<table border=\"1\" class=\"dataframe\">\n",
       "  <thead>\n",
       "    <tr style=\"text-align: right;\">\n",
       "      <th></th>\n",
       "      <th>Age</th>\n",
       "      <th>Gender</th>\n",
       "    </tr>\n",
       "  </thead>\n",
       "  <tbody>\n",
       "    <tr>\n",
       "      <td>0</td>\n",
       "      <td>30</td>\n",
       "      <td>Female</td>\n",
       "    </tr>\n",
       "    <tr>\n",
       "      <td>1</td>\n",
       "      <td>38</td>\n",
       "      <td>Male</td>\n",
       "    </tr>\n",
       "    <tr>\n",
       "      <td>2</td>\n",
       "      <td>31</td>\n",
       "      <td>Female</td>\n",
       "    </tr>\n",
       "    <tr>\n",
       "      <td>3</td>\n",
       "      <td>34</td>\n",
       "      <td>Male</td>\n",
       "    </tr>\n",
       "    <tr>\n",
       "      <td>4</td>\n",
       "      <td>37</td>\n",
       "      <td>Female</td>\n",
       "    </tr>\n",
       "    <tr>\n",
       "      <td>5</td>\n",
       "      <td>30</td>\n",
       "      <td>Male</td>\n",
       "    </tr>\n",
       "    <tr>\n",
       "      <td>6</td>\n",
       "      <td>31</td>\n",
       "      <td>Male</td>\n",
       "    </tr>\n",
       "    <tr>\n",
       "      <td>7</td>\n",
       "      <td>34</td>\n",
       "      <td>Male</td>\n",
       "    </tr>\n",
       "    <tr>\n",
       "      <td>8</td>\n",
       "      <td>35</td>\n",
       "      <td>Male</td>\n",
       "    </tr>\n",
       "    <tr>\n",
       "      <td>9</td>\n",
       "      <td>36</td>\n",
       "      <td>Male</td>\n",
       "    </tr>\n",
       "  </tbody>\n",
       "</table>\n",
       "</div>"
      ],
      "text/plain": [
       "   Age  Gender\n",
       "0   30  Female\n",
       "1   38    Male\n",
       "2   31  Female\n",
       "3   34    Male\n",
       "4   37  Female\n",
       "5   30    Male\n",
       "6   31    Male\n",
       "7   34    Male\n",
       "8   35    Male\n",
       "9   36    Male"
      ]
     },
     "execution_count": 24,
     "metadata": {},
     "output_type": "execute_result"
    }
   ],
   "source": [
    "edad_sexo.head(10)"
   ]
  },
  {
   "cell_type": "markdown",
   "metadata": {},
   "source": [
    "También podemos aplicar filtros específicos:"
   ]
  },
  {
   "cell_type": "code",
   "execution_count": 28,
   "metadata": {},
   "outputs": [],
   "source": [
    "mayores_35 = datos[datos['Age'] > 30]"
   ]
  },
  {
   "cell_type": "markdown",
   "metadata": {},
   "source": [
    "Con la función <code>shape</code> recuperamos las dimensiones del <code>DataFrame</code> filtrado."
   ]
  },
  {
   "cell_type": "code",
   "execution_count": 32,
   "metadata": {},
   "outputs": [
    {
     "data": {
      "text/plain": [
       "(26, 9)"
      ]
     },
     "execution_count": 32,
     "metadata": {},
     "output_type": "execute_result"
    }
   ],
   "source": [
    "mayores_35.shape"
   ]
  },
  {
   "cell_type": "markdown",
   "metadata": {},
   "source": [
    "Tenemos 26 renglones y 9 columnas"
   ]
  },
  {
   "cell_type": "code",
   "execution_count": 34,
   "metadata": {},
   "outputs": [
    {
     "data": {
      "text/html": [
       "<div>\n",
       "<style scoped>\n",
       "    .dataframe tbody tr th:only-of-type {\n",
       "        vertical-align: middle;\n",
       "    }\n",
       "\n",
       "    .dataframe tbody tr th {\n",
       "        vertical-align: top;\n",
       "    }\n",
       "\n",
       "    .dataframe thead th {\n",
       "        text-align: right;\n",
       "    }\n",
       "</style>\n",
       "<table border=\"1\" class=\"dataframe\">\n",
       "  <thead>\n",
       "    <tr style=\"text-align: right;\">\n",
       "      <th></th>\n",
       "      <th>First Name</th>\n",
       "      <th>Last Name</th>\n",
       "      <th>Gender</th>\n",
       "      <th>Age</th>\n",
       "      <th>Phone</th>\n",
       "      <th>Occupation</th>\n",
       "      <th>Experience (Years)</th>\n",
       "      <th>Salary</th>\n",
       "      <th>Number of Children</th>\n",
       "    </tr>\n",
       "  </thead>\n",
       "  <tbody>\n",
       "    <tr>\n",
       "      <td>1</td>\n",
       "      <td>Ryan</td>\n",
       "      <td>Anderson</td>\n",
       "      <td>Male</td>\n",
       "      <td>38</td>\n",
       "      <td>722-8995-47</td>\n",
       "      <td>Veterinarian</td>\n",
       "      <td>10</td>\n",
       "      <td>1402</td>\n",
       "      <td>0</td>\n",
       "    </tr>\n",
       "    <tr>\n",
       "      <td>2</td>\n",
       "      <td>Eleanor</td>\n",
       "      <td>Ellis</td>\n",
       "      <td>Female</td>\n",
       "      <td>31</td>\n",
       "      <td>780-2366-35</td>\n",
       "      <td>Driver</td>\n",
       "      <td>1</td>\n",
       "      <td>2557</td>\n",
       "      <td>1</td>\n",
       "    </tr>\n",
       "    <tr>\n",
       "      <td>3</td>\n",
       "      <td>Sawyer</td>\n",
       "      <td>Wright</td>\n",
       "      <td>Male</td>\n",
       "      <td>34</td>\n",
       "      <td>041-0146-13</td>\n",
       "      <td>Accountant</td>\n",
       "      <td>0</td>\n",
       "      <td>8473</td>\n",
       "      <td>0</td>\n",
       "    </tr>\n",
       "    <tr>\n",
       "      <td>4</td>\n",
       "      <td>Lilianna</td>\n",
       "      <td>Murphy</td>\n",
       "      <td>Female</td>\n",
       "      <td>37</td>\n",
       "      <td>962-3019-15</td>\n",
       "      <td>Social Worker</td>\n",
       "      <td>10</td>\n",
       "      <td>5880</td>\n",
       "      <td>0</td>\n",
       "    </tr>\n",
       "    <tr>\n",
       "      <td>6</td>\n",
       "      <td>Victor</td>\n",
       "      <td>Thompson</td>\n",
       "      <td>Male</td>\n",
       "      <td>31</td>\n",
       "      <td>898-7673-98</td>\n",
       "      <td>Historian</td>\n",
       "      <td>9</td>\n",
       "      <td>6409</td>\n",
       "      <td>0</td>\n",
       "    </tr>\n",
       "    <tr>\n",
       "      <td>7</td>\n",
       "      <td>Carlos</td>\n",
       "      <td>Parker</td>\n",
       "      <td>Male</td>\n",
       "      <td>34</td>\n",
       "      <td>482-8887-22</td>\n",
       "      <td>Manager</td>\n",
       "      <td>4</td>\n",
       "      <td>4141</td>\n",
       "      <td>2</td>\n",
       "    </tr>\n",
       "    <tr>\n",
       "      <td>8</td>\n",
       "      <td>Eric</td>\n",
       "      <td>Scott</td>\n",
       "      <td>Male</td>\n",
       "      <td>35</td>\n",
       "      <td>412-7542-56</td>\n",
       "      <td>Journalist</td>\n",
       "      <td>14</td>\n",
       "      <td>5172</td>\n",
       "      <td>0</td>\n",
       "    </tr>\n",
       "    <tr>\n",
       "      <td>9</td>\n",
       "      <td>Edward</td>\n",
       "      <td>Craig</td>\n",
       "      <td>Male</td>\n",
       "      <td>36</td>\n",
       "      <td>709-0669-65</td>\n",
       "      <td>Engineer</td>\n",
       "      <td>6</td>\n",
       "      <td>7871</td>\n",
       "      <td>5</td>\n",
       "    </tr>\n",
       "    <tr>\n",
       "      <td>10</td>\n",
       "      <td>Brooke</td>\n",
       "      <td>Evans</td>\n",
       "      <td>Female</td>\n",
       "      <td>40</td>\n",
       "      <td>790-3001-61</td>\n",
       "      <td>Lawer</td>\n",
       "      <td>17</td>\n",
       "      <td>4434</td>\n",
       "      <td>0</td>\n",
       "    </tr>\n",
       "    <tr>\n",
       "      <td>11</td>\n",
       "      <td>Roland</td>\n",
       "      <td>Walker</td>\n",
       "      <td>Male</td>\n",
       "      <td>32</td>\n",
       "      <td>474-6021-58</td>\n",
       "      <td>Insurer</td>\n",
       "      <td>12</td>\n",
       "      <td>9770</td>\n",
       "      <td>0</td>\n",
       "    </tr>\n",
       "  </tbody>\n",
       "</table>\n",
       "</div>"
      ],
      "text/plain": [
       "   First Name Last Name  Gender  Age        Phone     Occupation  \\\n",
       "1        Ryan  Anderson    Male   38  722-8995-47   Veterinarian   \n",
       "2     Eleanor     Ellis  Female   31  780-2366-35         Driver   \n",
       "3      Sawyer    Wright    Male   34  041-0146-13     Accountant   \n",
       "4    Lilianna    Murphy  Female   37  962-3019-15  Social Worker   \n",
       "6      Victor  Thompson    Male   31  898-7673-98      Historian   \n",
       "7      Carlos    Parker    Male   34  482-8887-22        Manager   \n",
       "8        Eric     Scott    Male   35  412-7542-56     Journalist   \n",
       "9      Edward     Craig    Male   36  709-0669-65       Engineer   \n",
       "10     Brooke     Evans  Female   40  790-3001-61          Lawer   \n",
       "11     Roland    Walker    Male   32  474-6021-58        Insurer   \n",
       "\n",
       "    Experience (Years)  Salary  Number of Children  \n",
       "1                   10    1402                   0  \n",
       "2                    1    2557                   1  \n",
       "3                    0    8473                   0  \n",
       "4                   10    5880                   0  \n",
       "6                    9    6409                   0  \n",
       "7                    4    4141                   2  \n",
       "8                   14    5172                   0  \n",
       "9                    6    7871                   5  \n",
       "10                  17    4434                   0  \n",
       "11                  12    9770                   0  "
      ]
     },
     "execution_count": 34,
     "metadata": {},
     "output_type": "execute_result"
    }
   ],
   "source": [
    "mayores_35.head(10)"
   ]
  },
  {
   "cell_type": "markdown",
   "metadata": {},
   "source": [
    "## Información nueva a partir del DataFrame.\n",
    "\n",
    "Ya podemos manipular a nuestra conveniencia la información del <code>DataFrame</code>, por ejemplo, crearemos un campo con el nombre completo de los trabajadores, a partir del campo *First Name* y *Last Name*.\n",
    "\n",
    "Toma en cuenta que **NO** se va a agregar esta nueva columna en el archivo, se podrá utilizar mientras siga abierto el código, una vez que se cierre el archivo que manda llamar al *.txt*, los datos permanecen sin cambios."
   ]
  },
  {
   "cell_type": "code",
   "execution_count": 41,
   "metadata": {},
   "outputs": [],
   "source": [
    "nombre_completo = datos[\"First Name\"] + ' ' + datos[\"Last Name\"]"
   ]
  },
  {
   "cell_type": "code",
   "execution_count": 42,
   "metadata": {},
   "outputs": [
    {
     "data": {
      "text/plain": [
       "0    Adelaide Farrell\n",
       "1       Ryan Anderson\n",
       "2       Eleanor Ellis\n",
       "3       Sawyer Wright\n",
       "4     Lilianna Murphy\n",
       "5         Luke Gibson\n",
       "6     Victor Thompson\n",
       "7       Carlos Parker\n",
       "8          Eric Scott\n",
       "9        Edward Craig\n",
       "dtype: object"
      ]
     },
     "execution_count": 42,
     "metadata": {},
     "output_type": "execute_result"
    }
   ],
   "source": [
    "nombre_completo.head(10)"
   ]
  },
  {
   "cell_type": "markdown",
   "metadata": {},
   "source": [
    "Podemos mostrar información a partir del cálculo de promedios:"
   ]
  },
  {
   "cell_type": "code",
   "execution_count": 44,
   "metadata": {},
   "outputs": [
    {
     "name": "stdout",
     "output_type": "stream",
     "text": [
      "La edad promedio del grupo es: 33.8 años\n"
     ]
    }
   ],
   "source": [
    "promedio_edad = datos[\"Age\"].mean()\n",
    "\n",
    "print('La edad promedio del grupo es: {0:2.1f} años'.format(promedio_edad))"
   ]
  },
  {
   "cell_type": "markdown",
   "metadata": {},
   "source": [
    "Con la función <code>describe</code> tendremos una tabla con una breve estadísitica descriptiva de nuestra variable."
   ]
  },
  {
   "cell_type": "code",
   "execution_count": 46,
   "metadata": {
    "scrolled": true
   },
   "outputs": [
    {
     "data": {
      "text/plain": [
       "count    30.000000\n",
       "mean     33.800000\n",
       "std       3.010327\n",
       "min      30.000000\n",
       "25%      31.250000\n",
       "50%      33.000000\n",
       "75%      35.750000\n",
       "max      40.000000\n",
       "Name: Age, dtype: float64"
      ]
     },
     "execution_count": 46,
     "metadata": {},
     "output_type": "execute_result"
    }
   ],
   "source": [
    "datos[\"Age\"].describe()"
   ]
  },
  {
   "cell_type": "markdown",
   "metadata": {},
   "source": [
    "Los resultados se incrementan cuando hacemos una combinación de variables y de agrupación por un variable:"
   ]
  },
  {
   "cell_type": "code",
   "execution_count": 49,
   "metadata": {},
   "outputs": [
    {
     "data": {
      "text/html": [
       "<div>\n",
       "<style scoped>\n",
       "    .dataframe tbody tr th:only-of-type {\n",
       "        vertical-align: middle;\n",
       "    }\n",
       "\n",
       "    .dataframe tbody tr th {\n",
       "        vertical-align: top;\n",
       "    }\n",
       "\n",
       "    .dataframe thead th {\n",
       "        text-align: right;\n",
       "    }\n",
       "</style>\n",
       "<table border=\"1\" class=\"dataframe\">\n",
       "  <thead>\n",
       "    <tr style=\"text-align: right;\">\n",
       "      <th></th>\n",
       "      <th>Age</th>\n",
       "    </tr>\n",
       "    <tr>\n",
       "      <th>Gender</th>\n",
       "      <th></th>\n",
       "    </tr>\n",
       "  </thead>\n",
       "  <tbody>\n",
       "    <tr>\n",
       "      <td>Female</td>\n",
       "      <td>33.571429</td>\n",
       "    </tr>\n",
       "    <tr>\n",
       "      <td>Male</td>\n",
       "      <td>34.000000</td>\n",
       "    </tr>\n",
       "  </tbody>\n",
       "</table>\n",
       "</div>"
      ],
      "text/plain": [
       "              Age\n",
       "Gender           \n",
       "Female  33.571429\n",
       "Male    34.000000"
      ]
     },
     "execution_count": 49,
     "metadata": {},
     "output_type": "execute_result"
    }
   ],
   "source": [
    "datos[[\"Gender\", \"Age\"]].groupby(\"Gender\").mean()"
   ]
  },
  {
   "cell_type": "markdown",
   "metadata": {},
   "source": [
    "De manera inmediata podemos recuperar la frecuencia de valores en una columna, para ello usamos la función <code>value.counts()</code>:"
   ]
  },
  {
   "cell_type": "code",
   "execution_count": 50,
   "metadata": {},
   "outputs": [
    {
     "data": {
      "text/plain": [
       "Driver           3\n",
       "Engineer         2\n",
       "Hairdresser      2\n",
       "Journalist       2\n",
       "Social Worker    2\n",
       "Programmer       2\n",
       "Veterinarian     2\n",
       "Accountant       1\n",
       "Dancer           1\n",
       "Electrician      1\n",
       "Lawer            1\n",
       "Mathematician    1\n",
       "Historian        1\n",
       "Insurer          1\n",
       "Lecturer         1\n",
       "Jeweller         1\n",
       "Economist        1\n",
       "Botanist         1\n",
       "Meteorologist    1\n",
       "Manager          1\n",
       "Chemist          1\n",
       "Scientist        1\n",
       "Name: Occupation, dtype: int64"
      ]
     },
     "execution_count": 50,
     "metadata": {},
     "output_type": "execute_result"
    }
   ],
   "source": [
    "datos[\"Occupation\"].value_counts()"
   ]
  },
  {
   "cell_type": "markdown",
   "metadata": {},
   "source": [
    "## Graficación con <code>pandas</code>.\n",
    "\n",
    "Ahora veremos un ejemplo sencillo para generar una gráfica con <code>pandas</code>, se requiere la librería <code>matplolib.pyplot</code> que ya conocemos desde que inició el curso."
   ]
  },
  {
   "cell_type": "code",
   "execution_count": 53,
   "metadata": {},
   "outputs": [],
   "source": [
    "import matplotlib.pyplot as plt\n",
    "\n",
    "calidad_aire = pd.read_csv('air_quality_no2.csv', index_col=0, parse_dates=True)"
   ]
  },
  {
   "cell_type": "code",
   "execution_count": 54,
   "metadata": {},
   "outputs": [
    {
     "data": {
      "text/html": [
       "<div>\n",
       "<style scoped>\n",
       "    .dataframe tbody tr th:only-of-type {\n",
       "        vertical-align: middle;\n",
       "    }\n",
       "\n",
       "    .dataframe tbody tr th {\n",
       "        vertical-align: top;\n",
       "    }\n",
       "\n",
       "    .dataframe thead th {\n",
       "        text-align: right;\n",
       "    }\n",
       "</style>\n",
       "<table border=\"1\" class=\"dataframe\">\n",
       "  <thead>\n",
       "    <tr style=\"text-align: right;\">\n",
       "      <th></th>\n",
       "      <th>station_antwerp</th>\n",
       "      <th>station_paris</th>\n",
       "      <th>station_london</th>\n",
       "    </tr>\n",
       "    <tr>\n",
       "      <th>datetime</th>\n",
       "      <th></th>\n",
       "      <th></th>\n",
       "      <th></th>\n",
       "    </tr>\n",
       "  </thead>\n",
       "  <tbody>\n",
       "    <tr>\n",
       "      <td>2019-05-07 02:00:00</td>\n",
       "      <td>NaN</td>\n",
       "      <td>NaN</td>\n",
       "      <td>23.0</td>\n",
       "    </tr>\n",
       "    <tr>\n",
       "      <td>2019-05-07 03:00:00</td>\n",
       "      <td>50.5</td>\n",
       "      <td>25.0</td>\n",
       "      <td>19.0</td>\n",
       "    </tr>\n",
       "    <tr>\n",
       "      <td>2019-05-07 04:00:00</td>\n",
       "      <td>45.0</td>\n",
       "      <td>27.7</td>\n",
       "      <td>19.0</td>\n",
       "    </tr>\n",
       "    <tr>\n",
       "      <td>2019-05-07 05:00:00</td>\n",
       "      <td>NaN</td>\n",
       "      <td>50.4</td>\n",
       "      <td>16.0</td>\n",
       "    </tr>\n",
       "    <tr>\n",
       "      <td>2019-05-07 06:00:00</td>\n",
       "      <td>NaN</td>\n",
       "      <td>61.9</td>\n",
       "      <td>NaN</td>\n",
       "    </tr>\n",
       "  </tbody>\n",
       "</table>\n",
       "</div>"
      ],
      "text/plain": [
       "                     station_antwerp  station_paris  station_london\n",
       "datetime                                                           \n",
       "2019-05-07 02:00:00              NaN            NaN            23.0\n",
       "2019-05-07 03:00:00             50.5           25.0            19.0\n",
       "2019-05-07 04:00:00             45.0           27.7            19.0\n",
       "2019-05-07 05:00:00              NaN           50.4            16.0\n",
       "2019-05-07 06:00:00              NaN           61.9             NaN"
      ]
     },
     "execution_count": 54,
     "metadata": {},
     "output_type": "execute_result"
    }
   ],
   "source": [
    "calidad_aire.head()"
   ]
  },
  {
   "cell_type": "markdown",
   "metadata": {},
   "source": [
    "**Nota:** El uso de los parámetros <code>index_col</code> y <code>parse_dates</code> de la función <code>read_csv</code> para definir la primera $(0)$ columna como índice del <code>DataFrame</code> resultante y convertir las fechas de la columna en objetos de marca de tiempo, respectivamente."
   ]
  },
  {
   "cell_type": "markdown",
   "metadata": {},
   "source": [
    "Construyendo la gráfica: del <code>DataFrame</code> usamos la función <code>plot()</code> que nos genera un gráfico, que se visualiza en el Notebook, con la función <code>show()</code> de <code>matplotlib</code> que ya hemos utilizado previamente tanto en Notebook como en </code>Spyder</code>."
   ]
  },
  {
   "cell_type": "code",
   "execution_count": 56,
   "metadata": {},
   "outputs": [
    {
     "data": {
      "image/png": "[encoded data removed]",
      "text/plain": [
       "<Figure size 432x288 with 1 Axes>"
      ]
     },
     "metadata": {
      "needs_background": "light"
     },
     "output_type": "display_data"
    }
   ],
   "source": [
    "calidad_aire.plot()\n",
    "\n",
    "plt.show()"
   ]
  },
  {
   "cell_type": "markdown",
   "metadata": {},
   "source": [
    "Si queremos graficar solo una de las columas del <code>DataFrame</code>, la referenciamos en la línea de código:"
   ]
  },
  {
   "cell_type": "code",
   "execution_count": 57,
   "metadata": {},
   "outputs": [
    {
     "data": {
      "image/png": "[encoded data removed]",
      "text/plain": [
       "<Figure size 432x288 with 1 Axes>"
      ]
     },
     "metadata": {
      "needs_background": "light"
     },
     "output_type": "display_data"
    }
   ],
   "source": [
    "calidad_aire[\"station_paris\"].plot()\n",
    "\n",
    "plt.show()"
   ]
  },
  {
   "cell_type": "markdown",
   "metadata": {},
   "source": [
    "Gráfico de dispersión: si queremos contrastar visualmente los valores de concentración de oxido nitroso $NO_{2}$ medidos en Londres contra los de París, usamos una gráfica de tipo <code>scatter</code>:"
   ]
  },
  {
   "cell_type": "code",
   "execution_count": 58,
   "metadata": {},
   "outputs": [
    {
     "data": {
      "image/png": "[encoded data removed]",
      "text/plain": [
       "<Figure size 432x288 with 1 Axes>"
      ]
     },
     "metadata": {
      "needs_background": "light"
     },
     "output_type": "display_data"
    }
   ],
   "source": [
    "calidad_aire.plot.scatter(x=\"station_london\", y=\"station_paris\", alpha=0.5)\n",
    "\n",
    "plt.show()"
   ]
  },
  {
   "cell_type": "markdown",
   "metadata": {},
   "source": [
    "Los métodos de graficación que soporta <code>pandas</code> son varios, si queremos conocer cuáles son, ocupamos la siguiente instrucción."
   ]
  },
  {
   "cell_type": "code",
   "execution_count": 60,
   "metadata": {},
   "outputs": [
    {
     "data": {
      "text/plain": [
       "['area',\n",
       " 'bar',\n",
       " 'barh',\n",
       " 'box',\n",
       " 'density',\n",
       " 'hexbin',\n",
       " 'hist',\n",
       " 'kde',\n",
       " 'line',\n",
       " 'pie',\n",
       " 'scatter']"
      ]
     },
     "execution_count": 60,
     "metadata": {},
     "output_type": "execute_result"
    }
   ],
   "source": [
    "[ method_name\n",
    " for method_name in dir(calidad_aire.plot)\n",
    " if not method_name.startswith(\"_\")\n",
    "]"
   ]
  },
  {
   "cell_type": "markdown",
   "metadata": {},
   "source": [
    "De la lista anterior podemos generar una gráfica de cajas (boxplot) que nos indica de manera gráfica la mediana de los grupos (dentro de la caja) así como los valores conocidos como **outliers** (valores atípicos), que están ya sea por arriba o por abajo de los cuartiles de la muestra."
   ]
  },
  {
   "cell_type": "code",
   "execution_count": 75,
   "metadata": {},
   "outputs": [
    {
     "name": "stderr",
     "output_type": "stream",
     "text": [
      "/opt/anaconda3/lib/python3.7/site-packages/numpy/core/_asarray.py:83: VisibleDeprecationWarning: Creating an ndarray from ragged nested sequences (which is a list-or-tuple of lists-or-tuples-or ndarrays with different lengths or shapes) is deprecated. If you meant to do this, you must specify 'dtype=object' when creating the ndarray\n",
      "  return array(a, dtype, copy=False, order=order)\n"
     ]
    },
    {
     "data": {
      "image/png": "[encoded data removed]",
      "text/plain": [
       "<Figure size 432x288 with 1 Axes>"
      ]
     },
     "metadata": {
      "needs_background": "light"
     },
     "output_type": "display_data"
    }
   ],
   "source": [
    "box_plot = calidad_aire.plot.box()"
   ]
  },
  {
   "cell_type": "markdown",
   "metadata": {},
   "source": [
    "Como has revisado hay una gran variedad de uso con <code>pandas</code> tanto para el análisis de datos y la graficación. En esta breve guía se ha intentado dar un panorama general, que bien podrás complementar y extender al revisar la [documentación oficial](https://pandas.pydata.org/docs/index.html) de <code>pandas</code>, de esta manera se te simplificará bastante el trabajo con archivos de datos de gran tamaño."
   ]
  }
 ],
 "metadata": {
  "hide_input": false,
  "kernelspec": {
   "display_name": "Python 3",
   "language": "python",
   "name": "python3"
  },
  "language_info": {
   "codemirror_mode": {
    "name": "ipython",
    "version": 3
   },
   "file_extension": ".py",
   "mimetype": "text/x-python",
   "name": "python",
   "nbconvert_exporter": "python",
   "pygments_lexer": "ipython3",
   "version": "3.7.4"
  },
  "toc": {
   "base_numbering": 1,
   "nav_menu": {},
   "number_sections": true,
   "sideBar": true,
   "skip_h1_title": false,
   "title_cell": "Table of Contents",
   "title_sidebar": "Contents",
   "toc_cell": false,
   "toc_position": {},
   "toc_section_display": true,
   "toc_window_display": false
  }
 },
 "nbformat": 4,
 "nbformat_minor": 2
}
