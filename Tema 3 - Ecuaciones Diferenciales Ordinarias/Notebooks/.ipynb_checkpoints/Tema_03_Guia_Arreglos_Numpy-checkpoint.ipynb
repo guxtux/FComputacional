{
 "cells": [
  {
   "cell_type": "markdown",
   "id": "8c5c16d1",
   "metadata": {},
   "source": [
    "# Definición de un arreglo.\n",
    "\n",
    "Las estructuras de datos que hemos visto (listas, tuplas, diccionarios) hasta ahora permiten manipular datos de manera muy flexible. Ya sea combinándolas y/o anidándolas, es posible organizar información de manera estructurada para representar sistemas del mundo real.\n",
    "\n",
    "En física para resolver problemas, más importante que la organización de los datos, es la capacidad de hacer muchas operaciones a la vez sobre grandes conjuntos de datos numéricos de manera eficiente.\n",
    "\n",
    "Algunos ejemplos de problemas que requieren manipular grandes secuencias de números son: la predicción del clima, simulación, graficación de modelos, la construcción de edificios, y el análisis de indicadores financieros entre muchos otros.\n",
    "\n",
    "## El arreglo en python.\n",
    "\n",
    "La estructura de datos que sirve para almacenar estas grandes secuencias de números (generalmente de tipo <code>float</code>) es el **arreglo**.\n",
    "\n",
    "Los arreglos tienen algunas similitudes con las listas:\n",
    "1. Los elementos tienen un orden y se pueden acceder mediante su posición.\n",
    "2. Los elementos se recorren usando un ciclo <code>for</code>.\n",
    "\n",
    "Sin embargo, también tienen algunas restricciones:\n",
    "1. Todos los elementos del arreglo deben ser del mismo tipo.\n",
    "2. En general, el tamaño del arreglo es fijo (no van creciendo dinámicamente como las listas).\n",
    "3. Se ocupan principalmente para almacenar datos numéricos.\n",
    "\n",
    "Los arreglos son los equivalentes en programación a las matrices y vectores en matemáticas. Precisamente, una gran motivación para usar arreglos es que hay mucha teoría detrás de ellos que puede ser usada en el diseño de algoritmos para resolver problemas verdaderamente interesantes."
   ]
  },
  {
   "cell_type": "markdown",
   "id": "f1824936",
   "metadata": {},
   "source": [
    "# Usando numpy.array\n",
    "\n",
    "## Creando un arreglo.\n",
    "\n",
    "El módulo y la función que provee las estructuras de datos y las funciones para trabajar con arreglos es <code>numpy.array</code>"
   ]
  },
  {
   "cell_type": "code",
   "execution_count": 12,
   "id": "8d7cf018",
   "metadata": {},
   "outputs": [],
   "source": [
    "import numpy as np"
   ]
  },
  {
   "cell_type": "markdown",
   "id": "2d343426",
   "metadata": {},
   "source": [
    "El tipo de datos de los arreglos se llama <code>array</code>. Para crear un arreglo nuevo, se puede usar la función <code>np.array</code> pasándole como parámetro la lista de valores que deseamos agregar al arreglo:"
   ]
  },
  {
   "cell_type": "code",
   "execution_count": 13,
   "id": "f669d736",
   "metadata": {},
   "outputs": [],
   "source": [
    "x = np.array([6, 1, 3, 9, 8])"
   ]
  },
  {
   "cell_type": "code",
   "execution_count": 3,
   "id": "2769bc8f",
   "metadata": {},
   "outputs": [
    {
     "data": {
      "text/plain": [
       "array([6, 1, 3, 9, 8])"
      ]
     },
     "execution_count": 3,
     "metadata": {},
     "output_type": "execute_result"
    }
   ],
   "source": [
    "x"
   ]
  },
  {
   "cell_type": "markdown",
   "id": "144cad40",
   "metadata": {},
   "source": [
    "## Atributos del arreglo.\n",
    "\n",
    "Al ser un objeto de python, el arreglo tiene una serie de atributos con los que podemos apoyarnos cuando se requiera conocer cierta información del mismo.\n",
    "\n",
    "Para revisar una lista completa de los atributos, podemos hacerlo con la instrucción <code>help(ndarray)</code>"
   ]
  },
  {
   "cell_type": "code",
   "execution_count": 14,
   "id": "3b2fb658",
   "metadata": {},
   "outputs": [
    {
     "name": "stdout",
     "output_type": "stream",
     "text": [
      "Help on built-in function array in module numpy:\n",
      "\n",
      "array(...)\n",
      "    array(object, dtype=None, *, copy=True, order='K', subok=False, ndmin=0,\n",
      "          like=None)\n",
      "    \n",
      "    Create an array.\n",
      "    \n",
      "    Parameters\n",
      "    ----------\n",
      "    object : array_like\n",
      "        An array, any object exposing the array interface, an object whose\n",
      "        __array__ method returns an array, or any (nested) sequence.\n",
      "    dtype : data-type, optional\n",
      "        The desired data-type for the array.  If not given, then the type will\n",
      "        be determined as the minimum type required to hold the objects in the\n",
      "        sequence.\n",
      "    copy : bool, optional\n",
      "        If true (default), then the object is copied.  Otherwise, a copy will\n",
      "        only be made if __array__ returns a copy, if obj is a nested sequence,\n",
      "        or if a copy is needed to satisfy any of the other requirements\n",
      "        (`dtype`, `order`, etc.).\n",
      "    order : {'K', 'A', 'C', 'F'}, optional\n",
      "        Specify the memory layout of the array. If object is not an array, the\n",
      "        newly created array will be in C order (row major) unless 'F' is\n",
      "        specified, in which case it will be in Fortran order (column major).\n",
      "        If object is an array the following holds.\n",
      "    \n",
      "        ===== ========= ===================================================\n",
      "        order  no copy                     copy=True\n",
      "        ===== ========= ===================================================\n",
      "        'K'   unchanged F & C order preserved, otherwise most similar order\n",
      "        'A'   unchanged F order if input is F and not C, otherwise C order\n",
      "        'C'   C order   C order\n",
      "        'F'   F order   F order\n",
      "        ===== ========= ===================================================\n",
      "    \n",
      "        When ``copy=False`` and a copy is made for other reasons, the result is\n",
      "        the same as if ``copy=True``, with some exceptions for 'A', see the\n",
      "        Notes section. The default order is 'K'.\n",
      "    subok : bool, optional\n",
      "        If True, then sub-classes will be passed-through, otherwise\n",
      "        the returned array will be forced to be a base-class array (default).\n",
      "    ndmin : int, optional\n",
      "        Specifies the minimum number of dimensions that the resulting\n",
      "        array should have.  Ones will be pre-pended to the shape as\n",
      "        needed to meet this requirement.\n",
      "    like : array_like\n",
      "        Reference object to allow the creation of arrays which are not\n",
      "        NumPy arrays. If an array-like passed in as ``like`` supports\n",
      "        the ``__array_function__`` protocol, the result will be defined\n",
      "        by it. In this case, it ensures the creation of an array object\n",
      "        compatible with that passed in via this argument.\n",
      "    \n",
      "        .. versionadded:: 1.20.0\n",
      "    \n",
      "    Returns\n",
      "    -------\n",
      "    out : ndarray\n",
      "        An array object satisfying the specified requirements.\n",
      "    \n",
      "    See Also\n",
      "    --------\n",
      "    empty_like : Return an empty array with shape and type of input.\n",
      "    ones_like : Return an array of ones with shape and type of input.\n",
      "    zeros_like : Return an array of zeros with shape and type of input.\n",
      "    full_like : Return a new array with shape of input filled with value.\n",
      "    empty : Return a new uninitialized array.\n",
      "    ones : Return a new array setting values to one.\n",
      "    zeros : Return a new array setting values to zero.\n",
      "    full : Return a new array of given shape filled with value.\n",
      "    \n",
      "    \n",
      "    Notes\n",
      "    -----\n",
      "    When order is 'A' and `object` is an array in neither 'C' nor 'F' order,\n",
      "    and a copy is forced by a change in dtype, then the order of the result is\n",
      "    not necessarily 'C' as expected. This is likely a bug.\n",
      "    \n",
      "    Examples\n",
      "    --------\n",
      "    >>> np.array([1, 2, 3])\n",
      "    array([1, 2, 3])\n",
      "    \n",
      "    Upcasting:\n",
      "    \n",
      "    >>> np.array([1, 2, 3.0])\n",
      "    array([ 1.,  2.,  3.])\n",
      "    \n",
      "    More than one dimension:\n",
      "    \n",
      "    >>> np.array([[1, 2], [3, 4]])\n",
      "    array([[1, 2],\n",
      "           [3, 4]])\n",
      "    \n",
      "    Minimum dimensions 2:\n",
      "    \n",
      "    >>> np.array([1, 2, 3], ndmin=2)\n",
      "    array([[1, 2, 3]])\n",
      "    \n",
      "    Type provided:\n",
      "    \n",
      "    >>> np.array([1, 2, 3], dtype=complex)\n",
      "    array([ 1.+0.j,  2.+0.j,  3.+0.j])\n",
      "    \n",
      "    Data-type consisting of more than one element:\n",
      "    \n",
      "    >>> x = np.array([(1,2),(3,4)],dtype=[('a','<i4'),('b','<i4')])\n",
      "    >>> x['a']\n",
      "    array([1, 3])\n",
      "    \n",
      "    Creating an array from sub-classes:\n",
      "    \n",
      "    >>> np.array(np.mat('1 2; 3 4'))\n",
      "    array([[1, 2],\n",
      "           [3, 4]])\n",
      "    \n",
      "    >>> np.array(np.mat('1 2; 3 4'), subok=True)\n",
      "    matrix([[1, 2],\n",
      "            [3, 4]])\n",
      "\n"
     ]
    }
   ],
   "source": [
    "help(np.array)"
   ]
  },
  {
   "cell_type": "markdown",
   "id": "dadd3dee",
   "metadata": {},
   "source": [
    "| Atributo | Descripción                                                                                           |\n",
    "|:----------:|:-------------------------------------------------------------------------------------------------------|\n",
    "| Shape    | Es una tupla que contiene el número de elementos (la longitud) para cada dimensión (eje) del arreglo. |\n",
    "| Size     | El número del total de elementos en el arreglo.                                                       |\n",
    "| ndim     | El número de dimensiones (ejes)                                                                       |\n",
    "| nbytes   | El número de bytes utilizados para almacenar los datos.                                               |\n",
    "| dtype    | El tipo de dato de los elementos del arreglo.                                                         |\n",
    "\n",
    "Todos los elementos del arreglo **tienen exactamente el mismo tipo**. Para crear un arreglo con números de tipo flotante, basta con que uno de los valores lo sea:"
   ]
  },
  {
   "cell_type": "code",
   "execution_count": 15,
   "id": "96649403",
   "metadata": {},
   "outputs": [],
   "source": [
    "y = np.array([6.0, 1, 3, 9, 8])"
   ]
  },
  {
   "cell_type": "code",
   "execution_count": 16,
   "id": "ec91404c",
   "metadata": {},
   "outputs": [
    {
     "data": {
      "text/plain": [
       "array([6., 1., 3., 9., 8.])"
      ]
     },
     "execution_count": 16,
     "metadata": {},
     "output_type": "execute_result"
    }
   ],
   "source": [
    "y"
   ]
  },
  {
   "cell_type": "code",
   "execution_count": 27,
   "id": "51d83033",
   "metadata": {},
   "outputs": [
    {
     "data": {
      "text/plain": [
       "(5,)"
      ]
     },
     "execution_count": 27,
     "metadata": {},
     "output_type": "execute_result"
    }
   ],
   "source": [
    "y.shape"
   ]
  },
  {
   "cell_type": "code",
   "execution_count": 28,
   "id": "d60c9dd0",
   "metadata": {},
   "outputs": [
    {
     "data": {
      "text/plain": [
       "5"
      ]
     },
     "execution_count": 28,
     "metadata": {},
     "output_type": "execute_result"
    }
   ],
   "source": [
    "y.size"
   ]
  },
  {
   "cell_type": "code",
   "execution_count": 30,
   "id": "43a4d2af",
   "metadata": {},
   "outputs": [
    {
     "data": {
      "text/plain": [
       "1"
      ]
     },
     "execution_count": 30,
     "metadata": {},
     "output_type": "execute_result"
    }
   ],
   "source": [
    "y.ndim"
   ]
  },
  {
   "cell_type": "code",
   "execution_count": 31,
   "id": "c32e4ad1",
   "metadata": {},
   "outputs": [
    {
     "data": {
      "text/plain": [
       "40"
      ]
     },
     "execution_count": 31,
     "metadata": {},
     "output_type": "execute_result"
    }
   ],
   "source": [
    "y.nbytes"
   ]
  },
  {
   "cell_type": "code",
   "execution_count": 32,
   "id": "22223a6c",
   "metadata": {},
   "outputs": [
    {
     "data": {
      "text/plain": [
       "dtype('float64')"
      ]
     },
     "execution_count": 32,
     "metadata": {},
     "output_type": "execute_result"
    }
   ],
   "source": [
    "y.dtype"
   ]
  },
  {
   "cell_type": "markdown",
   "id": "2e6478eb",
   "metadata": {},
   "source": [
    "## Modificar el tipo de dato del arreglo.\n",
    "\n",
    "Otra opción es convertir el arreglo a otro tipo usando el método <code>astype</code>:"
   ]
  },
  {
   "cell_type": "code",
   "execution_count": 23,
   "id": "868d8fdc",
   "metadata": {},
   "outputs": [],
   "source": [
    "w = np.array([2, 6, 1, 12, 9])\n",
    "z = np.array([7, 0, 9, 2])"
   ]
  },
  {
   "cell_type": "code",
   "execution_count": 24,
   "id": "24b58a18",
   "metadata": {},
   "outputs": [
    {
     "data": {
      "text/plain": [
       "array([ 2.,  6.,  1., 12.,  9.])"
      ]
     },
     "execution_count": 24,
     "metadata": {},
     "output_type": "execute_result"
    }
   ],
   "source": [
    "w.astype(float)"
   ]
  },
  {
   "cell_type": "code",
   "execution_count": 22,
   "id": "31b42e7f",
   "metadata": {},
   "outputs": [
    {
     "data": {
      "text/plain": [
       "array([7.+0.j, 0.+0.j, 9.+0.j, 2.+0.j])"
      ]
     },
     "execution_count": 22,
     "metadata": {},
     "output_type": "execute_result"
    }
   ],
   "source": [
    "z.astype(complex)"
   ]
  },
  {
   "cell_type": "markdown",
   "id": "1bd50a84",
   "metadata": {},
   "source": [
    "## Arreglos predefinidos.\n",
    "\n",
    "Vamos a encontrar situaciones en donde será necesario ocupar arreglos, pero podemos aprovechar que existe una base para manejar los arreglos en python a partir de arreglos **predefinidos**.\n",
    "\n",
    "A continuación enlistamos algunos de esos arreglos:\n",
    "\n",
    "1. <code>np.zeros(n)</code> crea un arreglo de $n$ elementos, a cada uno se le asigna el valor de $0$ (cero).\n",
    "2. <code>np.ones(n)</code> crea un arreglo de $n$ elementos, a cada uno se le asigna el valor de $1$ (uno).\n",
    "3. <code>np.arange(a, b, c)</code>  crea un arreglo de forma similar a la función <code>range</code> , con las diferencias que $a$, $b$ y $c$ pueden ser reales, y que el resultado es un arreglo y no una lista.\n",
    "4. <code>np.linspace(a, b, n)</code> crea un arreglo de $n$ valores equiespaciados entre $a$ y $b$, el valor por defecto es $n = 50$, pero se puede modificar."
   ]
  },
  {
   "cell_type": "code",
   "execution_count": 33,
   "id": "90e8f42c",
   "metadata": {},
   "outputs": [],
   "source": [
    "a = np.zeros(6)"
   ]
  },
  {
   "cell_type": "code",
   "execution_count": 35,
   "id": "51471fbb",
   "metadata": {},
   "outputs": [
    {
     "data": {
      "text/plain": [
       "array([0., 0., 0., 0., 0., 0.])"
      ]
     },
     "execution_count": 35,
     "metadata": {},
     "output_type": "execute_result"
    }
   ],
   "source": [
    "a"
   ]
  },
  {
   "cell_type": "code",
   "execution_count": 34,
   "id": "e9c0e489",
   "metadata": {},
   "outputs": [],
   "source": [
    "b = np.ones(5)"
   ]
  },
  {
   "cell_type": "code",
   "execution_count": 36,
   "id": "01591f7a",
   "metadata": {},
   "outputs": [
    {
     "data": {
      "text/plain": [
       "array([1., 1., 1., 1., 1.])"
      ]
     },
     "execution_count": 36,
     "metadata": {},
     "output_type": "execute_result"
    }
   ],
   "source": [
    "b"
   ]
  },
  {
   "cell_type": "code",
   "execution_count": 37,
   "id": "ea18f8fc",
   "metadata": {},
   "outputs": [],
   "source": [
    "c = np.arange(3.0, 9.0)"
   ]
  },
  {
   "cell_type": "code",
   "execution_count": 38,
   "id": "1b5f5a0c",
   "metadata": {},
   "outputs": [
    {
     "data": {
      "text/plain": [
       "array([3., 4., 5., 6., 7., 8.])"
      ]
     },
     "execution_count": 38,
     "metadata": {},
     "output_type": "execute_result"
    }
   ],
   "source": [
    "c"
   ]
  },
  {
   "cell_type": "code",
   "execution_count": 39,
   "id": "0aeb3bb7",
   "metadata": {},
   "outputs": [],
   "source": [
    "d = np.linspace(1, 2, 5)"
   ]
  },
  {
   "cell_type": "code",
   "execution_count": 40,
   "id": "813af479",
   "metadata": {},
   "outputs": [
    {
     "data": {
      "text/plain": [
       "array([1.  , 1.25, 1.5 , 1.75, 2.  ])"
      ]
     },
     "execution_count": 40,
     "metadata": {},
     "output_type": "execute_result"
    }
   ],
   "source": [
    "d"
   ]
  },
  {
   "cell_type": "markdown",
   "id": "5ed08c93",
   "metadata": {},
   "source": [
    "## Dimensiones del arreglo.\n",
    "\n",
    "Debemos de hacer énfasis en señalar que hasta el momento, se han presentado arreglos unidimensionales. Más adelante veremos que es posible crear, manejar y utilizar arreglos con dos o tres dimensiones."
   ]
  },
  {
   "cell_type": "markdown",
   "id": "51b6a4bb",
   "metadata": {},
   "source": [
    "# Operación con arreglos.\n",
    "\n",
    "Las limitaciones que tienen los arreglos respecto de las listas son compensadas por la cantidad de operaciones convenientes que permiten realizar sobre ellos.\n",
    "\n",
    "**Punto importante:** Las operaciones aritméticas entre arreglos *se aplican elemento a elemento*."
   ]
  },
  {
   "cell_type": "code",
   "execution_count": 41,
   "id": "41453932",
   "metadata": {},
   "outputs": [],
   "source": [
    "a = np.array([55, 21, 19, 11,  9])\n",
    "\n",
    "b = np.array([12, -9,  0, 22, -9])"
   ]
  },
  {
   "cell_type": "markdown",
   "id": "bf36360b",
   "metadata": {},
   "source": [
    "Veamos entonces algunas operaciones entre estos arreglos:"
   ]
  },
  {
   "cell_type": "code",
   "execution_count": 42,
   "id": "51854f04",
   "metadata": {},
   "outputs": [
    {
     "data": {
      "text/plain": [
       "array([67, 12, 19, 33,  0])"
      ]
     },
     "execution_count": 42,
     "metadata": {},
     "output_type": "execute_result"
    }
   ],
   "source": [
    "a + b"
   ]
  },
  {
   "cell_type": "code",
   "execution_count": 43,
   "id": "f83fa137",
   "metadata": {},
   "outputs": [
    {
     "data": {
      "text/plain": [
       "array([5.5, 2.1, 1.9, 1.1, 0.9])"
      ]
     },
     "execution_count": 43,
     "metadata": {},
     "output_type": "execute_result"
    }
   ],
   "source": [
    "\n",
    "0.1 * a"
   ]
  },
  {
   "cell_type": "code",
   "execution_count": 44,
   "id": "131c2ae2",
   "metadata": {},
   "outputs": [
    {
     "data": {
      "text/plain": [
       "array([46., 12., 10.,  2.,  0.])"
      ]
     },
     "execution_count": 44,
     "metadata": {},
     "output_type": "execute_result"
    }
   ],
   "source": [
    "a - 9.0"
   ]
  },
  {
   "cell_type": "markdown",
   "id": "1e14edf1",
   "metadata": {},
   "source": [
    "## Consideración sobre las operaciones.\n",
    "\n",
    "Nótese que si quisiéramos hacer estas operaciones usando listas, necesitaríamos usar un ciclo <code>for</code> para hacer las operaciones elemento a elemento. Con los arreglos se simplifica bastante las operaciones entre los elementos."
   ]
  },
  {
   "cell_type": "markdown",
   "id": "6fe7ed7c",
   "metadata": {},
   "source": [
    "## Operaciones relacionales.\n",
    "\n",
    "Las operaciones relacionales también se aplican elemento a elemento, y devuelven un arreglo de valores booleanos:"
   ]
  },
  {
   "cell_type": "code",
   "execution_count": 45,
   "id": "809395b4",
   "metadata": {},
   "outputs": [],
   "source": [
    "a = np.array([5.1, 2.4, 3.8, 3.9])\n",
    "\n",
    "b = np.array([4.2, 8.7, 3.9, 0.3])\n",
    "\n",
    "c = np.array([5, 2, 4, 4]) + np.array([1, 4, -2, -1])/10.0"
   ]
  },
  {
   "cell_type": "code",
   "execution_count": 46,
   "id": "084e0117",
   "metadata": {},
   "outputs": [
    {
     "data": {
      "text/plain": [
       "array([False,  True,  True, False])"
      ]
     },
     "execution_count": 46,
     "metadata": {},
     "output_type": "execute_result"
    }
   ],
   "source": [
    "a < b"
   ]
  },
  {
   "cell_type": "code",
   "execution_count": 49,
   "id": "8d2a55d7",
   "metadata": {},
   "outputs": [
    {
     "data": {
      "text/plain": [
       "array([ True,  True,  True,  True])"
      ]
     },
     "execution_count": 49,
     "metadata": {},
     "output_type": "execute_result"
    }
   ],
   "source": [
    "a == c"
   ]
  },
  {
   "cell_type": "markdown",
   "id": "9614dddf",
   "metadata": {},
   "source": [
    "## Comparación con un solo resultado.\n",
    "\n",
    "En una operación relacional es posible reducir el arreglo de booleanos a un único valor, con el uso de las funciones <code>any</code> y <code>all.any</code>.\n",
    "\n",
    "La función <code>any</code> devuelve <code>True</code> si **al menos uno de los elementos es verdadero**, mientras que <code>all</code> devuelve <code>True</code> sólo si **todos los elementos son verdaderos**:"
   ]
  },
  {
   "cell_type": "code",
   "execution_count": 50,
   "id": "e24a1f5b",
   "metadata": {},
   "outputs": [
    {
     "data": {
      "text/plain": [
       "True"
      ]
     },
     "execution_count": 50,
     "metadata": {},
     "output_type": "execute_result"
    }
   ],
   "source": [
    "any(a < b)"
   ]
  },
  {
   "cell_type": "code",
   "execution_count": 51,
   "id": "f1f17951",
   "metadata": {},
   "outputs": [
    {
     "data": {
      "text/plain": [
       "False"
      ]
     },
     "execution_count": 51,
     "metadata": {},
     "output_type": "execute_result"
    }
   ],
   "source": [
    "any(a == b)"
   ]
  },
  {
   "cell_type": "code",
   "execution_count": 52,
   "id": "7c69552d",
   "metadata": {},
   "outputs": [
    {
     "data": {
      "text/plain": [
       "True"
      ]
     },
     "execution_count": 52,
     "metadata": {},
     "output_type": "execute_result"
    }
   ],
   "source": [
    "all(a == c)"
   ]
  },
  {
   "cell_type": "markdown",
   "id": "6a0268b9",
   "metadata": {},
   "source": [
    "# Funciones con arreglos.\n",
    "\n",
    "El módulo <code>numpy</code> provee muchas funciones matemáticas (recordemos que extiende al módulo <code>math</code>) que también operan elemento a elemento."
   ]
  },
  {
   "cell_type": "code",
   "execution_count": 53,
   "id": "19ecd5f5",
   "metadata": {},
   "outputs": [],
   "source": [
    "x = np.linspace(0, np.pi/2, 9)"
   ]
  },
  {
   "cell_type": "code",
   "execution_count": 54,
   "id": "fe45faab",
   "metadata": {},
   "outputs": [
    {
     "data": {
      "text/plain": [
       "array([0.        , 0.19634954, 0.39269908, 0.58904862, 0.78539816,\n",
       "       0.9817477 , 1.17809725, 1.37444679, 1.57079633])"
      ]
     },
     "execution_count": 54,
     "metadata": {},
     "output_type": "execute_result"
    }
   ],
   "source": [
    "x"
   ]
  },
  {
   "cell_type": "markdown",
   "id": "85566b96",
   "metadata": {},
   "source": [
    "## Evaluando con una función.\n",
    "\n",
    "Cuando usamos una función y queremos evaluar los elementos de ésta, con el arreglo tendremos esta tarea en un solo paso:"
   ]
  },
  {
   "cell_type": "code",
   "execution_count": 55,
   "id": "53926dc8",
   "metadata": {},
   "outputs": [
    {
     "data": {
      "text/plain": [
       "array([0.        , 0.19509032, 0.38268343, 0.55557023, 0.70710678,\n",
       "       0.83146961, 0.92387953, 0.98078528, 1.        ])"
      ]
     },
     "execution_count": 55,
     "metadata": {},
     "output_type": "execute_result"
    }
   ],
   "source": [
    "np.sin(x)"
   ]
  },
  {
   "cell_type": "markdown",
   "id": "f0fc4dfc",
   "metadata": {},
   "source": [
    "## Ventaja de los arreglos.\n",
    "\n",
    "Se hace evidente otra de las ventajas de los arreglos: al mostrarlos en la terminal, los valores aparecen perfectamente alineados. Con las listas, esto no ocurre:"
   ]
  },
  {
   "cell_type": "code",
   "execution_count": 57,
   "id": "e3f29c19",
   "metadata": {},
   "outputs": [
    {
     "data": {
      "text/plain": [
       "[0.0,\n",
       " 0.19509032201612825,\n",
       " 0.3826834323650898,\n",
       " 0.5555702330196022,\n",
       " 0.7071067811865475,\n",
       " 0.8314696123025451,\n",
       " 0.9238795325112867,\n",
       " 0.9807852804032304,\n",
       " 1.0]"
      ]
     },
     "execution_count": 57,
     "metadata": {},
     "output_type": "execute_result"
    }
   ],
   "source": [
    "list(np.sin(x))"
   ]
  },
  {
   "cell_type": "markdown",
   "id": "61814fd9",
   "metadata": {},
   "source": [
    "# Valores aleatorios.\n",
    "\n",
    "El modulo <code>numpy</code> contiene a su vez otras librerías que proveen funcionalidad adicional a los arreglos y funciones básicos.\n",
    "\n",
    "La librería <code>numpy.random</code> provee funciones para generar números aleatorios (es decir, generados al azar, este tema lo abodaremos con mayor extensión en el Tema 5), de las cuales la función más usada es <code>random</code>, que entrega un arreglo de números al azar distribuidos uniformemente entre $0$ y $1$:"
   ]
  },
  {
   "cell_type": "code",
   "execution_count": 58,
   "id": "d56c02e8",
   "metadata": {},
   "outputs": [],
   "source": [
    "from numpy.random import random"
   ]
  },
  {
   "cell_type": "code",
   "execution_count": 59,
   "id": "d33f758e",
   "metadata": {},
   "outputs": [
    {
     "data": {
      "text/plain": [
       "array([0.07283836, 0.46780833, 0.99678565])"
      ]
     },
     "execution_count": 59,
     "metadata": {},
     "output_type": "execute_result"
    }
   ],
   "source": [
    "random(3)"
   ]
  },
  {
   "cell_type": "code",
   "execution_count": 60,
   "id": "ba402142",
   "metadata": {},
   "outputs": [
    {
     "data": {
      "text/plain": [
       "array([0.11024769, 0.01449049, 0.12316416])"
      ]
     },
     "execution_count": 60,
     "metadata": {},
     "output_type": "execute_result"
    }
   ],
   "source": [
    "random(3)"
   ]
  },
  {
   "cell_type": "markdown",
   "id": "9e35e61a",
   "metadata": {},
   "source": [
    "# Funciones de utilidad.\n",
    "\n",
    "Los arreglos proveen algunas funciones útiles que conviene conocer, para explorar el contenido de los mismos.\n",
    "\n",
    "## Funciones para valores mínimos y máximos.\n",
    "\n",
    "Las funciones <code>min</code> y <code>max</code>, devuelven respectivamente el valor mínimo y el máximo de los elementos del arreglo.\n",
    "\n",
    "Considera que al usar arreglos todos los elementos son del mismo tipo de dato, podemos usar las funciones que operan con listas, pero debemos de garantizar que los datos son del mismo tipo."
   ]
  },
  {
   "cell_type": "code",
   "execution_count": 62,
   "id": "60f6ecf9",
   "metadata": {},
   "outputs": [],
   "source": [
    "a = np.array([4.1, 2.7, 8.4, np.pi, -2.5, 3, 5.2])"
   ]
  },
  {
   "cell_type": "code",
   "execution_count": 63,
   "id": "87b99913",
   "metadata": {},
   "outputs": [
    {
     "data": {
      "text/plain": [
       "-2.5"
      ]
     },
     "execution_count": 63,
     "metadata": {},
     "output_type": "execute_result"
    }
   ],
   "source": [
    "a.min()"
   ]
  },
  {
   "cell_type": "code",
   "execution_count": 64,
   "id": "126f24cd",
   "metadata": {},
   "outputs": [
    {
     "data": {
      "text/plain": [
       "8.4"
      ]
     },
     "execution_count": 64,
     "metadata": {},
     "output_type": "execute_result"
    }
   ],
   "source": [
    "a.max()"
   ]
  },
  {
   "cell_type": "markdown",
   "id": "c63ced77",
   "metadata": {},
   "source": [
    "## Funciones que devuelven índices.\n",
    "\n",
    "Las funciones <code>argmin</code> y <code>argmax</code> entregan respectivamente el índice en donde se ubica el elemento que es el mínimo del arreglo, así como el índice del elemento que es el máximo del arreglo:"
   ]
  },
  {
   "cell_type": "code",
   "execution_count": 65,
   "id": "62c90c48",
   "metadata": {},
   "outputs": [
    {
     "data": {
      "text/plain": [
       "4"
      ]
     },
     "execution_count": 65,
     "metadata": {},
     "output_type": "execute_result"
    }
   ],
   "source": [
    "a.argmin()"
   ]
  },
  {
   "cell_type": "code",
   "execution_count": 66,
   "id": "c18dfbee",
   "metadata": {},
   "outputs": [
    {
     "data": {
      "text/plain": [
       "2"
      ]
     },
     "execution_count": 66,
     "metadata": {},
     "output_type": "execute_result"
    }
   ],
   "source": [
    "a.argmax()"
   ]
  },
  {
   "cell_type": "markdown",
   "id": "c2f4d2e9",
   "metadata": {},
   "source": [
    "## Funciones que operan sobre el arreglo.\n",
    "\n",
    "Las funciones <code>sum</code> y <code>prod</code> devuelven respectivamente la suma y el producto de los elementos del arreglo:"
   ]
  },
  {
   "cell_type": "code",
   "execution_count": 67,
   "id": "d1df252e",
   "metadata": {},
   "outputs": [
    {
     "data": {
      "text/plain": [
       "24.04159265358979"
      ]
     },
     "execution_count": 67,
     "metadata": {},
     "output_type": "execute_result"
    }
   ],
   "source": [
    "a.sum()"
   ]
  },
  {
   "cell_type": "code",
   "execution_count": 68,
   "id": "8ff8b4ba",
   "metadata": {},
   "outputs": [
    {
     "data": {
      "text/plain": [
       "-11393.0862892083"
      ]
     },
     "execution_count": 68,
     "metadata": {},
     "output_type": "execute_result"
    }
   ],
   "source": [
    "a.prod()"
   ]
  },
  {
   "cell_type": "markdown",
   "id": "391309fb",
   "metadata": {},
   "source": [
    "# Productos entre arreglos.\n",
    "\n",
    "## Producto vector - vector.\n",
    "\n",
    "Recordemos que computacionalmente un arreglo es un sinónimo de un vector en una dimensión. Mientras que un arreglo en dos dimensiones sería el equivalente a una matriz.\n",
    "\n",
    "El producto entre dos vectores se obtiene usando la función <code>numpy.dot</code>:"
   ]
  },
  {
   "cell_type": "code",
   "execution_count": 69,
   "id": "1f64dd3d",
   "metadata": {},
   "outputs": [],
   "source": [
    "a = np. array([-2.8 , -0.88,  2.76,  1.3 ,  4.43])\n",
    "\n",
    "b = np.array([ 0.25, -1.58,  1.32, -0.34, -4.22])"
   ]
  },
  {
   "cell_type": "code",
   "execution_count": 71,
   "id": "e3712c61",
   "metadata": {},
   "outputs": [
    {
     "data": {
      "text/plain": [
       "-14.802999999999997"
      ]
     },
     "execution_count": 71,
     "metadata": {},
     "output_type": "execute_result"
    }
   ],
   "source": [
    "np.dot(a, b)"
   ]
  },
  {
   "cell_type": "markdown",
   "id": "b3efeb6b",
   "metadata": {},
   "source": [
    "## El producto escalar.\n",
    "\n",
    "Recordemos la definición de producto escalar:\n",
    "\n",
    "$$\n",
    "\\begin{align*}\n",
    "\\overrightarrow{a} \\cdot \\overrightarrow{b} = \\vert a \\vert \\, \\vert b \\vert \\, \\cos(\\overrightarrow{a}, \\overrightarrow{b})\n",
    "\\end{align*}\n",
    "$$\n",
    "\n",
    "Que es la definición el producto escalar utilizada para calcular el coseno del ángulo entre dos vectores.\n",
    "\n",
    "El producto escalar se obtiene de:\n",
    "$$\n",
    "\\begin{align*}\n",
    "\\overrightarrow{a} \\cdot \\overrightarrow{b} = a_{1} \\, b_{1} + a_{2} \\, b_{2} + a_{3} \\, b_{3}\n",
    "\\end{align*}\n",
    "$$"
   ]
  },
  {
   "cell_type": "code",
   "execution_count": 72,
   "id": "4e4e9064",
   "metadata": {},
   "outputs": [],
   "source": [
    "x = np.array([1, 2, 3])\n",
    "\n",
    "y = np.array([-7, 8, 9])"
   ]
  },
  {
   "cell_type": "code",
   "execution_count": 73,
   "id": "ffbb827c",
   "metadata": {},
   "outputs": [],
   "source": [
    "producto = np.dot(x,y)"
   ]
  },
  {
   "cell_type": "code",
   "execution_count": 74,
   "id": "9c3a785a",
   "metadata": {},
   "outputs": [],
   "source": [
    "xmodulo = np.sqrt((x*x).sum())"
   ]
  },
  {
   "cell_type": "code",
   "execution_count": 75,
   "id": "548cfc9a",
   "metadata": {},
   "outputs": [],
   "source": [
    "ymodulo = np.sqrt((y*y).sum())"
   ]
  },
  {
   "cell_type": "code",
   "execution_count": 76,
   "id": "6ff528b9",
   "metadata": {},
   "outputs": [],
   "source": [
    "cos_angulo = producto / xmodulo / ymodulo"
   ]
  },
  {
   "cell_type": "code",
   "execution_count": 77,
   "id": "123e126f",
   "metadata": {},
   "outputs": [],
   "source": [
    "angulo = np.arccos(cos_angulo)"
   ]
  },
  {
   "cell_type": "code",
   "execution_count": 78,
   "id": "294414a8",
   "metadata": {},
   "outputs": [
    {
     "data": {
      "text/plain": [
       "0.808233789010825"
      ]
     },
     "execution_count": 78,
     "metadata": {},
     "output_type": "execute_result"
    }
   ],
   "source": [
    "angulo"
   ]
  },
  {
   "cell_type": "code",
   "execution_count": 79,
   "id": "4af0ffbd",
   "metadata": {},
   "outputs": [
    {
     "data": {
      "text/plain": [
       "46.308384970187326"
      ]
     },
     "execution_count": 79,
     "metadata": {},
     "output_type": "execute_result"
    }
   ],
   "source": [
    "angulo * 360/2/np.pi"
   ]
  },
  {
   "cell_type": "markdown",
   "id": "91b80bea",
   "metadata": {},
   "source": [
    "## Producto interno.\n",
    "\n",
    "Aunque la función <code>dot</code> realiza el producto elemento con elemento de los arreglos, podemos utilizar propiamente la función <code>np.inner</code>, que evalúa el producto interno entre dos vectores."
   ]
  },
  {
   "cell_type": "code",
   "execution_count": 81,
   "id": "09ff0e13",
   "metadata": {},
   "outputs": [],
   "source": [
    "a = np.array([1, 2, 3])\n",
    "\n",
    "b = np.array([0, 1, 0])"
   ]
  },
  {
   "cell_type": "code",
   "execution_count": 82,
   "id": "3717cc91",
   "metadata": {},
   "outputs": [
    {
     "data": {
      "text/plain": [
       "2"
      ]
     },
     "execution_count": 82,
     "metadata": {},
     "output_type": "execute_result"
    }
   ],
   "source": [
    "np.inner(a, b)"
   ]
  },
  {
   "cell_type": "markdown",
   "id": "aaf015c5",
   "metadata": {},
   "source": [
    "## Diferencia entre <code>dot</code> e <code>inner</code>.\n",
    "\n",
    "Si estamos manejando arreglos en una dimensión, las funciones <code>dot</code> e <code>inner</code> son las mismas.\n",
    "\n",
    "Lo interesante es que con la función <code>dot</code> se puede operar **tensores**, claro en arreglos n-dimensionales.\n",
    "\n"
   ]
  },
  {
   "cell_type": "markdown",
   "id": "e480b906",
   "metadata": {},
   "source": [
    "## Producto externo.\n",
    "\n",
    "El producto externo (producto cruz) es una operación binaria entre dos vectores en el espacio 3D. El resultado es un vector perpendicular a los dos vectores que se multiplican, además es normal al plano que contiene a aquéllos.\n",
    "\n",
    "El producto cruz de los vectores $\\overrightarrow{a}$ y $\\overrightarrow{b}$ se define por:\n",
    "$$\n",
    "\\begin{align*}\n",
    "\\overrightarrow{a} \\times \\overrightarrow{a} = \\vert a \\vert \\, \\vert b \\vert \\, \\sin(\\overrightarrow{a}, \\overrightarrow{b}) \\, \\vert \\overrightarrow{n} \\vert\n",
    "\\end{align*}\n",
    "$$\n",
    "donde $\\overrightarrow{n}$ es el vector unitario perpendicular al plano que contiene a los vectores $\\overrightarrow{a}$ y $\\overrightarrow{b}$, en la dirección dada por la regla de la mano derecha."
   ]
  },
  {
   "cell_type": "code",
   "execution_count": 83,
   "id": "8e9bbc4a",
   "metadata": {},
   "outputs": [],
   "source": [
    "x = np.array([0., 0., 1.])\n",
    "\n",
    "y = np.array([0., 1., 0.])"
   ]
  },
  {
   "cell_type": "code",
   "execution_count": 84,
   "id": "1287e3de",
   "metadata": {},
   "outputs": [
    {
     "data": {
      "text/plain": [
       "array([-1.,  0.,  0.])"
      ]
     },
     "execution_count": 84,
     "metadata": {},
     "output_type": "execute_result"
    }
   ],
   "source": [
    "np.cross(x, y)"
   ]
  },
  {
   "cell_type": "code",
   "execution_count": 85,
   "id": "4e1b2601",
   "metadata": {},
   "outputs": [
    {
     "data": {
      "text/plain": [
       "array([1., 0., 0.])"
      ]
     },
     "execution_count": 85,
     "metadata": {},
     "output_type": "execute_result"
    }
   ],
   "source": [
    "np.cross(y, x)"
   ]
  },
  {
   "cell_type": "markdown",
   "id": "933cb878",
   "metadata": {},
   "source": [
    "## Producto matriz - vector.\n",
    "\n",
    "El producto matriz - vector es el **vector de los productos internos**. El producto matriz - vector puede ser visto simplemente como varios productos internos calculados de una sola vez.\n",
    "\n",
    "Esta operación también es obtenida usando la función <code>np.dot</code> entre las filas de la matriz y el vector:"
   ]
  },
  {
   "cell_type": "code",
   "execution_count": 87,
   "id": "81c2fa21",
   "metadata": {},
   "outputs": [],
   "source": [
    "a = np.array([[-0.6,  4.8, -1.2],\n",
    "              [-2., -3.6, -2.1],\n",
    "              [1.7,  4.9,  0.]])\n",
    "\n",
    "x = np.array([-0.6, -2.,  1.7])"
   ]
  },
  {
   "cell_type": "code",
   "execution_count": 88,
   "id": "946750f6",
   "metadata": {},
   "outputs": [
    {
     "data": {
      "text/plain": [
       "array([-11.28,   4.83, -10.82])"
      ]
     },
     "execution_count": 88,
     "metadata": {},
     "output_type": "execute_result"
    }
   ],
   "source": [
    "np.dot(a, x)"
   ]
  },
  {
   "cell_type": "markdown",
   "id": "726e8351",
   "metadata": {},
   "source": [
    "## Producto matriz - matriz.\n",
    "\n",
    "El producto matriz - matriz es la matriz de los productos internos entre las filas de la primera matriz (de $m \\times n$) y las columnas de la segunda (de $n \\times p$).\n",
    "\n",
    "El resultado es un arreglo de tamaño $m \\times p$."
   ]
  },
  {
   "cell_type": "code",
   "execution_count": 89,
   "id": "048d7447",
   "metadata": {},
   "outputs": [],
   "source": [
    "a = np.array([[2,  8],\n",
    "              [-3,  7],\n",
    "              [-8, -5]])\n",
    "\n",
    "b = np.array([[-3, -5, -6, -3],\n",
    "              [-9, -2,  3, -3]])"
   ]
  },
  {
   "cell_type": "code",
   "execution_count": 90,
   "id": "48c0f6b1",
   "metadata": {},
   "outputs": [
    {
     "data": {
      "text/plain": [
       "array([[-78, -26,  12, -30],\n",
       "       [-54,   1,  39, -12],\n",
       "       [ 69,  50,  33,  39]])"
      ]
     },
     "execution_count": 90,
     "metadata": {},
     "output_type": "execute_result"
    }
   ],
   "source": [
    "np.dot(a, b)"
   ]
  },
  {
   "cell_type": "markdown",
   "id": "077143a1",
   "metadata": {},
   "source": [
    "La multiplicación de matrices puede ser vista como varios productos matriz - vector (usando como vectores todas las filas de la segunda matriz), calculados de una sola vez."
   ]
  },
  {
   "cell_type": "markdown",
   "id": "03cf49eb",
   "metadata": {},
   "source": [
    "## Resumen de operaciones.\n",
    "\n",
    "En resumen, al usar la función <code>np.dot</code>, la estructura del resultado depende de cuáles son los parámetros que se utilizan:\n",
    "1. <code>np.dot</code> (vector, vector) $\\rightarrow$ número.\n",
    "2. <code>np.dot</code> (matriz, vector) $\\rightarrow$ vector.\n",
    "3. <code>np.dot</code> (matriz, matriz) $\\rightarrow$ matriz."
   ]
  },
  {
   "cell_type": "markdown",
   "id": "6f66222b",
   "metadata": {},
   "source": [
    "# Matrices como arreglos.\n",
    "\n",
    "Las matrices o arreglos en 2D son importantes en el cómputo científico, <code>numpy</code> proporciona funciones que generan matrices predefinidas:\n",
    "\n",
    "1. La función <code>np.identity</code>.\n",
    "2. La función <code>np.eye</code>.\n",
    "3. La función <code>np.diag</code>."
   ]
  },
  {
   "cell_type": "markdown",
   "id": "5fe2a3c8",
   "metadata": {},
   "source": [
    "## La función <code>np.identity</code>.\n",
    "\n",
    "La función <code>np.identity(n)</code> genera una matriz cuadrada de $n \\times n$, los elementos de la diagonal son $1$ y los demás son $0$:"
   ]
  },
  {
   "cell_type": "code",
   "execution_count": 91,
   "id": "dd14fe35",
   "metadata": {},
   "outputs": [
    {
     "data": {
      "text/plain": [
       "array([[1., 0., 0., 0.],\n",
       "       [0., 1., 0., 0.],\n",
       "       [0., 0., 1., 0.],\n",
       "       [0., 0., 0., 1.]])"
      ]
     },
     "execution_count": 91,
     "metadata": {},
     "output_type": "execute_result"
    }
   ],
   "source": [
    "np.identity(4)"
   ]
  },
  {
   "cell_type": "markdown",
   "id": "768e9d79",
   "metadata": {},
   "source": [
    "## La función <code>np.eye</code>.\n",
    "\n",
    "La función <code>np.eye(n, k)</code> genera matrices cuadradas de $n \\times n$ con elementos en la diagonal que valen $1$, permitiendo un desplazamiento (*offset*) sobre la diagonal: $k$.\n",
    "\n",
    "El valor por defecto del desplazamiento es $k = 0$."
   ]
  },
  {
   "cell_type": "code",
   "execution_count": 92,
   "id": "4d81095b",
   "metadata": {},
   "outputs": [
    {
     "data": {
      "text/plain": [
       "array([[0., 1., 0.],\n",
       "       [0., 0., 1.],\n",
       "       [0., 0., 0.]])"
      ]
     },
     "execution_count": 92,
     "metadata": {},
     "output_type": "execute_result"
    }
   ],
   "source": [
    "# Desplazamiento positivo\n",
    "\n",
    "np.eye(3, k = 1)"
   ]
  },
  {
   "cell_type": "code",
   "execution_count": 93,
   "id": "b26159fa",
   "metadata": {},
   "outputs": [
    {
     "data": {
      "text/plain": [
       "array([[0., 0., 0.],\n",
       "       [1., 0., 0.],\n",
       "       [0., 1., 0.]])"
      ]
     },
     "execution_count": 93,
     "metadata": {},
     "output_type": "execute_result"
    }
   ],
   "source": [
    "# Desplazamiento negativo\n",
    "\n",
    "np.eye(3, k = -1)"
   ]
  },
  {
   "cell_type": "markdown",
   "id": "3cdd8225",
   "metadata": {},
   "source": [
    "## La función <code>np.diag</code>.\n",
    "\n",
    "Para crear una matriz con un arreglo unidimensional arbitrario en la diagonal, podemos utilizar la función <code>np.diag(v, k)</code>, que cuenta con un argumento opcional $k$ de desplazamiento sobre la diagonal, el valor por defecto es $k = 0$. Usa $k > 0$ para diagonales por arriba de la diagonal principal, con $k < 0$ para diagonales por debajo de la diagonal principal."
   ]
  },
  {
   "cell_type": "code",
   "execution_count": 96,
   "id": "78539868",
   "metadata": {},
   "outputs": [
    {
     "data": {
      "text/plain": [
       "array([[ 0,  0,  0,  0],\n",
       "       [ 0,  5,  0,  0],\n",
       "       [ 0,  0, 10,  0],\n",
       "       [ 0,  0,  0, 15]])"
      ]
     },
     "execution_count": 96,
     "metadata": {},
     "output_type": "execute_result"
    }
   ],
   "source": [
    "np.diag(np.arange(0, 20, 5))"
   ]
  },
  {
   "cell_type": "code",
   "execution_count": 97,
   "id": "222a4aed",
   "metadata": {},
   "outputs": [
    {
     "data": {
      "text/plain": [
       "array([[ 0,  0,  0,  0,  0],\n",
       "       [ 0,  0,  5,  0,  0],\n",
       "       [ 0,  0,  0, 10,  0],\n",
       "       [ 0,  0,  0,  0, 15],\n",
       "       [ 0,  0,  0,  0,  0]])"
      ]
     },
     "execution_count": 97,
     "metadata": {},
     "output_type": "execute_result"
    }
   ],
   "source": [
    "np.diag(np.arange(0, 20, 5), 1)"
   ]
  },
  {
   "cell_type": "code",
   "execution_count": 98,
   "id": "946315e1",
   "metadata": {},
   "outputs": [
    {
     "data": {
      "text/plain": [
       "array([[ 0,  0,  0,  0,  0],\n",
       "       [ 0,  0,  0,  0,  0],\n",
       "       [ 0,  5,  0,  0,  0],\n",
       "       [ 0,  0, 10,  0,  0],\n",
       "       [ 0,  0,  0, 15,  0]])"
      ]
     },
     "execution_count": 98,
     "metadata": {},
     "output_type": "execute_result"
    }
   ],
   "source": [
    "np.diag(np.arange(0, 20, 5), -1)"
   ]
  },
  {
   "cell_type": "markdown",
   "id": "92b0d358",
   "metadata": {},
   "source": [
    "# La librería <code>np.linalg</code>\n",
    "\n",
    "Será necesario apoyarnos con la librería <code>np.linalg</code> para el manejo y operación tanto de arreglos como de matrices.\n",
    "\n",
    "Se recomienda que revises la documentación oficial de python, para consultar las otras funciones que no manejaremos explícitamente en las presentaciones."
   ]
  },
  {
   "cell_type": "markdown",
   "id": "4f5446e4",
   "metadata": {},
   "source": [
    "# Propiedades de las matrices.\n",
    "\n",
    "## El determinante de una matriz.\n",
    "\n",
    "El determinante de una matriz se calcula mediante la función <code>det</code>:"
   ]
  },
  {
   "cell_type": "code",
   "execution_count": 101,
   "id": "3769d94e",
   "metadata": {},
   "outputs": [],
   "source": [
    "import numpy.linalg as nla"
   ]
  },
  {
   "cell_type": "code",
   "execution_count": 102,
   "id": "6c6e4817",
   "metadata": {},
   "outputs": [],
   "source": [
    "a = np.array([[3, -5, 8],\n",
    "              [-1, 2, 3],\n",
    "              [-5, -6, 2]])"
   ]
  },
  {
   "cell_type": "code",
   "execution_count": 103,
   "id": "f53b8f65",
   "metadata": {},
   "outputs": [
    {
     "data": {
      "text/plain": [
       "259.0000000000001"
      ]
     },
     "execution_count": 103,
     "metadata": {},
     "output_type": "execute_result"
    }
   ],
   "source": [
    "nla.det(a)"
   ]
  },
  {
   "cell_type": "code",
   "execution_count": 104,
   "id": "dfeb6da6",
   "metadata": {},
   "outputs": [
    {
     "data": {
      "text/plain": [
       "-2"
      ]
     },
     "execution_count": 104,
     "metadata": {},
     "output_type": "execute_result"
    }
   ],
   "source": [
    "# Se hace un desplazamiento unitario por arriba de la diagonal principal.\n",
    "np.trace(a, 1)"
   ]
  },
  {
   "cell_type": "markdown",
   "id": "efcd9fe7",
   "metadata": {},
   "source": [
    "## La Matriz Inversa.\n",
    "\n",
    "La matriz inversa se calcula con la función <code>linalg.inv</code>:"
   ]
  },
  {
   "cell_type": "code",
   "execution_count": 105,
   "id": "d00c6a0e",
   "metadata": {},
   "outputs": [
    {
     "data": {
      "text/plain": [
       "array([[ 0.08494208, -0.14671815, -0.11969112],\n",
       "       [-0.05019305,  0.17760618, -0.06563707],\n",
       "       [ 0.06177606,  0.16602317,  0.003861  ]])"
      ]
     },
     "execution_count": 105,
     "metadata": {},
     "output_type": "execute_result"
    }
   ],
   "source": [
    "nla.inv(a)"
   ]
  },
  {
   "cell_type": "markdown",
   "id": "150dc0f3",
   "metadata": {},
   "source": [
    "## La matriz transpuesta.\n",
    "\n",
    "La matriz transpuesta se obtiene con la función <code>matriz.T</code> o <code>matriz.transpose()</code>:"
   ]
  },
  {
   "cell_type": "code",
   "execution_count": 106,
   "id": "f18e3a27",
   "metadata": {},
   "outputs": [
    {
     "data": {
      "text/plain": [
       "array([[ 3, -1, -5],\n",
       "       [-5,  2, -6],\n",
       "       [ 8,  3,  2]])"
      ]
     },
     "execution_count": 106,
     "metadata": {},
     "output_type": "execute_result"
    }
   ],
   "source": [
    "a.T"
   ]
  },
  {
   "cell_type": "code",
   "execution_count": 107,
   "id": "13d409dd",
   "metadata": {},
   "outputs": [
    {
     "data": {
      "text/plain": [
       "array([[ 3, -1, -5],\n",
       "       [-5,  2, -6],\n",
       "       [ 8,  3,  2]])"
      ]
     },
     "execution_count": 107,
     "metadata": {},
     "output_type": "execute_result"
    }
   ],
   "source": [
    "a.transpose()"
   ]
  },
  {
   "cell_type": "markdown",
   "id": "c0e3c9b1",
   "metadata": {},
   "source": [
    "# Solución de sistemas algebraicos.\n",
    "\n",
    "Un sistema de ecuaciones algebraico se puede expresar en términos de un arreglo matricial:\n",
    "$$\n",
    "\\begin{align*}\n",
    "\\begin{aligned}\n",
    "a_1 \\: x + b_1 \\: y + c_1 \\: z = d_1 \\\\\n",
    "a_2 \\: x + b_2 \\: y + c_2 \\: z = d_2 \\\\\n",
    "a_3 \\: x + b_3 \\: y + c_3 \\: z = d_3 \n",
    "\\end{aligned}\n",
    "\\Longrightarrow\n",
    "\\begin{pmatrix}\n",
    "a_1 & b_1 & c_1 \\\\ \n",
    "a_2 & b_2 & c_2 \\\\\n",
    "a_3 & b_3 & c_3 \n",
    "\\end{pmatrix}\n",
    "\\begin{pmatrix}\n",
    "x \\\\\n",
    "y \\\\\n",
    "z\n",
    "\\end{pmatrix} = \n",
    "\\begin{pmatrix}\n",
    "d_{1} \\\\\n",
    "d_{2} \\\\\n",
    "d_{3}\n",
    "\\end{pmatrix}\n",
    "\\end{align*}\n",
    "$$\n",
    "\n",
    "Existen métodos y funciones con python para resolver sistemas de ecuaciones algebraicas.\n",
    "\n",
    "Tomemos en cuenta que:\n",
    "1. La solución de sistemas matriciales es computacionalmente una tarea intensa.\n",
    "2. Veremos algunos métodos para resolver estas ecuaciones.\n",
    "3. Estos métodos están contenidos en la librería <code>np.linalg</code>."
   ]
  },
  {
   "cell_type": "markdown",
   "id": "ecbec02f",
   "metadata": {},
   "source": [
    "## La función <code>linalg.solve</code>.\n",
    "\n",
    "Esta función utiliza la matriz de coeficientes y el vector del lado derecho de la igualdad como argumentos, devuelve un vector con la solución.\n",
    "\n",
    "Consideremos el siguiente sistema:\n",
    "\n",
    "$$\n",
    "\\begin{align*}\n",
    "4 \\: x - 5 \\: y + 8 \\: z &= 4 \\\\\n",
    "2 \\: x - 8 \\: y + 7 \\: z &= 0 \\\\\n",
    "-5 \\: x - 8 \\: y &= 4\n",
    "\\end{align*}\n",
    "$$"
   ]
  },
  {
   "cell_type": "code",
   "execution_count": 108,
   "id": "bf33ba11",
   "metadata": {},
   "outputs": [],
   "source": [
    "a = np.array([[4, -5, 8],\n",
    "              [2, -8, 7],\n",
    "              [-5, 8, 0]])\n",
    "\n",
    "b = np.array([4, 0, -5])"
   ]
  },
  {
   "cell_type": "code",
   "execution_count": 111,
   "id": "bec0d840",
   "metadata": {},
   "outputs": [],
   "source": [
    "x = nla.solve(a, b)"
   ]
  },
  {
   "cell_type": "code",
   "execution_count": 112,
   "id": "63243ad0",
   "metadata": {},
   "outputs": [
    {
     "data": {
      "text/plain": [
       "array([ 1.53112033,  0.33195021, -0.05809129])"
      ]
     },
     "execution_count": 112,
     "metadata": {},
     "output_type": "execute_result"
    }
   ],
   "source": [
    "x"
   ]
  },
  {
   "cell_type": "markdown",
   "id": "627e58f9",
   "metadata": {},
   "source": [
    "## Comprobando la solución.\n",
    "\n",
    "Para revisar que el vector $x$ es solución del sistema de ecuaciones, realizamos la siguiente instrucción."
   ]
  },
  {
   "cell_type": "code",
   "execution_count": 113,
   "id": "398e7a35",
   "metadata": {},
   "outputs": [
    {
     "data": {
      "text/plain": [
       "True"
      ]
     },
     "execution_count": 113,
     "metadata": {},
     "output_type": "execute_result"
    }
   ],
   "source": [
    "np.allclose(np.dot(a, x), b)"
   ]
  },
  {
   "cell_type": "markdown",
   "id": "a805f2dd",
   "metadata": {},
   "source": [
    "## Consideración importante.\n",
    "\n",
    "La matriz de coeficientes debe de ser **no singular**, es decir, el determinante de esa matriz debe de ser distinto de cero:"
   ]
  },
  {
   "cell_type": "code",
   "execution_count": 114,
   "id": "a2ea81cb",
   "metadata": {},
   "outputs": [],
   "source": [
    "a2 = np.array([[4, -5, 8],\n",
    "               [8, -10, 16],\n",
    "               [-5, 8, 0]])\n",
    "\n",
    "b2 = array([4, 8, -5])"
   ]
  },
  {
   "cell_type": "code",
   "execution_count": 115,
   "id": "c0601738",
   "metadata": {},
   "outputs": [
    {
     "data": {
      "text/plain": [
       "0.0"
      ]
     },
     "execution_count": 115,
     "metadata": {},
     "output_type": "execute_result"
    }
   ],
   "source": [
    "nla.det(a2)"
   ]
  },
  {
   "cell_type": "code",
   "execution_count": 117,
   "id": "0b04654e",
   "metadata": {},
   "outputs": [
    {
     "ename": "LinAlgError",
     "evalue": "Singular matrix",
     "output_type": "error",
     "traceback": [
      "\u001b[0;31m---------------------------------------------------------------------------\u001b[0m",
      "\u001b[0;31mLinAlgError\u001b[0m                               Traceback (most recent call last)",
      "Input \u001b[0;32mIn [117]\u001b[0m, in \u001b[0;36m<cell line: 2>\u001b[0;34m()\u001b[0m\n\u001b[1;32m      1\u001b[0m \u001b[38;5;66;03m# Esta instrucción nos devolverá un error\u001b[39;00m\n\u001b[0;32m----> 2\u001b[0m x2 \u001b[38;5;241m=\u001b[39m \u001b[43mnla\u001b[49m\u001b[38;5;241;43m.\u001b[39;49m\u001b[43msolve\u001b[49m\u001b[43m(\u001b[49m\u001b[43ma2\u001b[49m\u001b[43m,\u001b[49m\u001b[43m \u001b[49m\u001b[43mb2\u001b[49m\u001b[43m)\u001b[49m\n",
      "File \u001b[0;32m<__array_function__ internals>:5\u001b[0m, in \u001b[0;36msolve\u001b[0;34m(*args, **kwargs)\u001b[0m\n",
      "File \u001b[0;32m~/opt/anaconda3/lib/python3.9/site-packages/numpy/linalg/linalg.py:393\u001b[0m, in \u001b[0;36msolve\u001b[0;34m(a, b)\u001b[0m\n\u001b[1;32m    391\u001b[0m signature \u001b[38;5;241m=\u001b[39m \u001b[38;5;124m'\u001b[39m\u001b[38;5;124mDD->D\u001b[39m\u001b[38;5;124m'\u001b[39m \u001b[38;5;28;01mif\u001b[39;00m isComplexType(t) \u001b[38;5;28;01melse\u001b[39;00m \u001b[38;5;124m'\u001b[39m\u001b[38;5;124mdd->d\u001b[39m\u001b[38;5;124m'\u001b[39m\n\u001b[1;32m    392\u001b[0m extobj \u001b[38;5;241m=\u001b[39m get_linalg_error_extobj(_raise_linalgerror_singular)\n\u001b[0;32m--> 393\u001b[0m r \u001b[38;5;241m=\u001b[39m \u001b[43mgufunc\u001b[49m\u001b[43m(\u001b[49m\u001b[43ma\u001b[49m\u001b[43m,\u001b[49m\u001b[43m \u001b[49m\u001b[43mb\u001b[49m\u001b[43m,\u001b[49m\u001b[43m \u001b[49m\u001b[43msignature\u001b[49m\u001b[38;5;241;43m=\u001b[39;49m\u001b[43msignature\u001b[49m\u001b[43m,\u001b[49m\u001b[43m \u001b[49m\u001b[43mextobj\u001b[49m\u001b[38;5;241;43m=\u001b[39;49m\u001b[43mextobj\u001b[49m\u001b[43m)\u001b[49m\n\u001b[1;32m    395\u001b[0m \u001b[38;5;28;01mreturn\u001b[39;00m wrap(r\u001b[38;5;241m.\u001b[39mastype(result_t, copy\u001b[38;5;241m=\u001b[39m\u001b[38;5;28;01mFalse\u001b[39;00m))\n",
      "File \u001b[0;32m~/opt/anaconda3/lib/python3.9/site-packages/numpy/linalg/linalg.py:88\u001b[0m, in \u001b[0;36m_raise_linalgerror_singular\u001b[0;34m(err, flag)\u001b[0m\n\u001b[1;32m     87\u001b[0m \u001b[38;5;28;01mdef\u001b[39;00m \u001b[38;5;21m_raise_linalgerror_singular\u001b[39m(err, flag):\n\u001b[0;32m---> 88\u001b[0m     \u001b[38;5;28;01mraise\u001b[39;00m LinAlgError(\u001b[38;5;124m\"\u001b[39m\u001b[38;5;124mSingular matrix\u001b[39m\u001b[38;5;124m\"\u001b[39m)\n",
      "\u001b[0;31mLinAlgError\u001b[0m: Singular matrix"
     ]
    }
   ],
   "source": [
    "# Esta instrucción nos devolverá un error\n",
    "\n",
    "x2 = nla.solve(a2, b2)"
   ]
  },
  {
   "cell_type": "markdown",
   "id": "89187a5d",
   "metadata": {},
   "source": [
    "## Sistemas algebraicos grandes.\n",
    "\n",
    "Los sistemas algebraicos con un número muy grande de ecuaciones, implican una carga computacional elevada para resolverlo. Existen varios métodos especializados para resolver eficientemente esos grandes sistemas de ecuaciones.\n",
    "\n",
    "**¿Qué es un número grande?**\n",
    "\n",
    "La pregunta que nos planteamos es: ¿en qué momento se considera que ya tenemos un número grande para un sistema de ecuaciones?\n",
    "\n",
    "Vamos a considerar un **sistema de ecuaciones grande**, cuando el tamaño de la matriz sea mayor o igual a $50 \\times 50$."
   ]
  },
  {
   "cell_type": "markdown",
   "id": "60dd5083",
   "metadata": {},
   "source": [
    "# Para practicar.\n",
    "\n",
    "Utilizando las funciones que se revisaron en este Notebook:\n",
    "\n",
    "## Matrices singulares.\n",
    "\n",
    "Identifica cuáles de las siguientes matrices son singulares:"
   ]
  },
  {
   "cell_type": "markdown",
   "id": "753515d8",
   "metadata": {},
   "source": [
    "$$\n",
    "\\mathbf{A_{1}} =\n",
    "\\begin{pmatrix}\n",
    "1 & 2 & 3 \\\\\n",
    "2 & 3 & 4 \\\\\n",
    "3 & 4 & 5\n",
    "\\end{pmatrix}$$"
   ]
  },
  {
   "cell_type": "markdown",
   "id": "4399cc4e",
   "metadata": {},
   "source": [
    "$$\\mathbf{A_{2}} =\n",
    "\\begin{pmatrix}\n",
    "2.11 & -0.80 & 1.72 \\\\\n",
    "-1.84 & 3.03 & 1.29 \\\\\n",
    "-1.57 & 5.25 & 4.30\n",
    "\\end{pmatrix}$$"
   ]
  },
  {
   "cell_type": "markdown",
   "id": "c2aa9aa4",
   "metadata": {},
   "source": [
    "$$\\mathbf{A_{3}} =\n",
    "\\begin{pmatrix}\n",
    "2 & -1 & 0 \\\\\n",
    "-1 & 2 & -1 \\\\\n",
    "0 & -1 & 2\n",
    "\\end{pmatrix}$$"
   ]
  },
  {
   "cell_type": "markdown",
   "id": "b0fbe785",
   "metadata": {},
   "source": [
    "$$ \\mathbf{A_{4}} =\n",
    "\\begin{pmatrix}\n",
    "4 & 3 & -1 \\\\\n",
    "7 & -2 & 3 \\\\\n",
    "5 & -18 & 13\n",
    "\\end{pmatrix}$$"
   ]
  },
  {
   "cell_type": "markdown",
   "id": "11fd80be",
   "metadata": {},
   "source": [
    "## Elaborando una matriz.\n",
    "\n",
    "Considera una matriz $M$ de $4 \\times 3$:\n",
    "$$\n",
    "\\begin{align*}\n",
    "M = \n",
    "\\begin{bmatrix}\n",
    "1 & 2 & 3 \\\\\n",
    "4 & 5 & 6 \\\\\n",
    "7 & 8 & 9 \\\\\n",
    "10 & 11 & 12\n",
    "\\end{bmatrix}\n",
    "\\end{align*}\n",
    "$$\n",
    "\n",
    "Construye esta matriz usando la función <code>array</code>. Claramente tendrás que ingeniártelas para ello, no esperamos una solución trivial (escribirla a mano), deberás de usar una estrategia  con las funciones vistas en la presentación para obtenerla."
   ]
  },
  {
   "cell_type": "markdown",
   "id": "7c3ba74c",
   "metadata": {},
   "source": [
    "## Solución de sistemas de ecuaciones.\n",
    "\n",
    "Resuelve los siguientes sistemas de ecuaciones, debiendo revisar la respectiva propiedad de no singularidad y demostrar que la solución obtenida es consistente con $A \\, x =  b$."
   ]
  },
  {
   "cell_type": "markdown",
   "id": "451e7f06",
   "metadata": {},
   "source": [
    "$$\n",
    "\\begin{align*}\n",
    "2 \\, x_{1} + x_{2} - 3 \\, x_{3} &= -1 \\\\\n",
    "-x_{1} + 3 \\, x_{2} + 2 \\, x_{3} &= 12 \\\\\n",
    "3 \\, x_{1} + x_{2} - 3 \\, x_{3} &= 0\n",
    "\\end{align*}\n",
    "$$"
   ]
  },
  {
   "cell_type": "markdown",
   "id": "8fbc2d7f",
   "metadata": {},
   "source": [
    "$$\n",
    "\\begin{align*}\n",
    "0.1 \\, x_{1} - 0.6 \\, x_{2} + x_{3} &= 0 \\\\\n",
    "-2 \\, x_{1} + 8 \\, x_{2} + 0.3 \\, x_{3} &= 1 \\\\\n",
    "x_{1} + 6 \\, x_{2} + 4 \\, x_{3} &= 2\n",
    "\\end{align*}\n",
    "$$"
   ]
  },
  {
   "cell_type": "markdown",
   "id": "0c5bafe2",
   "metadata": {},
   "source": [
    "$$\n",
    "\\begin{align*}\n",
    "4 \\, x + y - z &= 9 \\\\\n",
    "3 \\, x + 2 \\, y - 6 \\, z &= -2 \\\\\n",
    "x - 5 \\, y + 3 \\, z &= 0\n",
    "\\end{align*}\n",
    "$$"
   ]
  },
  {
   "cell_type": "markdown",
   "id": "2f770947",
   "metadata": {},
   "source": [
    "## Operando matrices\n",
    "\n",
    "Calcula:\n",
    "1. $C \\equiv A + B$,\n",
    "2. $D \\equiv A - B$,\n",
    "3. $E \\equiv A \\, B$,\n",
    "\n",
    "donde:\n",
    "$$\n",
    "\\begin{align*}\n",
    "A = \\begin{bmatrix}\n",
    "1 & 2 & 3 \\\\\n",
    "0 & 1 & 4 \\\\\n",
    "3 & 0 & 2\n",
    "\\end{bmatrix}\n",
    "\\end{align*}\n",
    "$$\n",
    "\n",
    "$$\n",
    "\\begin{align*}\n",
    "B = \\begin{bmatrix}\n",
    "4 & 1 & 2 \\\\\n",
    "3 & 2 & 1 \\\\\n",
    "0 & 1 & 2\n",
    "\\end{bmatrix}\n",
    "\\end{align*}\n",
    "$$"
   ]
  },
  {
   "cell_type": "markdown",
   "id": "6062a30a",
   "metadata": {},
   "source": [
    "## Matriz de Hilbert.\n",
    "\n",
    "\n",
    "La matriz $A$ es la **matriz de Hilbert** de $5 \\times 5$ dada por:\n",
    "$$\n",
    "\\begin{align*}\n",
    "A = [a_{i, j}] \\quad \\text{donde} \\quad a_{i, j} = \\dfrac{1}{i + j -1}\n",
    "\\end{align*}\n",
    "$$\n",
    "Con un código genera la matriz de Hilbert y calcula:\n",
    "1. $A^{-1}$\n",
    "2. $A^{-1} \\, A$\n",
    "3. $(A^{-1})^{-1} \\, A^{-1}$"
   ]
  },
  {
   "cell_type": "code",
   "execution_count": null,
   "id": "88e58057",
   "metadata": {},
   "outputs": [],
   "source": []
  }
 ],
 "metadata": {
  "hide_input": false,
  "kernelspec": {
   "display_name": "Python 3 (ipykernel)",
   "language": "python",
   "name": "python3"
  },
  "language_info": {
   "codemirror_mode": {
    "name": "ipython",
    "version": 3
   },
   "file_extension": ".py",
   "mimetype": "text/x-python",
   "name": "python",
   "nbconvert_exporter": "python",
   "pygments_lexer": "ipython3",
   "version": "3.9.12"
  },
  "toc": {
   "base_numbering": 1,
   "nav_menu": {},
   "number_sections": true,
   "sideBar": true,
   "skip_h1_title": false,
   "title_cell": "Table of Contents",
   "title_sidebar": "Contents",
   "toc_cell": false,
   "toc_position": {},
   "toc_section_display": true,
   "toc_window_display": false
  }
 },
 "nbformat": 4,
 "nbformat_minor": 5
}
