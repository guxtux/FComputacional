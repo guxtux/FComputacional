{
 "cells": [
  {
   "cell_type": "markdown",
   "id": "5d8b7916",
   "metadata": {},
   "source": [
    "# Ejercicio . Sistema Lotka-Volterra.\n",
    "\n",
    "Las ecuaciones de Lotka-Volterra, también son conocidas como ecuaciones de depredador-presa. Está descrito por un sistema de 2 ecuaciones diferenciales no lineales de primer orden.\n",
    "\n",
    "Se utiliza frecuentemente para describir la dinámica de sistemas biológicos donde interaccionan dos especies: **depredadores** y **presas**.\n",
    "\n",
    "El sistema evoluciona de acuerdo al par de ecuaciones:\n",
    "\n",
    "$$\n",
    "\\begin{align*}\n",
    "\\dfrac{du}{dt} &= a \\: u - b \\: u \\: v \\\\\n",
    "\\dfrac{dv}{dt} &= -c \\: v + d \\: b\\: u\\: v\n",
    "\\end{align*}\n",
    "$$\n",
    "\n",
    "donde:  \n",
    "1. $u$ es el número de presas (ej. Conejos)\n",
    "2. $v$ es el número de depredadores (ej. Zorros)\n",
    "3. $a$ es la tasa natural de crecimiento de conejos, sin que haya zorros.\n",
    "4. $b$ es la tasa natural de la muerte de conejos, debido a la depredación.\n",
    "5. $c$ es la tasa natural de la muerte del zorro, cuando no hay conejos.\n",
    "6. $d$ es el factor que describe el número de conejos capturados."
   ]
  },
  {
   "cell_type": "markdown",
   "id": "bfa35af0",
   "metadata": {},
   "source": [
    "## Poblaciones iniciales de predadores y presas.\n",
    "\n",
    "Vamos a utilizar $X = [u, v]$ para describir el estado de las poblaciones."
   ]
  },
  {
   "cell_type": "code",
   "execution_count": null,
   "id": "2f6969c9",
   "metadata": {},
   "outputs": [],
   "source": [
    "import numpy as np\n",
    "\n",
    "def dXdt(X, t = 0):\n",
    "    return np.array([ a * X[0] - b * X[0] * X[1], -c * X[1] + d * b * X[0] * X[1]])\n",
    "\n",
    "a = 1.\n",
    "b = 0.1\n",
    "c = 1.5\n",
    "d = 0.75"
   ]
  },
  {
   "cell_type": "markdown",
   "id": "a919998e",
   "metadata": {},
   "source": [
    "# Población en equilibrio.\n",
    "\n",
    "Antes de usar <code>odeint</code> para integrar el sistema, veremos de cerca la posición de equilibrio.\n",
    "\n",
    "El equilibrio ocurre cuando la tasa de crecimiento es igual a $0$, lo que nos da dos puntos fijos:"
   ]
  },
  {
   "cell_type": "code",
   "execution_count": null,
   "id": "dc5a20ec",
   "metadata": {},
   "outputs": [],
   "source": [
    "Xf0 = np.array([0., 0.])\n",
    "Xf1 = np.array([ c/(d * b), a/b])\n",
    "all(dXdt(Xf0) == np.zeros(2) ) and all(dXdt(Xf1) == np.zeros(2))"
   ]
  },
  {
   "cell_type": "markdown",
   "id": "f946dad9",
   "metadata": {},
   "source": [
    "# Variable temporal y condiciones iniciales.\n",
    "\n",
    "Para usar la función <code>odeint</code>, hay que definir el parámetro de tiempo $t$, así como las condiciones inciales de la población: $10$ conejos y $5$ zorros, una vez hecho esto, ya podemos hacer uso de la función <code>odeint></code> con los parámetros indicados."
   ]
  },
  {
   "cell_type": "code",
   "execution_count": null,
   "id": "77d152c9",
   "metadata": {},
   "outputs": [],
   "source": [
    "from scipy.integrate import odeint\n",
    "\n",
    "t = np.linspace(0, 15,  1000)\n",
    "              \n",
    "X0 = np.array([10, 5])         \n",
    "            \n",
    "X = odeint(dXdt, X0, t)"
   ]
  },
  {
   "cell_type": "markdown",
   "id": "9d725989",
   "metadata": {},
   "source": [
    "# Graficando la solución.\n",
    "\n",
    "Una vez obtenido el código para la solución del problema, ahora nos corresponde graficar el conjunto de datos obtenido:"
   ]
  },
  {
   "cell_type": "code",
   "execution_count": null,
   "id": "21f42420",
   "metadata": {},
   "outputs": [],
   "source": [
    "%matplotlib inline\n",
    "\n",
    "import matplotlib.pyplot as plt\n",
    "\n",
    "conejos, zorros = X.T\n",
    "\n",
    "plt.plot(t, conejos, 'r-', label='Conejos')\n",
    "plt.plot(t, zorros  , 'b-', label='Zorros')\n",
    "plt.grid()\n",
    "plt.legend(loc='best')\n",
    "plt.xlabel('Tiempo')\n",
    "plt.ylabel('Población')\n",
    "plt.title('Evolución de la población de conejos y zorros')\n",
    "plt.show()"
   ]
  },
  {
   "cell_type": "markdown",
   "id": "8f1788b7",
   "metadata": {},
   "source": [
    "## Interpretando la gráfica.\n",
    "\n",
    "La gráfica anterior nos da la información sobre el número tanto de conejos como de zorros durante el intervalo de tiempo estudiado, es decir, tenemos una especie de **censo poblacional**."
   ]
  },
  {
   "cell_type": "markdown",
   "id": "fde14d61",
   "metadata": {},
   "source": [
    "# Dinámica de la población.\n",
    "\n",
    "Para ver la dinámica de las poblaciones propiamente, ahora representamos el *espacio fase del sistema*, por lo que tenemos que hacer algunos ajustes en el código que usamos anteriormente."
   ]
  },
  {
   "cell_type": "markdown",
   "id": "393975d5",
   "metadata": {},
   "source": [
    "## Condiciones de equilibrio.\n",
    "\n",
    "Consideremos las condiciones de equilibrio, es decir, donde la tasa de crecimiento es cero:\n",
    "\n",
    "**Nota: las siguientes celdas con código quedarán comentadas, con la finalidad de dar una explicación de lo que hace cada parte, al final se presenta de nuevo el código completo en una sola celda.**"
   ]
  },
  {
   "cell_type": "code",
   "execution_count": null,
   "id": "69fd2382",
   "metadata": {},
   "outputs": [],
   "source": [
    "# Xf0 = np.array([0. , 0.])\n",
    "# Xf1 = np.array([ c/(d * b), a/b])"
   ]
  },
  {
   "cell_type": "markdown",
   "id": "e9b94c5e",
   "metadata": {},
   "source": [
    "## Elementos adicionales para la gráfica.\n",
    "\n",
    "Dibujaremos el espacio fase con algunos elementos visuales con el fin de decoración nada más y obtener una gráfica más atractiva y legible.\n",
    "\n",
    "## El módulo *color map*.\n",
    "\n",
    "El módulo <code>cm</code> proporciona un conjunto de mapas de colores predeterminados, así como las funciones necesarias para crear nuevos mapas de color.\n",
    "\n",
    "Existen varios mapas ya definidos: <code>autumn, bone, cool, copper, flag, gray, hot, hsv, jet, pink, prism, spring, summer, winter, spectral</code>."
   ]
  },
  {
   "cell_type": "code",
   "execution_count": null,
   "id": "448c7e6b",
   "metadata": {},
   "outputs": [],
   "source": [
    "# values = np.linspace(0.3, 0.9, 5)                         \n",
    "\n",
    "# vcolors = plt.cm.autumn_r(np.linspace(0.3, 1., len(values)))"
   ]
  },
  {
   "cell_type": "markdown",
   "id": "4465c9ce",
   "metadata": {},
   "source": [
    "## Curvas de nivel.\n",
    "\n",
    "Se van a dibujar ahora las trayectorias para diferentes condiciones iniciales (número de conejos y zorros)\n",
    "\n",
    "La función <code>zip</code> sirve para reorganizar las listas en python.\n",
    "\n",
    "Como parámetros admite un conjunto de listas.  Lo que realmente hace es tomar el elemento i-ésimo elemento de cada lista y los une en una tupla, después une todas las tuplas en una lista.\n",
    "\n",
    "En cada gráfica se modificará el grosor de la línea y el color que se le asocia."
   ]
  },
  {
   "cell_type": "code",
   "execution_count": null,
   "id": "613ace29",
   "metadata": {},
   "outputs": [],
   "source": [
    "# for v, col in zip(values, vcolors):\n",
    "#    X0 = v * Xf1\n",
    "#    X = odeint(dXdt, X0, t)\n",
    "#   plt.plot( X[:,0], X[:,1], lw=3.5 * v, color=col, label='({0:1.1f} , {1:1.1f}'.format(X0[0], X0[1]))"
   ]
  },
  {
   "cell_type": "markdown",
   "id": "d8c536f5",
   "metadata": {},
   "source": [
    "## Definición de una malla.\n",
    "\n",
    "Se define una malla sobre nuestro espacio de solución.\n",
    "\n",
    "La función <code>meshgrid</code> genera un arreglo n-dimensional para evaluaciones vectoriales de campos n-dimensionales ya sea escalares o vectoriales, a partir de arreglos unidimensionales $x_{1}, x_{2}, \\ldots, x_{n}$."
   ]
  },
  {
   "cell_type": "code",
   "execution_count": null,
   "id": "1a081e65",
   "metadata": {},
   "outputs": [],
   "source": [
    "# ymax = plt.ylim(ymin = 0)[1]\n",
    "# xmax = plt.xlim(xmin = 0)[1]\n",
    "\n",
    "# nbpoints = 20\n",
    "\n",
    "# x = np.linspace(0, xmax, nbpoints)\n",
    "# y = np.linspace(0, ymax, nbpoints)\n",
    "\n",
    "# X1, Y1 = np.meshgrid(x, y)"
   ]
  },
  {
   "cell_type": "markdown",
   "id": "7014c649",
   "metadata": {},
   "source": [
    "## Calculando la magnitud del vector.\n",
    "\n",
    "Como vamos a incorporar un vector en el espacio fase para que nos indique la dirección y su magnitud, habrá que calcularlo.\n",
    "\n",
    "1. Con <code>X1</code> y <code>Y1</code> se crea una malla.\n",
    "2. Con <code>DX1</code> y <code>DY1</code> se calcula el crecimiento de las poblaciones en la malla.\n",
    "3. Con la variable <code>M</code> se calcula la norma de la tasa de crecimiento, usando la función <code>np.hypot</code>.\n",
    "4. La expresión <code>M[M == 0] = 1.</code> evita que tengamos una división entre cero.\n",
    "5. Con la operación <code>DX1/M</code> y <code>DY1/M</code> se normaliza cada vector."
   ]
  },
  {
   "cell_type": "code",
   "execution_count": null,
   "id": "0dd03cda",
   "metadata": {},
   "outputs": [],
   "source": [
    "# DX1, DY1 = dXdt([X1, Y1])                      \n",
    "\n",
    "# M = (np.hypot(DX1, DY1))\n",
    "\n",
    "# M[ M == 0] = 1.                                 \n",
    "\n",
    "# DX1 /= M                                        \n",
    "# DY1 /= M"
   ]
  },
  {
   "cell_type": "markdown",
   "id": "5a2a46e7",
   "metadata": {},
   "source": [
    "## Dibujando las direcciones del vector.\n",
    "\n",
    "Se dibujan las direcciones usando <code>quiver</code>, ya que genera el mapa vectorial; requiere de cinco argumentos:\n",
    "1. Las posiciones <code>X1, Y1</code> de inicio.\n",
    "2. El valor de las componentes del vector <code>DX1, DY1</code>\n",
    "3. El color asociado.\n",
    "\n",
    "El argumento <code>pivot</code> indica en qué parte de la malla se va a colocar el vector."
   ]
  },
  {
   "cell_type": "code",
   "execution_count": null,
   "id": "e1742e14",
   "metadata": {},
   "outputs": [],
   "source": [
    "# plt.title('Trayectorias y campo de direccion')\n",
    "\n",
    "# Q = plt.quiver(X1, Y1, DX1, DY1, M, pivot='mid', cmap=plt.cm.jet)\n",
    "\n",
    "# plt.xlabel('Población de conejos')\n",
    "# plt.ylabel('Población de zorros')\n",
    "# plt.legend()\n",
    "# plt.grid()\n",
    "# plt.xlim(0, xmax)\n",
    "# plt.ylim(0, ymax)\n",
    "# plt.show()"
   ]
  },
  {
   "cell_type": "markdown",
   "id": "96f16136",
   "metadata": {},
   "source": [
    "# Código completo.\n",
    "\n",
    "El siguiente código es el mismo que se explicó en las celdas anteriores, por lo que al ejecutarlo obtendremos el espacio fase del sistema Lotka-Volterra, con los elementos adicionales para una mejor interpretación del mismo."
   ]
  },
  {
   "cell_type": "code",
   "execution_count": null,
   "id": "3f8a5db8",
   "metadata": {},
   "outputs": [],
   "source": [
    "Xf0 = np.array([0. , 0.])\n",
    "Xf1 = np.array([ c/(d * b), a/b])\n",
    "\n",
    "values  = np.linspace(0.3, 0.9, 5)                         \n",
    "\n",
    "vcolors = plt.cm.autumn_r(np.linspace(0.3, 1., len(values)))  \n",
    "\n",
    "plot2 = plt.figure(2)\n",
    "\n",
    "for v, col in zip(values, vcolors):\n",
    "    X0 = v * Xf1\n",
    "    X = odeint(dXdt, X0, t)\n",
    "    \n",
    "    plt.plot(X[:,0], X[:,1], lw=3.5 * v, color=col, label='({0:1.1f} , {1:1.1f}'.format(X0[0], X0[1]))\n",
    "\n",
    "ymax = plt.ylim(ymin = 0)[1]\n",
    "xmax = plt.xlim(xmin = 0)[1]\n",
    "\n",
    "nbpoints = 20\n",
    "\n",
    "x = np.linspace(0, xmax, nbpoints)\n",
    "y = np.linspace(0, ymax, nbpoints)\n",
    "\n",
    "X1, Y1  = np.meshgrid(x, y)\n",
    "\n",
    "DX1, DY1 = dXdt([X1, Y1])                      \n",
    "\n",
    "M = (np.hypot(DX1, DY1))\n",
    "\n",
    "M[ M == 0] = 1.                                 \n",
    "\n",
    "DX1 /= M                                        \n",
    "DY1 /= M\n",
    "\n",
    "plt.title('Trayectorias y campo de dirección - Sistema Lotka-Volterra')\n",
    "\n",
    "Q = plt.quiver(X1, Y1, DX1, DY1, M, pivot='mid', cmap=plt.cm.jet)\n",
    "\n",
    "plt.xlabel('Población de conejos')\n",
    "plt.ylabel('Población de zorros')\n",
    "plt.legend()\n",
    "plt.grid()\n",
    "plt.xlim(0, xmax)\n",
    "plt.ylim(0, ymax)\n",
    "plt.show()"
   ]
  }
 ],
 "metadata": {
  "hide_input": false,
  "kernelspec": {
   "display_name": "Python 3 (ipykernel)",
   "language": "python",
   "name": "python3"
  },
  "language_info": {
   "codemirror_mode": {
    "name": "ipython",
    "version": 3
   },
   "file_extension": ".py",
   "mimetype": "text/x-python",
   "name": "python",
   "nbconvert_exporter": "python",
   "pygments_lexer": "ipython3",
   "version": "3.9.12"
  },
  "toc": {
   "base_numbering": 1,
   "nav_menu": {},
   "number_sections": true,
   "sideBar": true,
   "skip_h1_title": false,
   "title_cell": "Table of Contents",
   "title_sidebar": "Contents",
   "toc_cell": false,
   "toc_position": {},
   "toc_section_display": true,
   "toc_window_display": false
  }
 },
 "nbformat": 4,
 "nbformat_minor": 5
}
