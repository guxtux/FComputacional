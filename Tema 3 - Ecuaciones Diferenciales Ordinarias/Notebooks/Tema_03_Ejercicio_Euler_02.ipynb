{
 "cells": [
  {
   "cell_type": "markdown",
   "metadata": {},
   "source": [
    "# Ejercicio con el método de Euler.\n",
    "\n",
    "Un depósito cónico contiene agua hasta $0.5$ m de altura a partir del fondo. el depósito tiene un orificio en el fondo, de $0.02$ m de radio.\n",
    "\n",
    "El radio del depósito está dado por $r = 0.25 \\, y$, donde $r$ es el radio y $y$ la altura medida desde el fondo.\n",
    "\n",
    "La velocidad del agua que pasa por el orificio está dada por $v^{2} = 2 \\, g \\, y$.\n",
    "\n",
    "Por medio del método de Euler con $h=0.001$, calcula en cuántos minutos se tardará en vaciar el depósito."
   ]
  },
  {
   "cell_type": "code",
   "execution_count": 17,
   "metadata": {},
   "outputs": [
    {
     "name": "stdout",
     "output_type": "stream",
     "text": [
      "[0.5]\n"
     ]
    },
    {
     "data": {
      "image/png": "[encoded data removed]",
      "text/plain": [
       "<Figure size 432x288 with 1 Axes>"
      ]
     },
     "metadata": {
      "needs_background": "light"
     },
     "output_type": "display_data"
    }
   ],
   "source": [
    "%matplotlib inline\n",
    "\n",
    "from Codigos.metodosDirectos import euler\n",
    "import numpy as np\n",
    "import matplotlib.pyplot as plt\n",
    "\n",
    "def F(x, y):\n",
    "    f = np.zeros(2)\n",
    "    f[0] = y[1]\n",
    "    f[1] = x - r2/r1 * np.sqrt(2 * g * y[0])\n",
    "    \n",
    "    return f\n",
    "\n",
    "g = 9.81\n",
    "x = 0.5\n",
    "xAlto = 0.\n",
    "r1 = (0.25*x)**2\n",
    "r2 = (0.02)**2\n",
    "y = np.array([0., 0.5])\n",
    "h = 0.01\n",
    "\n",
    "X, Y = euler(F, x, y, xAlto, h)\n",
    "print(X)\n",
    "\n",
    "plt.plot(X, Y[:,0])\n",
    "#plt.title('Nivel del agua en el tubo - Método de Euler')\n",
    "#plt.xlabel('Tiempo [s]')\n",
    "#plt.ylabel('Desplazamiento [cm]')\n",
    "#plt.xlim([0, 10])\n",
    "#plt.axhline(y=0, ls='dashed', lw=0.7, color='k')\n",
    "plt.show()"
   ]
  },
  {
   "cell_type": "code",
   "execution_count": null,
   "metadata": {},
   "outputs": [],
   "source": []
  }
 ],
 "metadata": {
  "hide_input": false,
  "kernelspec": {
   "display_name": "Python 3",
   "language": "python",
   "name": "python3"
  },
  "language_info": {
   "codemirror_mode": {
    "name": "ipython",
    "version": 3
   },
   "file_extension": ".py",
   "mimetype": "text/x-python",
   "name": "python",
   "nbconvert_exporter": "python",
   "pygments_lexer": "ipython3",
   "version": "3.7.4"
  },
  "toc": {
   "base_numbering": 1,
   "nav_menu": {},
   "number_sections": true,
   "sideBar": true,
   "skip_h1_title": false,
   "title_cell": "Table of Contents",
   "title_sidebar": "Contents",
   "toc_cell": false,
   "toc_position": {},
   "toc_section_display": true,
   "toc_window_display": false
  }
 },
 "nbformat": 4,
 "nbformat_minor": 2
}
