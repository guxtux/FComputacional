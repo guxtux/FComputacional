{
 "cells": [
  {
   "attachments": {},
   "cell_type": "markdown",
   "metadata": {},
   "source": [
    "# Ejercicio con el método de Euler.\n",
    "\n",
    "Un tubo en forma de U y $0.05$ m de radio se llena con agua, pero con una división de forma que el nivel del agua en la parte vertical de la izquierda es $0.2$ cm más alto que el de la parte vertical derecha.\n",
    "\n",
    "En el instante $t=0$ se retira la división. El nivel del agua de la parte izquierda $y_{a} \\, A$, medido desde el plano intermedio entre las dos superficies, satisface la ecuación:\n",
    "$$\n",
    "\\begin{align*}\n",
    "L \\, y_{a}^{\\prime \\prime} = - 2 \\, g \\, y_{a}\n",
    "\\end{align*}\n",
    "$$\n",
    "donde $L$ es la longitud total del agua en el tubo, que mide $1$ m."
   ]
  },
  {
   "attachments": {
    "Ejercicio_Notebook_Euler_02.png": {
     "image/png": "[encoded data removed]"
    }
   },
   "cell_type": "markdown",
   "metadata": {},
   "source": [
    "![Ejercicio Tubo en U](attachment:Ejercicio_Notebook_Euler_02.png)"
   ]
  },
  {
   "cell_type": "markdown",
   "metadata": {},
   "source": [
    "## Caso sin fricción.\n",
    "\n",
    "Si se desprecia la fricción del tubo:\n",
    "1. Calcula el nivel del agua por medio del método de Euler en el intervalo $0 < t < 10$ segundos.\n",
    "2. Determina cuándo alcanza $y_{a}$ su máximo y su mínimo.\n",
    "\n",
    "Utiliza $h=0.001$."
   ]
  },
  {
   "cell_type": "markdown",
   "metadata": {},
   "source": [
    "**Solución:**\n",
    "\n",
    "Como primer paso debemos de escribir en la notación:\n",
    "$$\n",
    "\\begin{align*}\n",
    "\\mathbf{F} (x, \\mathbf{y}) = \\begin{bmatrix}\n",
    "y_{0}^{\\prime} \\\\\n",
    "y_{1}^{\\prime}\n",
    "\\end{bmatrix}\n",
    "\\hspace{1.5cm}\n",
    "\\mathbf{y} (0) = \\begin{bmatrix}\n",
    "y_{0} (0) \\\\\n",
    "y_{1} (0)\n",
    "\\end{bmatrix}\n",
    "\\end{align*}\n",
    "$$\n",
    "Por lo tanto, se tiene que:\n",
    "$$\n",
    "\\begin{align*}\n",
    "\\begin{bmatrix}\n",
    "y_{0}^{\\prime} \\\\\n",
    "y_{1}^{\\prime}\n",
    "\\end{bmatrix}\n",
    "=\n",
    "\\begin{bmatrix}\n",
    "y_{1} \\\\\n",
    "-2 \\, g \\, y_{0}\n",
    "\\end{bmatrix}\n",
    "\\hspace{1.5cm}\n",
    "\\begin{bmatrix}\n",
    "y_{0} (0) \\\\\n",
    "y_{1} (0)\n",
    "\\end{bmatrix}\n",
    "=\n",
    "\\begin{bmatrix}\n",
    "2 \\\\\n",
    "0\n",
    "\\end{bmatrix}\n",
    "\\end{align*}\n",
    "$$\n",
    "\n",
    "Por lo que ya podemos pasar a la codificación."
   ]
  },
  {
   "cell_type": "code",
   "execution_count": null,
   "metadata": {},
   "outputs": [],
   "source": [
    "%matplotlib inline\n",
    "\n",
    "from Codigos.metodosDirectos import euler\n",
    "import numpy as np\n",
    "import matplotlib.pyplot as plt\n",
    "\n",
    "def F(x, y):\n",
    "    f = np.zeros(2)\n",
    "    f[0] = y[1]\n",
    "    f[1] = - 2 * g * y[0]\n",
    "    \n",
    "    return f\n",
    "\n",
    "g = 9.81\n",
    "x = 0.0\n",
    "xAlto = 10.\n",
    "y = np.array([2., 0.])\n",
    "h = 0.001\n",
    "\n",
    "X, Y = euler(F, x, y, xAlto, h)\n",
    "\n",
    "plt.plot(X, Y[:,0])\n",
    "plt.title('Nivel del agua en el tubo - Método de Euler')\n",
    "plt.xlabel('Tiempo [s]')\n",
    "plt.ylabel('Desplazamiento [cm]')\n",
    "plt.xlim([0, 10])\n",
    "plt.axhline(y=0, ls='dashed', lw=0.7, color='k')\n",
    "plt.show()"
   ]
  },
  {
   "cell_type": "markdown",
   "metadata": {},
   "source": [
    "## Caso con fricción.\n",
    "\n",
    "Repite el problema anterior, pero ahora suponiendo que hay fricción en el tubo de forma que la ecuación de movimiento es:\n",
    "$$\n",
    "\\begin{align*}\n",
    "L \\, y_{a}^{\\prime \\prime} = - 2 \\, g \\, y_{a} - \\beta \\, y_{a}{\\prime}\n",
    "\\end{align*}\n",
    "$$\n",
    "donde $\\beta = 0.8$ m/s. Usa nuevamente $h = 0.001$."
   ]
  },
  {
   "cell_type": "markdown",
   "metadata": {},
   "source": [
    "**Solución:**\n",
    "\n",
    "Para considerar el término con fricción, reescribimos el problema de la siguiente manera:\n",
    "$$\n",
    "\\begin{align*}\n",
    "\\begin{bmatrix}\n",
    "y_{0}^{\\prime} \\\\\n",
    "y_{1}^{\\prime}\n",
    "\\end{bmatrix}\n",
    "=\n",
    "\\begin{bmatrix}\n",
    "y_{1} \\\\\n",
    "-2 \\, g \\, y_{0} - \\beta \\, y_{1}\n",
    "\\end{bmatrix}\n",
    "\\hspace{1.5cm}\n",
    "\\begin{bmatrix}\n",
    "y_{0} (0) \\\\\n",
    "y_{1} (0)\n",
    "\\end{bmatrix}\n",
    "=\n",
    "\\begin{bmatrix}\n",
    "2 \\\\\n",
    "0\n",
    "\\end{bmatrix}\n",
    "\\end{align*}\n",
    "$$"
   ]
  },
  {
   "cell_type": "code",
   "execution_count": null,
   "metadata": {},
   "outputs": [],
   "source": [
    "def F(x, y):\n",
    "    f = np.zeros(2)\n",
    "    f[0] = y[1]\n",
    "    f[1] = - 2 * g * y[0] - beta * y[1]\n",
    "    \n",
    "    return f\n",
    "\n",
    "beta = 0.8\n",
    "\n",
    "X, Y = euler(F, x, y, xAlto, h)\n",
    "\n",
    "plt.plot(X, Y[:,0])\n",
    "plt.title('Nivel del agua en el tubo con fricción - Método de Euler')\n",
    "plt.xlabel('Tiempo [s]')\n",
    "plt.ylabel('Desplazamiento [cm]')\n",
    "plt.xlim([0, 10])\n",
    "plt.axhline(y=0, ls='dashed', lw=0.7, color='k')\n",
    "plt.show()"
   ]
  }
 ],
 "metadata": {
  "hide_input": false,
  "kernelspec": {
   "display_name": "Python 3 (ipykernel)",
   "language": "python",
   "name": "python3"
  },
  "language_info": {
   "codemirror_mode": {
    "name": "ipython",
    "version": 3
   },
   "file_extension": ".py",
   "mimetype": "text/x-python",
   "name": "python",
   "nbconvert_exporter": "python",
   "pygments_lexer": "ipython3",
   "version": "3.9.12"
  },
  "toc": {
   "base_numbering": 1,
   "nav_menu": {},
   "number_sections": true,
   "sideBar": true,
   "skip_h1_title": false,
   "title_cell": "Table of Contents",
   "title_sidebar": "Contents",
   "toc_cell": false,
   "toc_position": {},
   "toc_section_display": true,
   "toc_window_display": false
  }
 },
 "nbformat": 4,
 "nbformat_minor": 2
}
