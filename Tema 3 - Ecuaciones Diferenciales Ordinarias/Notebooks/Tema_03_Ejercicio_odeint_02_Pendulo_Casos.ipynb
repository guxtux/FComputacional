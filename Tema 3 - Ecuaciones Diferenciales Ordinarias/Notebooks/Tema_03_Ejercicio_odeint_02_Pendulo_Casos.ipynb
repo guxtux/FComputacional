{
 "cells": [
  {
   "cell_type": "markdown",
   "id": "24523fbd",
   "metadata": {},
   "source": [
    "# Ejercicio 2 - Osciladores.\n",
    "\n",
    "La ecuación de movimiento para el oscilador amortiguado es:\n",
    "$$\n",
    "\\begin{align*}\n",
    "x_{tt} + 2 \\: \\zeta \\:  \\omega_{0} \\, x_{t} + \\omega_{0}^{2} \\: x = 0\n",
    "\\end{align*}\n",
    "$$\n",
    "donde $x$ es la posición del oscilador, $\\omega_{0}$ la frecuencia, y $\\zeta$ es el factor de amortiguamiento.\n",
    "\n",
    "## {Re-escribiendo la EDO\n",
    "\n",
    "Para escribir esta **EDO2** en la forma estándar, introducimos $p = dx/dt$:\n",
    "$$\n",
    "\\begin{align*}\n",
    "\\dfrac{d p}{d t} &= - 2 \\: \\zeta \\: \\omega_{0} \\: p - \\omega^{2} \\: x \\\\\n",
    "\\dfrac{d x}{d t} &= p\n",
    "\\end{align*}\n",
    "$$\n",
    "\n",
    "## Usando argumentos en la función odeint.\n",
    "\n",
    "Veremos con este ejemplo, la versatilidad de pasar argumentos extras a la función, que representan diferentes valores del factor de amortiguamiento. De tal manera que en una sola ejecución del código, podemos realizar el pase de valores, de otra manera, tendríamos que realizar una ejecución del código y modificar a mano el valor del factor de amortiguamiento.\n",
    "\n",
    "Como consecuencia de los argumentos extra, necesitamos pasar un parámetro clave <code>args</code> a la función <code>odeint</code>.\n",
    "\n",
    "$$\n",
    "\\begin{align*}\n",
    "\\zeta = 0.0, 0.2, 1.0, 5.0\n",
    "\\end{align*}\n",
    "$$"
   ]
  },
  {
   "cell_type": "code",
   "execution_count": null,
   "id": "7f6df153",
   "metadata": {},
   "outputs": [],
   "source": [
    "%matplotlib inline\n",
    "\n",
    "from scipy.integrate import odeint\n",
    "from numpy import zeros, array, linspace, pi\n",
    "import matplotlib.pyplot as plt\n",
    "\n",
    "def F(y, t, zeta, w0):\n",
    "    F = zeros((2), dtype='float64')\n",
    "    F[0] = y[1]\n",
    "    F[1] = -2 * zeta * w0 * y[1] - w0**2 * y[0]\n",
    "    return F    \n",
    "\n",
    "y0 =array([1.0, 0.0])\n",
    "\n",
    "t = linspace(0, 10, 1000)\n",
    "w0 = 2 * pi * 1.0\n",
    "\n",
    "y1 = odeint(F, y0, t, args=(0.0, w0))\n",
    "y2 = odeint(F, y0, t, args=(0.2, w0))\n",
    "y3 = odeint(F, y0, t, args=(1.0, w0))\n",
    "y4 = odeint(F, y0, t, args=(5.0, w0))\n",
    "\n",
    "# Aquí va la rutina de graficación"
   ]
  },
  {
   "cell_type": "markdown",
   "id": "c877170c",
   "metadata": {},
   "source": []
  }
 ],
 "metadata": {
  "hide_input": false,
  "kernelspec": {
   "display_name": "Python 3 (ipykernel)",
   "language": "python",
   "name": "python3"
  },
  "language_info": {
   "codemirror_mode": {
    "name": "ipython",
    "version": 3
   },
   "file_extension": ".py",
   "mimetype": "text/x-python",
   "name": "python",
   "nbconvert_exporter": "python",
   "pygments_lexer": "ipython3",
   "version": "3.9.12"
  },
  "toc": {
   "base_numbering": 1,
   "nav_menu": {},
   "number_sections": true,
   "sideBar": true,
   "skip_h1_title": false,
   "title_cell": "Table of Contents",
   "title_sidebar": "Contents",
   "toc_cell": false,
   "toc_position": {},
   "toc_section_display": true,
   "toc_window_display": false
  }
 },
 "nbformat": 4,
 "nbformat_minor": 5
}
