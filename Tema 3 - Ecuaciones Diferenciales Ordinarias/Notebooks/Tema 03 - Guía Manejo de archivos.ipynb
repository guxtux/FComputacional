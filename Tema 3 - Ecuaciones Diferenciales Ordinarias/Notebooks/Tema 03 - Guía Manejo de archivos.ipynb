{
 "cells": [
  {
   "cell_type": "markdown",
   "metadata": {},
   "source": [
    "\n",
    "# Los archivos de datos con python.\n",
    "\n",
    "Una tarea muy común y frecuente en el ámbito de la Física Computacional, será el manejo de archivos de datos para su proceso y análisis.\n",
    "\n",
    "Como una primera tarea que hay que atender en el desarrollo de prácticas de programación bajo cualquier lenguaje, es la generación de un archivo de datos con una serie de características necesarias:\n",
    "\n",
    "1. Una estructura de construcción, que permita la posterior lectura del archivo.\n",
    "2. La codificación de los caracteres que conforman los datos, este punto es crítico si además de números, se incluyen o manejan cadenas de texto (el manejo de acentos y ciertos caracteres es crítico, si no se considera este elemento)."
   ]
  },
  {
   "cell_type": "markdown",
   "metadata": {},
   "source": [
    "## Estructura del archivo.\n",
    "\n",
    "Debemos de elegir anticipadamente el tipo de archivo que vamos a generar, ya que de esta forma, al momento de definir el código, se implementará la estructura del archivo.\n",
    "\n",
    "Quien reciba el archivo para su procesamiento, análisis, etc. debe de conocer el tipo de estructura que lleva. En el posible caso de que no avisemos esta información, el usuario del archivo, deberá de hacer una revisión preliminar del archivo para identificar la estrucutura. En el caso de que nosotros seamos los usuarios de un archivo de datos y no tengamos la informción, será nuestra tarea entonces, hacer la revisión de la estructura interna del archivo.\n",
    "\n",
    "Existen diversos formatos para los archivos de texto, a continuación se describen cuatro de los más conocidos:\n",
    "\n",
    "| Tipo de archivo |  Descripción                                                                                                                                                                      |\n",
    "|:-----------------:|:----------------------------------------------------------------------------------------------------------------------------------------------------------------------------------|\n",
    "| txt             | Texto plano que representa sólo caracteres (o cadenas), excluye cualquier tipo de metadatos.                                                                                     |\n",
    "| csv             | Valores separados por coma (Comma-separated values), utiliza comas (u otro delimitador) para estructurar los datos almacenados, permitiendo guardarlos en un formato tipo tabla. |\n",
    "| HTML            | Lenguaje de marcado de hipertexto (HyperText Markup Language) almacena los datos de manera estrucutrada, se utiliza comúnmente en páginas web.                                   |\n",
    "| JSON            | Notación de objeto de JavaScript (JavaScript Object Notation) es un formato sencillo y eficiente, siendo un formato para almacenar y transferir datos.                           |"
   ]
  },
  {
   "cell_type": "markdown",
   "metadata": {},
   "source": [
    "## Archivo auxiliar README.\n",
    "\n",
    "Al momento en que compartan el archivo, se recomienda elaborar un archivo **README**, que contiene información acerca de otros archivos ya sea en un directorio o un archivo comprimido.\n",
    "\n",
    "Es una forma de documentación de software, consiste en un archivo de texto plano llamado **READ.ME**, **README.TXT**}, **README.md** (para un archivo markdown), **README.1ST** o simplemente **README**.\n",
    "\n",
    "El nombre del archivo es generalmente escrito en mayúsculas. En los sistemas Unix-like, generalmente los nombres se escriben en minúscula, y esto hace que en un listado de archivos salga primero el archivo **README**."
   ]
  },
  {
   "cell_type": "markdown",
   "metadata": {},
   "source": [
    "## Creando un archivo de datos.\n",
    "\n",
    "Con python será una tarea muy frecuente el generar un archivo de datos y compartirlo con otros usuarios.\n",
    "\n",
    "Las instrucciones para crear el archivo son sencillas de implemantar en el código, toma en cuenta lo siguiente:\n",
    "\n",
    "1. El archivo de datos se va a crear en la misma carpeta en donde se está ejecutando el archivo de python con extensión **.py**.\n",
    "2. Un archivo de datos requiere de una **''apertura''** de un espacio en memoria, para que con una instrucción, se **escriban** los datos en el archivo.\n",
    "3. Una vez que se completa la tarea de escribir los datos, hay que cerrar el espacio de memoria."
   ]
  },
  {
   "cell_type": "markdown",
   "metadata": {},
   "source": [
    "# Ejercicio para guardar un archivo de datos.\n",
    "\n",
    "El siguiente ejercicio nos mostrará la manera en la que debemos de preparar el código en pyhton para crear y guardar un archivo de datos.\n",
    "\n",
    "Usaremos la función de **numpy** para evaluar un conjunto de puntos de un polinomio, para luego enviarlos a un archivo de datos **ejemplo_datos.dat**."
   ]
  },
  {
   "cell_type": "code",
   "execution_count": null,
   "metadata": {},
   "outputs": [],
   "source": [
    "import numpy as np\n",
    "\n",
    "coeficientes1 = [1, 2, 3]\n",
    "coeficientes2 = [1, 2, -3]\n",
    "\n",
    "x = np.linspace(-10, 10)\n",
    "y1 = np.polynomial.polynomial.polyval(x, coeficientes1)\n",
    "y2 = np.polynomial.polynomial.polyval(x, coeficientes2)\n",
    "\n",
    "valores = open('datos_ejercicio.dat','w')\n",
    "print('\\n Se ha abierto el archivo de datos para escribir.')\n",
    "\n",
    "valores.write('{0:} \\t {1:} \\t {2:}\\n'.format('x', 'y1', 'y2'))\n",
    "\n",
    "for i in range(len(x)):\n",
    "    valores.write('{0:2.2f} \\t {1:1.3f} \\t {2:1.3f}\\n'.format(x[i], y1[i], y2[i]))\n",
    "    \n",
    "valores.close()\n",
    "print('\\nSe ha cerrado el archivo de datos.')"
   ]
  },
  {
   "cell_type": "markdown",
   "metadata": {},
   "source": [
    "## Revisando el código.\n",
    "\n",
    "En la línea <code>valores = open('datos_ejercicio.dat','w')</code>, se indica la función <font color=\"blue\">open</font>, que se requiere para **''abrir''** en memoria el espacio para el archivo, recibe los siguientes argumentos:\n",
    "\n",
    "1. El primer argumento es el nombre del archivo y su extensión: *datos_ejercicio.dat*, nótese que la extensión que hemos dejado, es **.dat**, se puede utilizar libremente el tipo de extensión **.txt**, **.inf**, **.text**, **.data**, etc. Lo relevante de la extensión es que el sistema operativo con el que trabajen, pueda distinguir que se trata de un archivo de datos en texto plano.\n",
    "2. El segundo argumento, se indica con la letra **'w'**, esto avisa a python que se va a realizar la instrucción **write**, lo que permitirá escribir información en el archivo.\n",
    "Como punto importante hay que señalar, que en caso de que el archivo <code>datos_ejercicio.dat</code> no exista, python creará un archivo nuevo, en caso de que ya exista, lo va a **sobreescribir**.\n",
    "\n",
    "Existen otras opciones para los archivos, hay que ser cuidadoso al momento de indicar en la línea de creación del archivo la que vayamos a utilizar:\n",
    "\n",
    "| Argumento | Descripción                                                                                                                  |\n",
    "|:-----------:|:------------------------------------------------------------------------------------------------------------------------------|\n",
    "| 'r'       | El archivo se abrirá solo para lectura.                                                                                      |\n",
    "| 'w'       | El archivo se abrirá solo para escritura. Si el archivo no existe, se creará uno nuevo, si ya existe, lo va a sobreescribir. |\n",
    "| 'a'       | Los datos que se envíen al archivo se agregarán a los que ya existen en ese archivo.                                         |\n",
    "| 'r+'      | El archivo estará abierto tanto para lectura como para escritura.                                                            |\n",
    "\n",
    "3. En la línea con\n",
    "<code>valores.write('{0:} \\t {1:} \\t {2:}\\n'.format('x', 'y1', 'y2'))</code>\n",
    "Escribimos el encabezado de cada columna.\n",
    "\n",
    "4. En el bucle\n",
    "\n",
    "<code>for i in range(len(x)):\n",
    "    valores.write('{0:2.2f} \\t {1:1.3f} \\t {2:1.3f}\\n'.format(x[i], y1[i], y2[i]))\n",
    "</code>\n",
    "\n",
    "se guardan tres variables en el archivo de datos que están separadas con un tabulador. Es importante destacar que se incluye un salto de línea al final de la cadena <code>\\n</code>, para separar por renglones.\n",
    "\n",
    "5. La instrucción <code>valores.close()</code> avisa a python que libere el espacio en memoria para el objeto de archivo.\n",
    "\n",
    "6. El archivo de datos se encuentra en la misma ruta del archivo que ejecuta el código.\n",
    "\n",
    "En el siguiente bloque de código veremos la manera en la que ahora se ''leerán'' los datos del archivo para ocuparlos en una gráfica."
   ]
  },
  {
   "cell_type": "markdown",
   "metadata": {},
   "source": [
    "# Leyendo los datos de un archivo.\n",
    "\n",
    "En la siguiente parte ocuparemos el archivo de datos que se ha creado, recuerda que éste debe de ubicarse en la misma ruta que el archivo que se ejecuta.\n",
    "\n",
    "En este caso tendremos un archivo con datos numéricos, la manera de manejar un archivo con datos de tipo cadena (o una combinación de números y cadena) se revisará en el ejemplo que continúa."
   ]
  },
  {
   "cell_type": "code",
   "execution_count": null,
   "metadata": {},
   "outputs": [],
   "source": [
    "x_archivo = []\n",
    "y1_archivo = []\n",
    "y2_archivo = []\n",
    "\n",
    "datos = np.loadtxt('datos_ejercicio.dat', delimiter='\\t', skiprows=1)\n",
    "\n",
    "for i in range(len(datos[:,0])):\n",
    "    x_archivo.append(datos[:,0][i])\n",
    "    y1_archivo.append(datos[:,1][i])\n",
    "    y2_archivo.append(datos[:,2][i])"
   ]
  },
  {
   "cell_type": "markdown",
   "metadata": {},
   "source": [
    "## Revisando el código de lectura de datos.\n",
    "\n",
    "En el código de la celda anterior se crean tres objetos de lista para incluir en cada uno de ellos, los valores por columna del archivo de datos, a modo de tener $x$, $y1$, e $y2$.\n",
    "\n",
    "La instrucción:\n",
    "<code>datos = np.loadtxt('datos_ejercicio.dat', delimiter='\\t', skiprows=1)</code>\n",
    "\n",
    "Lo que nos devuelva la función se lo asignamos a la variable **datos**.\n",
    "\n",
    "La función <code>np.loadtxt</code> ocupa los siguientes datos:\n",
    "1. El nombre del archivo de datos y su extensión. En caso de que el archivo no se encuentre o no exista en la ruta, tendremos un error de tipo *Archivo no encontrado*.\n",
    "2. El parámetro <code>delimiter='\\t'</code>, que en este caso, indica que la separación entre los valores del archivo es mediante un tabulador; al momento de guardar los datos en un archivo, podemos usar un separador de tipo: coma, punto y coma, espacio en blanco y el tabulador, por lo que al momento de leer los datos de un archivo es necesario señalar ese tipo de separador, ésta una razón importante de incluir un archivo <code>READMDE</code> para que en caso de que nos proporcionen esos datos, tengamos la información necesaria y no tengamos que abrir el archivo y revisar lo que contiene y cómo lo contiene.\n",
    "3. El parámetro <code>skiprows=1</code> nos indica que no va a incluir en la variables *datos* el contenido del primer renglón, que es donde tenemos una cadena de texto. La función <code>np.loadtxt</code> es muy útil cuando tenemos datos de tipo numérico.\n",
    "\n",
    "En el ciclo <code>for i in range(len(x_archivo))</code>, se genera una secuencia de enteros tomando como valor de referencia, el número de elementos de <code>datos[;,0]</code>. \n",
    "\n",
    "Recordemos que con los objetos <code>np.array</code> tenemos una lista de listas, entonces nos fijamos en la columna de todas las listas contenidas pero que tienen índice <code>[0]</code>.\n",
    "\n",
    "De esta manera en cada una de las lista <code>_archivo></code> (para diferenciarlas de las otras listas que están al inicio del ejercicio) se van agregando los correspondientes valores, una vez terminado el ciclo <code>for</code>, ya tenemos tres listas que podremos ocupar para graficar con una rutina."
   ]
  },
  {
   "cell_type": "code",
   "execution_count": null,
   "metadata": {},
   "outputs": [],
   "source": [
    "%matplotlib inline\n",
    "\n",
    "import matplotlib.pyplot as plt\n",
    "\n",
    "plt.plot(x_archivo, y1_archivo)\n",
    "plt.plot(x_archivo, y2_archivo, 'r')\n",
    "plt.title('Gráfica de los puntos del archivo de datos')\n",
    "plt.show()\n"
   ]
  },
  {
   "attachments": {
    "Tema_03_Guia_Manejo_Archivos.png": {
     "image/png": "[encoded data removed]"
    }
   },
   "cell_type": "markdown",
   "metadata": {},
   "source": [
    "# Resultado gráfico.\n",
    "\n",
    "Una vez que hemos manipulado los datos del archivo, se tiene una gráfica que podemos ''decorar'' para dejarla más atractiva a la vista.\n",
    "\n",
    "![Gráfica obtenida](attachment:Tema_03_Guia_Manejo_Archivos.png)"
   ]
  },
  {
   "cell_type": "markdown",
   "metadata": {},
   "source": [
    "# Lectura de datos tipo cadena.\n",
    "\n",
    "La lectura de datos de un archivo se puede hacer de distintas maneras con python, siendo siempre necesario crear un objeto iterable con la función <code>open</code>, en el ejercicio usaremos un archivo de texto <code>El_Zen_de_Python.txt</code> que está en la misma carpeta del Notebook."
   ]
  },
  {
   "cell_type": "code",
   "execution_count": null,
   "metadata": {},
   "outputs": [],
   "source": [
    "with open('El_Zen_de_Python.txt') as f:\n",
    "    contenido = f.read()\n",
    "    print(contenido)"
   ]
  },
  {
   "cell_type": "markdown",
   "metadata": {},
   "source": [
    "Se definió en el código anterior un objeto <code>f></code> para luego utilizar la función <code>read(tamaño)</code>, si no se especifica el *tamaño* a leer, se regresa todo el contenido del archivo en una sola cadena."
   ]
  },
  {
   "cell_type": "markdown",
   "metadata": {},
   "source": [
    "## Otras funciones de lectura.\n",
    "\n",
    "Python cuenta con otras funciones de lectura:\n",
    "\n",
    "1. <code>read()</code>: esta función lee **todo** el archivo y devuelve una cadena.\n",
    "2. <code>readlines()</code> : esta función devuelve una lista donde cada elemento es una sola línea de ese archivo.\n",
    "3. <code>readline()</code> : esta función lee líneas de ese archivo y las devuelve como una cadena."
   ]
  },
  {
   "cell_type": "code",
   "execution_count": null,
   "metadata": {},
   "outputs": [],
   "source": [
    "with open('El_Zen_de_Python.txt') as f:\n",
    "    [print(line) for line in f.readlines()]"
   ]
  },
  {
   "cell_type": "markdown",
   "metadata": {},
   "source": [
    "En el ejemplo anterior, hay un salto de línea ya que en el archivo hay un carácter de escape <code>\\n</code>.\n",
    "\n",
    "Para remover ese carácter de escape, se utiliza la función <code>strip</code>, como se revisa en la siguiente celda."
   ]
  },
  {
   "cell_type": "code",
   "execution_count": null,
   "metadata": {},
   "outputs": [],
   "source": [
    "with open('El_Zen_de_Python.txt') as f:\n",
    "    [print(linea.strip()) for linea in f.readlines()]"
   ]
  },
  {
   "cell_type": "code",
   "execution_count": null,
   "metadata": {},
   "outputs": [],
   "source": [
    "with open('El_Zen_de_Python.txt') as f:\n",
    "    while True:\n",
    "        linea = f.readline()\n",
    "        if not linea:\n",
    "            break\n",
    "        print(linea.strip())"
   ]
  },
  {
   "cell_type": "markdown",
   "metadata": {},
   "source": [
    "En los ejemplos anteriores en donde se ha utilizado la sentencia <code>with</code>, se nota que no hemos ocupado la función <code>f.close()</code> ya que precisamente con este modo, el archivo se cierra sin necesidad de indicarlo en el código, pero se aconseja utilizarlo conforme nos iniciamos en el manejo de archivos de datos."
   ]
  },
  {
   "cell_type": "markdown",
   "metadata": {},
   "source": [
    "# Manejando datos que combinan cadenas y números.\n",
    "\n",
    "En el siguiente ejemplo haremos uso de un archivo de tipo <code>.csv</code> que incluye cadenas y números. **Nota:** Este archivo no es propiamente una base de datos, es un concentrado de información que podemos utilizar para explorar.\n",
    "\n",
    "Una base de datos propiamente requiere de un **gestor de bases de datos** como SQL, SQL Server, mySQL, Heidi, etc. que con python se complementan adecuadamente y se potencia el uso de este lenguaje."
   ]
  },
  {
   "cell_type": "markdown",
   "metadata": {},
   "source": [
    "## El uso de Pandas.\n",
    "\n",
    "<code>pandas</code> es un paquete de python que nos proporciona estructuras de datos rápidas, flexibles y expresivas diseñadas para que trabajar con datos ''relacionales'' o ''etiquetados'' sea fácil e intuitivo.\n",
    "\n",
    "Su **objetivo** es ser el bloque de construcción fundamental de alto nivel para realizar análisis prácticos con python de datos del mundo real. Además, tiene **el objetivo más amplio** de convertirse en la herramienta de manipulación/análisis de datos de fuente abierta más poderosa y flexible disponible en cualquier idioma.\n",
    "\n",
    "<code>pandas</code> es adecuado para muchos tipos diferentes de datos:\n",
    "\n",
    "1. Datos tabulares con columnas de tipos heterogéneos, como en una tabla SQL o una hoja de cálculo de Excel.\n",
    "2. Datos de series de tiempo ordenados y desordenados (no necesariamente de frecuencia fija).\n",
    "3. Datos de matriz arbitraria (tipo homogéneo o heterogéneo) con etiquetas de fila y columna.\n",
    "4, Cualquier otra forma de conjuntos de datos de observación/estadísticos. No es necesario etiquetar los datos para colocarlos en una estructura de datos de <code>pandas</code>."
   ]
  },
  {
   "cell_type": "markdown",
   "metadata": {},
   "source": [
    "## Estructuras de datos de <code>pandas</code>.\n",
    "\n",
    "1. Series (unidimensional)\n",
    "2. DataFrame (bidimensional)\n",
    "\n",
    "Ambas manejan la gran mayoría de los casos de uso típicos en finanzas, estadísticas, ciencias sociales y muchas áreas de la ciencia e ingeniería. \n",
    "\n",
    "<code>pandas</code> se basa en <code>numpy</code> y está diseñado para integrarse bien en un entorno informático científico con muchas otras bibliotecas de terceros.\n",
    "\n",
    "| Dimensiones | Nombre    | Descripción                                                                                                     |\n",
    "|:-------------:|:-----------:|:-----------------------------------------------------------------------------------------------------------------|\n",
    "| 1           | Series    | Matriz de tipado homogéneo etiquetada en 1D                                                                     |\n",
    "| 2           | DataFrame | Estructura tabular de tamaño mutable etiquetada en 2D general con columna tipificada potencialmente heterogénea |"
   ]
  },
  {
   "cell_type": "markdown",
   "metadata": {},
   "source": [
    "## Algunas funciones de <code>pandas</code>.\n",
    "\n",
    "En el siguiente ejemplo haremos uso del archivo <code>Base_Datos_ejemplo.csv</code> para manejarlo y comprender su contenido, posteriormente usaremos las herramientas de <code>pandas</code> para generar nueva información."
   ]
  },
  {
   "cell_type": "code",
   "execution_count": null,
   "metadata": {},
   "outputs": [],
   "source": [
    "import pandas as pd\n",
    "\n",
    "datos = pd.read_csv(\"Base_Datos_Ejemplo.csv\")"
   ]
  },
  {
   "cell_type": "code",
   "execution_count": null,
   "metadata": {},
   "outputs": [],
   "source": [
    "datos"
   ]
  },
  {
   "cell_type": "markdown",
   "metadata": {},
   "source": [
    "Vemos que no fue necesario hacer más para que se nos muestre un encabezado para las columnas, y que se redistribuyan, todo eso lo maneja <code>pandas</code> de manera automática.\n",
    "\n",
    "Si el archivo es muy grande, es decir, tiene un número extendido de contenido, podemos mostrar solo las primeros **n** renglones:"
   ]
  },
  {
   "cell_type": "code",
   "execution_count": null,
   "metadata": {},
   "outputs": [],
   "source": [
    "datos.head(7)"
   ]
  },
  {
   "cell_type": "markdown",
   "metadata": {},
   "source": [
    "Si queremos conocer el tipo de dato que hay en cada columna del <code>DataFrame</code>, podemos usar la función <code>dtype</code>:"
   ]
  },
  {
   "cell_type": "code",
   "execution_count": null,
   "metadata": {},
   "outputs": [],
   "source": [
    "datos.dtypes"
   ]
  },
  {
   "cell_type": "markdown",
   "metadata": {},
   "source": [
    "Si queremos un informe técnico del contenido del archivo, usamos la función <code>info</code> que nos devuelve lo siguiente:"
   ]
  },
  {
   "cell_type": "code",
   "execution_count": null,
   "metadata": {},
   "outputs": [],
   "source": [
    "datos.info()"
   ]
  },
  {
   "cell_type": "markdown",
   "metadata": {},
   "source": [
    "Podemos elegir algunas columnas del DataFrame que nos genera <code>pandas</code> de la siguiente manera:"
   ]
  },
  {
   "cell_type": "code",
   "execution_count": null,
   "metadata": {},
   "outputs": [],
   "source": [
    "edades = datos[\"Age\"]"
   ]
  },
  {
   "cell_type": "code",
   "execution_count": null,
   "metadata": {},
   "outputs": [],
   "source": [
    "edades.head(10)"
   ]
  },
  {
   "cell_type": "markdown",
   "metadata": {},
   "source": [
    "Podemos seleccionar varias columnas de manera simultánea:"
   ]
  },
  {
   "cell_type": "code",
   "execution_count": null,
   "metadata": {},
   "outputs": [],
   "source": [
    "edad_sexo = datos[[\"Age\", \"Gender\"]]"
   ]
  },
  {
   "cell_type": "code",
   "execution_count": null,
   "metadata": {},
   "outputs": [],
   "source": [
    "edad_sexo.head(10)"
   ]
  },
  {
   "cell_type": "markdown",
   "metadata": {},
   "source": [
    "También podemos aplicar filtros específicos:"
   ]
  },
  {
   "cell_type": "code",
   "execution_count": null,
   "metadata": {},
   "outputs": [],
   "source": [
    "mayores_35 = datos[datos['Age'] > 30]"
   ]
  },
  {
   "cell_type": "markdown",
   "metadata": {},
   "source": [
    "Con la función <code>shape</code> recuperamos las dimensiones del <code>DataFrame</code> filtrado."
   ]
  },
  {
   "cell_type": "code",
   "execution_count": null,
   "metadata": {},
   "outputs": [],
   "source": [
    "mayores_35.shape"
   ]
  },
  {
   "cell_type": "markdown",
   "metadata": {},
   "source": [
    "Tenemos 26 renglones y 9 columnas"
   ]
  },
  {
   "cell_type": "code",
   "execution_count": null,
   "metadata": {},
   "outputs": [],
   "source": [
    "mayores_35.head(10)"
   ]
  },
  {
   "cell_type": "markdown",
   "metadata": {},
   "source": [
    "## Información nueva a partir del DataFrame.\n",
    "\n",
    "Ya podemos manipular a nuestra conveniencia la información del <code>DataFrame</code>, por ejemplo, crearemos un campo con el nombre completo de los trabajadores, a partir del campo *First Name* y *Last Name*.\n",
    "\n",
    "Toma en cuenta que **NO** se va a agregar esta nueva columna en el archivo, se podrá utilizar mientras siga abierto el código, una vez que se cierre el archivo que manda llamar al *.txt*, los datos permanecen sin cambios."
   ]
  },
  {
   "cell_type": "code",
   "execution_count": null,
   "metadata": {},
   "outputs": [],
   "source": [
    "nombre_completo = datos[\"First Name\"] + ' ' + datos[\"Last Name\"]"
   ]
  },
  {
   "cell_type": "code",
   "execution_count": null,
   "metadata": {},
   "outputs": [],
   "source": [
    "nombre_completo.head(10)"
   ]
  },
  {
   "cell_type": "markdown",
   "metadata": {},
   "source": [
    "Podemos mostrar información a partir del cálculo de promedios:"
   ]
  },
  {
   "cell_type": "code",
   "execution_count": null,
   "metadata": {},
   "outputs": [],
   "source": [
    "promedio_edad = datos[\"Age\"].mean()\n",
    "\n",
    "print('La edad promedio del grupo es: {0:2.1f} años'.format(promedio_edad))"
   ]
  },
  {
   "cell_type": "markdown",
   "metadata": {},
   "source": [
    "Con la función <code>describe</code> tendremos una tabla con una breve estadísitica descriptiva de nuestra variable."
   ]
  },
  {
   "cell_type": "code",
   "execution_count": null,
   "metadata": {},
   "outputs": [],
   "source": [
    "datos[\"Age\"].describe()"
   ]
  },
  {
   "cell_type": "markdown",
   "metadata": {},
   "source": [
    "Los resultados se incrementan cuando hacemos una combinación de variables y de agrupación por un variable:"
   ]
  },
  {
   "cell_type": "code",
   "execution_count": null,
   "metadata": {},
   "outputs": [],
   "source": [
    "datos[[\"Gender\", \"Age\"]].groupby(\"Gender\").mean()"
   ]
  },
  {
   "cell_type": "markdown",
   "metadata": {},
   "source": [
    "De manera inmediata podemos recuperar la frecuencia de valores en una columna, para ello usamos la función <code>value.counts()</code>:"
   ]
  },
  {
   "cell_type": "code",
   "execution_count": null,
   "metadata": {},
   "outputs": [],
   "source": [
    "datos[\"Occupation\"].value_counts()"
   ]
  },
  {
   "cell_type": "markdown",
   "metadata": {},
   "source": [
    "## Graficación con <code>pandas</code>.\n",
    "\n",
    "Ahora veremos un ejemplo sencillo para generar una gráfica con <code>pandas</code>, se requiere la librería <code>matplolib.pyplot</code> que ya conocemos desde que inició el curso."
   ]
  },
  {
   "cell_type": "code",
   "execution_count": null,
   "metadata": {},
   "outputs": [],
   "source": [
    "import matplotlib.pyplot as plt\n",
    "\n",
    "calidad_aire = pd.read_csv('air_quality_no2.csv', index_col=0, parse_dates=True)"
   ]
  },
  {
   "cell_type": "code",
   "execution_count": null,
   "metadata": {},
   "outputs": [],
   "source": [
    "calidad_aire.head()"
   ]
  },
  {
   "cell_type": "markdown",
   "metadata": {},
   "source": [
    "**Nota:** El uso de los parámetros <code>index_col</code> y <code>parse_dates</code> de la función <code>read_csv</code> para definir la primera $(0)$ columna como índice del <code>DataFrame</code> resultante y convertir las fechas de la columna en objetos de marca de tiempo, respectivamente."
   ]
  },
  {
   "cell_type": "markdown",
   "metadata": {},
   "source": [
    "Construyendo la gráfica: del <code>DataFrame</code> usamos la función <code>plot()</code> que nos genera un gráfico, que se visualiza en el Notebook, con la función <code>show()</code> de <code>matplotlib</code> que ya hemos utilizado previamente tanto en Notebook como en </code>Spyder</code>."
   ]
  },
  {
   "cell_type": "code",
   "execution_count": null,
   "metadata": {},
   "outputs": [],
   "source": [
    "calidad_aire.plot()\n",
    "\n",
    "plt.show()"
   ]
  },
  {
   "cell_type": "markdown",
   "metadata": {},
   "source": [
    "Si queremos graficar solo una de las columas del <code>DataFrame</code>, la referenciamos en la línea de código:"
   ]
  },
  {
   "cell_type": "code",
   "execution_count": null,
   "metadata": {},
   "outputs": [],
   "source": [
    "calidad_aire[\"station_paris\"].plot()\n",
    "\n",
    "plt.show()"
   ]
  },
  {
   "cell_type": "markdown",
   "metadata": {},
   "source": [
    "Gráfico de dispersión: si queremos contrastar visualmente los valores de concentración de oxido nitroso $NO_{2}$ medidos en Londres contra los de París, usamos una gráfica de tipo <code>scatter</code>:"
   ]
  },
  {
   "cell_type": "code",
   "execution_count": null,
   "metadata": {},
   "outputs": [],
   "source": [
    "calidad_aire.plot.scatter(x=\"station_london\", y=\"station_paris\", alpha=0.5)\n",
    "\n",
    "plt.show()"
   ]
  },
  {
   "cell_type": "markdown",
   "metadata": {},
   "source": [
    "Los métodos de graficación que soporta <code>pandas</code> son varios, si queremos conocer cuáles son, ocupamos la siguiente instrucción."
   ]
  },
  {
   "cell_type": "code",
   "execution_count": null,
   "metadata": {},
   "outputs": [],
   "source": [
    "[ method_name\n",
    " for method_name in dir(calidad_aire.plot)\n",
    " if not method_name.startswith(\"_\")\n",
    "]"
   ]
  },
  {
   "cell_type": "markdown",
   "metadata": {},
   "source": [
    "De la lista anterior podemos generar una gráfica de cajas (boxplot) que nos indica de manera gráfica la mediana de los grupos (dentro de la caja) así como los valores conocidos como **outliers** (valores atípicos), que están ya sea por arriba o por abajo de los cuartiles de la muestra."
   ]
  },
  {
   "cell_type": "code",
   "execution_count": null,
   "metadata": {},
   "outputs": [],
   "source": [
    "box_plot = calidad_aire.plot.box()"
   ]
  },
  {
   "cell_type": "markdown",
   "metadata": {},
   "source": [
    "Como has revisado hay una gran variedad de uso con <code>pandas</code> tanto para el análisis de datos y la graficación. En esta breve guía se ha intentado dar un panorama general, que bien podrás complementar y extender al revisar la [documentación oficial](https://pandas.pydata.org/docs/index.html) de <code>pandas</code>, de esta manera se te simplificará bastante el trabajo con archivos de datos de gran tamaño."
   ]
  }
 ],
 "metadata": {
  "hide_input": false,
  "kernelspec": {
   "display_name": "Python 3",
   "language": "python",
   "name": "python3"
  },
  "language_info": {
   "codemirror_mode": {
    "name": "ipython",
    "version": 3
   },
   "file_extension": ".py",
   "mimetype": "text/x-python",
   "name": "python",
   "nbconvert_exporter": "python",
   "pygments_lexer": "ipython3",
   "version": "3.7.4"
  },
  "toc": {
   "base_numbering": 1,
   "nav_menu": {},
   "number_sections": true,
   "sideBar": true,
   "skip_h1_title": false,
   "title_cell": "Table of Contents",
   "title_sidebar": "Contents",
   "toc_cell": false,
   "toc_position": {},
   "toc_section_display": true,
   "toc_window_display": false
  }
 },
 "nbformat": 4,
 "nbformat_minor": 2
}
